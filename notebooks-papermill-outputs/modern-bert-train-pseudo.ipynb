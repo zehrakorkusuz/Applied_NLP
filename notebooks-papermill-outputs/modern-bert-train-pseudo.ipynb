{
 "cells": [
  {
   "cell_type": "markdown",
   "id": "43870b58",
   "metadata": {
    "papermill": {
     "duration": 0.012749,
     "end_time": "2025-02-11T22:47:54.596728",
     "exception": false,
     "start_time": "2025-02-11T22:47:54.583979",
     "status": "completed"
    },
    "tags": []
   },
   "source": [
    "# Trainining on all dataset ModernBERT"
   ]
  },
  {
   "cell_type": "markdown",
   "id": "a930bdc6",
   "metadata": {
    "papermill": {
     "duration": 0.009606,
     "end_time": "2025-02-11T22:47:54.618813",
     "exception": false,
     "start_time": "2025-02-11T22:47:54.609207",
     "status": "completed"
    },
    "tags": []
   },
   "source": [
    "\n",
    "\n",
    "![Comparison of BERT variants in 2025](https://huggingface.co/datasets/huggingface/documentation-images/resolve/main/blog/modernbert/modernbert_pareto_curve.png)"
   ]
  },
  {
   "cell_type": "markdown",
   "id": "199fbfaf",
   "metadata": {
    "papermill": {
     "duration": 0.009249,
     "end_time": "2025-02-11T22:47:54.637889",
     "exception": false,
     "start_time": "2025-02-11T22:47:54.628640",
     "status": "completed"
    },
    "tags": []
   },
   "source": [
    "# Directory settings"
   ]
  },
  {
   "cell_type": "code",
   "execution_count": 1,
   "id": "29aad9c7",
   "metadata": {
    "execution": {
     "iopub.execute_input": "2025-02-11T22:47:54.657885Z",
     "iopub.status.busy": "2025-02-11T22:47:54.657628Z",
     "iopub.status.idle": "2025-02-11T22:47:54.668299Z",
     "shell.execute_reply": "2025-02-11T22:47:54.667555Z"
    },
    "papermill": {
     "duration": 0.021646,
     "end_time": "2025-02-11T22:47:54.669526",
     "exception": false,
     "start_time": "2025-02-11T22:47:54.647880",
     "status": "completed"
    },
    "tags": []
   },
   "outputs": [
    {
     "name": "stdout",
     "output_type": "stream",
     "text": [
      "Removed folder: tokenizer\n",
      "Removed file: train.log\n",
      "Removed file: config.pth\n"
     ]
    }
   ],
   "source": [
    "# ====================================================\n",
    "# Directory settings\n",
    "# ====================================================\n",
    "import os, shutil\n",
    "\n",
    "OUTPUT_DIR = os.path.join(os.path.dirname(os.getcwd()), 'modern-bert/')\n",
    "if not os.path.exists(OUTPUT_DIR):\n",
    "    os.makedirs(OUTPUT_DIR)\n",
    "\n",
    "for item in os.listdir(OUTPUT_DIR):\n",
    "    item_path = os.path.join(OUTPUT_DIR, item)\n",
    "    if os.path.isfile(item_path):  # If it's a file, remove it\n",
    "        os.remove(item_path)\n",
    "        print(f\"Removed file: {item}\")\n",
    "    elif os.path.isdir(item_path):  # If it's a directory, remove it\n",
    "        shutil.rmtree(item_path)\n",
    "        print(f\"Removed folder: {item}\")"
   ]
  },
  {
   "cell_type": "markdown",
   "id": "b9736dd3",
   "metadata": {
    "papermill": {
     "duration": 0.010515,
     "end_time": "2025-02-11T22:47:54.690967",
     "exception": false,
     "start_time": "2025-02-11T22:47:54.680452",
     "status": "completed"
    },
    "tags": []
   },
   "source": [
    "# Library"
   ]
  },
  {
   "cell_type": "code",
   "execution_count": 2,
   "id": "36305867",
   "metadata": {
    "execution": {
     "iopub.execute_input": "2025-02-11T22:47:54.715556Z",
     "iopub.status.busy": "2025-02-11T22:47:54.715334Z",
     "iopub.status.idle": "2025-02-11T22:48:06.991100Z",
     "shell.execute_reply": "2025-02-11T22:48:06.989801Z"
    },
    "papermill": {
     "duration": 12.289856,
     "end_time": "2025-02-11T22:48:06.993048",
     "exception": false,
     "start_time": "2025-02-11T22:47:54.703192",
     "status": "completed"
    },
    "tags": []
   },
   "outputs": [
    {
     "name": "stdout",
     "output_type": "stream",
     "text": [
      "Found existing installation: transformers 4.48.3\n"
     ]
    },
    {
     "name": "stdout",
     "output_type": "stream",
     "text": [
      "Uninstalling transformers-4.48.3:\n",
      "  Successfully uninstalled transformers-4.48.3\n"
     ]
    },
    {
     "name": "stderr",
     "output_type": "stream",
     "text": [
      "\u001b[33mWARNING: Running pip as the 'root' user can result in broken permissions and conflicting behaviour with the system package manager, possibly rendering your system unusable. It is recommended to use a virtual environment instead: https://pip.pypa.io/warnings/venv. Use the --root-user-action option if you know what you are doing and want to suppress this warning.\u001b[0m\u001b[33m\n",
      "\u001b[0m"
     ]
    },
    {
     "name": "stderr",
     "output_type": "stream",
     "text": [
      "\u001b[33mWARNING: Running pip as the 'root' user can result in broken permissions and conflicting behaviour with the system package manager, possibly rendering your system unusable. It is recommended to use a virtual environment instead: https://pip.pypa.io/warnings/venv. Use the --root-user-action option if you know what you are doing and want to suppress this warning.\u001b[0m\u001b[33m\n",
      "\u001b[0m"
     ]
    },
    {
     "name": "stderr",
     "output_type": "stream",
     "text": [
      "\u001b[33mWARNING: Skipping tokenizer as it is not installed.\u001b[0m\u001b[33m\n",
      "\u001b[0m\u001b[33mWARNING: Running pip as the 'root' user can result in broken permissions and conflicting behaviour with the system package manager, possibly rendering your system unusable. It is recommended to use a virtual environment instead: https://pip.pypa.io/warnings/venv. Use the --root-user-action option if you know what you are doing and want to suppress this warning.\u001b[0m\u001b[33m\n",
      "\u001b[0m"
     ]
    },
    {
     "name": "stdout",
     "output_type": "stream",
     "text": [
      "Requirement already satisfied: tokenizers in /root/miniconda3/envs/modern_bert/lib/python3.11/site-packages (0.21.0)\n",
      "Requirement already satisfied: huggingface-hub<1.0,>=0.16.4 in /root/miniconda3/envs/modern_bert/lib/python3.11/site-packages (from tokenizers) (0.28.1)\n",
      "Requirement already satisfied: filelock in /root/miniconda3/envs/modern_bert/lib/python3.11/site-packages (from huggingface-hub<1.0,>=0.16.4->tokenizers) (3.17.0)\n",
      "Requirement already satisfied: fsspec>=2023.5.0 in /root/miniconda3/envs/modern_bert/lib/python3.11/site-packages (from huggingface-hub<1.0,>=0.16.4->tokenizers) (2025.2.0)\n",
      "Requirement already satisfied: packaging>=20.9 in /root/miniconda3/envs/modern_bert/lib/python3.11/site-packages (from huggingface-hub<1.0,>=0.16.4->tokenizers) (24.2)\n",
      "Requirement already satisfied: pyyaml>=5.1 in /root/miniconda3/envs/modern_bert/lib/python3.11/site-packages (from huggingface-hub<1.0,>=0.16.4->tokenizers) (6.0.2)\n",
      "Requirement already satisfied: requests in /root/miniconda3/envs/modern_bert/lib/python3.11/site-packages (from huggingface-hub<1.0,>=0.16.4->tokenizers) (2.32.3)\n",
      "Requirement already satisfied: tqdm>=4.42.1 in /root/miniconda3/envs/modern_bert/lib/python3.11/site-packages (from huggingface-hub<1.0,>=0.16.4->tokenizers) (4.67.1)\n",
      "Requirement already satisfied: typing-extensions>=3.7.4.3 in /root/miniconda3/envs/modern_bert/lib/python3.11/site-packages (from huggingface-hub<1.0,>=0.16.4->tokenizers) (4.12.2)\n",
      "Requirement already satisfied: charset-normalizer<4,>=2 in /root/miniconda3/envs/modern_bert/lib/python3.11/site-packages (from requests->huggingface-hub<1.0,>=0.16.4->tokenizers) (3.4.1)\n",
      "Requirement already satisfied: idna<4,>=2.5 in /root/miniconda3/envs/modern_bert/lib/python3.11/site-packages (from requests->huggingface-hub<1.0,>=0.16.4->tokenizers) (3.10)\n",
      "Requirement already satisfied: urllib3<3,>=1.21.1 in /root/miniconda3/envs/modern_bert/lib/python3.11/site-packages (from requests->huggingface-hub<1.0,>=0.16.4->tokenizers) (2.3.0)\n",
      "Requirement already satisfied: certifi>=2017.4.17 in /root/miniconda3/envs/modern_bert/lib/python3.11/site-packages (from requests->huggingface-hub<1.0,>=0.16.4->tokenizers) (2025.1.31)\n"
     ]
    },
    {
     "name": "stderr",
     "output_type": "stream",
     "text": [
      "\u001b[33mWARNING: Running pip as the 'root' user can result in broken permissions and conflicting behaviour with the system package manager, possibly rendering your system unusable. It is recommended to use a virtual environment instead: https://pip.pypa.io/warnings/venv. Use the --root-user-action option if you know what you are doing and want to suppress this warning.\u001b[0m\u001b[33m\n",
      "\u001b[0m"
     ]
    },
    {
     "name": "stdout",
     "output_type": "stream",
     "text": [
      "tokenizers.__version__: 0.21.0\n",
      "transformers.__version__: 4.48.3\n"
     ]
    },
    {
     "name": "stdout",
     "output_type": "stream",
     "text": [
      "env: TOKENIZERS_PARALLELISM=true\n"
     ]
    }
   ],
   "source": [
    "# ====================================================\n",
    "# Library\n",
    "# ====================================================\n",
    "import os\n",
    "import gc\n",
    "import re\n",
    "import ast\n",
    "import sys\n",
    "import copy\n",
    "import json\n",
    "import time\n",
    "import math\n",
    "import string\n",
    "import pickle\n",
    "import random\n",
    "import joblib\n",
    "import itertools\n",
    "import warnings\n",
    "warnings.filterwarnings(\"ignore\")\n",
    "\n",
    "import scipy as sp\n",
    "import numpy as np\n",
    "import pandas as pd\n",
    "pd.set_option('display.max_rows', 500)\n",
    "pd.set_option('display.max_columns', 500)\n",
    "pd.set_option('display.width', 1000)\n",
    "from tqdm.auto import tqdm\n",
    "from sklearn.metrics import f1_score\n",
    "from sklearn.model_selection import StratifiedKFold, GroupKFold, KFold\n",
    "\n",
    "import torch\n",
    "import torch.nn as nn\n",
    "from torch.nn import Parameter\n",
    "import torch.nn.functional as F\n",
    "from torch.optim import Adam, SGD, AdamW\n",
    "from torch.utils.data import DataLoader, Dataset\n",
    "\n",
    "os.system('pip uninstall -y transformers')\n",
    "os.system('python -m pip install transformers>=4.48.0')\n",
    "os.system('pip uninstall -y tokenizer')\n",
    "os.system('python -m pip install tokenizers')\n",
    "import tokenizers\n",
    "import transformers\n",
    "print(f\"tokenizers.__version__: {tokenizers.__version__}\")\n",
    "print(f\"transformers.__version__: {transformers.__version__}\")\n",
    "from transformers import AutoTokenizer, AutoModel, AutoConfig\n",
    "from transformers import get_linear_schedule_with_warmup, get_cosine_schedule_with_warmup\n",
    "%env TOKENIZERS_PARALLELISM=true\n",
    "\n",
    "device = torch.device('cuda' if torch.cuda.is_available() else 'cpu')"
   ]
  },
  {
   "cell_type": "code",
   "execution_count": 3,
   "id": "508feb49",
   "metadata": {
    "execution": {
     "iopub.execute_input": "2025-02-11T22:48:07.023691Z",
     "iopub.status.busy": "2025-02-11T22:48:07.023307Z",
     "iopub.status.idle": "2025-02-11T22:48:07.212636Z",
     "shell.execute_reply": "2025-02-11T22:48:07.211317Z"
    },
    "papermill": {
     "duration": 0.204395,
     "end_time": "2025-02-11T22:48:07.214254",
     "exception": false,
     "start_time": "2025-02-11T22:48:07.009859",
     "status": "completed"
    },
    "tags": []
   },
   "outputs": [],
   "source": [
    "# ====================================================\n",
    "# CFG\n",
    "# ====================================================\n",
    "class CFG:\n",
    "    wandb=True\n",
    "    competition='NBME'\n",
    "    _wandb_kernel='zehra'\n",
    "    debug=False\n",
    "    apex=True\n",
    "    print_freq=100\n",
    "    num_workers=4\n",
    "    # model=\"/kaggle/input/deberta-v3-large/pytorch/0501/1\" # if running on Kaggle, use this path \n",
    "    model = \"answerdotai/ModernBERT-base\" # if running on local machine, use this path  \n",
    "    scheduler='cosine' # ['linear', 'cosine']\n",
    "    batch_scheduler=True\n",
    "    num_cycles=1 #0.05\n",
    "    num_warmup_steps=0\n",
    "    epochs=5\n",
    "    encoder_lr = 1e-5 #encoder_lr=2e-5\n",
    "    decoder_lr=2e-5\n",
    "    min_lr=1e-6\n",
    "    eps=1e-6\n",
    "    betas=(0.9, 0.999)\n",
    "    batch_size = 12 #batch_size=16\n",
    "    fc_dropout=0.2\n",
    "    max_len=512\n",
    "    weight_decay=0.1 #0.01\n",
    "    gradient_accumulation_steps=2 #1\n",
    "    max_grad_norm=1000\n",
    "    seed=42\n",
    "    n_fold=5\n",
    "    trn_fold=[0, 1, 2, 3, 4]\n",
    "    train=True\n",
    "    \n",
    "if CFG.debug:\n",
    "    CFG.epochs = 3\n",
    "    CFG.trn_fold = [0]\n",
    "\n",
    "# ====================================================\n",
    "# tokenizer\n",
    "# ====================================================\n",
    "tokenizer = AutoTokenizer.from_pretrained(CFG.model)\n",
    "tokenizer.save_pretrained(OUTPUT_DIR+'tokenizer/')\n",
    "CFG.tokenizer = tokenizer"
   ]
  },
  {
   "cell_type": "code",
   "execution_count": 4,
   "id": "81680246",
   "metadata": {
    "execution": {
     "iopub.execute_input": "2025-02-11T22:48:07.248051Z",
     "iopub.status.busy": "2025-02-11T22:48:07.247800Z",
     "iopub.status.idle": "2025-02-11T22:48:08.970273Z",
     "shell.execute_reply": "2025-02-11T22:48:08.969065Z"
    },
    "papermill": {
     "duration": 1.741104,
     "end_time": "2025-02-11T22:48:08.972255",
     "exception": false,
     "start_time": "2025-02-11T22:48:07.231151",
     "status": "completed"
    },
    "tags": []
   },
   "outputs": [
    {
     "name": "stderr",
     "output_type": "stream",
     "text": [
      "\u001b[34m\u001b[1mwandb\u001b[0m: Currently logged in as: \u001b[33mzehrakorkusuz\u001b[0m (\u001b[33mproject-zero\u001b[0m) to \u001b[32mhttps://api.wandb.ai\u001b[0m. Use \u001b[1m`wandb login --relogin`\u001b[0m to force relogin\n"
     ]
    },
    {
     "name": "stdout",
     "output_type": "stream",
     "text": [
      "If you want to use your W&B account, create a .env file in the parent folder and provide your W&B access token as WANDB_API_KEY. \n",
      "Get your W&B access token from here: https://wandb.ai/authorize\n"
     ]
    },
    {
     "name": "stderr",
     "output_type": "stream",
     "text": [
      "\u001b[34m\u001b[1mwandb\u001b[0m: Using wandb-core as the SDK backend.  Please refer to https://wandb.me/wandb-core for more information.\n"
     ]
    },
    {
     "name": "stderr",
     "output_type": "stream",
     "text": [
      "\u001b[34m\u001b[1mwandb\u001b[0m: Tracking run with wandb version 0.19.6\n"
     ]
    },
    {
     "name": "stderr",
     "output_type": "stream",
     "text": [
      "\u001b[34m\u001b[1mwandb\u001b[0m: Run data is saved locally in \u001b[35m\u001b[1m/workspace/wandb/run-20250211_224808-4ym6uuzz\u001b[0m\n",
      "\u001b[34m\u001b[1mwandb\u001b[0m: Run \u001b[1m`wandb offline`\u001b[0m to turn off syncing.\n"
     ]
    },
    {
     "name": "stderr",
     "output_type": "stream",
     "text": [
      "\u001b[34m\u001b[1mwandb\u001b[0m: Syncing run \u001b[33manswerdotai/ModernBERT-base\u001b[0m\n"
     ]
    },
    {
     "name": "stderr",
     "output_type": "stream",
     "text": [
      "\u001b[34m\u001b[1mwandb\u001b[0m: ⭐️ View project at \u001b[34m\u001b[4mhttps://wandb.ai/project-zero/NBME-Public?apiKey=93189478594090aa7c369a5a7c30ee204eb7d192\u001b[0m\n"
     ]
    },
    {
     "name": "stderr",
     "output_type": "stream",
     "text": [
      "\u001b[34m\u001b[1mwandb\u001b[0m: 🚀 View run at \u001b[34m\u001b[4mhttps://wandb.ai/project-zero/NBME-Public/runs/4ym6uuzz?apiKey=93189478594090aa7c369a5a7c30ee204eb7d192\u001b[0m\n"
     ]
    },
    {
     "name": "stderr",
     "output_type": "stream",
     "text": [
      "\u001b[34m\u001b[1mwandb\u001b[0m: \u001b[33mWARNING\u001b[0m Do NOT share these links with anyone. They can be used to claim your runs.\n"
     ]
    }
   ],
   "source": [
    "# ====================================================\n",
    "# wandb: local notebook login\n",
    "# ====================================================\n",
    "if CFG.wandb:\n",
    "    \n",
    "    import wandb\n",
    "    from dotenv import load_dotenv\n",
    "    import os\n",
    "\n",
    "    # Load environment variables from .env file in the parent folder\n",
    "    load_dotenv(os.path.join(os.path.dirname(os.getcwd()), '.env'))\n",
    "\n",
    "    secret_value_0 = os.getenv(\"WANDB_API_KEY\")\n",
    "    if secret_value_0:\n",
    "        wandb.login(key=secret_value_0)\n",
    "        anony = None\n",
    "    else:\n",
    "        anony = \"must\"\n",
    "        print('If you want to use your W&B account, create a .env file in the parent folder and provide your W&B access token as WANDB_API_KEY. \\nGet your W&B access token from here: https://wandb.ai/authorize')\n",
    "\n",
    "    def class2dict(f):\n",
    "        return dict((name, getattr(f, name)) for name in dir(f) if not name.startswith('__'))\n",
    "\n",
    "    run = wandb.init(project='NBME-Public', \n",
    "                     name=CFG.model,\n",
    "                     config=class2dict(CFG),\n",
    "                     group=CFG.model,\n",
    "                     job_type=\"train\",\n",
    "                     anonymous=anony)"
   ]
  },
  {
   "cell_type": "markdown",
   "id": "abd9f923",
   "metadata": {
    "papermill": {
     "duration": 0.009491,
     "end_time": "2025-02-11T22:48:08.996140",
     "exception": false,
     "start_time": "2025-02-11T22:48:08.986649",
     "status": "completed"
    },
    "tags": []
   },
   "source": [
    "# Helper functions for scoring"
   ]
  },
  {
   "cell_type": "code",
   "execution_count": 5,
   "id": "db328352",
   "metadata": {
    "execution": {
     "iopub.execute_input": "2025-02-11T22:48:09.018519Z",
     "iopub.status.busy": "2025-02-11T22:48:09.017794Z",
     "iopub.status.idle": "2025-02-11T22:48:09.024675Z",
     "shell.execute_reply": "2025-02-11T22:48:09.024006Z"
    },
    "papermill": {
     "duration": 0.018885,
     "end_time": "2025-02-11T22:48:09.025697",
     "exception": false,
     "start_time": "2025-02-11T22:48:09.006812",
     "status": "completed"
    },
    "tags": []
   },
   "outputs": [],
   "source": [
    "# From https://www.kaggle.com/theoviel/evaluation-metric-folds-baseline\n",
    "\n",
    "def micro_f1(preds, truths):\n",
    "    \"\"\"\n",
    "    Micro f1 on binary arrays.\n",
    "\n",
    "    Args:\n",
    "        preds (list of lists of ints): Predictions.\n",
    "        truths (list of lists of ints): Ground truths.\n",
    "\n",
    "    Returns:\n",
    "        float: f1 score.\n",
    "    \"\"\"\n",
    "    # Micro : aggregating over all instances\n",
    "    preds = np.concatenate(preds)\n",
    "    truths = np.concatenate(truths)\n",
    "    return f1_score(truths, preds)\n",
    "\n",
    "\n",
    "def spans_to_binary(spans, length=None):\n",
    "    \"\"\"\n",
    "    Converts spans to a binary array indicating whether each character is in the span.\n",
    "\n",
    "    Args:\n",
    "        spans (list of lists of two ints): Spans.\n",
    "\n",
    "    Returns:\n",
    "        np array [length]: Binarized spans.\n",
    "    \"\"\"\n",
    "    length = np.max(spans) if length is None else length\n",
    "    binary = np.zeros(length)\n",
    "    for start, end in spans:\n",
    "        binary[start:end] = 1\n",
    "    return binary\n",
    "\n",
    "\n",
    "def span_micro_f1(preds, truths):\n",
    "    \"\"\"\n",
    "    Micro f1 on spans.\n",
    "\n",
    "    Args:\n",
    "        preds (list of lists of two ints): Prediction spans.\n",
    "        truths (list of lists of two ints): Ground truth spans.\n",
    "\n",
    "    Returns:\n",
    "        float: f1 score.\n",
    "    \"\"\"\n",
    "    bin_preds = []\n",
    "    bin_truths = []\n",
    "    for pred, truth in zip(preds, truths):\n",
    "        if not len(pred) and not len(truth):\n",
    "            continue\n",
    "        length = max(np.max(pred) if len(pred) else 0, np.max(truth) if len(truth) else 0)\n",
    "        bin_preds.append(spans_to_binary(pred, length))\n",
    "        bin_truths.append(spans_to_binary(truth, length))\n",
    "    return micro_f1(bin_preds, bin_truths)"
   ]
  },
  {
   "cell_type": "code",
   "execution_count": 6,
   "id": "bd57481f",
   "metadata": {
    "execution": {
     "iopub.execute_input": "2025-02-11T22:48:09.046941Z",
     "iopub.status.busy": "2025-02-11T22:48:09.046662Z",
     "iopub.status.idle": "2025-02-11T22:48:09.057445Z",
     "shell.execute_reply": "2025-02-11T22:48:09.056753Z"
    },
    "papermill": {
     "duration": 0.022214,
     "end_time": "2025-02-11T22:48:09.058372",
     "exception": false,
     "start_time": "2025-02-11T22:48:09.036158",
     "status": "completed"
    },
    "tags": []
   },
   "outputs": [],
   "source": [
    "## UPDATED FOR HANDLING NONEs in THE PSEUDOLABELS / only including confident inferences\n",
    "import ast\n",
    "\n",
    "# Update the create_labels_for_scoring function\n",
    "def create_labels_for_scoring(df):\n",
    "    # Initialize the 'location_for_create_labels' column with empty lists\n",
    "    df['location_for_create_labels'] = [ast.literal_eval(f'[]')] * len(df)\n",
    "    \n",
    "    for i in range(len(df)):\n",
    "        lst = df.loc[i, 'location']\n",
    "        if lst and lst != '':  # Check if lst is not None or empty\n",
    "            # Ensure lst is a list of strings\n",
    "            if isinstance(lst, str):\n",
    "                lst = [lst]\n",
    "            elif isinstance(lst, list):\n",
    "                lst = [str(item) for item in lst]\n",
    "            new_lst = ';'.join(lst)\n",
    "            df.loc[i, 'location_for_create_labels'] = ast.literal_eval(f'[[\"{new_lst}\"]]')\n",
    "\n",
    "    # Create labels\n",
    "    truths = []\n",
    "    for location_list in df['location_for_create_labels'].values:\n",
    "        truth = []\n",
    "        if len(location_list) > 0:\n",
    "            location = location_list[0]\n",
    "            for loc in [s.split() for s in location.split(';')]:\n",
    "                start, end = int(loc[0]), int(loc[1])\n",
    "                truth.append([start, end])\n",
    "        truths.append(truth)\n",
    "    \n",
    "    return truths\n",
    "\n",
    "\n",
    "def get_char_probs(texts, predictions, tokenizer):\n",
    "    results = [np.zeros(len(t)) for t in texts]\n",
    "    for i, (text, prediction) in enumerate(zip(texts, predictions)):\n",
    "        encoded = tokenizer(text, \n",
    "                            add_special_tokens=True,\n",
    "                            return_offsets_mapping=True)\n",
    "        for idx, (offset_mapping, pred) in enumerate(zip(encoded['offset_mapping'], prediction)):\n",
    "            start = offset_mapping[0]\n",
    "            end = offset_mapping[1]\n",
    "            results[i][start:end] = pred\n",
    "    return results\n",
    "\n",
    "\n",
    "def get_results(char_probs, th=0.5):\n",
    "    results = []\n",
    "    for char_prob in char_probs:\n",
    "        result = np.where(char_prob >= th)[0] + 1\n",
    "        result = [list(g) for _, g in itertools.groupby(result, key=lambda n, c=itertools.count(): n - next(c))]\n",
    "        result = [f\"{min(r)} {max(r)}\" for r in result]\n",
    "        result = \";\".join(result)\n",
    "        results.append(result)\n",
    "    return results\n",
    "\n",
    "\n",
    "def get_predictions(results):\n",
    "    predictions = []\n",
    "    for result in results:\n",
    "        prediction = []\n",
    "        if result != \"\":\n",
    "            for loc in [s.split() for s in result.split(';')]:\n",
    "                start, end = int(loc[0]), int(loc[1])\n",
    "                prediction.append([start, end])\n",
    "        predictions.append(prediction)\n",
    "    return predictions"
   ]
  },
  {
   "cell_type": "markdown",
   "id": "56f9212d",
   "metadata": {
    "papermill": {
     "duration": 0.011428,
     "end_time": "2025-02-11T22:48:09.081380",
     "exception": false,
     "start_time": "2025-02-11T22:48:09.069952",
     "status": "completed"
    },
    "tags": []
   },
   "source": [
    "# Utils"
   ]
  },
  {
   "cell_type": "code",
   "execution_count": 7,
   "id": "9f09a1eb",
   "metadata": {
    "execution": {
     "iopub.execute_input": "2025-02-11T22:48:09.106851Z",
     "iopub.status.busy": "2025-02-11T22:48:09.106544Z",
     "iopub.status.idle": "2025-02-11T22:48:09.118389Z",
     "shell.execute_reply": "2025-02-11T22:48:09.117586Z"
    },
    "papermill": {
     "duration": 0.026771,
     "end_time": "2025-02-11T22:48:09.119573",
     "exception": false,
     "start_time": "2025-02-11T22:48:09.092802",
     "status": "completed"
    },
    "tags": []
   },
   "outputs": [],
   "source": [
    "# ====================================================\n",
    "# Utils\n",
    "# ====================================================\n",
    "def get_score(y_true, y_pred):\n",
    "    score = span_micro_f1(y_true, y_pred)\n",
    "    return score\n",
    "\n",
    "\n",
    "def get_logger(filename=OUTPUT_DIR+'train'):\n",
    "    from logging import getLogger, INFO, StreamHandler, FileHandler, Formatter\n",
    "    logger = getLogger(__name__)\n",
    "    logger.setLevel(INFO)\n",
    "    handler1 = StreamHandler()\n",
    "    handler1.setFormatter(Formatter(\"%(message)s\"))\n",
    "    handler2 = FileHandler(filename=f\"{filename}.log\")\n",
    "    handler2.setFormatter(Formatter(\"%(message)s\"))\n",
    "    logger.addHandler(handler1)\n",
    "    logger.addHandler(handler2)\n",
    "    return logger\n",
    "\n",
    "LOGGER = get_logger()\n",
    "\n",
    "def seed_everything(seed=42):\n",
    "    random.seed(seed)\n",
    "    os.environ['PYTHONHASHSEED'] = str(seed)\n",
    "    np.random.seed(seed)\n",
    "    torch.manual_seed(seed)\n",
    "    torch.cuda.manual_seed(seed)\n",
    "    torch.backends.cudnn.deterministic = True\n",
    "    \n",
    "seed_everything(seed=42)"
   ]
  },
  {
   "cell_type": "markdown",
   "id": "0c80faae",
   "metadata": {
    "papermill": {
     "duration": 0.010128,
     "end_time": "2025-02-11T22:48:09.140209",
     "exception": false,
     "start_time": "2025-02-11T22:48:09.130081",
     "status": "completed"
    },
    "tags": []
   },
   "source": [
    "# Data Loading"
   ]
  },
  {
   "cell_type": "code",
   "execution_count": 8,
   "id": "f44f2383",
   "metadata": {
    "execution": {
     "iopub.execute_input": "2025-02-11T22:48:09.160829Z",
     "iopub.status.busy": "2025-02-11T22:48:09.160581Z",
     "iopub.status.idle": "2025-02-11T22:48:09.710548Z",
     "shell.execute_reply": "2025-02-11T22:48:09.709636Z"
    },
    "papermill": {
     "duration": 0.562007,
     "end_time": "2025-02-11T22:48:09.711698",
     "exception": false,
     "start_time": "2025-02-11T22:48:09.149691",
     "status": "completed"
    },
    "tags": []
   },
   "outputs": [
    {
     "name": "stdout",
     "output_type": "stream",
     "text": [
      "train.shape: (14300, 6)\n"
     ]
    },
    {
     "data": {
      "text/html": [
       "<div>\n",
       "<style scoped>\n",
       "    .dataframe tbody tr th:only-of-type {\n",
       "        vertical-align: middle;\n",
       "    }\n",
       "\n",
       "    .dataframe tbody tr th {\n",
       "        vertical-align: top;\n",
       "    }\n",
       "\n",
       "    .dataframe thead th {\n",
       "        text-align: right;\n",
       "    }\n",
       "</style>\n",
       "<table border=\"1\" class=\"dataframe\">\n",
       "  <thead>\n",
       "    <tr style=\"text-align: right;\">\n",
       "      <th></th>\n",
       "      <th>id</th>\n",
       "      <th>case_num</th>\n",
       "      <th>pn_num</th>\n",
       "      <th>feature_num</th>\n",
       "      <th>annotation</th>\n",
       "      <th>location</th>\n",
       "    </tr>\n",
       "  </thead>\n",
       "  <tbody>\n",
       "    <tr>\n",
       "      <th>0</th>\n",
       "      <td>00016_000</td>\n",
       "      <td>0</td>\n",
       "      <td>16</td>\n",
       "      <td>0</td>\n",
       "      <td>[dad with recent heart attcak]</td>\n",
       "      <td>[696 724]</td>\n",
       "    </tr>\n",
       "    <tr>\n",
       "      <th>1</th>\n",
       "      <td>00016_001</td>\n",
       "      <td>0</td>\n",
       "      <td>16</td>\n",
       "      <td>1</td>\n",
       "      <td>[mom with \"thyroid disease]</td>\n",
       "      <td>[668 693]</td>\n",
       "    </tr>\n",
       "    <tr>\n",
       "      <th>2</th>\n",
       "      <td>00016_002</td>\n",
       "      <td>0</td>\n",
       "      <td>16</td>\n",
       "      <td>2</td>\n",
       "      <td>[chest pressure]</td>\n",
       "      <td>[203 217]</td>\n",
       "    </tr>\n",
       "    <tr>\n",
       "      <th>3</th>\n",
       "      <td>00016_003</td>\n",
       "      <td>0</td>\n",
       "      <td>16</td>\n",
       "      <td>3</td>\n",
       "      <td>[intermittent episodes, episode]</td>\n",
       "      <td>[70 91, 176 183]</td>\n",
       "    </tr>\n",
       "    <tr>\n",
       "      <th>4</th>\n",
       "      <td>00016_004</td>\n",
       "      <td>0</td>\n",
       "      <td>16</td>\n",
       "      <td>4</td>\n",
       "      <td>[felt as if he were going to pass out]</td>\n",
       "      <td>[222 258]</td>\n",
       "    </tr>\n",
       "  </tbody>\n",
       "</table>\n",
       "</div>"
      ],
      "text/plain": [
       "          id  case_num  pn_num  feature_num                              annotation          location\n",
       "0  00016_000         0      16            0          [dad with recent heart attcak]         [696 724]\n",
       "1  00016_001         0      16            1             [mom with \"thyroid disease]         [668 693]\n",
       "2  00016_002         0      16            2                        [chest pressure]         [203 217]\n",
       "3  00016_003         0      16            3        [intermittent episodes, episode]  [70 91, 176 183]\n",
       "4  00016_004         0      16            4  [felt as if he were going to pass out]         [222 258]"
      ]
     },
     "metadata": {},
     "output_type": "display_data"
    },
    {
     "name": "stdout",
     "output_type": "stream",
     "text": [
      "features.shape: (143, 3)\n"
     ]
    },
    {
     "data": {
      "text/html": [
       "<div>\n",
       "<style scoped>\n",
       "    .dataframe tbody tr th:only-of-type {\n",
       "        vertical-align: middle;\n",
       "    }\n",
       "\n",
       "    .dataframe tbody tr th {\n",
       "        vertical-align: top;\n",
       "    }\n",
       "\n",
       "    .dataframe thead th {\n",
       "        text-align: right;\n",
       "    }\n",
       "</style>\n",
       "<table border=\"1\" class=\"dataframe\">\n",
       "  <thead>\n",
       "    <tr style=\"text-align: right;\">\n",
       "      <th></th>\n",
       "      <th>feature_num</th>\n",
       "      <th>case_num</th>\n",
       "      <th>feature_text</th>\n",
       "    </tr>\n",
       "  </thead>\n",
       "  <tbody>\n",
       "    <tr>\n",
       "      <th>0</th>\n",
       "      <td>0</td>\n",
       "      <td>0</td>\n",
       "      <td>Family-history-of-MI-OR-Family-history-of-myoc...</td>\n",
       "    </tr>\n",
       "    <tr>\n",
       "      <th>1</th>\n",
       "      <td>1</td>\n",
       "      <td>0</td>\n",
       "      <td>Family-history-of-thyroid-disorder</td>\n",
       "    </tr>\n",
       "    <tr>\n",
       "      <th>2</th>\n",
       "      <td>2</td>\n",
       "      <td>0</td>\n",
       "      <td>Chest-pressure</td>\n",
       "    </tr>\n",
       "    <tr>\n",
       "      <th>3</th>\n",
       "      <td>3</td>\n",
       "      <td>0</td>\n",
       "      <td>Intermittent-symptoms</td>\n",
       "    </tr>\n",
       "    <tr>\n",
       "      <th>4</th>\n",
       "      <td>4</td>\n",
       "      <td>0</td>\n",
       "      <td>Lightheaded</td>\n",
       "    </tr>\n",
       "  </tbody>\n",
       "</table>\n",
       "</div>"
      ],
      "text/plain": [
       "   feature_num  case_num                                       feature_text\n",
       "0            0         0  Family-history-of-MI-OR-Family-history-of-myoc...\n",
       "1            1         0                 Family-history-of-thyroid-disorder\n",
       "2            2         0                                     Chest-pressure\n",
       "3            3         0                              Intermittent-symptoms\n",
       "4            4         0                                        Lightheaded"
      ]
     },
     "metadata": {},
     "output_type": "display_data"
    },
    {
     "name": "stdout",
     "output_type": "stream",
     "text": [
      "patient_notes.shape: (42146, 3)\n"
     ]
    },
    {
     "data": {
      "text/html": [
       "<div>\n",
       "<style scoped>\n",
       "    .dataframe tbody tr th:only-of-type {\n",
       "        vertical-align: middle;\n",
       "    }\n",
       "\n",
       "    .dataframe tbody tr th {\n",
       "        vertical-align: top;\n",
       "    }\n",
       "\n",
       "    .dataframe thead th {\n",
       "        text-align: right;\n",
       "    }\n",
       "</style>\n",
       "<table border=\"1\" class=\"dataframe\">\n",
       "  <thead>\n",
       "    <tr style=\"text-align: right;\">\n",
       "      <th></th>\n",
       "      <th>pn_num</th>\n",
       "      <th>case_num</th>\n",
       "      <th>pn_history</th>\n",
       "    </tr>\n",
       "  </thead>\n",
       "  <tbody>\n",
       "    <tr>\n",
       "      <th>0</th>\n",
       "      <td>0</td>\n",
       "      <td>0</td>\n",
       "      <td>17-year-old male, has come to the student heal...</td>\n",
       "    </tr>\n",
       "    <tr>\n",
       "      <th>1</th>\n",
       "      <td>1</td>\n",
       "      <td>0</td>\n",
       "      <td>17 yo male with recurrent palpitations for the...</td>\n",
       "    </tr>\n",
       "    <tr>\n",
       "      <th>2</th>\n",
       "      <td>2</td>\n",
       "      <td>0</td>\n",
       "      <td>Dillon Cleveland is a 17 y.o. male patient wit...</td>\n",
       "    </tr>\n",
       "    <tr>\n",
       "      <th>3</th>\n",
       "      <td>3</td>\n",
       "      <td>0</td>\n",
       "      <td>a 17 yo m c/o palpitation started 3 mos ago; \\...</td>\n",
       "    </tr>\n",
       "    <tr>\n",
       "      <th>4</th>\n",
       "      <td>4</td>\n",
       "      <td>0</td>\n",
       "      <td>17yo male with no pmh here for evaluation of p...</td>\n",
       "    </tr>\n",
       "  </tbody>\n",
       "</table>\n",
       "</div>"
      ],
      "text/plain": [
       "   pn_num  case_num                                         pn_history\n",
       "0       0         0  17-year-old male, has come to the student heal...\n",
       "1       1         0  17 yo male with recurrent palpitations for the...\n",
       "2       2         0  Dillon Cleveland is a 17 y.o. male patient wit...\n",
       "3       3         0  a 17 yo m c/o palpitation started 3 mos ago; \\...\n",
       "4       4         0  17yo male with no pmh here for evaluation of p..."
      ]
     },
     "metadata": {},
     "output_type": "display_data"
    }
   ],
   "source": [
    "# ====================================================\n",
    "# Data Loading\n",
    "# ====================================================\n",
    "train = pd.read_csv('/workspace/data/train.csv')\n",
    "train['annotation'] = train['annotation'].apply(ast.literal_eval)\n",
    "train['location'] = train['location'].apply(ast.literal_eval)\n",
    "features = pd.read_csv('/workspace/data/features.csv')\n",
    "def preprocess_features(features):\n",
    "    features.loc[27, 'feature_text'] = \"Last-Pap-smear-1-year-ago\"\n",
    "    return features\n",
    "features = preprocess_features(features)\n",
    "patient_notes = pd.read_csv('/workspace/data/patient_notes.csv')\n",
    "\n",
    "print(f\"train.shape: {train.shape}\")\n",
    "display(train.head())\n",
    "print(f\"features.shape: {features.shape}\")\n",
    "display(features.head())\n",
    "print(f\"patient_notes.shape: {patient_notes.shape}\")\n",
    "display(patient_notes.head())\n"
   ]
  },
  {
   "cell_type": "code",
   "execution_count": 9,
   "id": "9f19451a",
   "metadata": {
    "execution": {
     "iopub.execute_input": "2025-02-11T22:48:09.737914Z",
     "iopub.status.busy": "2025-02-11T22:48:09.737483Z",
     "iopub.status.idle": "2025-02-11T22:48:09.754790Z",
     "shell.execute_reply": "2025-02-11T22:48:09.753836Z"
    },
    "papermill": {
     "duration": 0.03095,
     "end_time": "2025-02-11T22:48:09.755860",
     "exception": false,
     "start_time": "2025-02-11T22:48:09.724910",
     "status": "completed"
    },
    "tags": []
   },
   "outputs": [
    {
     "data": {
      "text/html": [
       "<div>\n",
       "<style scoped>\n",
       "    .dataframe tbody tr th:only-of-type {\n",
       "        vertical-align: middle;\n",
       "    }\n",
       "\n",
       "    .dataframe tbody tr th {\n",
       "        vertical-align: top;\n",
       "    }\n",
       "\n",
       "    .dataframe thead th {\n",
       "        text-align: right;\n",
       "    }\n",
       "</style>\n",
       "<table border=\"1\" class=\"dataframe\">\n",
       "  <thead>\n",
       "    <tr style=\"text-align: right;\">\n",
       "      <th></th>\n",
       "      <th>id</th>\n",
       "      <th>case_num</th>\n",
       "      <th>pn_num</th>\n",
       "      <th>feature_num</th>\n",
       "      <th>annotation</th>\n",
       "      <th>location</th>\n",
       "      <th>annotation_length</th>\n",
       "    </tr>\n",
       "  </thead>\n",
       "  <tbody>\n",
       "    <tr>\n",
       "      <th>0</th>\n",
       "      <td>00016_000</td>\n",
       "      <td>0</td>\n",
       "      <td>16</td>\n",
       "      <td>0</td>\n",
       "      <td>[dad with recent heart attcak]</td>\n",
       "      <td>[696 724]</td>\n",
       "      <td>1</td>\n",
       "    </tr>\n",
       "    <tr>\n",
       "      <th>1</th>\n",
       "      <td>00016_001</td>\n",
       "      <td>0</td>\n",
       "      <td>16</td>\n",
       "      <td>1</td>\n",
       "      <td>[mom with \"thyroid disease]</td>\n",
       "      <td>[668 693]</td>\n",
       "      <td>1</td>\n",
       "    </tr>\n",
       "    <tr>\n",
       "      <th>2</th>\n",
       "      <td>00016_002</td>\n",
       "      <td>0</td>\n",
       "      <td>16</td>\n",
       "      <td>2</td>\n",
       "      <td>[chest pressure]</td>\n",
       "      <td>[203 217]</td>\n",
       "      <td>1</td>\n",
       "    </tr>\n",
       "    <tr>\n",
       "      <th>3</th>\n",
       "      <td>00016_003</td>\n",
       "      <td>0</td>\n",
       "      <td>16</td>\n",
       "      <td>3</td>\n",
       "      <td>[intermittent episodes, episode]</td>\n",
       "      <td>[70 91, 176 183]</td>\n",
       "      <td>2</td>\n",
       "    </tr>\n",
       "    <tr>\n",
       "      <th>4</th>\n",
       "      <td>00016_004</td>\n",
       "      <td>0</td>\n",
       "      <td>16</td>\n",
       "      <td>4</td>\n",
       "      <td>[felt as if he were going to pass out]</td>\n",
       "      <td>[222 258]</td>\n",
       "      <td>1</td>\n",
       "    </tr>\n",
       "    <tr>\n",
       "      <th>...</th>\n",
       "      <td>...</td>\n",
       "      <td>...</td>\n",
       "      <td>...</td>\n",
       "      <td>...</td>\n",
       "      <td>...</td>\n",
       "      <td>...</td>\n",
       "      <td>...</td>\n",
       "    </tr>\n",
       "    <tr>\n",
       "      <th>14295</th>\n",
       "      <td>95333_912</td>\n",
       "      <td>9</td>\n",
       "      <td>95333</td>\n",
       "      <td>912</td>\n",
       "      <td>[]</td>\n",
       "      <td>[]</td>\n",
       "      <td>0</td>\n",
       "    </tr>\n",
       "    <tr>\n",
       "      <th>14296</th>\n",
       "      <td>95333_913</td>\n",
       "      <td>9</td>\n",
       "      <td>95333</td>\n",
       "      <td>913</td>\n",
       "      <td>[]</td>\n",
       "      <td>[]</td>\n",
       "      <td>0</td>\n",
       "    </tr>\n",
       "    <tr>\n",
       "      <th>14297</th>\n",
       "      <td>95333_914</td>\n",
       "      <td>9</td>\n",
       "      <td>95333</td>\n",
       "      <td>914</td>\n",
       "      <td>[photobia]</td>\n",
       "      <td>[274 282]</td>\n",
       "      <td>1</td>\n",
       "    </tr>\n",
       "    <tr>\n",
       "      <th>14298</th>\n",
       "      <td>95333_915</td>\n",
       "      <td>9</td>\n",
       "      <td>95333</td>\n",
       "      <td>915</td>\n",
       "      <td>[no sick contacts]</td>\n",
       "      <td>[421 437]</td>\n",
       "      <td>1</td>\n",
       "    </tr>\n",
       "    <tr>\n",
       "      <th>14299</th>\n",
       "      <td>95333_916</td>\n",
       "      <td>9</td>\n",
       "      <td>95333</td>\n",
       "      <td>916</td>\n",
       "      <td>[Subjective fever]</td>\n",
       "      <td>[314 330]</td>\n",
       "      <td>1</td>\n",
       "    </tr>\n",
       "  </tbody>\n",
       "</table>\n",
       "<p>14300 rows × 7 columns</p>\n",
       "</div>"
      ],
      "text/plain": [
       "              id  case_num  pn_num  feature_num                              annotation          location  annotation_length\n",
       "0      00016_000         0      16            0          [dad with recent heart attcak]         [696 724]                  1\n",
       "1      00016_001         0      16            1             [mom with \"thyroid disease]         [668 693]                  1\n",
       "2      00016_002         0      16            2                        [chest pressure]         [203 217]                  1\n",
       "3      00016_003         0      16            3        [intermittent episodes, episode]  [70 91, 176 183]                  2\n",
       "4      00016_004         0      16            4  [felt as if he were going to pass out]         [222 258]                  1\n",
       "...          ...       ...     ...          ...                                     ...               ...                ...\n",
       "14295  95333_912         9   95333          912                                      []                []                  0\n",
       "14296  95333_913         9   95333          913                                      []                []                  0\n",
       "14297  95333_914         9   95333          914                              [photobia]         [274 282]                  1\n",
       "14298  95333_915         9   95333          915                      [no sick contacts]         [421 437]                  1\n",
       "14299  95333_916         9   95333          916                      [Subjective fever]         [314 330]                  1\n",
       "\n",
       "[14300 rows x 7 columns]"
      ]
     },
     "execution_count": 9,
     "metadata": {},
     "output_type": "execute_result"
    }
   ],
   "source": [
    "train['annotation_length'] = train['annotation'].apply(len) # refers to number of annotation\n",
    "train"
   ]
  },
  {
   "cell_type": "code",
   "execution_count": 10,
   "id": "c3481e25",
   "metadata": {
    "execution": {
     "iopub.execute_input": "2025-02-11T22:48:09.781197Z",
     "iopub.status.busy": "2025-02-11T22:48:09.780977Z",
     "iopub.status.idle": "2025-02-11T22:48:09.809218Z",
     "shell.execute_reply": "2025-02-11T22:48:09.808352Z"
    },
    "papermill": {
     "duration": 0.041349,
     "end_time": "2025-02-11T22:48:09.810292",
     "exception": false,
     "start_time": "2025-02-11T22:48:09.768943",
     "status": "completed"
    },
    "tags": []
   },
   "outputs": [
    {
     "data": {
      "text/html": [
       "<div>\n",
       "<style scoped>\n",
       "    .dataframe tbody tr th:only-of-type {\n",
       "        vertical-align: middle;\n",
       "    }\n",
       "\n",
       "    .dataframe tbody tr th {\n",
       "        vertical-align: top;\n",
       "    }\n",
       "\n",
       "    .dataframe thead th {\n",
       "        text-align: right;\n",
       "    }\n",
       "</style>\n",
       "<table border=\"1\" class=\"dataframe\">\n",
       "  <thead>\n",
       "    <tr style=\"text-align: right;\">\n",
       "      <th></th>\n",
       "      <th>id</th>\n",
       "      <th>case_num</th>\n",
       "      <th>pn_num</th>\n",
       "      <th>feature_num</th>\n",
       "      <th>annotation</th>\n",
       "      <th>location</th>\n",
       "      <th>annotation_length</th>\n",
       "      <th>feature_text</th>\n",
       "      <th>pn_history</th>\n",
       "    </tr>\n",
       "  </thead>\n",
       "  <tbody>\n",
       "    <tr>\n",
       "      <th>0</th>\n",
       "      <td>00016_000</td>\n",
       "      <td>0</td>\n",
       "      <td>16</td>\n",
       "      <td>0</td>\n",
       "      <td>[dad with recent heart attcak]</td>\n",
       "      <td>[696 724]</td>\n",
       "      <td>1</td>\n",
       "      <td>Family-history-of-MI-OR-Family-history-of-myoc...</td>\n",
       "      <td>HPI: 17yo M presents with palpitations. Patien...</td>\n",
       "    </tr>\n",
       "    <tr>\n",
       "      <th>1</th>\n",
       "      <td>00016_001</td>\n",
       "      <td>0</td>\n",
       "      <td>16</td>\n",
       "      <td>1</td>\n",
       "      <td>[mom with \"thyroid disease]</td>\n",
       "      <td>[668 693]</td>\n",
       "      <td>1</td>\n",
       "      <td>Family-history-of-thyroid-disorder</td>\n",
       "      <td>HPI: 17yo M presents with palpitations. Patien...</td>\n",
       "    </tr>\n",
       "    <tr>\n",
       "      <th>2</th>\n",
       "      <td>00016_002</td>\n",
       "      <td>0</td>\n",
       "      <td>16</td>\n",
       "      <td>2</td>\n",
       "      <td>[chest pressure]</td>\n",
       "      <td>[203 217]</td>\n",
       "      <td>1</td>\n",
       "      <td>Chest-pressure</td>\n",
       "      <td>HPI: 17yo M presents with palpitations. Patien...</td>\n",
       "    </tr>\n",
       "    <tr>\n",
       "      <th>3</th>\n",
       "      <td>00016_003</td>\n",
       "      <td>0</td>\n",
       "      <td>16</td>\n",
       "      <td>3</td>\n",
       "      <td>[intermittent episodes, episode]</td>\n",
       "      <td>[70 91, 176 183]</td>\n",
       "      <td>2</td>\n",
       "      <td>Intermittent-symptoms</td>\n",
       "      <td>HPI: 17yo M presents with palpitations. Patien...</td>\n",
       "    </tr>\n",
       "    <tr>\n",
       "      <th>4</th>\n",
       "      <td>00016_004</td>\n",
       "      <td>0</td>\n",
       "      <td>16</td>\n",
       "      <td>4</td>\n",
       "      <td>[felt as if he were going to pass out]</td>\n",
       "      <td>[222 258]</td>\n",
       "      <td>1</td>\n",
       "      <td>Lightheaded</td>\n",
       "      <td>HPI: 17yo M presents with palpitations. Patien...</td>\n",
       "    </tr>\n",
       "  </tbody>\n",
       "</table>\n",
       "</div>"
      ],
      "text/plain": [
       "          id  case_num  pn_num  feature_num                              annotation          location  annotation_length                                       feature_text                                         pn_history\n",
       "0  00016_000         0      16            0          [dad with recent heart attcak]         [696 724]                  1  Family-history-of-MI-OR-Family-history-of-myoc...  HPI: 17yo M presents with palpitations. Patien...\n",
       "1  00016_001         0      16            1             [mom with \"thyroid disease]         [668 693]                  1                 Family-history-of-thyroid-disorder  HPI: 17yo M presents with palpitations. Patien...\n",
       "2  00016_002         0      16            2                        [chest pressure]         [203 217]                  1                                     Chest-pressure  HPI: 17yo M presents with palpitations. Patien...\n",
       "3  00016_003         0      16            3        [intermittent episodes, episode]  [70 91, 176 183]                  2                              Intermittent-symptoms  HPI: 17yo M presents with palpitations. Patien...\n",
       "4  00016_004         0      16            4  [felt as if he were going to pass out]         [222 258]                  1                                        Lightheaded  HPI: 17yo M presents with palpitations. Patien..."
      ]
     },
     "metadata": {},
     "output_type": "display_data"
    }
   ],
   "source": [
    "train = train.merge(features, on=['feature_num', 'case_num'], how='left')\n",
    "train = train.merge(patient_notes, on=['pn_num', 'case_num'], how='left')\n",
    "display(train.head())"
   ]
  },
  {
   "cell_type": "code",
   "execution_count": 11,
   "id": "3b53d2f1",
   "metadata": {
    "execution": {
     "iopub.execute_input": "2025-02-11T22:48:09.835180Z",
     "iopub.status.busy": "2025-02-11T22:48:09.834947Z",
     "iopub.status.idle": "2025-02-11T22:48:09.883186Z",
     "shell.execute_reply": "2025-02-11T22:48:09.882270Z"
    },
    "papermill": {
     "duration": 0.062295,
     "end_time": "2025-02-11T22:48:09.884317",
     "exception": false,
     "start_time": "2025-02-11T22:48:09.822022",
     "status": "completed"
    },
    "tags": []
   },
   "outputs": [],
   "source": [
    "# incorrect annotation\n",
    "train.loc[338, 'annotation'] = ast.literal_eval('[[\"father heart attack\"]]')\n",
    "train.loc[338, 'location'] = ast.literal_eval('[[\"764 783\"]]')\n",
    "\n",
    "train.loc[621, 'annotation'] = ast.literal_eval('[[\"for the last 2-3 months\"]]')\n",
    "train.loc[621, 'location'] = ast.literal_eval('[[\"77 100\"]]')\n",
    "\n",
    "train.loc[655, 'annotation'] = ast.literal_eval('[[\"no heat intolerance\"], [\"no cold intolerance\"]]')\n",
    "train.loc[655, 'location'] = ast.literal_eval('[[\"285 292;301 312\"], [\"285 287;296 312\"]]')\n",
    "\n",
    "train.loc[1262, 'annotation'] = ast.literal_eval('[[\"mother thyroid problem\"]]')\n",
    "train.loc[1262, 'location'] = ast.literal_eval('[[\"551 557;565 580\"]]')\n",
    "\n",
    "train.loc[1265, 'annotation'] = ast.literal_eval('[[\\'felt like he was going to \"pass out\"\\']]')\n",
    "train.loc[1265, 'location'] = ast.literal_eval('[[\"131 135;181 212\"]]')\n",
    "\n",
    "train.loc[1396, 'annotation'] = ast.literal_eval('[[\"stool , with no blood\"]]')\n",
    "train.loc[1396, 'location'] = ast.literal_eval('[[\"259 280\"]]')\n",
    "\n",
    "train.loc[1591, 'annotation'] = ast.literal_eval('[[\"diarrhoe non blooody\"]]')\n",
    "train.loc[1591, 'location'] = ast.literal_eval('[[\"176 184;201 212\"]]')\n",
    "\n",
    "train.loc[1615, 'annotation'] = ast.literal_eval('[[\"diarrhea for last 2-3 days\"]]')\n",
    "train.loc[1615, 'location'] = ast.literal_eval('[[\"249 257;271 288\"]]')\n",
    "\n",
    "train.loc[1664, 'annotation'] = ast.literal_eval('[[\"no vaginal discharge\"]]')\n",
    "train.loc[1664, 'location'] = ast.literal_eval('[[\"822 824;907 924\"]]')\n",
    "\n",
    "train.loc[1714, 'annotation'] = ast.literal_eval('[[\"started about 8-10 hours ago\"]]')\n",
    "train.loc[1714, 'location'] = ast.literal_eval('[[\"101 129\"]]')\n",
    "\n",
    "train.loc[1929, 'annotation'] = ast.literal_eval('[[\"no blood in the stool\"]]')\n",
    "train.loc[1929, 'location'] = ast.literal_eval('[[\"531 539;549 561\"]]')\n",
    "\n",
    "train.loc[2134, 'annotation'] = ast.literal_eval('[[\"last sexually active 9 months ago\"]]')\n",
    "train.loc[2134, 'location'] = ast.literal_eval('[[\"540 560;581 593\"]]')\n",
    "\n",
    "train.loc[2191, 'annotation'] = ast.literal_eval('[[\"right lower quadrant pain\"]]')\n",
    "train.loc[2191, 'location'] = ast.literal_eval('[[\"32 57\"]]')\n",
    "\n",
    "train.loc[2553, 'annotation'] = ast.literal_eval('[[\"diarrhoea no blood\"]]')\n",
    "train.loc[2553, 'location'] = ast.literal_eval('[[\"308 317;376 384\"]]')\n",
    "\n",
    "train.loc[3124, 'annotation'] = ast.literal_eval('[[\"sweating\"]]')\n",
    "train.loc[3124, 'location'] = ast.literal_eval('[[\"549 557\"]]')\n",
    "\n",
    "train.loc[3858, 'annotation'] = ast.literal_eval('[[\"previously as regular\"], [\"previously eveyr 28-29 days\"], [\"previously lasting 5 days\"], [\"previously regular flow\"]]')\n",
    "train.loc[3858, 'location'] = ast.literal_eval('[[\"102 123\"], [\"102 112;125 141\"], [\"102 112;143 157\"], [\"102 112;159 171\"]]')\n",
    "\n",
    "train.loc[4373, 'annotation'] = ast.literal_eval('[[\"for 2 months\"]]')\n",
    "train.loc[4373, 'location'] = ast.literal_eval('[[\"33 45\"]]')\n",
    "\n",
    "train.loc[4763, 'annotation'] = ast.literal_eval('[[\"35 year old\"]]')\n",
    "train.loc[4763, 'location'] = ast.literal_eval('[[\"5 16\"]]')\n",
    "\n",
    "train.loc[4782, 'annotation'] = ast.literal_eval('[[\"darker brown stools\"]]')\n",
    "train.loc[4782, 'location'] = ast.literal_eval('[[\"175 194\"]]')\n",
    "\n",
    "train.loc[4908, 'annotation'] = ast.literal_eval('[[\"uncle with peptic ulcer\"]]')\n",
    "train.loc[4908, 'location'] = ast.literal_eval('[[\"700 723\"]]')\n",
    "\n",
    "train.loc[6016, 'annotation'] = ast.literal_eval('[[\"difficulty falling asleep\"]]')\n",
    "train.loc[6016, 'location'] = ast.literal_eval('[[\"225 250\"]]')\n",
    "\n",
    "train.loc[6192, 'annotation'] = ast.literal_eval('[[\"helps to take care of aging mother and in-laws\"]]')\n",
    "train.loc[6192, 'location'] = ast.literal_eval('[[\"197 218;236 260\"]]')\n",
    "\n",
    "train.loc[6380, 'annotation'] = ast.literal_eval('[[\"No hair changes\"], [\"No skin changes\"], [\"No GI changes\"], [\"No palpitations\"], [\"No excessive sweating\"]]')\n",
    "train.loc[6380, 'location'] = ast.literal_eval('[[\"480 482;507 519\"], [\"480 482;499 503;512 519\"], [\"480 482;521 531\"], [\"480 482;533 545\"], [\"480 482;564 582\"]]')\n",
    "\n",
    "train.loc[6562, 'annotation'] = ast.literal_eval('[[\"stressed due to taking care of her mother\"], [\"stressed due to taking care of husbands parents\"]]')\n",
    "train.loc[6562, 'location'] = ast.literal_eval('[[\"290 320;327 337\"], [\"290 320;342 358\"]]')\n",
    "\n",
    "train.loc[6862, 'annotation'] = ast.literal_eval('[[\"stressor taking care of many sick family members\"]]')\n",
    "train.loc[6862, 'location'] = ast.literal_eval('[[\"288 296;324 363\"]]')\n",
    "\n",
    "train.loc[7022, 'annotation'] = ast.literal_eval('[[\"heart started racing and felt numbness for the 1st time in her finger tips\"]]')\n",
    "train.loc[7022, 'location'] = ast.literal_eval('[[\"108 182\"]]')\n",
    "\n",
    "train.loc[7422, 'annotation'] = ast.literal_eval('[[\"first started 5 yrs\"]]')\n",
    "train.loc[7422, 'location'] = ast.literal_eval('[[\"102 121\"]]')\n",
    "\n",
    "train.loc[8876, 'annotation'] = ast.literal_eval('[[\"No shortness of breath\"]]')\n",
    "train.loc[8876, 'location'] = ast.literal_eval('[[\"481 483;533 552\"]]')\n",
    "\n",
    "train.loc[9027, 'annotation'] = ast.literal_eval('[[\"recent URI\"], [\"nasal stuffines, rhinorrhea, for 3-4 days\"]]')\n",
    "train.loc[9027, 'location'] = ast.literal_eval('[[\"92 102\"], [\"123 164\"]]')\n",
    "\n",
    "train.loc[9938, 'annotation'] = ast.literal_eval('[[\"irregularity with her cycles\"], [\"heavier bleeding\"], [\"changes her pad every couple hours\"]]')\n",
    "train.loc[9938, 'location'] = ast.literal_eval('[[\"89 117\"], [\"122 138\"], [\"368 402\"]]')\n",
    "\n",
    "train.loc[9973, 'annotation'] = ast.literal_eval('[[\"gaining 10-15 lbs\"]]')\n",
    "train.loc[9973, 'location'] = ast.literal_eval('[[\"344 361\"]]')\n",
    "\n",
    "train.loc[10513, 'annotation'] = ast.literal_eval('[[\"weight gain\"], [\"gain of 10-16lbs\"]]')\n",
    "train.loc[10513, 'location'] = ast.literal_eval('[[\"600 611\"], [\"607 623\"]]')\n",
    "\n",
    "train.loc[11551, 'annotation'] = ast.literal_eval('[[\"seeing her son knows are not real\"]]')\n",
    "train.loc[11551, 'location'] = ast.literal_eval('[[\"386 400;443 461\"]]')\n",
    "\n",
    "train.loc[11677, 'annotation'] = ast.literal_eval('[[\"saw him once in the kitchen after he died\"]]')\n",
    "train.loc[11677, 'location'] = ast.literal_eval('[[\"160 201\"]]')\n",
    "\n",
    "train.loc[12124, 'annotation'] = ast.literal_eval('[[\"tried Ambien but it didnt work\"]]')\n",
    "train.loc[12124, 'location'] = ast.literal_eval('[[\"325 337;349 366\"]]')\n",
    "\n",
    "train.loc[12279, 'annotation'] = ast.literal_eval('[[\"heard what she described as a party later than evening these things did not actually happen\"]]')\n",
    "train.loc[12279, 'location'] = ast.literal_eval('[[\"405 459;488 524\"]]')\n",
    "\n",
    "train.loc[12289, 'annotation'] = ast.literal_eval('[[\"experienced seeing her son at the kitchen table these things did not actually happen\"]]')\n",
    "train.loc[12289, 'location'] = ast.literal_eval('[[\"353 400;488 524\"]]')\n",
    "\n",
    "train.loc[13238, 'annotation'] = ast.literal_eval('[[\"SCRACHY THROAT\"], [\"RUNNY NOSE\"]]')\n",
    "train.loc[13238, 'location'] = ast.literal_eval('[[\"293 307\"], [\"321 331\"]]')\n",
    "\n",
    "train.loc[13297, 'annotation'] = ast.literal_eval('[[\"without improvement when taking tylenol\"], [\"without improvement when taking ibuprofen\"]]')\n",
    "train.loc[13297, 'location'] = ast.literal_eval('[[\"182 221\"], [\"182 213;225 234\"]]')\n",
    "\n",
    "train.loc[13299, 'annotation'] = ast.literal_eval('[[\"yesterday\"], [\"yesterday\"]]')\n",
    "train.loc[13299, 'location'] = ast.literal_eval('[[\"79 88\"], [\"409 418\"]]')\n",
    "\n",
    "train.loc[13845, 'annotation'] = ast.literal_eval('[[\"headache global\"], [\"headache throughout her head\"]]')\n",
    "train.loc[13845, 'location'] = ast.literal_eval('[[\"86 94;230 236\"], [\"86 94;237 256\"]]')\n",
    "\n",
    "train.loc[14083, 'annotation'] = ast.literal_eval('[[\"headache generalized in her head\"]]')\n",
    "train.loc[14083, 'location'] = ast.literal_eval('[[\"56 64;156 179\"]]')"
   ]
  },
  {
   "cell_type": "code",
   "execution_count": 12,
   "id": "5436b02a",
   "metadata": {
    "execution": {
     "iopub.execute_input": "2025-02-11T22:48:09.912184Z",
     "iopub.status.busy": "2025-02-11T22:48:09.911901Z",
     "iopub.status.idle": "2025-02-11T22:48:10.445323Z",
     "shell.execute_reply": "2025-02-11T22:48:10.444478Z"
    },
    "papermill": {
     "duration": 0.547884,
     "end_time": "2025-02-11T22:48:10.446423",
     "exception": false,
     "start_time": "2025-02-11T22:48:09.898539",
     "status": "completed"
    },
    "tags": []
   },
   "outputs": [
    {
     "data": {
      "text/html": [
       "<div>\n",
       "<style scoped>\n",
       "    .dataframe tbody tr th:only-of-type {\n",
       "        vertical-align: middle;\n",
       "    }\n",
       "\n",
       "    .dataframe tbody tr th {\n",
       "        vertical-align: top;\n",
       "    }\n",
       "\n",
       "    .dataframe thead th {\n",
       "        text-align: right;\n",
       "    }\n",
       "</style>\n",
       "<table border=\"1\" class=\"dataframe\">\n",
       "  <thead>\n",
       "    <tr style=\"text-align: right;\">\n",
       "      <th></th>\n",
       "      <th>id</th>\n",
       "      <th>case_num</th>\n",
       "      <th>pn_num</th>\n",
       "      <th>feature_num</th>\n",
       "      <th>fold</th>\n",
       "      <th>location</th>\n",
       "      <th>feature_text</th>\n",
       "      <th>pn_history</th>\n",
       "    </tr>\n",
       "  </thead>\n",
       "  <tbody>\n",
       "    <tr>\n",
       "      <th>0</th>\n",
       "      <td>00000_006</td>\n",
       "      <td>0</td>\n",
       "      <td>0</td>\n",
       "      <td>6</td>\n",
       "      <td>1</td>\n",
       "      <td>[521 526]</td>\n",
       "      <td>Adderall-use</td>\n",
       "      <td>17-year-old male, has come to the student heal...</td>\n",
       "    </tr>\n",
       "    <tr>\n",
       "      <th>1</th>\n",
       "      <td>00001_004</td>\n",
       "      <td>0</td>\n",
       "      <td>1</td>\n",
       "      <td>4</td>\n",
       "      <td>1</td>\n",
       "      <td>[179 195]</td>\n",
       "      <td>Lightheaded</td>\n",
       "      <td>17 yo male with recurrent palpitations for the...</td>\n",
       "    </tr>\n",
       "    <tr>\n",
       "      <th>2</th>\n",
       "      <td>00001_006</td>\n",
       "      <td>0</td>\n",
       "      <td>1</td>\n",
       "      <td>6</td>\n",
       "      <td>1</td>\n",
       "      <td>[347 353]</td>\n",
       "      <td>Adderall-use</td>\n",
       "      <td>17 yo male with recurrent palpitations for the...</td>\n",
       "    </tr>\n",
       "    <tr>\n",
       "      <th>3</th>\n",
       "      <td>00001_007</td>\n",
       "      <td>0</td>\n",
       "      <td>1</td>\n",
       "      <td>7</td>\n",
       "      <td>1</td>\n",
       "      <td>[220 235]</td>\n",
       "      <td>Shortness-of-breath</td>\n",
       "      <td>17 yo male with recurrent palpitations for the...</td>\n",
       "    </tr>\n",
       "    <tr>\n",
       "      <th>4</th>\n",
       "      <td>00001_011</td>\n",
       "      <td>0</td>\n",
       "      <td>1</td>\n",
       "      <td>11</td>\n",
       "      <td>1</td>\n",
       "      <td>[1 5]</td>\n",
       "      <td>17-year</td>\n",
       "      <td>17 yo male with recurrent palpitations for the...</td>\n",
       "    </tr>\n",
       "    <tr>\n",
       "      <th>...</th>\n",
       "      <td>...</td>\n",
       "      <td>...</td>\n",
       "      <td>...</td>\n",
       "      <td>...</td>\n",
       "      <td>...</td>\n",
       "      <td>...</td>\n",
       "      <td>...</td>\n",
       "      <td>...</td>\n",
       "    </tr>\n",
       "    <tr>\n",
       "      <th>122512</th>\n",
       "      <td>95331_912</td>\n",
       "      <td>9</td>\n",
       "      <td>95331</td>\n",
       "      <td>912</td>\n",
       "      <td>1</td>\n",
       "      <td>[283 302, 401 421]</td>\n",
       "      <td>Family-history-of-migraines</td>\n",
       "      <td>A 20 YO F CAME COMPLAIN A DULL 8/10 HEADACHE T...</td>\n",
       "    </tr>\n",
       "    <tr>\n",
       "      <th>122513</th>\n",
       "      <td>95331_913</td>\n",
       "      <td>9</td>\n",
       "      <td>95331</td>\n",
       "      <td>913</td>\n",
       "      <td>1</td>\n",
       "      <td>[8 9]</td>\n",
       "      <td>Female</td>\n",
       "      <td>A 20 YO F CAME COMPLAIN A DULL 8/10 HEADACHE T...</td>\n",
       "    </tr>\n",
       "    <tr>\n",
       "      <th>122516</th>\n",
       "      <td>95332_906</td>\n",
       "      <td>9</td>\n",
       "      <td>95332</td>\n",
       "      <td>906</td>\n",
       "      <td>1</td>\n",
       "      <td>[319 327]</td>\n",
       "      <td>Vomiting</td>\n",
       "      <td>Ms. Madden is a 20yo female who presents with ...</td>\n",
       "    </tr>\n",
       "    <tr>\n",
       "      <th>122518</th>\n",
       "      <td>95334_901</td>\n",
       "      <td>9</td>\n",
       "      <td>95334</td>\n",
       "      <td>901</td>\n",
       "      <td>1</td>\n",
       "      <td>[13 18]</td>\n",
       "      <td>20-year</td>\n",
       "      <td>patient is a 20 yo F who presents with a heada...</td>\n",
       "    </tr>\n",
       "    <tr>\n",
       "      <th>122519</th>\n",
       "      <td>95334_904</td>\n",
       "      <td>9</td>\n",
       "      <td>95334</td>\n",
       "      <td>904</td>\n",
       "      <td>1</td>\n",
       "      <td>[41 49, 136 143]</td>\n",
       "      <td>Global-headache-OR-diffuse-headache</td>\n",
       "      <td>patient is a 20 yo F who presents with a heada...</td>\n",
       "    </tr>\n",
       "  </tbody>\n",
       "</table>\n",
       "<p>86232 rows × 8 columns</p>\n",
       "</div>"
      ],
      "text/plain": [
       "               id  case_num  pn_num  feature_num  fold            location                         feature_text                                         pn_history\n",
       "0       00000_006         0       0            6     1           [521 526]                         Adderall-use  17-year-old male, has come to the student heal...\n",
       "1       00001_004         0       1            4     1           [179 195]                          Lightheaded  17 yo male with recurrent palpitations for the...\n",
       "2       00001_006         0       1            6     1           [347 353]                         Adderall-use  17 yo male with recurrent palpitations for the...\n",
       "3       00001_007         0       1            7     1           [220 235]                  Shortness-of-breath  17 yo male with recurrent palpitations for the...\n",
       "4       00001_011         0       1           11     1               [1 5]                              17-year  17 yo male with recurrent palpitations for the...\n",
       "...           ...       ...     ...          ...   ...                 ...                                  ...                                                ...\n",
       "122512  95331_912         9   95331          912     1  [283 302, 401 421]          Family-history-of-migraines  A 20 YO F CAME COMPLAIN A DULL 8/10 HEADACHE T...\n",
       "122513  95331_913         9   95331          913     1               [8 9]                               Female  A 20 YO F CAME COMPLAIN A DULL 8/10 HEADACHE T...\n",
       "122516  95332_906         9   95332          906     1           [319 327]                             Vomiting  Ms. Madden is a 20yo female who presents with ...\n",
       "122518  95334_901         9   95334          901     1             [13 18]                              20-year  patient is a 20 yo F who presents with a heada...\n",
       "122519  95334_904         9   95334          904     1    [41 49, 136 143]  Global-headache-OR-diffuse-headache  patient is a 20 yo F who presents with a heada...\n",
       "\n",
       "[86232 rows x 8 columns]"
      ]
     },
     "execution_count": 12,
     "metadata": {},
     "output_type": "execute_result"
    }
   ],
   "source": [
    "pseudolabels = pd.read_csv('/workspace/data/pseudolabels.csv')\n",
    "pseudolabels =  pseudolabels.merge(features, on=['feature_num', 'case_num'], how='left')\n",
    "pseudolabels = pseudolabels.merge(patient_notes, on=['pn_num', 'case_num'], how='left')\n",
    "\n",
    "pseudolabels = pseudolabels.dropna(subset=['location'])\n",
    "pseudolabels = pseudolabels[pseudolabels['location'].apply(lambda x: len(x) > 0)]\n",
    "\n",
    "def convert_location_format(location):\n",
    "    if pd.isna(location) or not location:\n",
    "        return []\n",
    "    if isinstance(location, str):\n",
    "        return [loc.strip() for loc in location.split(';')]\n",
    "    return location\n",
    "\n",
    "pseudolabels['location'] = pseudolabels['location'].apply(convert_location_format)\n",
    "\n",
    "pseudolabels"
   ]
  },
  {
   "cell_type": "code",
   "execution_count": 13,
   "id": "1689e762",
   "metadata": {
    "execution": {
     "iopub.execute_input": "2025-02-11T22:48:10.471892Z",
     "iopub.status.busy": "2025-02-11T22:48:10.471671Z",
     "iopub.status.idle": "2025-02-11T22:48:10.493105Z",
     "shell.execute_reply": "2025-02-11T22:48:10.492380Z"
    },
    "papermill": {
     "duration": 0.034883,
     "end_time": "2025-02-11T22:48:10.494161",
     "exception": false,
     "start_time": "2025-02-11T22:48:10.459278",
     "status": "completed"
    },
    "tags": []
   },
   "outputs": [],
   "source": [
    "pseudolabels['annotation_length'] = pseudolabels['location'].apply(len)"
   ]
  },
  {
   "cell_type": "code",
   "execution_count": 14,
   "id": "7467c6ed",
   "metadata": {
    "execution": {
     "iopub.execute_input": "2025-02-11T22:48:10.521623Z",
     "iopub.status.busy": "2025-02-11T22:48:10.520944Z",
     "iopub.status.idle": "2025-02-11T22:48:10.530187Z",
     "shell.execute_reply": "2025-02-11T22:48:10.529581Z"
    },
    "papermill": {
     "duration": 0.022602,
     "end_time": "2025-02-11T22:48:10.531521",
     "exception": false,
     "start_time": "2025-02-11T22:48:10.508919",
     "status": "completed"
    },
    "tags": []
   },
   "outputs": [
    {
     "data": {
      "text/html": [
       "<div>\n",
       "<style scoped>\n",
       "    .dataframe tbody tr th:only-of-type {\n",
       "        vertical-align: middle;\n",
       "    }\n",
       "\n",
       "    .dataframe tbody tr th {\n",
       "        vertical-align: top;\n",
       "    }\n",
       "\n",
       "    .dataframe thead th {\n",
       "        text-align: right;\n",
       "    }\n",
       "</style>\n",
       "<table border=\"1\" class=\"dataframe\">\n",
       "  <thead>\n",
       "    <tr style=\"text-align: right;\">\n",
       "      <th></th>\n",
       "      <th>id</th>\n",
       "      <th>case_num</th>\n",
       "      <th>pn_num</th>\n",
       "      <th>feature_num</th>\n",
       "      <th>fold</th>\n",
       "      <th>location</th>\n",
       "      <th>feature_text</th>\n",
       "      <th>pn_history</th>\n",
       "      <th>annotation_length</th>\n",
       "    </tr>\n",
       "  </thead>\n",
       "  <tbody>\n",
       "    <tr>\n",
       "      <th>0</th>\n",
       "      <td>00000_006</td>\n",
       "      <td>0</td>\n",
       "      <td>0</td>\n",
       "      <td>6</td>\n",
       "      <td>1</td>\n",
       "      <td>[521 526]</td>\n",
       "      <td>Adderall-use</td>\n",
       "      <td>17-year-old male, has come to the student heal...</td>\n",
       "      <td>1</td>\n",
       "    </tr>\n",
       "    <tr>\n",
       "      <th>1</th>\n",
       "      <td>00001_004</td>\n",
       "      <td>0</td>\n",
       "      <td>1</td>\n",
       "      <td>4</td>\n",
       "      <td>1</td>\n",
       "      <td>[179 195]</td>\n",
       "      <td>Lightheaded</td>\n",
       "      <td>17 yo male with recurrent palpitations for the...</td>\n",
       "      <td>1</td>\n",
       "    </tr>\n",
       "    <tr>\n",
       "      <th>2</th>\n",
       "      <td>00001_006</td>\n",
       "      <td>0</td>\n",
       "      <td>1</td>\n",
       "      <td>6</td>\n",
       "      <td>1</td>\n",
       "      <td>[347 353]</td>\n",
       "      <td>Adderall-use</td>\n",
       "      <td>17 yo male with recurrent palpitations for the...</td>\n",
       "      <td>1</td>\n",
       "    </tr>\n",
       "    <tr>\n",
       "      <th>3</th>\n",
       "      <td>00001_007</td>\n",
       "      <td>0</td>\n",
       "      <td>1</td>\n",
       "      <td>7</td>\n",
       "      <td>1</td>\n",
       "      <td>[220 235]</td>\n",
       "      <td>Shortness-of-breath</td>\n",
       "      <td>17 yo male with recurrent palpitations for the...</td>\n",
       "      <td>1</td>\n",
       "    </tr>\n",
       "    <tr>\n",
       "      <th>4</th>\n",
       "      <td>00001_011</td>\n",
       "      <td>0</td>\n",
       "      <td>1</td>\n",
       "      <td>11</td>\n",
       "      <td>1</td>\n",
       "      <td>[1 5]</td>\n",
       "      <td>17-year</td>\n",
       "      <td>17 yo male with recurrent palpitations for the...</td>\n",
       "      <td>1</td>\n",
       "    </tr>\n",
       "    <tr>\n",
       "      <th>...</th>\n",
       "      <td>...</td>\n",
       "      <td>...</td>\n",
       "      <td>...</td>\n",
       "      <td>...</td>\n",
       "      <td>...</td>\n",
       "      <td>...</td>\n",
       "      <td>...</td>\n",
       "      <td>...</td>\n",
       "      <td>...</td>\n",
       "    </tr>\n",
       "    <tr>\n",
       "      <th>122512</th>\n",
       "      <td>95331_912</td>\n",
       "      <td>9</td>\n",
       "      <td>95331</td>\n",
       "      <td>912</td>\n",
       "      <td>1</td>\n",
       "      <td>[283 302, 401 421]</td>\n",
       "      <td>Family-history-of-migraines</td>\n",
       "      <td>A 20 YO F CAME COMPLAIN A DULL 8/10 HEADACHE T...</td>\n",
       "      <td>2</td>\n",
       "    </tr>\n",
       "    <tr>\n",
       "      <th>122513</th>\n",
       "      <td>95331_913</td>\n",
       "      <td>9</td>\n",
       "      <td>95331</td>\n",
       "      <td>913</td>\n",
       "      <td>1</td>\n",
       "      <td>[8 9]</td>\n",
       "      <td>Female</td>\n",
       "      <td>A 20 YO F CAME COMPLAIN A DULL 8/10 HEADACHE T...</td>\n",
       "      <td>1</td>\n",
       "    </tr>\n",
       "    <tr>\n",
       "      <th>122516</th>\n",
       "      <td>95332_906</td>\n",
       "      <td>9</td>\n",
       "      <td>95332</td>\n",
       "      <td>906</td>\n",
       "      <td>1</td>\n",
       "      <td>[319 327]</td>\n",
       "      <td>Vomiting</td>\n",
       "      <td>Ms. Madden is a 20yo female who presents with ...</td>\n",
       "      <td>1</td>\n",
       "    </tr>\n",
       "    <tr>\n",
       "      <th>122518</th>\n",
       "      <td>95334_901</td>\n",
       "      <td>9</td>\n",
       "      <td>95334</td>\n",
       "      <td>901</td>\n",
       "      <td>1</td>\n",
       "      <td>[13 18]</td>\n",
       "      <td>20-year</td>\n",
       "      <td>patient is a 20 yo F who presents with a heada...</td>\n",
       "      <td>1</td>\n",
       "    </tr>\n",
       "    <tr>\n",
       "      <th>122519</th>\n",
       "      <td>95334_904</td>\n",
       "      <td>9</td>\n",
       "      <td>95334</td>\n",
       "      <td>904</td>\n",
       "      <td>1</td>\n",
       "      <td>[41 49, 136 143]</td>\n",
       "      <td>Global-headache-OR-diffuse-headache</td>\n",
       "      <td>patient is a 20 yo F who presents with a heada...</td>\n",
       "      <td>2</td>\n",
       "    </tr>\n",
       "  </tbody>\n",
       "</table>\n",
       "<p>86232 rows × 9 columns</p>\n",
       "</div>"
      ],
      "text/plain": [
       "               id  case_num  pn_num  feature_num  fold            location                         feature_text                                         pn_history  annotation_length\n",
       "0       00000_006         0       0            6     1           [521 526]                         Adderall-use  17-year-old male, has come to the student heal...                  1\n",
       "1       00001_004         0       1            4     1           [179 195]                          Lightheaded  17 yo male with recurrent palpitations for the...                  1\n",
       "2       00001_006         0       1            6     1           [347 353]                         Adderall-use  17 yo male with recurrent palpitations for the...                  1\n",
       "3       00001_007         0       1            7     1           [220 235]                  Shortness-of-breath  17 yo male with recurrent palpitations for the...                  1\n",
       "4       00001_011         0       1           11     1               [1 5]                              17-year  17 yo male with recurrent palpitations for the...                  1\n",
       "...           ...       ...     ...          ...   ...                 ...                                  ...                                                ...                ...\n",
       "122512  95331_912         9   95331          912     1  [283 302, 401 421]          Family-history-of-migraines  A 20 YO F CAME COMPLAIN A DULL 8/10 HEADACHE T...                  2\n",
       "122513  95331_913         9   95331          913     1               [8 9]                               Female  A 20 YO F CAME COMPLAIN A DULL 8/10 HEADACHE T...                  1\n",
       "122516  95332_906         9   95332          906     1           [319 327]                             Vomiting  Ms. Madden is a 20yo female who presents with ...                  1\n",
       "122518  95334_901         9   95334          901     1             [13 18]                              20-year  patient is a 20 yo F who presents with a heada...                  1\n",
       "122519  95334_904         9   95334          904     1    [41 49, 136 143]  Global-headache-OR-diffuse-headache  patient is a 20 yo F who presents with a heada...                  2\n",
       "\n",
       "[86232 rows x 9 columns]"
      ]
     },
     "execution_count": 14,
     "metadata": {},
     "output_type": "execute_result"
    }
   ],
   "source": [
    "pseudolabels"
   ]
  },
  {
   "cell_type": "code",
   "execution_count": 15,
   "id": "014187da",
   "metadata": {
    "execution": {
     "iopub.execute_input": "2025-02-11T22:48:10.557269Z",
     "iopub.status.busy": "2025-02-11T22:48:10.557057Z",
     "iopub.status.idle": "2025-02-11T22:48:10.566202Z",
     "shell.execute_reply": "2025-02-11T22:48:10.565466Z"
    },
    "papermill": {
     "duration": 0.022175,
     "end_time": "2025-02-11T22:48:10.567185",
     "exception": false,
     "start_time": "2025-02-11T22:48:10.545010",
     "status": "completed"
    },
    "tags": []
   },
   "outputs": [],
   "source": [
    "pseudolabels = pseudolabels.drop(columns=['fold'])"
   ]
  },
  {
   "cell_type": "code",
   "execution_count": 16,
   "id": "04b1ddfb",
   "metadata": {
    "execution": {
     "iopub.execute_input": "2025-02-11T22:48:10.591858Z",
     "iopub.status.busy": "2025-02-11T22:48:10.591642Z",
     "iopub.status.idle": "2025-02-11T22:48:10.603347Z",
     "shell.execute_reply": "2025-02-11T22:48:10.602600Z"
    },
    "papermill": {
     "duration": 0.024823,
     "end_time": "2025-02-11T22:48:10.604392",
     "exception": false,
     "start_time": "2025-02-11T22:48:10.579569",
     "status": "completed"
    },
    "tags": []
   },
   "outputs": [],
   "source": [
    "# add pseudolabels to train\n",
    "## IF YOU WANT TO INCLUDE PSEUDOLABELS\n",
    "train = pd.concat([train, pseudolabels], axis=0, ignore_index=True)"
   ]
  },
  {
   "cell_type": "markdown",
   "id": "18971508",
   "metadata": {
    "papermill": {
     "duration": 0.010937,
     "end_time": "2025-02-11T22:48:10.628424",
     "exception": false,
     "start_time": "2025-02-11T22:48:10.617487",
     "status": "completed"
    },
    "tags": []
   },
   "source": [
    "# CV split"
   ]
  },
  {
   "cell_type": "code",
   "execution_count": 17,
   "id": "e65d8c82",
   "metadata": {
    "execution": {
     "iopub.execute_input": "2025-02-11T22:48:10.651799Z",
     "iopub.status.busy": "2025-02-11T22:48:10.651589Z",
     "iopub.status.idle": "2025-02-11T22:48:10.777399Z",
     "shell.execute_reply": "2025-02-11T22:48:10.776278Z"
    },
    "papermill": {
     "duration": 0.139054,
     "end_time": "2025-02-11T22:48:10.778485",
     "exception": false,
     "start_time": "2025-02-11T22:48:10.639431",
     "status": "completed"
    },
    "tags": []
   },
   "outputs": [
    {
     "data": {
      "text/plain": [
       "fold\n",
       "0    20107\n",
       "1    20107\n",
       "2    20106\n",
       "3    20106\n",
       "4    20106\n",
       "dtype: int64"
      ]
     },
     "metadata": {},
     "output_type": "display_data"
    }
   ],
   "source": [
    "# ====================================================\n",
    "# CV split\n",
    "# ====================================================\n",
    "train = train.reset_index(drop=True)\n",
    "\n",
    "Fold = GroupKFold(n_splits=CFG.n_fold)\n",
    "groups = train['pn_num'].values\n",
    "for n, (train_index, val_index) in enumerate(Fold.split(train, train['location'], groups)):\n",
    "    train.loc[val_index, 'fold'] = int(n)\n",
    "train['fold'] = train['fold'].astype(int)\n",
    "display(train.groupby('fold').size())"
   ]
  },
  {
   "cell_type": "code",
   "execution_count": 18,
   "id": "cc23e8d9",
   "metadata": {
    "execution": {
     "iopub.execute_input": "2025-02-11T22:48:10.807078Z",
     "iopub.status.busy": "2025-02-11T22:48:10.806857Z",
     "iopub.status.idle": "2025-02-11T22:48:10.811263Z",
     "shell.execute_reply": "2025-02-11T22:48:10.810228Z"
    },
    "papermill": {
     "duration": 0.019655,
     "end_time": "2025-02-11T22:48:10.812313",
     "exception": false,
     "start_time": "2025-02-11T22:48:10.792658",
     "status": "completed"
    },
    "tags": []
   },
   "outputs": [],
   "source": [
    "if CFG.debug:\n",
    "    display(train.groupby('fold').size())\n",
    "    train = train.sample(n=1000, random_state=0).reset_index(drop=True)\n",
    "    display(train.groupby('fold').size())"
   ]
  },
  {
   "cell_type": "markdown",
   "id": "e5e7ad1d",
   "metadata": {
    "papermill": {
     "duration": 0.012386,
     "end_time": "2025-02-11T22:48:10.838223",
     "exception": false,
     "start_time": "2025-02-11T22:48:10.825837",
     "status": "completed"
    },
    "tags": []
   },
   "source": [
    "# Dataset"
   ]
  },
  {
   "cell_type": "code",
   "execution_count": 19,
   "id": "01d4708a",
   "metadata": {
    "execution": {
     "iopub.execute_input": "2025-02-11T22:48:10.864437Z",
     "iopub.status.busy": "2025-02-11T22:48:10.864233Z",
     "iopub.status.idle": "2025-02-11T22:48:28.569106Z",
     "shell.execute_reply": "2025-02-11T22:48:28.568056Z"
    },
    "papermill": {
     "duration": 17.718997,
     "end_time": "2025-02-11T22:48:28.570350",
     "exception": false,
     "start_time": "2025-02-11T22:48:10.851353",
     "status": "completed"
    },
    "tags": []
   },
   "outputs": [
    {
     "name": "stderr",
     "output_type": "stream",
     "text": [
      "\r",
      "  0%|          | 0/42146 [00:00<?, ?it/s]"
     ]
    },
    {
     "name": "stderr",
     "output_type": "stream",
     "text": [
      "\r",
      "  0%|          | 197/42146 [00:00<00:21, 1969.75it/s]"
     ]
    },
    {
     "name": "stderr",
     "output_type": "stream",
     "text": [
      "\r",
      "  1%|          | 439/42146 [00:00<00:18, 2234.37it/s]"
     ]
    },
    {
     "name": "stderr",
     "output_type": "stream",
     "text": [
      "\r",
      "  2%|▏         | 682/42146 [00:00<00:17, 2322.73it/s]"
     ]
    },
    {
     "name": "stderr",
     "output_type": "stream",
     "text": [
      "\r",
      "  2%|▏         | 925/42146 [00:00<00:17, 2364.03it/s]"
     ]
    },
    {
     "name": "stderr",
     "output_type": "stream",
     "text": [
      "\r",
      "  3%|▎         | 1171/42146 [00:00<00:17, 2398.22it/s]"
     ]
    },
    {
     "name": "stderr",
     "output_type": "stream",
     "text": [
      "\r",
      "  3%|▎         | 1415/42146 [00:00<00:16, 2412.28it/s]"
     ]
    },
    {
     "name": "stderr",
     "output_type": "stream",
     "text": [
      "\r",
      "  4%|▍         | 1657/42146 [00:00<00:16, 2402.36it/s]"
     ]
    },
    {
     "name": "stderr",
     "output_type": "stream",
     "text": [
      "\r",
      "  5%|▍         | 1899/42146 [00:00<00:16, 2406.06it/s]"
     ]
    },
    {
     "name": "stderr",
     "output_type": "stream",
     "text": [
      "\r",
      "  5%|▌         | 2142/42146 [00:00<00:16, 2413.37it/s]"
     ]
    },
    {
     "name": "stderr",
     "output_type": "stream",
     "text": [
      "\r",
      "  6%|▌         | 2385/42146 [00:01<00:16, 2415.65it/s]"
     ]
    },
    {
     "name": "stderr",
     "output_type": "stream",
     "text": [
      "\r",
      "  6%|▌         | 2627/42146 [00:01<00:16, 2405.53it/s]"
     ]
    },
    {
     "name": "stderr",
     "output_type": "stream",
     "text": [
      "\r",
      "  7%|▋         | 2868/42146 [00:01<00:16, 2377.20it/s]"
     ]
    },
    {
     "name": "stderr",
     "output_type": "stream",
     "text": [
      "\r",
      "  7%|▋         | 3106/42146 [00:01<00:16, 2353.21it/s]"
     ]
    },
    {
     "name": "stderr",
     "output_type": "stream",
     "text": [
      "\r",
      "  8%|▊         | 3342/42146 [00:01<00:17, 2254.63it/s]"
     ]
    },
    {
     "name": "stderr",
     "output_type": "stream",
     "text": [
      "\r",
      "  8%|▊         | 3569/42146 [00:01<00:17, 2158.83it/s]"
     ]
    },
    {
     "name": "stderr",
     "output_type": "stream",
     "text": [
      "\r",
      "  9%|▉         | 3787/42146 [00:01<00:18, 2088.51it/s]"
     ]
    },
    {
     "name": "stderr",
     "output_type": "stream",
     "text": [
      "\r",
      "  9%|▉         | 3997/42146 [00:01<00:18, 2047.00it/s]"
     ]
    },
    {
     "name": "stderr",
     "output_type": "stream",
     "text": [
      "\r",
      " 10%|█         | 4217/42146 [00:01<00:18, 2089.46it/s]"
     ]
    },
    {
     "name": "stderr",
     "output_type": "stream",
     "text": [
      "\r",
      " 11%|█         | 4444/42146 [00:01<00:17, 2140.65it/s]"
     ]
    },
    {
     "name": "stderr",
     "output_type": "stream",
     "text": [
      "\r",
      " 11%|█         | 4659/42146 [00:02<00:18, 2063.96it/s]"
     ]
    },
    {
     "name": "stderr",
     "output_type": "stream",
     "text": [
      "\r",
      " 12%|█▏        | 4882/42146 [00:02<00:17, 2110.94it/s]"
     ]
    },
    {
     "name": "stderr",
     "output_type": "stream",
     "text": [
      "\r",
      " 12%|█▏        | 5112/42146 [00:02<00:17, 2163.22it/s]"
     ]
    },
    {
     "name": "stderr",
     "output_type": "stream",
     "text": [
      "\r",
      " 13%|█▎        | 5350/42146 [00:02<00:16, 2225.18it/s]"
     ]
    },
    {
     "name": "stderr",
     "output_type": "stream",
     "text": [
      "\r",
      " 13%|█▎        | 5574/42146 [00:02<00:16, 2226.10it/s]"
     ]
    },
    {
     "name": "stderr",
     "output_type": "stream",
     "text": [
      "\r",
      " 14%|█▍        | 5819/42146 [00:02<00:15, 2292.05it/s]"
     ]
    },
    {
     "name": "stderr",
     "output_type": "stream",
     "text": [
      "\r",
      " 14%|█▍        | 6070/42146 [00:02<00:15, 2354.86it/s]"
     ]
    },
    {
     "name": "stderr",
     "output_type": "stream",
     "text": [
      "\r",
      " 15%|█▍        | 6315/42146 [00:02<00:15, 2382.14it/s]"
     ]
    },
    {
     "name": "stderr",
     "output_type": "stream",
     "text": [
      "\r",
      " 16%|█▌        | 6560/42146 [00:02<00:14, 2400.80it/s]"
     ]
    },
    {
     "name": "stderr",
     "output_type": "stream",
     "text": [
      "\r",
      " 16%|█▌        | 6813/42146 [00:02<00:14, 2437.28it/s]"
     ]
    },
    {
     "name": "stderr",
     "output_type": "stream",
     "text": [
      "\r",
      " 17%|█▋        | 7060/42146 [00:03<00:14, 2444.24it/s]"
     ]
    },
    {
     "name": "stderr",
     "output_type": "stream",
     "text": [
      "\r",
      " 17%|█▋        | 7305/42146 [00:03<00:14, 2418.20it/s]"
     ]
    },
    {
     "name": "stderr",
     "output_type": "stream",
     "text": [
      "\r",
      " 18%|█▊        | 7547/42146 [00:03<00:14, 2401.20it/s]"
     ]
    },
    {
     "name": "stderr",
     "output_type": "stream",
     "text": [
      "\r",
      " 18%|█▊        | 7788/42146 [00:03<00:14, 2387.39it/s]"
     ]
    },
    {
     "name": "stderr",
     "output_type": "stream",
     "text": [
      "\r",
      " 19%|█▉        | 8029/42146 [00:03<00:14, 2391.20it/s]"
     ]
    },
    {
     "name": "stderr",
     "output_type": "stream",
     "text": [
      "\r",
      " 20%|█▉        | 8269/42146 [00:03<00:14, 2389.33it/s]"
     ]
    },
    {
     "name": "stderr",
     "output_type": "stream",
     "text": [
      "\r",
      " 20%|██        | 8508/42146 [00:03<00:14, 2365.71it/s]"
     ]
    },
    {
     "name": "stderr",
     "output_type": "stream",
     "text": [
      "\r",
      " 21%|██        | 8745/42146 [00:03<00:14, 2349.32it/s]"
     ]
    },
    {
     "name": "stderr",
     "output_type": "stream",
     "text": [
      "\r",
      " 21%|██▏       | 8987/42146 [00:03<00:14, 2368.50it/s]"
     ]
    },
    {
     "name": "stderr",
     "output_type": "stream",
     "text": [
      "\r",
      " 22%|██▏       | 9224/42146 [00:03<00:13, 2354.88it/s]"
     ]
    },
    {
     "name": "stderr",
     "output_type": "stream",
     "text": [
      "\r",
      " 22%|██▏       | 9470/42146 [00:04<00:13, 2385.72it/s]"
     ]
    },
    {
     "name": "stderr",
     "output_type": "stream",
     "text": [
      "\r",
      " 23%|██▎       | 9718/42146 [00:04<00:13, 2413.14it/s]"
     ]
    },
    {
     "name": "stderr",
     "output_type": "stream",
     "text": [
      "\r",
      " 24%|██▎       | 9965/42146 [00:04<00:13, 2428.66it/s]"
     ]
    },
    {
     "name": "stderr",
     "output_type": "stream",
     "text": [
      "\r",
      " 24%|██▍       | 10211/42146 [00:04<00:13, 2435.59it/s]"
     ]
    },
    {
     "name": "stderr",
     "output_type": "stream",
     "text": [
      "\r",
      " 25%|██▍       | 10455/42146 [00:04<00:13, 2422.85it/s]"
     ]
    },
    {
     "name": "stderr",
     "output_type": "stream",
     "text": [
      "\r",
      " 25%|██▌       | 10701/42146 [00:04<00:12, 2431.58it/s]"
     ]
    },
    {
     "name": "stderr",
     "output_type": "stream",
     "text": [
      "\r",
      " 26%|██▌       | 10945/42146 [00:04<00:12, 2410.54it/s]"
     ]
    },
    {
     "name": "stderr",
     "output_type": "stream",
     "text": [
      "\r",
      " 27%|██▋       | 11187/42146 [00:04<00:12, 2405.21it/s]"
     ]
    },
    {
     "name": "stderr",
     "output_type": "stream",
     "text": [
      "\r",
      " 27%|██▋       | 11428/42146 [00:04<00:12, 2390.57it/s]"
     ]
    },
    {
     "name": "stderr",
     "output_type": "stream",
     "text": [
      "\r",
      " 28%|██▊       | 11673/42146 [00:05<00:12, 2406.96it/s]"
     ]
    },
    {
     "name": "stderr",
     "output_type": "stream",
     "text": [
      "\r",
      " 28%|██▊       | 11920/42146 [00:05<00:12, 2425.40it/s]"
     ]
    },
    {
     "name": "stderr",
     "output_type": "stream",
     "text": [
      "\r",
      " 29%|██▉       | 12170/42146 [00:05<00:12, 2445.29it/s]"
     ]
    },
    {
     "name": "stderr",
     "output_type": "stream",
     "text": [
      "\r",
      " 29%|██▉       | 12424/42146 [00:05<00:12, 2471.27it/s]"
     ]
    },
    {
     "name": "stderr",
     "output_type": "stream",
     "text": [
      "\r",
      " 30%|███       | 12672/42146 [00:05<00:11, 2457.72it/s]"
     ]
    },
    {
     "name": "stderr",
     "output_type": "stream",
     "text": [
      "\r",
      " 31%|███       | 12918/42146 [00:05<00:12, 2421.14it/s]"
     ]
    },
    {
     "name": "stderr",
     "output_type": "stream",
     "text": [
      "\r",
      " 31%|███       | 13161/42146 [00:05<00:11, 2417.69it/s]"
     ]
    },
    {
     "name": "stderr",
     "output_type": "stream",
     "text": [
      "\r",
      " 32%|███▏      | 13403/42146 [00:05<00:11, 2417.63it/s]"
     ]
    },
    {
     "name": "stderr",
     "output_type": "stream",
     "text": [
      "\r",
      " 32%|███▏      | 13645/42146 [00:05<00:11, 2386.49it/s]"
     ]
    },
    {
     "name": "stderr",
     "output_type": "stream",
     "text": [
      "\r",
      " 33%|███▎      | 13888/42146 [00:05<00:11, 2398.24it/s]"
     ]
    },
    {
     "name": "stderr",
     "output_type": "stream",
     "text": [
      "\r",
      " 34%|███▎      | 14128/42146 [00:06<00:11, 2376.53it/s]"
     ]
    },
    {
     "name": "stderr",
     "output_type": "stream",
     "text": [
      "\r",
      " 34%|███▍      | 14374/42146 [00:06<00:11, 2399.04it/s]"
     ]
    },
    {
     "name": "stderr",
     "output_type": "stream",
     "text": [
      "\r",
      " 35%|███▍      | 14620/42146 [00:06<00:11, 2416.68it/s]"
     ]
    },
    {
     "name": "stderr",
     "output_type": "stream",
     "text": [
      "\r",
      " 35%|███▌      | 14864/42146 [00:06<00:11, 2421.83it/s]"
     ]
    },
    {
     "name": "stderr",
     "output_type": "stream",
     "text": [
      "\r",
      " 36%|███▌      | 15107/42146 [00:06<00:11, 2411.50it/s]"
     ]
    },
    {
     "name": "stderr",
     "output_type": "stream",
     "text": [
      "\r",
      " 36%|███▋      | 15357/42146 [00:06<00:10, 2437.42it/s]"
     ]
    },
    {
     "name": "stderr",
     "output_type": "stream",
     "text": [
      "\r",
      " 37%|███▋      | 15612/42146 [00:06<00:10, 2469.90it/s]"
     ]
    },
    {
     "name": "stderr",
     "output_type": "stream",
     "text": [
      "\r",
      " 38%|███▊      | 15860/42146 [00:06<00:10, 2441.81it/s]"
     ]
    },
    {
     "name": "stderr",
     "output_type": "stream",
     "text": [
      "\r",
      " 38%|███▊      | 16105/42146 [00:06<00:10, 2427.38it/s]"
     ]
    },
    {
     "name": "stderr",
     "output_type": "stream",
     "text": [
      "\r",
      " 39%|███▉      | 16349/42146 [00:06<00:10, 2428.42it/s]"
     ]
    },
    {
     "name": "stderr",
     "output_type": "stream",
     "text": [
      "\r",
      " 39%|███▉      | 16596/42146 [00:07<00:10, 2438.41it/s]"
     ]
    },
    {
     "name": "stderr",
     "output_type": "stream",
     "text": [
      "\r",
      " 40%|███▉      | 16840/42146 [00:07<00:10, 2435.16it/s]"
     ]
    },
    {
     "name": "stderr",
     "output_type": "stream",
     "text": [
      "\r",
      " 41%|████      | 17084/42146 [00:07<00:10, 2433.79it/s]"
     ]
    },
    {
     "name": "stderr",
     "output_type": "stream",
     "text": [
      "\r",
      " 41%|████      | 17328/42146 [00:07<00:10, 2435.36it/s]"
     ]
    },
    {
     "name": "stderr",
     "output_type": "stream",
     "text": [
      "\r",
      " 42%|████▏     | 17577/42146 [00:07<00:10, 2449.71it/s]"
     ]
    },
    {
     "name": "stderr",
     "output_type": "stream",
     "text": [
      "\r",
      " 42%|████▏     | 17824/42146 [00:07<00:09, 2455.71it/s]"
     ]
    },
    {
     "name": "stderr",
     "output_type": "stream",
     "text": [
      "\r",
      " 43%|████▎     | 18075/42146 [00:07<00:09, 2470.13it/s]"
     ]
    },
    {
     "name": "stderr",
     "output_type": "stream",
     "text": [
      "\r",
      " 43%|████▎     | 18324/42146 [00:07<00:09, 2473.86it/s]"
     ]
    },
    {
     "name": "stderr",
     "output_type": "stream",
     "text": [
      "\r",
      " 44%|████▍     | 18572/42146 [00:07<00:09, 2451.13it/s]"
     ]
    },
    {
     "name": "stderr",
     "output_type": "stream",
     "text": [
      "\r",
      " 45%|████▍     | 18818/42146 [00:07<00:09, 2430.83it/s]"
     ]
    },
    {
     "name": "stderr",
     "output_type": "stream",
     "text": [
      "\r",
      " 45%|████▌     | 19062/42146 [00:08<00:09, 2395.12it/s]"
     ]
    },
    {
     "name": "stderr",
     "output_type": "stream",
     "text": [
      "\r",
      " 46%|████▌     | 19302/42146 [00:08<00:09, 2312.87it/s]"
     ]
    },
    {
     "name": "stderr",
     "output_type": "stream",
     "text": [
      "\r",
      " 46%|████▋     | 19538/42146 [00:08<00:09, 2325.39it/s]"
     ]
    },
    {
     "name": "stderr",
     "output_type": "stream",
     "text": [
      "\r",
      " 47%|████▋     | 19775/42146 [00:08<00:09, 2336.86it/s]"
     ]
    },
    {
     "name": "stderr",
     "output_type": "stream",
     "text": [
      "\r",
      " 47%|████▋     | 20010/42146 [00:08<00:09, 2338.30it/s]"
     ]
    },
    {
     "name": "stderr",
     "output_type": "stream",
     "text": [
      "\r",
      " 48%|████▊     | 20246/42146 [00:08<00:09, 2342.34it/s]"
     ]
    },
    {
     "name": "stderr",
     "output_type": "stream",
     "text": [
      "\r",
      " 49%|████▊     | 20490/42146 [00:08<00:09, 2370.55it/s]"
     ]
    },
    {
     "name": "stderr",
     "output_type": "stream",
     "text": [
      "\r",
      " 49%|████▉     | 20757/42146 [00:08<00:08, 2458.26it/s]"
     ]
    },
    {
     "name": "stderr",
     "output_type": "stream",
     "text": [
      "\r",
      " 50%|████▉     | 21027/42146 [00:08<00:08, 2528.22it/s]"
     ]
    },
    {
     "name": "stderr",
     "output_type": "stream",
     "text": [
      "\r",
      " 51%|█████     | 21285/42146 [00:08<00:08, 2541.04it/s]"
     ]
    },
    {
     "name": "stderr",
     "output_type": "stream",
     "text": [
      "\r",
      " 51%|█████     | 21554/42146 [00:09<00:07, 2584.31it/s]"
     ]
    },
    {
     "name": "stderr",
     "output_type": "stream",
     "text": [
      "\r",
      " 52%|█████▏    | 21813/42146 [00:09<00:07, 2573.21it/s]"
     ]
    },
    {
     "name": "stderr",
     "output_type": "stream",
     "text": [
      "\r",
      " 52%|█████▏    | 22071/42146 [00:09<00:07, 2569.50it/s]"
     ]
    },
    {
     "name": "stderr",
     "output_type": "stream",
     "text": [
      "\r",
      " 53%|█████▎    | 22336/42146 [00:09<00:07, 2591.95it/s]"
     ]
    },
    {
     "name": "stderr",
     "output_type": "stream",
     "text": [
      "\r",
      " 54%|█████▎    | 22596/42146 [00:09<00:07, 2543.43it/s]"
     ]
    },
    {
     "name": "stderr",
     "output_type": "stream",
     "text": [
      "\r",
      " 54%|█████▍    | 22851/42146 [00:09<00:07, 2497.98it/s]"
     ]
    },
    {
     "name": "stderr",
     "output_type": "stream",
     "text": [
      "\r",
      " 55%|█████▍    | 23102/42146 [00:09<00:07, 2484.90it/s]"
     ]
    },
    {
     "name": "stderr",
     "output_type": "stream",
     "text": [
      "\r",
      " 55%|█████▌    | 23351/42146 [00:09<00:07, 2485.26it/s]"
     ]
    },
    {
     "name": "stderr",
     "output_type": "stream",
     "text": [
      "\r",
      " 56%|█████▌    | 23603/42146 [00:09<00:07, 2494.87it/s]"
     ]
    },
    {
     "name": "stderr",
     "output_type": "stream",
     "text": [
      "\r",
      " 57%|█████▋    | 23853/42146 [00:09<00:07, 2494.30it/s]"
     ]
    },
    {
     "name": "stderr",
     "output_type": "stream",
     "text": [
      "\r",
      " 57%|█████▋    | 24103/42146 [00:10<00:07, 2491.64it/s]"
     ]
    },
    {
     "name": "stderr",
     "output_type": "stream",
     "text": [
      "\r",
      " 58%|█████▊    | 24354/42146 [00:10<00:07, 2494.69it/s]"
     ]
    },
    {
     "name": "stderr",
     "output_type": "stream",
     "text": [
      "\r",
      " 58%|█████▊    | 24604/42146 [00:10<00:07, 2471.46it/s]"
     ]
    },
    {
     "name": "stderr",
     "output_type": "stream",
     "text": [
      "\r",
      " 59%|█████▉    | 24855/42146 [00:10<00:06, 2480.43it/s]"
     ]
    },
    {
     "name": "stderr",
     "output_type": "stream",
     "text": [
      "\r",
      " 60%|█████▉    | 25110/42146 [00:10<00:06, 2498.74it/s]"
     ]
    },
    {
     "name": "stderr",
     "output_type": "stream",
     "text": [
      "\r",
      " 60%|██████    | 25367/42146 [00:10<00:06, 2518.78it/s]"
     ]
    },
    {
     "name": "stderr",
     "output_type": "stream",
     "text": [
      "\r",
      " 61%|██████    | 25619/42146 [00:10<00:06, 2491.12it/s]"
     ]
    },
    {
     "name": "stderr",
     "output_type": "stream",
     "text": [
      "\r",
      " 61%|██████▏   | 25869/42146 [00:10<00:06, 2483.44it/s]"
     ]
    },
    {
     "name": "stderr",
     "output_type": "stream",
     "text": [
      "\r",
      " 62%|██████▏   | 26118/42146 [00:10<00:06, 2476.66it/s]"
     ]
    },
    {
     "name": "stderr",
     "output_type": "stream",
     "text": [
      "\r",
      " 63%|██████▎   | 26366/42146 [00:10<00:06, 2471.07it/s]"
     ]
    },
    {
     "name": "stderr",
     "output_type": "stream",
     "text": [
      "\r",
      " 63%|██████▎   | 26616/42146 [00:11<00:06, 2479.27it/s]"
     ]
    },
    {
     "name": "stderr",
     "output_type": "stream",
     "text": [
      "\r",
      " 64%|██████▎   | 26864/42146 [00:11<00:06, 2463.19it/s]"
     ]
    },
    {
     "name": "stderr",
     "output_type": "stream",
     "text": [
      "\r",
      " 64%|██████▍   | 27114/42146 [00:11<00:06, 2472.21it/s]"
     ]
    },
    {
     "name": "stderr",
     "output_type": "stream",
     "text": [
      "\r",
      " 65%|██████▍   | 27370/42146 [00:11<00:05, 2496.59it/s]"
     ]
    },
    {
     "name": "stderr",
     "output_type": "stream",
     "text": [
      "\r",
      " 66%|██████▌   | 27620/42146 [00:11<00:05, 2483.59it/s]"
     ]
    },
    {
     "name": "stderr",
     "output_type": "stream",
     "text": [
      "\r",
      " 66%|██████▌   | 27885/42146 [00:11<00:05, 2531.47it/s]"
     ]
    },
    {
     "name": "stderr",
     "output_type": "stream",
     "text": [
      "\r",
      " 67%|██████▋   | 28139/42146 [00:11<00:05, 2515.01it/s]"
     ]
    },
    {
     "name": "stderr",
     "output_type": "stream",
     "text": [
      "\r",
      " 67%|██████▋   | 28391/42146 [00:11<00:05, 2482.39it/s]"
     ]
    },
    {
     "name": "stderr",
     "output_type": "stream",
     "text": [
      "\r",
      " 68%|██████▊   | 28640/42146 [00:11<00:05, 2443.07it/s]"
     ]
    },
    {
     "name": "stderr",
     "output_type": "stream",
     "text": [
      "\r",
      " 69%|██████▊   | 28885/42146 [00:12<00:05, 2378.22it/s]"
     ]
    },
    {
     "name": "stderr",
     "output_type": "stream",
     "text": [
      "\r",
      " 69%|██████▉   | 29124/42146 [00:12<00:05, 2331.62it/s]"
     ]
    },
    {
     "name": "stderr",
     "output_type": "stream",
     "text": [
      "\r",
      " 70%|██████▉   | 29358/42146 [00:12<00:05, 2305.51it/s]"
     ]
    },
    {
     "name": "stderr",
     "output_type": "stream",
     "text": [
      "\r",
      " 70%|███████   | 29589/42146 [00:12<00:05, 2295.71it/s]"
     ]
    },
    {
     "name": "stderr",
     "output_type": "stream",
     "text": [
      "\r",
      " 71%|███████   | 29819/42146 [00:12<00:05, 2287.88it/s]"
     ]
    },
    {
     "name": "stderr",
     "output_type": "stream",
     "text": [
      "\r",
      " 71%|███████▏  | 30048/42146 [00:12<00:05, 2282.03it/s]"
     ]
    },
    {
     "name": "stderr",
     "output_type": "stream",
     "text": [
      "\r",
      " 72%|███████▏  | 30277/42146 [00:12<00:05, 2266.14it/s]"
     ]
    },
    {
     "name": "stderr",
     "output_type": "stream",
     "text": [
      "\r",
      " 72%|███████▏  | 30504/42146 [00:12<00:05, 2261.61it/s]"
     ]
    },
    {
     "name": "stderr",
     "output_type": "stream",
     "text": [
      "\r",
      " 73%|███████▎  | 30731/42146 [00:12<00:05, 2230.75it/s]"
     ]
    },
    {
     "name": "stderr",
     "output_type": "stream",
     "text": [
      "\r",
      " 73%|███████▎  | 30956/42146 [00:12<00:05, 2234.74it/s]"
     ]
    },
    {
     "name": "stderr",
     "output_type": "stream",
     "text": [
      "\r",
      " 74%|███████▍  | 31181/42146 [00:13<00:04, 2236.60it/s]"
     ]
    },
    {
     "name": "stderr",
     "output_type": "stream",
     "text": [
      "\r",
      " 75%|███████▍  | 31405/42146 [00:13<00:04, 2233.81it/s]"
     ]
    },
    {
     "name": "stderr",
     "output_type": "stream",
     "text": [
      "\r",
      " 75%|███████▌  | 31635/42146 [00:13<00:04, 2250.82it/s]"
     ]
    },
    {
     "name": "stderr",
     "output_type": "stream",
     "text": [
      "\r",
      " 76%|███████▌  | 31863/42146 [00:13<00:04, 2258.88it/s]"
     ]
    },
    {
     "name": "stderr",
     "output_type": "stream",
     "text": [
      "\r",
      " 76%|███████▌  | 32089/42146 [00:13<00:04, 2257.75it/s]"
     ]
    },
    {
     "name": "stderr",
     "output_type": "stream",
     "text": [
      "\r",
      " 77%|███████▋  | 32315/42146 [00:13<00:04, 2252.09it/s]"
     ]
    },
    {
     "name": "stderr",
     "output_type": "stream",
     "text": [
      "\r",
      " 77%|███████▋  | 32541/42146 [00:13<00:04, 2253.72it/s]"
     ]
    },
    {
     "name": "stderr",
     "output_type": "stream",
     "text": [
      "\r",
      " 78%|███████▊  | 32767/42146 [00:13<00:04, 2240.64it/s]"
     ]
    },
    {
     "name": "stderr",
     "output_type": "stream",
     "text": [
      "\r",
      " 78%|███████▊  | 32997/42146 [00:13<00:04, 2257.85it/s]"
     ]
    },
    {
     "name": "stderr",
     "output_type": "stream",
     "text": [
      "\r",
      " 79%|███████▉  | 33231/42146 [00:13<00:03, 2282.00it/s]"
     ]
    },
    {
     "name": "stderr",
     "output_type": "stream",
     "text": [
      "\r",
      " 79%|███████▉  | 33460/42146 [00:14<00:03, 2265.58it/s]"
     ]
    },
    {
     "name": "stderr",
     "output_type": "stream",
     "text": [
      "\r",
      " 80%|███████▉  | 33687/42146 [00:14<00:03, 2237.65it/s]"
     ]
    },
    {
     "name": "stderr",
     "output_type": "stream",
     "text": [
      "\r",
      " 80%|████████  | 33911/42146 [00:14<00:03, 2212.38it/s]"
     ]
    },
    {
     "name": "stderr",
     "output_type": "stream",
     "text": [
      "\r",
      " 81%|████████  | 34133/42146 [00:14<00:03, 2203.03it/s]"
     ]
    },
    {
     "name": "stderr",
     "output_type": "stream",
     "text": [
      "\r",
      " 82%|████████▏ | 34354/42146 [00:14<00:03, 2194.08it/s]"
     ]
    },
    {
     "name": "stderr",
     "output_type": "stream",
     "text": [
      "\r",
      " 82%|████████▏ | 34574/42146 [00:14<00:03, 2187.72it/s]"
     ]
    },
    {
     "name": "stderr",
     "output_type": "stream",
     "text": [
      "\r",
      " 83%|████████▎ | 34796/42146 [00:14<00:03, 2196.24it/s]"
     ]
    },
    {
     "name": "stderr",
     "output_type": "stream",
     "text": [
      "\r",
      " 83%|████████▎ | 35020/42146 [00:14<00:03, 2209.15it/s]"
     ]
    },
    {
     "name": "stderr",
     "output_type": "stream",
     "text": [
      "\r",
      " 84%|████████▎ | 35241/42146 [00:14<00:03, 2205.68it/s]"
     ]
    },
    {
     "name": "stderr",
     "output_type": "stream",
     "text": [
      "\r",
      " 84%|████████▍ | 35462/42146 [00:14<00:03, 2198.31it/s]"
     ]
    },
    {
     "name": "stderr",
     "output_type": "stream",
     "text": [
      "\r",
      " 85%|████████▍ | 35684/42146 [00:15<00:02, 2204.23it/s]"
     ]
    },
    {
     "name": "stderr",
     "output_type": "stream",
     "text": [
      "\r",
      " 85%|████████▌ | 35905/42146 [00:15<00:02, 2196.93it/s]"
     ]
    },
    {
     "name": "stderr",
     "output_type": "stream",
     "text": [
      "\r",
      " 86%|████████▌ | 36125/42146 [00:15<00:02, 2183.91it/s]"
     ]
    },
    {
     "name": "stderr",
     "output_type": "stream",
     "text": [
      "\r",
      " 86%|████████▌ | 36345/42146 [00:15<00:02, 2187.07it/s]"
     ]
    },
    {
     "name": "stderr",
     "output_type": "stream",
     "text": [
      "\r",
      " 87%|████████▋ | 36565/42146 [00:15<00:02, 2190.28it/s]"
     ]
    },
    {
     "name": "stderr",
     "output_type": "stream",
     "text": [
      "\r",
      " 87%|████████▋ | 36785/42146 [00:15<00:02, 2189.32it/s]"
     ]
    },
    {
     "name": "stderr",
     "output_type": "stream",
     "text": [
      "\r",
      " 88%|████████▊ | 37010/42146 [00:15<00:02, 2206.40it/s]"
     ]
    },
    {
     "name": "stderr",
     "output_type": "stream",
     "text": [
      "\r",
      " 88%|████████▊ | 37261/42146 [00:15<00:02, 2295.79it/s]"
     ]
    },
    {
     "name": "stderr",
     "output_type": "stream",
     "text": [
      "\r",
      " 89%|████████▉ | 37515/42146 [00:15<00:01, 2368.76it/s]"
     ]
    },
    {
     "name": "stderr",
     "output_type": "stream",
     "text": [
      "\r",
      " 90%|████████▉ | 37778/42146 [00:15<00:01, 2445.44it/s]"
     ]
    },
    {
     "name": "stderr",
     "output_type": "stream",
     "text": [
      "\r",
      " 90%|█████████ | 38033/42146 [00:16<00:01, 2474.30it/s]"
     ]
    },
    {
     "name": "stderr",
     "output_type": "stream",
     "text": [
      "\r",
      " 91%|█████████ | 38301/42146 [00:16<00:01, 2534.59it/s]"
     ]
    },
    {
     "name": "stderr",
     "output_type": "stream",
     "text": [
      "\r",
      " 91%|█████████▏| 38556/42146 [00:16<00:01, 2538.49it/s]"
     ]
    },
    {
     "name": "stderr",
     "output_type": "stream",
     "text": [
      "\r",
      " 92%|█████████▏| 38817/42146 [00:16<00:01, 2558.70it/s]"
     ]
    },
    {
     "name": "stderr",
     "output_type": "stream",
     "text": [
      "\r",
      " 93%|█████████▎| 39091/42146 [00:16<00:01, 2611.86it/s]"
     ]
    },
    {
     "name": "stderr",
     "output_type": "stream",
     "text": [
      "\r",
      " 93%|█████████▎| 39353/42146 [00:16<00:01, 2596.42it/s]"
     ]
    },
    {
     "name": "stderr",
     "output_type": "stream",
     "text": [
      "\r",
      " 94%|█████████▍| 39625/42146 [00:16<00:00, 2631.00it/s]"
     ]
    },
    {
     "name": "stderr",
     "output_type": "stream",
     "text": [
      "\r",
      " 95%|█████████▍| 39889/42146 [00:16<00:00, 2588.77it/s]"
     ]
    },
    {
     "name": "stderr",
     "output_type": "stream",
     "text": [
      "\r",
      " 95%|█████████▌| 40149/42146 [00:16<00:00, 2569.39it/s]"
     ]
    },
    {
     "name": "stderr",
     "output_type": "stream",
     "text": [
      "\r",
      " 96%|█████████▌| 40407/42146 [00:16<00:00, 2547.98it/s]"
     ]
    },
    {
     "name": "stderr",
     "output_type": "stream",
     "text": [
      "\r",
      " 96%|█████████▋| 40662/42146 [00:17<00:00, 2521.00it/s]"
     ]
    },
    {
     "name": "stderr",
     "output_type": "stream",
     "text": [
      "\r",
      " 97%|█████████▋| 40915/42146 [00:17<00:00, 2515.71it/s]"
     ]
    },
    {
     "name": "stderr",
     "output_type": "stream",
     "text": [
      "\r",
      " 98%|█████████▊| 41176/42146 [00:17<00:00, 2543.16it/s]"
     ]
    },
    {
     "name": "stderr",
     "output_type": "stream",
     "text": [
      "\r",
      " 98%|█████████▊| 41443/42146 [00:17<00:00, 2580.49it/s]"
     ]
    },
    {
     "name": "stderr",
     "output_type": "stream",
     "text": [
      "\r",
      " 99%|█████████▉| 41707/42146 [00:17<00:00, 2596.94it/s]"
     ]
    },
    {
     "name": "stderr",
     "output_type": "stream",
     "text": [
      "\r",
      "100%|█████████▉| 41967/42146 [00:17<00:00, 2560.38it/s]"
     ]
    },
    {
     "name": "stderr",
     "output_type": "stream",
     "text": [
      "\r",
      "100%|██████████| 42146/42146 [00:17<00:00, 2385.01it/s]"
     ]
    },
    {
     "name": "stderr",
     "output_type": "stream",
     "text": [
      "\n",
      "pn_history max(lengths): 412\n"
     ]
    },
    {
     "name": "stderr",
     "output_type": "stream",
     "text": [
      "\r",
      "  0%|          | 0/143 [00:00<?, ?it/s]"
     ]
    },
    {
     "name": "stderr",
     "output_type": "stream",
     "text": [
      "\r",
      "100%|██████████| 143/143 [00:00<00:00, 17686.00it/s]"
     ]
    },
    {
     "name": "stderr",
     "output_type": "stream",
     "text": [
      "\n",
      "feature_text max(lengths): 28\n"
     ]
    },
    {
     "name": "stderr",
     "output_type": "stream",
     "text": [
      "max_len: 443\n"
     ]
    }
   ],
   "source": [
    "# Define max_len\n",
    "for text_col in ['pn_history']:\n",
    "    pn_history_lengths = []\n",
    "    tk0 = tqdm(patient_notes[text_col].fillna(\"\").values, total=len(patient_notes))\n",
    "    for text in tk0:\n",
    "        length = len(tokenizer(text, add_special_tokens=False)['input_ids'])\n",
    "        pn_history_lengths.append(length)\n",
    "    LOGGER.info(f'{text_col} max(lengths): {max(pn_history_lengths)}')\n",
    "\n",
    "for text_col in ['feature_text']:\n",
    "    features_lengths = []\n",
    "    tk0 = tqdm(features[text_col].fillna(\"\").values, total=len(features))\n",
    "    for text in tk0:\n",
    "        length = len(tokenizer(text, add_special_tokens=False)['input_ids'])\n",
    "        features_lengths.append(length)\n",
    "    LOGGER.info(f'{text_col} max(lengths): {max(features_lengths)}')\n",
    "\n",
    "CFG.max_len = max(pn_history_lengths) + max(features_lengths) + 3  # cls & sep & sep\n",
    "LOGGER.info(f\"max_len: {CFG.max_len}\")"
   ]
  },
  {
   "cell_type": "code",
   "execution_count": 20,
   "id": "b61da5c8",
   "metadata": {
    "execution": {
     "iopub.execute_input": "2025-02-11T22:48:28.617162Z",
     "iopub.status.busy": "2025-02-11T22:48:28.616367Z",
     "iopub.status.idle": "2025-02-11T22:48:28.629421Z",
     "shell.execute_reply": "2025-02-11T22:48:28.628650Z"
    },
    "papermill": {
     "duration": 0.036642,
     "end_time": "2025-02-11T22:48:28.630710",
     "exception": false,
     "start_time": "2025-02-11T22:48:28.594068",
     "status": "completed"
    },
    "tags": []
   },
   "outputs": [],
   "source": [
    "# ====================================================\n",
    "# Dataset\n",
    "# ====================================================\n",
    "def prepare_input(cfg, text, feature_text):\n",
    "\n",
    "    # Omit token_type_ids for ModernBERT\n",
    "    is_token_type_ids = CFG.model != 'answerdotai/ModernBERT-base'\n",
    "\n",
    "    inputs = cfg.tokenizer(text, feature_text, \n",
    "                           add_special_tokens=True,\n",
    "                           max_length=CFG.max_len,\n",
    "                           padding=\"max_length\",\n",
    "                           truncation=True,\n",
    "                           return_offsets_mapping=False,\n",
    "                           return_token_type_ids=is_token_type_ids)\n",
    "    for k, v in inputs.items():\n",
    "        inputs[k] = torch.tensor(v, dtype=torch.long)\n",
    "    return inputs\n",
    "\n",
    "\n",
    "def create_label(cfg, text, annotation_length, location_list):\n",
    "    encoded = cfg.tokenizer(text,\n",
    "                            add_special_tokens=True,\n",
    "                            max_length=CFG.max_len,\n",
    "                            padding=\"max_length\",\n",
    "                            return_offsets_mapping=True)\n",
    "    offset_mapping = encoded['offset_mapping']\n",
    "    ignore_idxes = np.where(np.array(encoded.sequence_ids()) != 0)[0]\n",
    "    label = np.zeros(len(offset_mapping))\n",
    "    label[ignore_idxes] = -1\n",
    "    if annotation_length != 0:\n",
    "        for location in location_list:\n",
    "            for loc in [s.split() for s in location.split(';')]:\n",
    "                start_idx = -1\n",
    "                end_idx = -1\n",
    "                start, end = int(loc[0]), int(loc[1])\n",
    "                for idx in range(len(offset_mapping)):\n",
    "                    if (start_idx == -1) & (start < offset_mapping[idx][0]):\n",
    "                        start_idx = idx - 1\n",
    "                    if (end_idx == -1) & (end <= offset_mapping[idx][1]):\n",
    "                        end_idx = idx + 1\n",
    "                if start_idx == -1:\n",
    "                    start_idx = end_idx\n",
    "                if (start_idx != -1) & (end_idx != -1):\n",
    "                    label[start_idx:end_idx] = 1\n",
    "    return torch.tensor(label, dtype=torch.bfloat16)\n",
    "\n",
    "\n",
    "class TrainDataset(Dataset):\n",
    "    def __init__(self, cfg, df):\n",
    "        self.cfg = cfg\n",
    "        self.feature_texts = df['feature_text'].values\n",
    "        self.pn_historys = df['pn_history'].values\n",
    "        self.annotation_lengths = df['annotation_length'].values\n",
    "        self.locations = df['location'].values\n",
    "\n",
    "    def __len__(self):\n",
    "        return len(self.feature_texts)\n",
    "\n",
    "    def __getitem__(self, item):\n",
    "        inputs = prepare_input(self.cfg, \n",
    "                               self.pn_historys[item], \n",
    "                               self.feature_texts[item])\n",
    "        label = create_label(self.cfg, \n",
    "                             self.pn_historys[item], \n",
    "                             self.annotation_lengths[item], \n",
    "                             self.locations[item])\n",
    "        return inputs, label"
   ]
  },
  {
   "cell_type": "markdown",
   "id": "a14bb87e",
   "metadata": {
    "papermill": {
     "duration": 0.018149,
     "end_time": "2025-02-11T22:48:28.669851",
     "exception": false,
     "start_time": "2025-02-11T22:48:28.651702",
     "status": "completed"
    },
    "tags": []
   },
   "source": [
    "# Model"
   ]
  },
  {
   "cell_type": "code",
   "execution_count": 21,
   "id": "43ce9114",
   "metadata": {
    "execution": {
     "iopub.execute_input": "2025-02-11T22:48:28.710964Z",
     "iopub.status.busy": "2025-02-11T22:48:28.710589Z",
     "iopub.status.idle": "2025-02-11T22:48:28.723757Z",
     "shell.execute_reply": "2025-02-11T22:48:28.722760Z"
    },
    "papermill": {
     "duration": 0.037236,
     "end_time": "2025-02-11T22:48:28.724960",
     "exception": false,
     "start_time": "2025-02-11T22:48:28.687724",
     "status": "completed"
    },
    "tags": []
   },
   "outputs": [],
   "source": [
    "import torch\n",
    "import torch.nn as nn\n",
    "from transformers import AutoConfig, AutoModel\n",
    "from torch.utils.checkpoint import checkpoint\n",
    "\n",
    "class CustomModel(nn.Module):\n",
    "    def __init__(self, cfg, config_path=None, pretrained=False):\n",
    "        super().__init__()\n",
    "        self.cfg = cfg\n",
    "        if config_path is None:\n",
    "            self.config = AutoConfig.from_pretrained(cfg.model, output_hidden_states=True)\n",
    "        else:\n",
    "            self.config = torch.load(config_path)\n",
    "        if pretrained:\n",
    "            self.model = AutoModel.from_pretrained(cfg.model, config=self.config)\n",
    "        else:\n",
    "            self.model = AutoModel(self.config)\n",
    "\n",
    "        self.model.gradient_checkpointing_enable()\n",
    "        self.fc_dropout = nn.Dropout(cfg.fc_dropout)\n",
    "        self.fc = nn.Linear(self.config.hidden_size, 1)\n",
    "        self._init_weights(self.fc)\n",
    "\n",
    "    def _init_weights(self, module):\n",
    "        if isinstance(module, nn.Linear):\n",
    "            module.weight.data.normal_(mean=0.0, std=self.config.initializer_range)\n",
    "            if module.bias is not None:\n",
    "                module.bias.data.zero_()\n",
    "        elif isinstance(module, nn.Embedding):\n",
    "            module.weight.data.normal_(mean=0.0, std=self.config.initializer_range)\n",
    "            if module.padding_idx is not None:\n",
    "                module.weight.data[module.padding_idx].zero_()\n",
    "        elif isinstance(module, nn.LayerNorm):\n",
    "            module.bias.data.zero_()\n",
    "            module.weight.data.fill_(1.0)\n",
    "\n",
    "    def feature(self, inputs):\n",
    "        # Debugging input shapes and types\n",
    "        #print(\"Feature extraction inputs:\")\n",
    "        #for k, v in inputs.items():\n",
    "            #print(f\"{k}: shape={v.shape}, dtype={v.dtype}, device={v.device}\")\n",
    "        \n",
    "        # Process the inputs through the model\n",
    "        outputs = self.model(**inputs)\n",
    "        last_hidden_states = outputs.last_hidden_state\n",
    "        \n",
    "        # Debugging the output of the model\n",
    "        #print(f\"Last hidden states: shape={last_hidden_states.shape}, dtype={last_hidden_states.dtype}\")\n",
    "        return last_hidden_states\n",
    "\n",
    "    def forward(self, inputs):\n",
    "        # Debugging the forward pass\n",
    "        #print(\"Starting forward pass...\")\n",
    "        #print(\"Input keys and shapes:\")\n",
    "        #for k, v in inputs.items():\n",
    "            #print(f\"{k}: shape={v.shape}, dtype={v.dtype}, device={v.device}\")\n",
    "        \n",
    "        with torch.cuda.amp.autocast(enabled=True, dtype=torch.bfloat16):  # Enable AMP\n",
    "            #print(\"Running model under AMP...\")\n",
    "            outputs = self.model(**inputs)\n",
    "        \n",
    "        # Debugging model output\n",
    "        #print(\"Model outputs:\")\n",
    "        #if isinstance(outputs, tuple):\n",
    "           # for idx, output in enumerate(outputs):\n",
    "                #print(f\"Output {idx}: shape={output.shape if hasattr(output, 'shape') else 'N/A'}\")\n",
    "        #else:\n",
    "            #print(f\"Outputs: {outputs}\")\n",
    "            #pass\n",
    "        \n",
    "        # Final linear layer\n",
    "        feature = outputs.last_hidden_state\n",
    "        output = self.fc(self.fc_dropout(feature))\n",
    "        \n",
    "        # Debugging final output\n",
    "        #print(f\"Final output shape: {output.shape}, dtype={output.dtype}\")\n",
    "        return output\n"
   ]
  },
  {
   "cell_type": "markdown",
   "id": "f891bda5",
   "metadata": {
    "papermill": {
     "duration": 0.021431,
     "end_time": "2025-02-11T22:48:28.768782",
     "exception": false,
     "start_time": "2025-02-11T22:48:28.747351",
     "status": "completed"
    },
    "tags": []
   },
   "source": [
    "# Helper functions"
   ]
  },
  {
   "cell_type": "code",
   "execution_count": 22,
   "id": "174afbaa",
   "metadata": {
    "execution": {
     "iopub.execute_input": "2025-02-11T22:48:28.827149Z",
     "iopub.status.busy": "2025-02-11T22:48:28.826780Z",
     "iopub.status.idle": "2025-02-11T22:48:28.837505Z",
     "shell.execute_reply": "2025-02-11T22:48:28.836806Z"
    },
    "papermill": {
     "duration": 0.048654,
     "end_time": "2025-02-11T22:48:28.838542",
     "exception": false,
     "start_time": "2025-02-11T22:48:28.789888",
     "status": "completed"
    },
    "tags": []
   },
   "outputs": [
    {
     "data": {
      "text/plain": [
       "<torch.autograd.anomaly_mode.set_detect_anomaly at 0x7f891ee1a650>"
      ]
     },
     "execution_count": 22,
     "metadata": {},
     "output_type": "execute_result"
    }
   ],
   "source": [
    "# ====================================================\n",
    "# Helper functions\n",
    "# ====================================================\n",
    "class AverageMeter(object):\n",
    "    \"\"\"Computes and stores the average and current value\"\"\"\n",
    "    def __init__(self):\n",
    "        self.reset()\n",
    "\n",
    "    def reset(self):\n",
    "        self.val = 0\n",
    "        self.avg = 0\n",
    "        self.sum = 0\n",
    "        self.count = 0\n",
    "\n",
    "    def update(self, val, n=1):\n",
    "        self.val = val\n",
    "        self.sum += val * n\n",
    "        self.count += n\n",
    "        self.avg = self.sum / self.count\n",
    "\n",
    "\n",
    "def asMinutes(s):\n",
    "    m = math.floor(s / 60)\n",
    "    s -= m * 60\n",
    "    return '%dm %ds' % (m, s)\n",
    "\n",
    "\n",
    "def timeSince(since, percent):\n",
    "    now = time.time()\n",
    "    s = now - since\n",
    "    es = s / (percent)\n",
    "    rs = es - s\n",
    "    return '%s (remain %s)' % (asMinutes(s), asMinutes(rs))\n",
    "\n",
    "torch.autograd.set_detect_anomaly(True)"
   ]
  },
  {
   "cell_type": "code",
   "execution_count": 23,
   "id": "67678f85",
   "metadata": {
    "execution": {
     "iopub.execute_input": "2025-02-11T22:48:28.879828Z",
     "iopub.status.busy": "2025-02-11T22:48:28.879623Z",
     "iopub.status.idle": "2025-02-11T22:48:28.891429Z",
     "shell.execute_reply": "2025-02-11T22:48:28.890461Z"
    },
    "papermill": {
     "duration": 0.032811,
     "end_time": "2025-02-11T22:48:28.892644",
     "exception": false,
     "start_time": "2025-02-11T22:48:28.859833",
     "status": "completed"
    },
    "tags": []
   },
   "outputs": [],
   "source": [
    "def valid_fn(valid_loader, model, criterion, device):\n",
    "    \"\"\"\n",
    "    Validation function with detailed debugging for intermediate outputs.\n",
    "    \"\"\"\n",
    "    losses = AverageMeter()\n",
    "    model.eval()\n",
    "    preds = []\n",
    "    start = time.time()\n",
    "\n",
    "    print(\"Starting validation...\")\n",
    "    for step, (inputs, labels) in enumerate(valid_loader):\n",
    "        # Move inputs and labels to the correct device\n",
    "        for k, v in inputs.items():\n",
    "            inputs[k] = v.to(device)\n",
    "        labels = labels.to(device)\n",
    "        batch_size = labels.size(0)\n",
    "        \n",
    "        with torch.no_grad():\n",
    "            y_preds = model(inputs)  # Model predictions\n",
    "        \n",
    "        # Compute loss\n",
    "        loss = criterion(y_preds.view(-1, 1), labels.view(-1, 1))\n",
    "        loss = torch.masked_select(loss, labels.view(-1, 1) != -1).mean()\n",
    "        if CFG.gradient_accumulation_steps > 1:\n",
    "            loss = loss / CFG.gradient_accumulation_steps\n",
    "        losses.update(loss.item(), batch_size)\n",
    "\n",
    "        # Store predictions\n",
    "        preds.append(y_preds.sigmoid().to('cpu').numpy())\n",
    "\n",
    "        end = time.time()\n",
    "\n",
    "        # Debugging: Log step-wise progress and intermediate outputs\n",
    "        if step % CFG.print_freq == 0 or step == (len(valid_loader)-1):\n",
    "            print('EVAL: [{0}/{1}] '\n",
    "                  'Elapsed {remain:s} '\n",
    "                  'Loss: {loss.val:.4f}({loss.avg:.4f}) '\n",
    "                  .format(step, len(valid_loader),\n",
    "                          loss=losses,\n",
    "                          remain=timeSince(start, float(step+1)/len(valid_loader))))\n",
    "            #print(f\"Sample Predictions: {y_preds.sigmoid()[:5].view(-1).tolist()}\")  # Example predictions\n",
    "            #print(f\"Sample Labels: {labels[:5].view(-1).tolist()}\")  # Example labels\n",
    "\n",
    "    predictions = np.concatenate(preds)\n",
    "\n",
    "    # Debugging: Check shape and content of predictions\n",
    "    #print(f\"Validation Predictions Shape: {predictions.shape}\")\n",
    "    # print(f\"First 5 Predictions: {predictions[:5]}\")\n",
    "\n",
    "    return losses.avg, predictions\n",
    "\n",
    "\n",
    "def train_fn(fold, train_loader, model, criterion, optimizer, epoch, scheduler, device):\n",
    "    \"\"\"\n",
    "    Training function with detailed debugging for loss and gradients.\n",
    "    \"\"\"\n",
    "    print(f\"\\nStarting training epoch {epoch + 1} for fold {fold}\")\n",
    "    model.train()\n",
    "    scaler = torch.cuda.amp.GradScaler(enabled=CFG.apex)\n",
    "\n",
    "    losses = AverageMeter()\n",
    "    start = time.time()\n",
    "    global_step = 0\n",
    "\n",
    "    for step, (inputs, labels) in enumerate(train_loader):\n",
    "        # Move inputs and labels to the correct device\n",
    "        for k, v in inputs.items():\n",
    "            inputs[k] = v.to(device)\n",
    "        labels = labels.to(device)\n",
    "        batch_size = labels.size(0)\n",
    "\n",
    "        # Mixed precision training\n",
    "        with torch.cuda.amp.autocast(enabled=CFG.apex, dtype=torch.bfloat16):\n",
    "            y_preds = model(inputs)\n",
    "            loss = criterion(y_preds.view(-1, 1), labels.view(-1, 1))\n",
    "            loss = torch.masked_select(loss, labels.view(-1, 1) != -1).mean()\n",
    "\n",
    "        # Gradient accumulation\n",
    "        if CFG.gradient_accumulation_steps > 1:\n",
    "            loss = loss / CFG.gradient_accumulation_steps\n",
    "\n",
    "        losses.update(loss.item(), batch_size)\n",
    "\n",
    "        # Backpropagation\n",
    "        scaler.scale(loss).backward()\n",
    "        grad_norm = torch.nn.utils.clip_grad_norm_(model.parameters(), CFG.max_grad_norm)\n",
    "\n",
    "        if (step + 1) % CFG.gradient_accumulation_steps == 0:\n",
    "            scaler.step(optimizer)\n",
    "            scaler.update()\n",
    "            optimizer.zero_grad()\n",
    "            global_step += 1\n",
    "            if CFG.batch_scheduler:\n",
    "                scheduler.step()\n",
    "\n",
    "        end = time.time()\n",
    "        \n",
    "        if step % CFG.print_freq == 0 or step == (len(train_loader)-1):\n",
    "            print(f'Epoch: [{epoch+1}][{step}/{len(train_loader)}] '\n",
    "                  f'Elapsed {timeSince(start, float(step+1)/len(train_loader))} '\n",
    "                  f'Loss: {losses.val:.4f}({losses.avg:.4f}) '\n",
    "                  f'Grad Norm: {grad_norm:.4f}  '\n",
    "                  f'LR: {scheduler.get_lr()[0]}')\n",
    "\n",
    "    print(f\"Epoch {epoch + 1} completed. Average loss: {losses.avg:.4f}\")\n",
    "    return losses.avg\n",
    "\n",
    "\n",
    "def inference_fn(test_loader, model, device):\n",
    "    preds = []\n",
    "    model.eval()\n",
    "    model.to(device)\n",
    "    tk0 = tqdm(test_loader, total=len(test_loader))\n",
    "    for inputs in tk0:\n",
    "        for k, v in inputs.items():\n",
    "            inputs[k] = v.to(device)\n",
    "        with torch.no_grad():\n",
    "            y_preds = model(inputs)\n",
    "        preds.append(y_preds.sigmoid().to('cpu').numpy())\n",
    "    predictions = np.concatenate(preds)\n",
    "    return predictions"
   ]
  },
  {
   "cell_type": "code",
   "execution_count": 24,
   "id": "8546ad3b",
   "metadata": {
    "execution": {
     "iopub.execute_input": "2025-02-11T22:48:28.935433Z",
     "iopub.status.busy": "2025-02-11T22:48:28.935222Z",
     "iopub.status.idle": "2025-02-11T22:48:28.947317Z",
     "shell.execute_reply": "2025-02-11T22:48:28.946606Z"
    },
    "papermill": {
     "duration": 0.033161,
     "end_time": "2025-02-11T22:48:28.948428",
     "exception": false,
     "start_time": "2025-02-11T22:48:28.915267",
     "status": "completed"
    },
    "tags": []
   },
   "outputs": [],
   "source": [
    "# ====================================================\n",
    "# train loop\n",
    "# ====================================================\n",
    "def train_loop(folds, fold):\n",
    "    \n",
    "    LOGGER.info(f\"========== fold: {fold} training ==========\")\n",
    "\n",
    "    # ====================================================\n",
    "    # loader\n",
    "    # ====================================================\n",
    "    train_folds = folds[folds['fold'] != fold].reset_index(drop=True)\n",
    "    valid_folds = folds[folds['fold'] == fold].reset_index(drop=True)\n",
    "    valid_texts = valid_folds['pn_history'].values\n",
    "    valid_labels = create_labels_for_scoring(valid_folds)\n",
    "    \n",
    "    train_dataset = TrainDataset(CFG, train_folds)\n",
    "    valid_dataset = TrainDataset(CFG, valid_folds)\n",
    "\n",
    "    train_loader = DataLoader(train_dataset,\n",
    "                              batch_size=CFG.batch_size,\n",
    "                              shuffle=True,\n",
    "                              num_workers=CFG.num_workers, pin_memory=True, drop_last=True)\n",
    "    valid_loader = DataLoader(valid_dataset,\n",
    "                              batch_size=CFG.batch_size,\n",
    "                              shuffle=False,\n",
    "                              num_workers=CFG.num_workers, pin_memory=True, drop_last=False)\n",
    "\n",
    "    # ====================================================\n",
    "    # model & optimizer\n",
    "    # ====================================================\n",
    "    model = CustomModel(CFG, config_path=None, pretrained=True)\n",
    "\n",
    "    # checkpoint_path = f\"/workspace/deberta-v3-large-5-folds-public/deberta-v3-large_fold{fold}_best.pth\"\n",
    "    # if os.path.exists(checkpoint_path):\n",
    "    #     LOGGER.info(f\"Loading checkpoint from {checkpoint_path}\")\n",
    "    #     checkpoint = torch.load(checkpoint_path, map_location=\"cuda\", weights_only=False) # need to use weight_only = True for latest pytorch version\n",
    "    #     model.load_state_dict(checkpoint['model'], strict=False)  # Load model weights\n",
    "    #     model.to(device)\n",
    "    model.train()  # Set model to training mode\n",
    "\n",
    "    # else:\n",
    "    #     LOGGER.info(\"No checkpoint found, starting fresh.\")\n",
    "        \n",
    "    torch.save(model.config, OUTPUT_DIR+'config.pth')\n",
    "    model.to(device)\n",
    "    \n",
    "    def get_optimizer_params(model, encoder_lr, decoder_lr, weight_decay=0.0):\n",
    "        param_optimizer = list(model.named_parameters())\n",
    "        no_decay = [\"bias\", \"LayerNorm.bias\", \"LayerNorm.weight\"]\n",
    "        optimizer_parameters = [\n",
    "            {'params': [p for n, p in model.model.named_parameters() if not any(nd in n for nd in no_decay)],\n",
    "             'lr': encoder_lr, 'weight_decay': weight_decay},\n",
    "            {'params': [p for n, p in model.model.named_parameters() if any(nd in n for nd in no_decay)],\n",
    "             'lr': encoder_lr, 'weight_decay': 0.0},\n",
    "            {'params': [p for n, p in model.named_parameters() if \"model\" not in n],\n",
    "             'lr': decoder_lr, 'weight_decay': 0.0}\n",
    "        ]\n",
    "        return optimizer_parameters\n",
    "\n",
    "    optimizer_parameters = get_optimizer_params(model,\n",
    "                                                encoder_lr=CFG.encoder_lr, \n",
    "                                                decoder_lr=CFG.decoder_lr,\n",
    "                                                weight_decay=CFG.weight_decay)\n",
    "    optimizer = AdamW(optimizer_parameters, lr=CFG.encoder_lr, eps=CFG.eps, betas=CFG.betas)\n",
    "    \n",
    "    # ====================================================\n",
    "    # scheduler\n",
    "    # ====================================================\n",
    "    def get_scheduler(cfg, optimizer, num_train_steps):\n",
    "        if cfg.scheduler=='linear':\n",
    "            scheduler = get_linear_schedule_with_warmup(\n",
    "                optimizer, num_warmup_steps=cfg.num_warmup_steps, num_training_steps=num_train_steps\n",
    "            )\n",
    "        elif cfg.scheduler=='cosine':\n",
    "            scheduler = get_cosine_schedule_with_warmup(\n",
    "                optimizer, num_warmup_steps=cfg.num_warmup_steps, num_training_steps=num_train_steps, num_cycles=cfg.num_cycles\n",
    "            )\n",
    "        return scheduler\n",
    "    \n",
    "    num_train_steps = int(len(train_folds) / CFG.batch_size * CFG.epochs)\n",
    "    scheduler = get_scheduler(CFG, optimizer, num_train_steps)\n",
    "\n",
    "    # ====================================================\n",
    "    # loop\n",
    "    # ====================================================\n",
    "    criterion = nn.BCEWithLogitsLoss(reduction=\"none\")\n",
    "    \n",
    "    best_score = 0.\n",
    "\n",
    "    for epoch in range(CFG.epochs):\n",
    "\n",
    "        start_time = time.time()\n",
    "\n",
    "        # train\n",
    "        print(\"Starting training\")\n",
    "        avg_loss = train_fn(fold, train_loader, model, criterion, optimizer, epoch, scheduler, device)\n",
    "\n",
    "        # eval\n",
    "        print(\"Starting evaluation\")\n",
    "        avg_val_loss, predictions = valid_fn(valid_loader, model, criterion, device)\n",
    "        predictions = predictions.reshape((len(valid_folds), CFG.max_len))\n",
    "        \n",
    "        # scoring\n",
    "        char_probs = get_char_probs(valid_texts, predictions, CFG.tokenizer)\n",
    "        results = get_results(char_probs, th=0.5)\n",
    "        preds = get_predictions(results)\n",
    "        score = get_score(valid_labels, preds)\n",
    "\n",
    "        elapsed = time.time() - start_time\n",
    "\n",
    "        LOGGER.info(f'Epoch {epoch+1} - avg_train_loss: {avg_loss:.4f}  avg_val_loss: {avg_val_loss:.4f}  time: {elapsed:.0f}s')\n",
    "        LOGGER.info(f'Epoch {epoch+1} - Score: {score:.4f}')\n",
    "        if CFG.wandb:\n",
    "            wandb.log({f\"[fold{fold}] epoch\": epoch+1, \n",
    "                       f\"[fold{fold}] avg_train_loss\": avg_loss, \n",
    "                       f\"[fold{fold}] avg_val_loss\": avg_val_loss,\n",
    "                       f\"[fold{fold}] score\": score})\n",
    "        \n",
    "        if best_score <= score:\n",
    "            best_score = score\n",
    "            LOGGER.info(f'Epoch {epoch+1} - Save Best Score: {best_score:.4f} Model')\n",
    "            torch.save({'model': model.state_dict(),\n",
    "                        'predictions': predictions},\n",
    "                        OUTPUT_DIR+f\"{CFG.model.replace('/', '-')}_fold{fold}_best.pth\")\n",
    "            \n",
    "\n",
    "    #predictions = torch.load(OUTPUT_DIR+f\"{CFG.model.replace('/', '-')}_fold{fold}_best.pth\", \n",
    "                             #map_location=torch.device('cpu'))['predictions']\n",
    "    predictions = torch.load(OUTPUT_DIR + f\"{CFG.model.replace('/', '-')}_fold{fold}_best.pth\", \n",
    "                             map_location=torch.device('cpu'),weights_only=False)['predictions']\n",
    "\n",
    "    \n",
    "    valid_folds[[i for i in range(CFG.max_len)]] = predictions\n",
    "\n",
    "    torch.cuda.empty_cache()\n",
    "    gc.collect()\n",
    "    \n",
    "    return valid_folds"
   ]
  },
  {
   "cell_type": "code",
   "execution_count": 25,
   "id": "7be1f739",
   "metadata": {
    "execution": {
     "iopub.execute_input": "2025-02-11T22:48:28.996397Z",
     "iopub.status.busy": "2025-02-11T22:48:28.996179Z",
     "iopub.status.idle": "2025-02-11T22:48:29.137855Z",
     "shell.execute_reply": "2025-02-11T22:48:29.137039Z"
    },
    "papermill": {
     "duration": 0.166858,
     "end_time": "2025-02-11T22:48:29.139523",
     "exception": false,
     "start_time": "2025-02-11T22:48:28.972665",
     "status": "completed"
    },
    "tags": []
   },
   "outputs": [],
   "source": [
    "class CFG:\n",
    "    wandb=True\n",
    "    competition='NBME'\n",
    "    _wandb_kernel='zehra'\n",
    "    debug=False\n",
    "    apex=True\n",
    "    print_freq=100\n",
    "    num_workers=4\n",
    "    #model=\"microsoft/deberta-v3-large\" #\"answerdotai/ModernBERT-base\"\n",
    "    # model=\"/kaggle/input/deberta-v3-large/pytorch/0501/1\" If running on Kaggle\n",
    "    model = \"answerdotai/ModernBERT-base\" # running on runpod instance\n",
    "    scheduler='cosine' # ['linear', 'cosine']\n",
    "    batch_scheduler=True\n",
    "    num_cycles=0.05\n",
    "    num_warmup_steps=0\n",
    "    epochs=4\n",
    "    encoder_lr = 1e-5 #encoder_lr=2e-5\n",
    "    decoder_lr=2e-5\n",
    "    min_lr=1e-6\n",
    "    eps=1e-6\n",
    "    betas=(0.9, 0.999)\n",
    "    batch_size = 10 #batch_size=16\n",
    "    fc_dropout=0.2\n",
    "    max_len=443\n",
    "    weight_decay=0.1 #0.01\n",
    "    gradient_accumulation_steps=1 #1\n",
    "    max_grad_norm=1000\n",
    "    seed=42\n",
    "    n_fold=5\n",
    "    trn_fold=[0, 1, 2, 3, 4]\n",
    "    train=True\n",
    "\n",
    "tokenizer = AutoTokenizer.from_pretrained(CFG.model)\n",
    "tokenizer.save_pretrained(OUTPUT_DIR+'tokenizer/')\n",
    "CFG.tokenizer = tokenizer\n",
    "\n",
    "if CFG.debug:\n",
    "    CFG.epochs = 4\n",
    "    CFG.trn_fold = [0]"
   ]
  },
  {
   "cell_type": "code",
   "execution_count": 26,
   "id": "d7ff8f5f",
   "metadata": {
    "execution": {
     "iopub.execute_input": "2025-02-11T22:48:29.178523Z",
     "iopub.status.busy": "2025-02-11T22:48:29.178277Z",
     "iopub.status.idle": "2025-02-11T22:48:29.183119Z",
     "shell.execute_reply": "2025-02-11T22:48:29.182054Z"
    },
    "papermill": {
     "duration": 0.025125,
     "end_time": "2025-02-11T22:48:29.184702",
     "exception": false,
     "start_time": "2025-02-11T22:48:29.159577",
     "status": "completed"
    },
    "tags": []
   },
   "outputs": [],
   "source": [
    "torch.cuda.empty_cache()"
   ]
  },
  {
   "cell_type": "code",
   "execution_count": 27,
   "id": "d185ef50",
   "metadata": {
    "execution": {
     "iopub.execute_input": "2025-02-11T22:48:29.233336Z",
     "iopub.status.busy": "2025-02-11T22:48:29.233013Z",
     "iopub.status.idle": "2025-02-11T22:48:29.240098Z",
     "shell.execute_reply": "2025-02-11T22:48:29.238841Z"
    },
    "papermill": {
     "duration": 0.031741,
     "end_time": "2025-02-11T22:48:29.241839",
     "exception": false,
     "start_time": "2025-02-11T22:48:29.210098",
     "status": "completed"
    },
    "tags": []
   },
   "outputs": [],
   "source": [
    "def run_fold_training(oof_df, fold):\n",
    "    \"\"\"\n",
    "    Helper function to run training for a specific fold.\n",
    "    Concatenates the out-of-fold predictions to oof_df.\n",
    "    \"\"\"\n",
    "    _oof_df = train_loop(train, fold)\n",
    "    oof_df = pd.concat([oof_df, _oof_df])\n",
    "    LOGGER.info(f\"========== fold: {fold} result ==========\")\n",
    "    evaluate_results(_oof_df)  # Evaluate results after each fold\n",
    "    return oof_df\n",
    "\n",
    "def evaluate_results(oof_df):\n",
    "    \"\"\"\n",
    "    Function to handle the result evaluation, including scoring and logging.\n",
    "    \"\"\"\n",
    "    labels = create_labels_for_scoring(oof_df)\n",
    "    predictions = oof_df[[i for i in range(CFG.max_len)]].values\n",
    "    char_probs = get_char_probs(oof_df['pn_history'].values, predictions, CFG.tokenizer)\n",
    "    results = get_results(char_probs, th=0.5)\n",
    "    preds = get_predictions(results)\n",
    "    score = get_score(labels, preds)\n",
    "    LOGGER.info(f'Score: {score:<.4f}')"
   ]
  },
  {
   "cell_type": "code",
   "execution_count": 28,
   "id": "613edfa7",
   "metadata": {
    "execution": {
     "iopub.execute_input": "2025-02-11T22:48:29.283127Z",
     "iopub.status.busy": "2025-02-11T22:48:29.282916Z",
     "iopub.status.idle": "2025-02-12T05:37:18.051982Z",
     "shell.execute_reply": "2025-02-12T05:37:18.051050Z"
    },
    "papermill": {
     "duration": 24528.789639,
     "end_time": "2025-02-12T05:37:18.053620",
     "exception": false,
     "start_time": "2025-02-11T22:48:29.263981",
     "status": "completed"
    },
    "tags": []
   },
   "outputs": [
    {
     "name": "stderr",
     "output_type": "stream",
     "text": [
      "========== fold: 0 training ==========\n"
     ]
    },
    {
     "name": "stdout",
     "output_type": "stream",
     "text": [
      "Starting training\n",
      "\n",
      "Starting training epoch 1 for fold 0\n"
     ]
    },
    {
     "name": "stdout",
     "output_type": "stream",
     "text": [
      "Epoch: [1][0/8042] Elapsed 0m 5s (remain 674m 17s) Loss: 0.2891(0.2891) Grad Norm: 371675.4688  LR: 9.999999999761583e-06\n"
     ]
    },
    {
     "name": "stdout",
     "output_type": "stream",
     "text": [
      "Epoch: [1][100/8042] Elapsed 1m 8s (remain 90m 14s) Loss: 0.0518(0.1065) Grad Norm: 13329.0332  LR: 9.999997567906066e-06\n"
     ]
    },
    {
     "name": "stdout",
     "output_type": "stream",
     "text": [
      "Epoch: [1][200/8042] Elapsed 2m 11s (remain 85m 12s) Loss: 0.0807(0.0913) Grad Norm: 90074.0781  LR: 9.99999036770871e-06\n"
     ]
    },
    {
     "name": "stdout",
     "output_type": "stream",
     "text": [
      "Epoch: [1][300/8042] Elapsed 3m 14s (remain 83m 13s) Loss: 0.0612(0.0825) Grad Norm: 36674.0078  LR: 9.99997839917638e-06\n"
     ]
    },
    {
     "name": "stdout",
     "output_type": "stream",
     "text": [
      "Epoch: [1][400/8042] Elapsed 4m 18s (remain 82m 8s) Loss: 0.0324(0.0756) Grad Norm: 14883.4004  LR: 9.999961662320492e-06\n"
     ]
    },
    {
     "name": "stdout",
     "output_type": "stream",
     "text": [
      "Epoch: [1][500/8042] Elapsed 5m 22s (remain 80m 49s) Loss: 0.0544(0.0705) Grad Norm: 199112.4531  LR: 9.999940157157006e-06\n"
     ]
    },
    {
     "name": "stdout",
     "output_type": "stream",
     "text": [
      "Epoch: [1][600/8042] Elapsed 6m 24s (remain 79m 19s) Loss: 0.0332(0.0661) Grad Norm: 37233.4180  LR: 9.99991388370643e-06\n"
     ]
    },
    {
     "name": "stdout",
     "output_type": "stream",
     "text": [
      "Epoch: [1][700/8042] Elapsed 7m 28s (remain 78m 15s) Loss: 0.0711(0.0628) Grad Norm: 66610.6953  LR: 9.999882841993823e-06\n"
     ]
    },
    {
     "name": "stdout",
     "output_type": "stream",
     "text": [
      "Epoch: [1][800/8042] Elapsed 8m 31s (remain 77m 8s) Loss: 0.0520(0.0597) Grad Norm: 64699.3203  LR: 9.999847032048786e-06\n"
     ]
    },
    {
     "name": "stdout",
     "output_type": "stream",
     "text": [
      "Epoch: [1][900/8042] Elapsed 9m 35s (remain 75m 58s) Loss: 0.0415(0.0569) Grad Norm: 66695.7969  LR: 9.999806453905471e-06\n"
     ]
    },
    {
     "name": "stdout",
     "output_type": "stream",
     "text": [
      "Epoch: [1][1000/8042] Elapsed 10m 40s (remain 75m 7s) Loss: 0.0311(0.0545) Grad Norm: 61588.7891  LR: 9.999761107602578e-06\n"
     ]
    },
    {
     "name": "stdout",
     "output_type": "stream",
     "text": [
      "Epoch: [1][1100/8042] Elapsed 11m 44s (remain 74m 1s) Loss: 0.0265(0.0524) Grad Norm: 43677.4023  LR: 9.999710993183348e-06\n"
     ]
    },
    {
     "name": "stdout",
     "output_type": "stream",
     "text": [
      "Epoch: [1][1200/8042] Elapsed 12m 49s (remain 73m 5s) Loss: 0.0185(0.0505) Grad Norm: 41191.3750  LR: 9.999656110695576e-06\n"
     ]
    },
    {
     "name": "stdout",
     "output_type": "stream",
     "text": [
      "Epoch: [1][1300/8042] Elapsed 13m 55s (remain 72m 6s) Loss: 0.0127(0.0485) Grad Norm: 33883.4297  LR: 9.999596460191603e-06\n"
     ]
    },
    {
     "name": "stdout",
     "output_type": "stream",
     "text": [
      "Epoch: [1][1400/8042] Elapsed 14m 59s (remain 71m 5s) Loss: 0.0177(0.0470) Grad Norm: 28564.7031  LR: 9.999532041728313e-06\n"
     ]
    },
    {
     "name": "stdout",
     "output_type": "stream",
     "text": [
      "Epoch: [1][1500/8042] Elapsed 16m 2s (remain 69m 55s) Loss: 0.0387(0.0456) Grad Norm: 73322.2812  LR: 9.999462855367142e-06\n"
     ]
    },
    {
     "name": "stdout",
     "output_type": "stream",
     "text": [
      "Epoch: [1][1600/8042] Elapsed 17m 7s (remain 68m 54s) Loss: 0.0235(0.0442) Grad Norm: 34897.4883  LR: 9.99938890117407e-06\n"
     ]
    },
    {
     "name": "stdout",
     "output_type": "stream",
     "text": [
      "Epoch: [1][1700/8042] Elapsed 18m 12s (remain 67m 54s) Loss: 0.0381(0.0427) Grad Norm: 101567.0234  LR: 9.999310179219625e-06\n"
     ]
    },
    {
     "name": "stdout",
     "output_type": "stream",
     "text": [
      "Epoch: [1][1800/8042] Elapsed 19m 17s (remain 66m 51s) Loss: 0.0277(0.0415) Grad Norm: 44191.3594  LR: 9.999226689578882e-06\n"
     ]
    },
    {
     "name": "stdout",
     "output_type": "stream",
     "text": [
      "Epoch: [1][1900/8042] Elapsed 20m 22s (remain 65m 50s) Loss: 0.0213(0.0405) Grad Norm: 46243.7617  LR: 9.99913843233146e-06\n"
     ]
    },
    {
     "name": "stdout",
     "output_type": "stream",
     "text": [
      "Epoch: [1][2000/8042] Elapsed 21m 26s (remain 64m 44s) Loss: 0.0135(0.0395) Grad Norm: 74400.0234  LR: 9.999045407561532e-06\n"
     ]
    },
    {
     "name": "stdout",
     "output_type": "stream",
     "text": [
      "Epoch: [1][2100/8042] Elapsed 22m 29s (remain 63m 35s) Loss: 0.0181(0.0385) Grad Norm: 38946.6328  LR: 9.998947615357808e-06\n"
     ]
    },
    {
     "name": "stdout",
     "output_type": "stream",
     "text": [
      "Epoch: [1][2200/8042] Elapsed 23m 34s (remain 62m 34s) Loss: 0.0081(0.0377) Grad Norm: 48026.1211  LR: 9.998845055813553e-06\n"
     ]
    },
    {
     "name": "stdout",
     "output_type": "stream",
     "text": [
      "Epoch: [1][2300/8042] Elapsed 24m 37s (remain 61m 26s) Loss: 0.0094(0.0368) Grad Norm: 51269.4805  LR: 9.998737729026573e-06\n"
     ]
    },
    {
     "name": "stdout",
     "output_type": "stream",
     "text": [
      "Epoch: [1][2400/8042] Elapsed 25m 40s (remain 60m 19s) Loss: 0.0213(0.0359) Grad Norm: 97236.9141  LR: 9.998625635099223e-06\n"
     ]
    },
    {
     "name": "stdout",
     "output_type": "stream",
     "text": [
      "Epoch: [1][2500/8042] Elapsed 26m 44s (remain 59m 14s) Loss: 0.0031(0.0352) Grad Norm: 39192.1953  LR: 9.998508774138403e-06\n"
     ]
    },
    {
     "name": "stdout",
     "output_type": "stream",
     "text": [
      "Epoch: [1][2600/8042] Elapsed 27m 50s (remain 58m 13s) Loss: 0.0186(0.0345) Grad Norm: 79498.4922  LR: 9.998387146255558e-06\n"
     ]
    },
    {
     "name": "stdout",
     "output_type": "stream",
     "text": [
      "Epoch: [1][2700/8042] Elapsed 28m 54s (remain 57m 9s) Loss: 0.0235(0.0339) Grad Norm: 118486.5234  LR: 9.998260751566684e-06\n"
     ]
    },
    {
     "name": "stdout",
     "output_type": "stream",
     "text": [
      "Epoch: [1][2800/8042] Elapsed 29m 57s (remain 56m 4s) Loss: 0.0166(0.0333) Grad Norm: 75739.7266  LR: 9.998129590192316e-06\n"
     ]
    },
    {
     "name": "stdout",
     "output_type": "stream",
     "text": [
      "Epoch: [1][2900/8042] Elapsed 31m 2s (remain 55m 1s) Loss: 0.0102(0.0327) Grad Norm: 41682.1328  LR: 9.997993662257542e-06\n"
     ]
    },
    {
     "name": "stdout",
     "output_type": "stream",
     "text": [
      "Epoch: [1][3000/8042] Elapsed 32m 6s (remain 53m 55s) Loss: 0.0141(0.0321) Grad Norm: 61662.4570  LR: 9.997852967891992e-06\n"
     ]
    },
    {
     "name": "stdout",
     "output_type": "stream",
     "text": [
      "Epoch: [1][3100/8042] Elapsed 33m 12s (remain 52m 55s) Loss: 0.0082(0.0317) Grad Norm: 73989.1172  LR: 9.99770750722984e-06\n"
     ]
    },
    {
     "name": "stdout",
     "output_type": "stream",
     "text": [
      "Epoch: [1][3200/8042] Elapsed 34m 16s (remain 51m 50s) Loss: 0.0103(0.0311) Grad Norm: 29647.0117  LR: 9.997557280409806e-06\n"
     ]
    },
    {
     "name": "stdout",
     "output_type": "stream",
     "text": [
      "Epoch: [1][3300/8042] Elapsed 35m 19s (remain 50m 44s) Loss: 0.0036(0.0307) Grad Norm: 59532.3242  LR: 9.99740228757516e-06\n"
     ]
    },
    {
     "name": "stdout",
     "output_type": "stream",
     "text": [
      "Epoch: [1][3400/8042] Elapsed 36m 22s (remain 49m 38s) Loss: 0.0096(0.0303) Grad Norm: 37914.2695  LR: 9.997242528873713e-06\n"
     ]
    },
    {
     "name": "stdout",
     "output_type": "stream",
     "text": [
      "Epoch: [1][3500/8042] Elapsed 37m 26s (remain 48m 33s) Loss: 0.0051(0.0299) Grad Norm: 30620.1016  LR: 9.99707800445782e-06\n"
     ]
    },
    {
     "name": "stdout",
     "output_type": "stream",
     "text": [
      "Epoch: [1][3600/8042] Elapsed 38m 30s (remain 47m 29s) Loss: 0.0286(0.0295) Grad Norm: 149949.7188  LR: 9.996908714484386e-06\n"
     ]
    },
    {
     "name": "stdout",
     "output_type": "stream",
     "text": [
      "Epoch: [1][3700/8042] Elapsed 39m 34s (remain 46m 25s) Loss: 0.0117(0.0291) Grad Norm: 62678.2500  LR: 9.996734659114854e-06\n"
     ]
    },
    {
     "name": "stdout",
     "output_type": "stream",
     "text": [
      "Epoch: [1][3800/8042] Elapsed 40m 40s (remain 45m 22s) Loss: 0.0086(0.0287) Grad Norm: 70010.8125  LR: 9.996555838515217e-06\n"
     ]
    },
    {
     "name": "stdout",
     "output_type": "stream",
     "text": [
      "Epoch: [1][3900/8042] Elapsed 41m 44s (remain 44m 18s) Loss: 0.0190(0.0283) Grad Norm: 153237.3594  LR: 9.996372252856011e-06\n"
     ]
    },
    {
     "name": "stdout",
     "output_type": "stream",
     "text": [
      "Epoch: [1][4000/8042] Elapsed 42m 46s (remain 43m 12s) Loss: 0.0067(0.0279) Grad Norm: 44335.5977  LR: 9.996183902312316e-06\n"
     ]
    },
    {
     "name": "stdout",
     "output_type": "stream",
     "text": [
      "Epoch: [1][4100/8042] Elapsed 43m 50s (remain 42m 7s) Loss: 0.0100(0.0276) Grad Norm: 189559.7031  LR: 9.995990787063755e-06\n"
     ]
    },
    {
     "name": "stdout",
     "output_type": "stream",
     "text": [
      "Epoch: [1][4200/8042] Elapsed 44m 51s (remain 41m 0s) Loss: 0.0011(0.0272) Grad Norm: 14467.4336  LR: 9.995792907294496e-06\n"
     ]
    },
    {
     "name": "stdout",
     "output_type": "stream",
     "text": [
      "Epoch: [1][4300/8042] Elapsed 45m 56s (remain 39m 57s) Loss: 0.0325(0.0269) Grad Norm: 324096.9688  LR: 9.995590263193251e-06\n"
     ]
    },
    {
     "name": "stdout",
     "output_type": "stream",
     "text": [
      "Epoch: [1][4400/8042] Elapsed 47m 1s (remain 38m 54s) Loss: 0.0444(0.0266) Grad Norm: 398594.1250  LR: 9.995382854953278e-06\n"
     ]
    },
    {
     "name": "stdout",
     "output_type": "stream",
     "text": [
      "Epoch: [1][4500/8042] Elapsed 48m 5s (remain 37m 50s) Loss: 0.0015(0.0263) Grad Norm: 26727.2422  LR: 9.995170682772371e-06\n"
     ]
    },
    {
     "name": "stdout",
     "output_type": "stream",
     "text": [
      "Epoch: [1][4600/8042] Elapsed 49m 8s (remain 36m 44s) Loss: 0.0061(0.0260) Grad Norm: 73584.7656  LR: 9.994953746852873e-06\n"
     ]
    },
    {
     "name": "stdout",
     "output_type": "stream",
     "text": [
      "Epoch: [1][4700/8042] Elapsed 50m 11s (remain 35m 40s) Loss: 0.0064(0.0257) Grad Norm: 91820.4219  LR: 9.994732047401673e-06\n"
     ]
    },
    {
     "name": "stdout",
     "output_type": "stream",
     "text": [
      "Epoch: [1][4800/8042] Elapsed 51m 13s (remain 34m 34s) Loss: 0.0104(0.0254) Grad Norm: 103457.8438  LR: 9.994505584630195e-06\n"
     ]
    },
    {
     "name": "stdout",
     "output_type": "stream",
     "text": [
      "Epoch: [1][4900/8042] Elapsed 52m 15s (remain 33m 29s) Loss: 0.0126(0.0251) Grad Norm: 110200.2422  LR: 9.994274358754412e-06\n"
     ]
    },
    {
     "name": "stdout",
     "output_type": "stream",
     "text": [
      "Epoch: [1][5000/8042] Elapsed 53m 17s (remain 32m 24s) Loss: 0.0233(0.0249) Grad Norm: 242729.6406  LR: 9.994038369994834e-06\n"
     ]
    },
    {
     "name": "stdout",
     "output_type": "stream",
     "text": [
      "Epoch: [1][5100/8042] Elapsed 54m 21s (remain 31m 20s) Loss: 0.0158(0.0246) Grad Norm: 152178.3906  LR: 9.993797618576519e-06\n"
     ]
    },
    {
     "name": "stdout",
     "output_type": "stream",
     "text": [
      "Epoch: [1][5200/8042] Elapsed 55m 27s (remain 30m 17s) Loss: 0.0040(0.0243) Grad Norm: 23978.1211  LR: 9.993552104729064e-06\n"
     ]
    },
    {
     "name": "stdout",
     "output_type": "stream",
     "text": [
      "Epoch: [1][5300/8042] Elapsed 56m 30s (remain 29m 13s) Loss: 0.0095(0.0241) Grad Norm: 116346.2188  LR: 9.993301828686604e-06\n"
     ]
    },
    {
     "name": "stdout",
     "output_type": "stream",
     "text": [
      "Epoch: [1][5400/8042] Elapsed 57m 33s (remain 28m 8s) Loss: 0.0143(0.0239) Grad Norm: 340224.2500  LR: 9.993046790687824e-06\n"
     ]
    },
    {
     "name": "stdout",
     "output_type": "stream",
     "text": [
      "Epoch: [1][5500/8042] Elapsed 58m 35s (remain 27m 3s) Loss: 0.0086(0.0237) Grad Norm: 159671.7031  LR: 9.992786990975943e-06\n"
     ]
    },
    {
     "name": "stdout",
     "output_type": "stream",
     "text": [
      "Epoch: [1][5600/8042] Elapsed 59m 41s (remain 26m 0s) Loss: 0.0190(0.0234) Grad Norm: 117176.6328  LR: 9.992522429798725e-06\n"
     ]
    },
    {
     "name": "stdout",
     "output_type": "stream",
     "text": [
      "Epoch: [1][5700/8042] Elapsed 60m 46s (remain 24m 57s) Loss: 0.0044(0.0232) Grad Norm: 80946.3359  LR: 9.992253107408474e-06\n"
     ]
    },
    {
     "name": "stdout",
     "output_type": "stream",
     "text": [
      "Epoch: [1][5800/8042] Elapsed 61m 51s (remain 23m 53s) Loss: 0.0052(0.0230) Grad Norm: 84931.4844  LR: 9.991979024062035e-06\n"
     ]
    },
    {
     "name": "stdout",
     "output_type": "stream",
     "text": [
      "Epoch: [1][5900/8042] Elapsed 62m 58s (remain 22m 50s) Loss: 0.0150(0.0228) Grad Norm: 377779.5938  LR: 9.991700180020791e-06\n"
     ]
    },
    {
     "name": "stdout",
     "output_type": "stream",
     "text": [
      "Epoch: [1][6000/8042] Elapsed 64m 1s (remain 21m 46s) Loss: 0.0121(0.0226) Grad Norm: 300436.9688  LR: 9.991416575550667e-06\n"
     ]
    },
    {
     "name": "stdout",
     "output_type": "stream",
     "text": [
      "Epoch: [1][6100/8042] Elapsed 65m 5s (remain 20m 42s) Loss: 0.0014(0.0224) Grad Norm: 54548.5938  LR: 9.99112821092213e-06\n"
     ]
    },
    {
     "name": "stdout",
     "output_type": "stream",
     "text": [
      "Epoch: [1][6200/8042] Elapsed 66m 9s (remain 19m 38s) Loss: 0.0229(0.0222) Grad Norm: 488269.4062  LR: 9.990835086410181e-06\n"
     ]
    },
    {
     "name": "stdout",
     "output_type": "stream",
     "text": [
      "Epoch: [1][6300/8042] Elapsed 67m 14s (remain 18m 34s) Loss: 0.0204(0.0221) Grad Norm: 328504.6562  LR: 9.990537202294368e-06\n"
     ]
    },
    {
     "name": "stdout",
     "output_type": "stream",
     "text": [
      "Epoch: [1][6400/8042] Elapsed 68m 18s (remain 17m 30s) Loss: 0.0067(0.0219) Grad Norm: 227420.1250  LR: 9.990234558858768e-06\n"
     ]
    },
    {
     "name": "stdout",
     "output_type": "stream",
     "text": [
      "Epoch: [1][6500/8042] Elapsed 69m 21s (remain 16m 26s) Loss: 0.0068(0.0218) Grad Norm: 234089.6875  LR: 9.989927156392009e-06\n"
     ]
    },
    {
     "name": "stdout",
     "output_type": "stream",
     "text": [
      "Epoch: [1][6600/8042] Elapsed 70m 25s (remain 15m 22s) Loss: 0.0026(0.0216) Grad Norm: 107627.3906  LR: 9.989614995187246e-06\n"
     ]
    },
    {
     "name": "stdout",
     "output_type": "stream",
     "text": [
      "Epoch: [1][6700/8042] Elapsed 71m 29s (remain 14m 18s) Loss: 0.0093(0.0214) Grad Norm: 432216.6250  LR: 9.989298075542182e-06\n"
     ]
    },
    {
     "name": "stdout",
     "output_type": "stream",
     "text": [
      "Epoch: [1][6800/8042] Elapsed 72m 34s (remain 13m 14s) Loss: 0.0034(0.0213) Grad Norm: 123648.0547  LR: 9.988976397759048e-06\n"
     ]
    },
    {
     "name": "stdout",
     "output_type": "stream",
     "text": [
      "Epoch: [1][6900/8042] Elapsed 73m 38s (remain 12m 10s) Loss: 0.0071(0.0211) Grad Norm: 271149.7500  LR: 9.988649962144622e-06\n"
     ]
    },
    {
     "name": "stdout",
     "output_type": "stream",
     "text": [
      "Epoch: [1][7000/8042] Elapsed 74m 42s (remain 11m 6s) Loss: 0.0072(0.0210) Grad Norm: 180840.6562  LR: 9.988318769010215e-06\n"
     ]
    },
    {
     "name": "stdout",
     "output_type": "stream",
     "text": [
      "Epoch: [1][7100/8042] Elapsed 75m 46s (remain 10m 2s) Loss: 0.0058(0.0208) Grad Norm: 106775.0781  LR: 9.987982818671673e-06\n"
     ]
    },
    {
     "name": "stdout",
     "output_type": "stream",
     "text": [
      "Epoch: [1][7200/8042] Elapsed 76m 49s (remain 8m 58s) Loss: 0.0219(0.0207) Grad Norm: 590665.1250  LR: 9.987642111449386e-06\n"
     ]
    },
    {
     "name": "stdout",
     "output_type": "stream",
     "text": [
      "Epoch: [1][7300/8042] Elapsed 77m 55s (remain 7m 54s) Loss: 0.0177(0.0205) Grad Norm: 194030.4531  LR: 9.98729664766827e-06\n"
     ]
    },
    {
     "name": "stdout",
     "output_type": "stream",
     "text": [
      "Epoch: [1][7400/8042] Elapsed 79m 1s (remain 6m 50s) Loss: 0.0087(0.0204) Grad Norm: 189757.9375  LR: 9.986946427657789e-06\n"
     ]
    },
    {
     "name": "stdout",
     "output_type": "stream",
     "text": [
      "Epoch: [1][7500/8042] Elapsed 80m 5s (remain 5m 46s) Loss: 0.0110(0.0202) Grad Norm: 203836.9375  LR: 9.986591451751933e-06\n"
     ]
    },
    {
     "name": "stdout",
     "output_type": "stream",
     "text": [
      "Epoch: [1][7600/8042] Elapsed 81m 11s (remain 4m 42s) Loss: 0.0096(0.0201) Grad Norm: 253041.4375  LR: 9.986231720289233e-06\n"
     ]
    },
    {
     "name": "stdout",
     "output_type": "stream",
     "text": [
      "Epoch: [1][7700/8042] Elapsed 82m 15s (remain 3m 38s) Loss: 0.0140(0.0200) Grad Norm: 268108.8750  LR: 9.98586723361275e-06\n"
     ]
    },
    {
     "name": "stdout",
     "output_type": "stream",
     "text": [
      "Epoch: [1][7800/8042] Elapsed 83m 19s (remain 2m 34s) Loss: 0.0141(0.0199) Grad Norm: 375391.0625  LR: 9.985497992070092e-06\n"
     ]
    },
    {
     "name": "stdout",
     "output_type": "stream",
     "text": [
      "Epoch: [1][7900/8042] Elapsed 84m 24s (remain 1m 30s) Loss: 0.0272(0.0198) Grad Norm: 481172.9375  LR: 9.985123996013386e-06\n"
     ]
    },
    {
     "name": "stdout",
     "output_type": "stream",
     "text": [
      "Epoch: [1][8000/8042] Elapsed 85m 28s (remain 0m 26s) Loss: 0.0070(0.0197) Grad Norm: 391251.8438  LR: 9.984745245799303e-06\n"
     ]
    },
    {
     "name": "stdout",
     "output_type": "stream",
     "text": [
      "Epoch: [1][8041/8042] Elapsed 85m 54s (remain 0m 0s) Loss: 0.0050(0.0196) Grad Norm: 376937.7188  LR: 9.984588584106055e-06\n",
      "Epoch 1 completed. Average loss: 0.0196\n",
      "Starting evaluation\n",
      "Starting validation...\n"
     ]
    },
    {
     "name": "stdout",
     "output_type": "stream",
     "text": [
      "EVAL: [0/2011] Elapsed 0m 1s (remain 61m 46s) Loss: 0.0126(0.0126) \n"
     ]
    },
    {
     "name": "stdout",
     "output_type": "stream",
     "text": [
      "EVAL: [100/2011] Elapsed 0m 46s (remain 14m 40s) Loss: 0.0083(0.0151) \n"
     ]
    },
    {
     "name": "stdout",
     "output_type": "stream",
     "text": [
      "EVAL: [200/2011] Elapsed 1m 31s (remain 13m 40s) Loss: 0.0032(0.0163) \n"
     ]
    },
    {
     "name": "stdout",
     "output_type": "stream",
     "text": [
      "EVAL: [300/2011] Elapsed 2m 16s (remain 12m 52s) Loss: 0.0155(0.0158) \n"
     ]
    },
    {
     "name": "stdout",
     "output_type": "stream",
     "text": [
      "EVAL: [400/2011] Elapsed 3m 0s (remain 12m 3s) Loss: 0.0125(0.0144) \n"
     ]
    },
    {
     "name": "stdout",
     "output_type": "stream",
     "text": [
      "EVAL: [500/2011] Elapsed 3m 45s (remain 11m 18s) Loss: 0.0007(0.0136) \n"
     ]
    },
    {
     "name": "stdout",
     "output_type": "stream",
     "text": [
      "EVAL: [600/2011] Elapsed 4m 29s (remain 10m 32s) Loss: 0.0085(0.0122) \n"
     ]
    },
    {
     "name": "stdout",
     "output_type": "stream",
     "text": [
      "EVAL: [700/2011] Elapsed 5m 14s (remain 9m 48s) Loss: 0.0005(0.0113) \n"
     ]
    },
    {
     "name": "stdout",
     "output_type": "stream",
     "text": [
      "EVAL: [800/2011] Elapsed 5m 59s (remain 9m 3s) Loss: 0.0046(0.0105) \n"
     ]
    },
    {
     "name": "stdout",
     "output_type": "stream",
     "text": [
      "EVAL: [900/2011] Elapsed 6m 45s (remain 8m 19s) Loss: 0.0114(0.0099) \n"
     ]
    },
    {
     "name": "stdout",
     "output_type": "stream",
     "text": [
      "EVAL: [1000/2011] Elapsed 7m 29s (remain 7m 33s) Loss: 0.0082(0.0098) \n"
     ]
    },
    {
     "name": "stdout",
     "output_type": "stream",
     "text": [
      "EVAL: [1100/2011] Elapsed 8m 13s (remain 6m 47s) Loss: 0.0153(0.0100) \n"
     ]
    },
    {
     "name": "stdout",
     "output_type": "stream",
     "text": [
      "EVAL: [1200/2011] Elapsed 8m 59s (remain 6m 3s) Loss: 0.0009(0.0101) \n"
     ]
    },
    {
     "name": "stdout",
     "output_type": "stream",
     "text": [
      "EVAL: [1300/2011] Elapsed 9m 44s (remain 5m 18s) Loss: 0.0096(0.0101) \n"
     ]
    },
    {
     "name": "stdout",
     "output_type": "stream",
     "text": [
      "EVAL: [1400/2011] Elapsed 10m 28s (remain 4m 33s) Loss: 0.0023(0.0101) \n"
     ]
    },
    {
     "name": "stdout",
     "output_type": "stream",
     "text": [
      "EVAL: [1500/2011] Elapsed 11m 13s (remain 3m 48s) Loss: 0.0289(0.0100) \n"
     ]
    },
    {
     "name": "stdout",
     "output_type": "stream",
     "text": [
      "EVAL: [1600/2011] Elapsed 11m 59s (remain 3m 4s) Loss: 0.0027(0.0101) \n"
     ]
    },
    {
     "name": "stdout",
     "output_type": "stream",
     "text": [
      "EVAL: [1700/2011] Elapsed 12m 43s (remain 2m 19s) Loss: 0.0077(0.0102) \n"
     ]
    },
    {
     "name": "stdout",
     "output_type": "stream",
     "text": [
      "EVAL: [1800/2011] Elapsed 13m 28s (remain 1m 34s) Loss: 0.0016(0.0102) \n"
     ]
    },
    {
     "name": "stdout",
     "output_type": "stream",
     "text": [
      "EVAL: [1900/2011] Elapsed 14m 12s (remain 0m 49s) Loss: 0.0037(0.0100) \n"
     ]
    },
    {
     "name": "stdout",
     "output_type": "stream",
     "text": [
      "EVAL: [2000/2011] Elapsed 14m 57s (remain 0m 4s) Loss: 0.0061(0.0098) \n"
     ]
    },
    {
     "name": "stdout",
     "output_type": "stream",
     "text": [
      "EVAL: [2010/2011] Elapsed 15m 1s (remain 0m 0s) Loss: 0.0069(0.0097) \n"
     ]
    },
    {
     "name": "stderr",
     "output_type": "stream",
     "text": [
      "Epoch 1 - avg_train_loss: 0.0196  avg_val_loss: 0.0097  time: 6070s\n"
     ]
    },
    {
     "name": "stderr",
     "output_type": "stream",
     "text": [
      "Epoch 1 - Score: 0.9140\n"
     ]
    },
    {
     "name": "stderr",
     "output_type": "stream",
     "text": [
      "Epoch 1 - Save Best Score: 0.9140 Model\n"
     ]
    },
    {
     "name": "stdout",
     "output_type": "stream",
     "text": [
      "Starting training\n",
      "\n",
      "Starting training epoch 2 for fold 0\n"
     ]
    },
    {
     "name": "stdout",
     "output_type": "stream",
     "text": [
      "Epoch: [2][0/8042] Elapsed 0m 1s (remain 172m 2s) Loss: 0.0021(0.0021) Grad Norm: 10434.1660  LR: 9.984584753106386e-06\n"
     ]
    },
    {
     "name": "stdout",
     "output_type": "stream",
     "text": [
      "Epoch: [2][100/8042] Elapsed 1m 5s (remain 86m 26s) Loss: 0.0130(0.0120) Grad Norm: 44179.5039  LR: 9.984199252610533e-06\n"
     ]
    },
    {
     "name": "stdout",
     "output_type": "stream",
     "text": [
      "Epoch: [2][200/8042] Elapsed 2m 10s (remain 85m 4s) Loss: 0.0218(0.0114) Grad Norm: 41638.8711  LR: 9.983808998839205e-06\n"
     ]
    },
    {
     "name": "stdout",
     "output_type": "stream",
     "text": [
      "Epoch: [2][300/8042] Elapsed 3m 16s (remain 84m 4s) Loss: 0.0154(0.0118) Grad Norm: 44786.3594  LR: 9.983413992164567e-06\n"
     ]
    },
    {
     "name": "stdout",
     "output_type": "stream",
     "text": [
      "Epoch: [2][400/8042] Elapsed 4m 20s (remain 82m 52s) Loss: 0.0054(0.0115) Grad Norm: 21516.0664  LR: 9.983014232963331e-06\n"
     ]
    },
    {
     "name": "stdout",
     "output_type": "stream",
     "text": [
      "Epoch: [2][500/8042] Elapsed 5m 26s (remain 81m 56s) Loss: 0.0176(0.0114) Grad Norm: 48946.3477  LR: 9.982609721616732e-06\n"
     ]
    },
    {
     "name": "stdout",
     "output_type": "stream",
     "text": [
      "Epoch: [2][600/8042] Elapsed 6m 31s (remain 80m 44s) Loss: 0.0296(0.0113) Grad Norm: 47033.2305  LR: 9.982200458510541e-06\n"
     ]
    },
    {
     "name": "stdout",
     "output_type": "stream",
     "text": [
      "Epoch: [2][700/8042] Elapsed 7m 36s (remain 79m 41s) Loss: 0.0038(0.0112) Grad Norm: 18140.6582  LR: 9.981786444035059e-06\n"
     ]
    },
    {
     "name": "stdout",
     "output_type": "stream",
     "text": [
      "Epoch: [2][800/8042] Elapsed 8m 43s (remain 78m 50s) Loss: 0.0007(0.0109) Grad Norm: 3626.0771  LR: 9.981367678585118e-06\n"
     ]
    },
    {
     "name": "stdout",
     "output_type": "stream",
     "text": [
      "Epoch: [2][900/8042] Elapsed 9m 47s (remain 77m 35s) Loss: 0.0057(0.0107) Grad Norm: 14385.0146  LR: 9.980944162560083e-06\n"
     ]
    },
    {
     "name": "stdout",
     "output_type": "stream",
     "text": [
      "Epoch: [2][1000/8042] Elapsed 10m 51s (remain 76m 20s) Loss: 0.0090(0.0107) Grad Norm: 11741.9502  LR: 9.980515896363848e-06\n"
     ]
    },
    {
     "name": "stdout",
     "output_type": "stream",
     "text": [
      "Epoch: [2][1100/8042] Elapsed 11m 56s (remain 75m 19s) Loss: 0.0048(0.0107) Grad Norm: 32874.3086  LR: 9.980082880404833e-06\n"
     ]
    },
    {
     "name": "stdout",
     "output_type": "stream",
     "text": [
      "Epoch: [2][1200/8042] Elapsed 13m 3s (remain 74m 23s) Loss: 0.0062(0.0107) Grad Norm: 41052.8711  LR: 9.979645115095999e-06\n"
     ]
    },
    {
     "name": "stdout",
     "output_type": "stream",
     "text": [
      "Epoch: [2][1300/8042] Elapsed 14m 8s (remain 73m 18s) Loss: 0.0045(0.0105) Grad Norm: 12419.5850  LR: 9.979202600854823e-06\n"
     ]
    },
    {
     "name": "stdout",
     "output_type": "stream",
     "text": [
      "Epoch: [2][1400/8042] Elapsed 15m 14s (remain 72m 15s) Loss: 0.0053(0.0105) Grad Norm: 17062.6641  LR: 9.978755338103322e-06\n"
     ]
    },
    {
     "name": "stdout",
     "output_type": "stream",
     "text": [
      "Epoch: [2][1500/8042] Elapsed 16m 18s (remain 71m 4s) Loss: 0.0095(0.0104) Grad Norm: 31232.0938  LR: 9.97830332726803e-06\n"
     ]
    },
    {
     "name": "stdout",
     "output_type": "stream",
     "text": [
      "Epoch: [2][1600/8042] Elapsed 17m 22s (remain 69m 52s) Loss: 0.0079(0.0104) Grad Norm: 25190.2949  LR: 9.977846568780022e-06\n"
     ]
    },
    {
     "name": "stdout",
     "output_type": "stream",
     "text": [
      "Epoch: [2][1700/8042] Elapsed 18m 28s (remain 68m 53s) Loss: 0.0097(0.0104) Grad Norm: 19666.6348  LR: 9.977385063074894e-06\n"
     ]
    },
    {
     "name": "stdout",
     "output_type": "stream",
     "text": [
      "Epoch: [2][1800/8042] Elapsed 19m 34s (remain 67m 51s) Loss: 0.0064(0.0104) Grad Norm: 13699.8945  LR: 9.976918810592763e-06\n"
     ]
    },
    {
     "name": "stdout",
     "output_type": "stream",
     "text": [
      "Epoch: [2][1900/8042] Elapsed 20m 40s (remain 66m 46s) Loss: 0.0038(0.0103) Grad Norm: 17089.2578  LR: 9.976447811778288e-06\n"
     ]
    },
    {
     "name": "stdout",
     "output_type": "stream",
     "text": [
      "Epoch: [2][2000/8042] Elapsed 21m 45s (remain 65m 41s) Loss: 0.0103(0.0103) Grad Norm: 50650.4414  LR: 9.97597206708064e-06\n"
     ]
    },
    {
     "name": "stdout",
     "output_type": "stream",
     "text": [
      "Epoch: [2][2100/8042] Elapsed 22m 50s (remain 64m 35s) Loss: 0.0060(0.0102) Grad Norm: 29804.8047  LR: 9.975491576953524e-06\n"
     ]
    },
    {
     "name": "stdout",
     "output_type": "stream",
     "text": [
      "Epoch: [2][2200/8042] Elapsed 23m 55s (remain 63m 29s) Loss: 0.0302(0.0102) Grad Norm: 174525.5781  LR: 9.975006341855167e-06\n"
     ]
    },
    {
     "name": "stdout",
     "output_type": "stream",
     "text": [
      "Epoch: [2][2300/8042] Elapsed 25m 0s (remain 62m 24s) Loss: 0.0250(0.0101) Grad Norm: 105306.8047  LR: 9.974516362248325e-06\n"
     ]
    },
    {
     "name": "stdout",
     "output_type": "stream",
     "text": [
      "Epoch: [2][2400/8042] Elapsed 26m 6s (remain 61m 20s) Loss: 0.0118(0.0100) Grad Norm: 63052.0469  LR: 9.974021638600276e-06\n"
     ]
    },
    {
     "name": "stdout",
     "output_type": "stream",
     "text": [
      "Epoch: [2][2500/8042] Elapsed 27m 12s (remain 60m 16s) Loss: 0.0076(0.0099) Grad Norm: 41719.6680  LR: 9.973522171382821e-06\n"
     ]
    },
    {
     "name": "stdout",
     "output_type": "stream",
     "text": [
      "Epoch: [2][2600/8042] Elapsed 28m 18s (remain 59m 13s) Loss: 0.0028(0.0099) Grad Norm: 81516.5312  LR: 9.973017961072287e-06\n"
     ]
    },
    {
     "name": "stdout",
     "output_type": "stream",
     "text": [
      "Epoch: [2][2700/8042] Elapsed 29m 22s (remain 58m 5s) Loss: 0.0012(0.0098) Grad Norm: 11209.3262  LR: 9.972509008149522e-06\n"
     ]
    },
    {
     "name": "stdout",
     "output_type": "stream",
     "text": [
      "Epoch: [2][2800/8042] Elapsed 30m 28s (remain 57m 1s) Loss: 0.0010(0.0097) Grad Norm: 9021.8545  LR: 9.971995313099903e-06\n"
     ]
    },
    {
     "name": "stdout",
     "output_type": "stream",
     "text": [
      "Epoch: [2][2900/8042] Elapsed 31m 34s (remain 55m 56s) Loss: 0.0018(0.0097) Grad Norm: 22137.7988  LR: 9.97147687641332e-06\n"
     ]
    },
    {
     "name": "stdout",
     "output_type": "stream",
     "text": [
      "Epoch: [2][3000/8042] Elapsed 32m 37s (remain 54m 48s) Loss: 0.0087(0.0096) Grad Norm: 106901.6328  LR: 9.970953698584192e-06\n"
     ]
    },
    {
     "name": "stdout",
     "output_type": "stream",
     "text": [
      "Epoch: [2][3100/8042] Elapsed 33m 42s (remain 53m 42s) Loss: 0.0003(0.0096) Grad Norm: 3879.6655  LR: 9.970425780111456e-06\n"
     ]
    },
    {
     "name": "stdout",
     "output_type": "stream",
     "text": [
      "Epoch: [2][3200/8042] Elapsed 34m 48s (remain 52m 38s) Loss: 0.0044(0.0096) Grad Norm: 20536.1094  LR: 9.969893121498575e-06\n"
     ]
    },
    {
     "name": "stdout",
     "output_type": "stream",
     "text": [
      "Epoch: [2][3300/8042] Elapsed 35m 56s (remain 51m 37s) Loss: 0.0067(0.0095) Grad Norm: 60112.6289  LR: 9.969355723253527e-06\n"
     ]
    },
    {
     "name": "stdout",
     "output_type": "stream",
     "text": [
      "Epoch: [2][3400/8042] Elapsed 37m 2s (remain 50m 32s) Loss: 0.0069(0.0095) Grad Norm: 57386.5859  LR: 9.968813585888811e-06\n"
     ]
    },
    {
     "name": "stdout",
     "output_type": "stream",
     "text": [
      "Epoch: [2][3500/8042] Elapsed 38m 10s (remain 49m 30s) Loss: 0.0177(0.0094) Grad Norm: 65821.1641  LR: 9.968266709921448e-06\n"
     ]
    },
    {
     "name": "stdout",
     "output_type": "stream",
     "text": [
      "Epoch: [2][3600/8042] Elapsed 39m 16s (remain 48m 26s) Loss: 0.0347(0.0094) Grad Norm: 157594.4062  LR: 9.967715095872975e-06\n"
     ]
    },
    {
     "name": "stdout",
     "output_type": "stream",
     "text": [
      "Epoch: [2][3700/8042] Elapsed 40m 23s (remain 47m 22s) Loss: 0.0817(0.0094) Grad Norm: 159220.5781  LR: 9.96715874426945e-06\n"
     ]
    },
    {
     "name": "stdout",
     "output_type": "stream",
     "text": [
      "Epoch: [2][3800/8042] Elapsed 41m 30s (remain 46m 19s) Loss: 0.0089(0.0093) Grad Norm: 49592.7852  LR: 9.966597655641445e-06\n"
     ]
    },
    {
     "name": "stdout",
     "output_type": "stream",
     "text": [
      "Epoch: [2][3900/8042] Elapsed 42m 36s (remain 45m 13s) Loss: 0.0112(0.0093) Grad Norm: 48017.2070  LR: 9.96603183052406e-06\n"
     ]
    },
    {
     "name": "stdout",
     "output_type": "stream",
     "text": [
      "Epoch: [2][4000/8042] Elapsed 43m 43s (remain 44m 9s) Loss: 0.0053(0.0093) Grad Norm: 26084.7695  LR: 9.9654612694569e-06\n"
     ]
    },
    {
     "name": "stdout",
     "output_type": "stream",
     "text": [
      "Epoch: [2][4100/8042] Elapsed 44m 48s (remain 43m 3s) Loss: 0.0176(0.0092) Grad Norm: 317289.1875  LR: 9.96488597298409e-06\n"
     ]
    },
    {
     "name": "stdout",
     "output_type": "stream",
     "text": [
      "Epoch: [2][4200/8042] Elapsed 45m 53s (remain 41m 57s) Loss: 0.0009(0.0092) Grad Norm: 28589.7305  LR: 9.964305941654275e-06\n"
     ]
    },
    {
     "name": "stdout",
     "output_type": "stream",
     "text": [
      "Epoch: [2][4300/8042] Elapsed 46m 59s (remain 40m 52s) Loss: 0.0042(0.0091) Grad Norm: 82529.2109  LR: 9.963721176020612e-06\n"
     ]
    },
    {
     "name": "stdout",
     "output_type": "stream",
     "text": [
      "Epoch: [2][4400/8042] Elapsed 48m 5s (remain 39m 47s) Loss: 0.0076(0.0091) Grad Norm: 185025.7812  LR: 9.963131676640773e-06\n"
     ]
    },
    {
     "name": "stdout",
     "output_type": "stream",
     "text": [
      "Epoch: [2][4500/8042] Elapsed 49m 12s (remain 38m 42s) Loss: 0.0011(0.0091) Grad Norm: 15605.0215  LR: 9.962537444076948e-06\n"
     ]
    },
    {
     "name": "stdout",
     "output_type": "stream",
     "text": [
      "Epoch: [2][4600/8042] Elapsed 50m 18s (remain 37m 37s) Loss: 0.0018(0.0090) Grad Norm: 30242.3652  LR: 9.961938478895834e-06\n"
     ]
    },
    {
     "name": "stdout",
     "output_type": "stream",
     "text": [
      "Epoch: [2][4700/8042] Elapsed 51m 24s (remain 36m 31s) Loss: 0.0099(0.0090) Grad Norm: 542266.8750  LR: 9.961334781668648e-06\n"
     ]
    },
    {
     "name": "stdout",
     "output_type": "stream",
     "text": [
      "Epoch: [2][4800/8042] Elapsed 52m 29s (remain 35m 26s) Loss: 0.0045(0.0090) Grad Norm: 56070.2617  LR: 9.960726352971117e-06\n"
     ]
    },
    {
     "name": "stdout",
     "output_type": "stream",
     "text": [
      "Epoch: [2][4900/8042] Elapsed 53m 36s (remain 34m 21s) Loss: 0.0105(0.0090) Grad Norm: 87944.1016  LR: 9.960113193383479e-06\n"
     ]
    },
    {
     "name": "stdout",
     "output_type": "stream",
     "text": [
      "Epoch: [2][5000/8042] Elapsed 54m 43s (remain 33m 16s) Loss: 0.0042(0.0089) Grad Norm: 121476.7188  LR: 9.959495303490487e-06\n"
     ]
    },
    {
     "name": "stdout",
     "output_type": "stream",
     "text": [
      "Epoch: [2][5100/8042] Elapsed 55m 49s (remain 32m 11s) Loss: 0.0014(0.0089) Grad Norm: 33101.9922  LR: 9.958872683881404e-06\n"
     ]
    },
    {
     "name": "stdout",
     "output_type": "stream",
     "text": [
      "Epoch: [2][5200/8042] Elapsed 56m 56s (remain 31m 5s) Loss: 0.0013(0.0089) Grad Norm: 33296.1914  LR: 9.958245335149999e-06\n"
     ]
    },
    {
     "name": "stdout",
     "output_type": "stream",
     "text": [
      "Epoch: [2][5300/8042] Elapsed 58m 2s (remain 30m 0s) Loss: 0.0044(0.0089) Grad Norm: 95359.6562  LR: 9.95761325789456e-06\n"
     ]
    },
    {
     "name": "stdout",
     "output_type": "stream",
     "text": [
      "Epoch: [2][5400/8042] Elapsed 59m 7s (remain 28m 54s) Loss: 0.0002(0.0088) Grad Norm: 2292.2913  LR: 9.956976452717874e-06\n"
     ]
    },
    {
     "name": "stdout",
     "output_type": "stream",
     "text": [
      "Epoch: [2][5500/8042] Elapsed 60m 12s (remain 27m 48s) Loss: 0.0033(0.0088) Grad Norm: 37061.2539  LR: 9.956334920227249e-06\n"
     ]
    },
    {
     "name": "stdout",
     "output_type": "stream",
     "text": [
      "Epoch: [2][5600/8042] Elapsed 61m 17s (remain 26m 42s) Loss: 0.0038(0.0088) Grad Norm: 74245.6641  LR: 9.955688661034487e-06\n"
     ]
    },
    {
     "name": "stdout",
     "output_type": "stream",
     "text": [
      "Epoch: [2][5700/8042] Elapsed 62m 22s (remain 25m 36s) Loss: 0.0028(0.0087) Grad Norm: 20292.1465  LR: 9.95503767575591e-06\n"
     ]
    },
    {
     "name": "stdout",
     "output_type": "stream",
     "text": [
      "Epoch: [2][5800/8042] Elapsed 63m 27s (remain 24m 30s) Loss: 0.0064(0.0087) Grad Norm: 153439.3281  LR: 9.954381965012343e-06\n"
     ]
    },
    {
     "name": "stdout",
     "output_type": "stream",
     "text": [
      "Epoch: [2][5900/8042] Elapsed 64m 34s (remain 23m 25s) Loss: 0.0123(0.0087) Grad Norm: 109807.0859  LR: 9.953721529429114e-06\n"
     ]
    },
    {
     "name": "stdout",
     "output_type": "stream",
     "text": [
      "Epoch: [2][6000/8042] Elapsed 65m 38s (remain 22m 19s) Loss: 0.0150(0.0087) Grad Norm: 97349.6875  LR: 9.95305636963606e-06\n"
     ]
    },
    {
     "name": "stdout",
     "output_type": "stream",
     "text": [
      "Epoch: [2][6100/8042] Elapsed 66m 43s (remain 21m 13s) Loss: 0.0051(0.0087) Grad Norm: 192418.8125  LR: 9.952386486267525e-06\n"
     ]
    },
    {
     "name": "stdout",
     "output_type": "stream",
     "text": [
      "Epoch: [2][6200/8042] Elapsed 67m 48s (remain 20m 8s) Loss: 0.0064(0.0087) Grad Norm: 241125.9844  LR: 9.951711879962356e-06\n"
     ]
    },
    {
     "name": "stdout",
     "output_type": "stream",
     "text": [
      "Epoch: [2][6300/8042] Elapsed 68m 53s (remain 19m 2s) Loss: 0.0045(0.0086) Grad Norm: 167562.5625  LR: 9.951032551363902e-06\n"
     ]
    },
    {
     "name": "stdout",
     "output_type": "stream",
     "text": [
      "Epoch: [2][6400/8042] Elapsed 69m 58s (remain 17m 56s) Loss: 0.0096(0.0086) Grad Norm: 196427.0469  LR: 9.95034850112002e-06\n"
     ]
    },
    {
     "name": "stdout",
     "output_type": "stream",
     "text": [
      "Epoch: [2][6500/8042] Elapsed 71m 2s (remain 16m 50s) Loss: 0.0113(0.0086) Grad Norm: 665815.3750  LR: 9.949659729883063e-06\n"
     ]
    },
    {
     "name": "stdout",
     "output_type": "stream",
     "text": [
      "Epoch: [2][6600/8042] Elapsed 72m 7s (remain 15m 44s) Loss: 0.0023(0.0086) Grad Norm: 92259.4844  LR: 9.948966238309897e-06\n"
     ]
    },
    {
     "name": "stdout",
     "output_type": "stream",
     "text": [
      "Epoch: [2][6700/8042] Elapsed 73m 10s (remain 14m 38s) Loss: 0.0029(0.0086) Grad Norm: 177987.2188  LR: 9.948268027061878e-06\n"
     ]
    },
    {
     "name": "stdout",
     "output_type": "stream",
     "text": [
      "Epoch: [2][6800/8042] Elapsed 74m 14s (remain 13m 32s) Loss: 0.0252(0.0085) Grad Norm: 235109.0625  LR: 9.94756509680487e-06\n"
     ]
    },
    {
     "name": "stdout",
     "output_type": "stream",
     "text": [
      "Epoch: [2][6900/8042] Elapsed 75m 18s (remain 12m 27s) Loss: 0.0043(0.0085) Grad Norm: 102843.4219  LR: 9.946857448209238e-06\n"
     ]
    },
    {
     "name": "stdout",
     "output_type": "stream",
     "text": [
      "Epoch: [2][7000/8042] Elapsed 76m 22s (remain 11m 21s) Loss: 0.0035(0.0085) Grad Norm: 156661.2812  LR: 9.946145081949839e-06\n"
     ]
    },
    {
     "name": "stdout",
     "output_type": "stream",
     "text": [
      "Epoch: [2][7100/8042] Elapsed 77m 28s (remain 10m 16s) Loss: 0.0130(0.0085) Grad Norm: 318940.0000  LR: 9.94542799870604e-06\n"
     ]
    },
    {
     "name": "stdout",
     "output_type": "stream",
     "text": [
      "Epoch: [2][7200/8042] Elapsed 78m 33s (remain 9m 10s) Loss: 0.0083(0.0085) Grad Norm: 203350.7656  LR: 9.944706199161698e-06\n"
     ]
    },
    {
     "name": "stdout",
     "output_type": "stream",
     "text": [
      "Epoch: [2][7300/8042] Elapsed 79m 38s (remain 8m 5s) Loss: 0.0052(0.0085) Grad Norm: 410005.5312  LR: 9.943979684005172e-06\n"
     ]
    },
    {
     "name": "stdout",
     "output_type": "stream",
     "text": [
      "Epoch: [2][7400/8042] Elapsed 80m 43s (remain 6m 59s) Loss: 0.0016(0.0085) Grad Norm: 40489.6055  LR: 9.943248453929317e-06\n"
     ]
    },
    {
     "name": "stdout",
     "output_type": "stream",
     "text": [
      "Epoch: [2][7500/8042] Elapsed 81m 49s (remain 5m 54s) Loss: 0.0110(0.0084) Grad Norm: 330252.0000  LR: 9.942512509631484e-06\n"
     ]
    },
    {
     "name": "stdout",
     "output_type": "stream",
     "text": [
      "Epoch: [2][7600/8042] Elapsed 82m 52s (remain 4m 48s) Loss: 0.0068(0.0084) Grad Norm: 239537.0000  LR: 9.941771851813517e-06\n"
     ]
    },
    {
     "name": "stdout",
     "output_type": "stream",
     "text": [
      "Epoch: [2][7700/8042] Elapsed 83m 57s (remain 3m 43s) Loss: 0.0059(0.0084) Grad Norm: 210781.7188  LR: 9.941026481181763e-06\n"
     ]
    },
    {
     "name": "stdout",
     "output_type": "stream",
     "text": [
      "Epoch: [2][7800/8042] Elapsed 85m 2s (remain 2m 37s) Loss: 0.0061(0.0084) Grad Norm: 276639.4688  LR: 9.940276398447058e-06\n"
     ]
    },
    {
     "name": "stdout",
     "output_type": "stream",
     "text": [
      "Epoch: [2][7900/8042] Elapsed 86m 6s (remain 1m 32s) Loss: 0.0100(0.0084) Grad Norm: 204881.6562  LR: 9.939521604324729e-06\n"
     ]
    },
    {
     "name": "stdout",
     "output_type": "stream",
     "text": [
      "Epoch: [2][8000/8042] Elapsed 87m 12s (remain 0m 26s) Loss: 0.0022(0.0083) Grad Norm: 234999.2031  LR: 9.938762099534604e-06\n"
     ]
    },
    {
     "name": "stdout",
     "output_type": "stream",
     "text": [
      "Epoch: [2][8041/8042] Elapsed 87m 39s (remain 0m 0s) Loss: 0.0173(0.0083) Grad Norm: 641309.0000  LR: 9.93844934112016e-06\n",
      "Epoch 2 completed. Average loss: 0.0083\n",
      "Starting evaluation\n",
      "Starting validation...\n"
     ]
    },
    {
     "name": "stdout",
     "output_type": "stream",
     "text": [
      "EVAL: [0/2011] Elapsed 0m 0s (remain 25m 24s) Loss: 0.0083(0.0083) \n"
     ]
    },
    {
     "name": "stdout",
     "output_type": "stream",
     "text": [
      "EVAL: [100/2011] Elapsed 0m 45s (remain 14m 24s) Loss: 0.0000(0.0119) \n"
     ]
    },
    {
     "name": "stdout",
     "output_type": "stream",
     "text": [
      "EVAL: [200/2011] Elapsed 1m 31s (remain 13m 39s) Loss: 0.0016(0.0137) \n"
     ]
    },
    {
     "name": "stdout",
     "output_type": "stream",
     "text": [
      "EVAL: [300/2011] Elapsed 2m 16s (remain 12m 53s) Loss: 0.0113(0.0129) \n"
     ]
    },
    {
     "name": "stdout",
     "output_type": "stream",
     "text": [
      "EVAL: [400/2011] Elapsed 3m 0s (remain 12m 5s) Loss: 0.0042(0.0113) \n"
     ]
    },
    {
     "name": "stdout",
     "output_type": "stream",
     "text": [
      "EVAL: [500/2011] Elapsed 3m 44s (remain 11m 17s) Loss: 0.0002(0.0105) \n"
     ]
    },
    {
     "name": "stdout",
     "output_type": "stream",
     "text": [
      "EVAL: [600/2011] Elapsed 4m 30s (remain 10m 33s) Loss: 0.0055(0.0094) \n"
     ]
    },
    {
     "name": "stdout",
     "output_type": "stream",
     "text": [
      "EVAL: [700/2011] Elapsed 5m 15s (remain 9m 49s) Loss: 0.0004(0.0086) \n"
     ]
    },
    {
     "name": "stdout",
     "output_type": "stream",
     "text": [
      "EVAL: [800/2011] Elapsed 5m 59s (remain 9m 3s) Loss: 0.0023(0.0080) \n"
     ]
    },
    {
     "name": "stdout",
     "output_type": "stream",
     "text": [
      "EVAL: [900/2011] Elapsed 6m 44s (remain 8m 18s) Loss: 0.0048(0.0075) \n"
     ]
    },
    {
     "name": "stdout",
     "output_type": "stream",
     "text": [
      "EVAL: [1000/2011] Elapsed 7m 28s (remain 7m 32s) Loss: 0.0057(0.0073) \n"
     ]
    },
    {
     "name": "stdout",
     "output_type": "stream",
     "text": [
      "EVAL: [1100/2011] Elapsed 8m 13s (remain 6m 47s) Loss: 0.0102(0.0074) \n"
     ]
    },
    {
     "name": "stdout",
     "output_type": "stream",
     "text": [
      "EVAL: [1200/2011] Elapsed 8m 58s (remain 6m 2s) Loss: 0.0004(0.0074) \n"
     ]
    },
    {
     "name": "stdout",
     "output_type": "stream",
     "text": [
      "EVAL: [1300/2011] Elapsed 9m 43s (remain 5m 18s) Loss: 0.0094(0.0075) \n"
     ]
    },
    {
     "name": "stdout",
     "output_type": "stream",
     "text": [
      "EVAL: [1400/2011] Elapsed 10m 28s (remain 4m 33s) Loss: 0.0028(0.0074) \n"
     ]
    },
    {
     "name": "stdout",
     "output_type": "stream",
     "text": [
      "EVAL: [1500/2011] Elapsed 11m 13s (remain 3m 48s) Loss: 0.0120(0.0073) \n"
     ]
    },
    {
     "name": "stdout",
     "output_type": "stream",
     "text": [
      "EVAL: [1600/2011] Elapsed 11m 58s (remain 3m 3s) Loss: 0.0017(0.0073) \n"
     ]
    },
    {
     "name": "stdout",
     "output_type": "stream",
     "text": [
      "EVAL: [1700/2011] Elapsed 12m 44s (remain 2m 19s) Loss: 0.0045(0.0073) \n"
     ]
    },
    {
     "name": "stdout",
     "output_type": "stream",
     "text": [
      "EVAL: [1800/2011] Elapsed 13m 27s (remain 1m 34s) Loss: 0.0003(0.0073) \n"
     ]
    },
    {
     "name": "stdout",
     "output_type": "stream",
     "text": [
      "EVAL: [1900/2011] Elapsed 14m 12s (remain 0m 49s) Loss: 0.0021(0.0071) \n"
     ]
    },
    {
     "name": "stdout",
     "output_type": "stream",
     "text": [
      "EVAL: [2000/2011] Elapsed 14m 57s (remain 0m 4s) Loss: 0.0024(0.0069) \n"
     ]
    },
    {
     "name": "stdout",
     "output_type": "stream",
     "text": [
      "EVAL: [2010/2011] Elapsed 15m 2s (remain 0m 0s) Loss: 0.0067(0.0069) \n"
     ]
    },
    {
     "name": "stderr",
     "output_type": "stream",
     "text": [
      "Epoch 2 - avg_train_loss: 0.0083  avg_val_loss: 0.0069  time: 6174s\n"
     ]
    },
    {
     "name": "stderr",
     "output_type": "stream",
     "text": [
      "Epoch 2 - Score: 0.9408\n"
     ]
    },
    {
     "name": "stderr",
     "output_type": "stream",
     "text": [
      "Epoch 2 - Save Best Score: 0.9408 Model\n"
     ]
    },
    {
     "name": "stdout",
     "output_type": "stream",
     "text": [
      "Starting training\n",
      "\n",
      "Starting training epoch 3 for fold 0\n"
     ]
    },
    {
     "name": "stdout",
     "output_type": "stream",
     "text": [
      "Epoch: [3][0/8042] Elapsed 0m 1s (remain 165m 29s) Loss: 0.0034(0.0034) Grad Norm: 26147.6230  LR: 9.938441702975689e-06\n"
     ]
    },
    {
     "name": "stdout",
     "output_type": "stream",
     "text": [
      "Epoch: [3][100/8042] Elapsed 1m 6s (remain 87m 6s) Loss: 0.0022(0.0073) Grad Norm: 20317.1367  LR: 9.937675510282891e-06\n"
     ]
    },
    {
     "name": "stdout",
     "output_type": "stream",
     "text": [
      "Epoch: [3][200/8042] Elapsed 2m 8s (remain 83m 50s) Loss: 0.0033(0.0073) Grad Norm: 11545.1084  LR: 9.936904608682855e-06\n"
     ]
    },
    {
     "name": "stdout",
     "output_type": "stream",
     "text": [
      "Epoch: [3][300/8042] Elapsed 3m 12s (remain 82m 25s) Loss: 0.0020(0.0077) Grad Norm: 10410.8828  LR: 9.93612899891077e-06\n"
     ]
    },
    {
     "name": "stdout",
     "output_type": "stream",
     "text": [
      "Epoch: [3][400/8042] Elapsed 4m 14s (remain 80m 54s) Loss: 0.0005(0.0081) Grad Norm: 2386.1934  LR: 9.93534868170631e-06\n"
     ]
    },
    {
     "name": "stdout",
     "output_type": "stream",
     "text": [
      "Epoch: [3][500/8042] Elapsed 5m 17s (remain 79m 38s) Loss: 0.0082(0.0080) Grad Norm: 30833.8203  LR: 9.934563657813637e-06\n"
     ]
    },
    {
     "name": "stdout",
     "output_type": "stream",
     "text": [
      "Epoch: [3][600/8042] Elapsed 6m 20s (remain 78m 35s) Loss: 0.0038(0.0078) Grad Norm: 22137.3281  LR: 9.933773927981405e-06\n"
     ]
    },
    {
     "name": "stdout",
     "output_type": "stream",
     "text": [
      "Epoch: [3][700/8042] Elapsed 7m 23s (remain 77m 23s) Loss: 0.0213(0.0078) Grad Norm: 70965.4609  LR: 9.932979492962756e-06\n"
     ]
    },
    {
     "name": "stdout",
     "output_type": "stream",
     "text": [
      "Epoch: [3][800/8042] Elapsed 8m 27s (remain 76m 29s) Loss: 0.0019(0.0078) Grad Norm: 14275.9580  LR: 9.932180353515314e-06\n"
     ]
    },
    {
     "name": "stdout",
     "output_type": "stream",
     "text": [
      "Epoch: [3][900/8042] Elapsed 9m 32s (remain 75m 34s) Loss: 0.0045(0.0076) Grad Norm: 33577.6914  LR: 9.931376510401199e-06\n"
     ]
    },
    {
     "name": "stdout",
     "output_type": "stream",
     "text": [
      "Epoch: [3][1000/8042] Elapsed 10m 35s (remain 74m 28s) Loss: 0.0028(0.0076) Grad Norm: 12746.0215  LR: 9.930567964387006e-06\n"
     ]
    },
    {
     "name": "stdout",
     "output_type": "stream",
     "text": [
      "Epoch: [3][1100/8042] Elapsed 11m 40s (remain 73m 36s) Loss: 0.0103(0.0076) Grad Norm: 18003.9160  LR: 9.929754716243825e-06\n"
     ]
    },
    {
     "name": "stdout",
     "output_type": "stream",
     "text": [
      "Epoch: [3][1200/8042] Elapsed 12m 45s (remain 72m 41s) Loss: 0.0072(0.0076) Grad Norm: 27651.3750  LR: 9.92893676674722e-06\n"
     ]
    },
    {
     "name": "stdout",
     "output_type": "stream",
     "text": [
      "Epoch: [3][1300/8042] Elapsed 13m 49s (remain 71m 39s) Loss: 0.0019(0.0076) Grad Norm: 25325.9883  LR: 9.928114116677248e-06\n"
     ]
    },
    {
     "name": "stdout",
     "output_type": "stream",
     "text": [
      "Epoch: [3][1400/8042] Elapsed 14m 53s (remain 70m 37s) Loss: 0.0053(0.0076) Grad Norm: 26518.7949  LR: 9.927286766818443e-06\n"
     ]
    },
    {
     "name": "stdout",
     "output_type": "stream",
     "text": [
      "Epoch: [3][1500/8042] Elapsed 16m 0s (remain 69m 44s) Loss: 0.0078(0.0076) Grad Norm: 29946.2734  LR: 9.926454717959824e-06\n"
     ]
    },
    {
     "name": "stdout",
     "output_type": "stream",
     "text": [
      "Epoch: [3][1600/8042] Elapsed 17m 5s (remain 68m 44s) Loss: 0.0046(0.0075) Grad Norm: 28144.6309  LR: 9.925617970894887e-06\n"
     ]
    },
    {
     "name": "stdout",
     "output_type": "stream",
     "text": [
      "Epoch: [3][1700/8042] Elapsed 18m 10s (remain 67m 44s) Loss: 0.0078(0.0074) Grad Norm: 18167.3945  LR: 9.924776526421615e-06\n"
     ]
    },
    {
     "name": "stdout",
     "output_type": "stream",
     "text": [
      "Epoch: [3][1800/8042] Elapsed 19m 13s (remain 66m 37s) Loss: 0.0005(0.0074) Grad Norm: 5964.4971  LR: 9.923930385342468e-06\n"
     ]
    },
    {
     "name": "stdout",
     "output_type": "stream",
     "text": [
      "Epoch: [3][1900/8042] Elapsed 20m 19s (remain 65m 38s) Loss: 0.0038(0.0073) Grad Norm: 7261.3413  LR: 9.92307954846438e-06\n"
     ]
    },
    {
     "name": "stdout",
     "output_type": "stream",
     "text": [
      "Epoch: [3][2000/8042] Elapsed 21m 24s (remain 64m 38s) Loss: 0.0135(0.0073) Grad Norm: 64539.7305  LR: 9.922224016598773e-06\n"
     ]
    },
    {
     "name": "stdout",
     "output_type": "stream",
     "text": [
      "Epoch: [3][2100/8042] Elapsed 22m 30s (remain 63m 38s) Loss: 0.0102(0.0073) Grad Norm: 70509.6016  LR: 9.921363790561535e-06\n"
     ]
    },
    {
     "name": "stdout",
     "output_type": "stream",
     "text": [
      "Epoch: [3][2200/8042] Elapsed 23m 35s (remain 62m 36s) Loss: 0.0220(0.0073) Grad Norm: 68632.5859  LR: 9.920498871173043e-06\n"
     ]
    },
    {
     "name": "stdout",
     "output_type": "stream",
     "text": [
      "Epoch: [3][2300/8042] Elapsed 24m 40s (remain 61m 33s) Loss: 0.0016(0.0073) Grad Norm: 36981.9297  LR: 9.919629259258139e-06\n"
     ]
    },
    {
     "name": "stdout",
     "output_type": "stream",
     "text": [
      "Epoch: [3][2400/8042] Elapsed 25m 44s (remain 60m 28s) Loss: 0.0049(0.0072) Grad Norm: 33213.0156  LR: 9.918754955646147e-06\n"
     ]
    },
    {
     "name": "stdout",
     "output_type": "stream",
     "text": [
      "Epoch: [3][2500/8042] Elapsed 26m 48s (remain 59m 24s) Loss: 0.0051(0.0072) Grad Norm: 37050.4141  LR: 9.917875961170863e-06\n"
     ]
    },
    {
     "name": "stdout",
     "output_type": "stream",
     "text": [
      "Epoch: [3][2600/8042] Elapsed 27m 53s (remain 58m 21s) Loss: 0.0043(0.0072) Grad Norm: 27939.0352  LR: 9.916992276670556e-06\n"
     ]
    },
    {
     "name": "stdout",
     "output_type": "stream",
     "text": [
      "Epoch: [3][2700/8042] Elapsed 28m 57s (remain 57m 16s) Loss: 0.0001(0.0072) Grad Norm: 1283.4169  LR: 9.916103902987967e-06\n"
     ]
    },
    {
     "name": "stdout",
     "output_type": "stream",
     "text": [
      "Epoch: [3][2800/8042] Elapsed 30m 2s (remain 56m 11s) Loss: 0.0050(0.0072) Grad Norm: 23391.2676  LR: 9.915210840970314e-06\n"
     ]
    },
    {
     "name": "stdout",
     "output_type": "stream",
     "text": [
      "Epoch: [3][2900/8042] Elapsed 31m 6s (remain 55m 8s) Loss: 0.0088(0.0072) Grad Norm: 58771.9961  LR: 9.914313091469279e-06\n"
     ]
    },
    {
     "name": "stdout",
     "output_type": "stream",
     "text": [
      "Epoch: [3][3000/8042] Elapsed 32m 12s (remain 54m 5s) Loss: 0.0039(0.0071) Grad Norm: 22030.5898  LR: 9.91341065534102e-06\n"
     ]
    },
    {
     "name": "stdout",
     "output_type": "stream",
     "text": [
      "Epoch: [3][3100/8042] Elapsed 33m 17s (remain 53m 3s) Loss: 0.0236(0.0071) Grad Norm: 61609.7539  LR: 9.91250353344616e-06\n"
     ]
    },
    {
     "name": "stdout",
     "output_type": "stream",
     "text": [
      "Epoch: [3][3200/8042] Elapsed 34m 24s (remain 52m 2s) Loss: 0.0043(0.0070) Grad Norm: 31267.0156  LR: 9.911591726649794e-06\n"
     ]
    },
    {
     "name": "stdout",
     "output_type": "stream",
     "text": [
      "Epoch: [3][3300/8042] Elapsed 35m 30s (remain 50m 59s) Loss: 0.0016(0.0070) Grad Norm: 21802.7207  LR: 9.910675235821485e-06\n"
     ]
    },
    {
     "name": "stdout",
     "output_type": "stream",
     "text": [
      "Epoch: [3][3400/8042] Elapsed 36m 34s (remain 49m 55s) Loss: 0.0020(0.0070) Grad Norm: 19300.7812  LR: 9.909754061835262e-06\n"
     ]
    },
    {
     "name": "stdout",
     "output_type": "stream",
     "text": [
      "Epoch: [3][3500/8042] Elapsed 37m 40s (remain 48m 52s) Loss: 0.0014(0.0069) Grad Norm: 16748.8965  LR: 9.908828205569617e-06\n"
     ]
    },
    {
     "name": "stdout",
     "output_type": "stream",
     "text": [
      "Epoch: [3][3600/8042] Elapsed 38m 46s (remain 47m 49s) Loss: 0.0092(0.0069) Grad Norm: 83428.6172  LR: 9.90789766790751e-06\n"
     ]
    },
    {
     "name": "stdout",
     "output_type": "stream",
     "text": [
      "Epoch: [3][3700/8042] Elapsed 39m 51s (remain 46m 45s) Loss: 0.0011(0.0069) Grad Norm: 19622.4375  LR: 9.90696244973637e-06\n"
     ]
    },
    {
     "name": "stdout",
     "output_type": "stream",
     "text": [
      "Epoch: [3][3800/8042] Elapsed 40m 55s (remain 45m 39s) Loss: 0.0061(0.0069) Grad Norm: 66054.6250  LR: 9.90602255194808e-06\n"
     ]
    },
    {
     "name": "stdout",
     "output_type": "stream",
     "text": [
      "Epoch: [3][3900/8042] Elapsed 42m 0s (remain 44m 35s) Loss: 0.0029(0.0069) Grad Norm: 25263.8281  LR: 9.905077975438997e-06\n"
     ]
    },
    {
     "name": "stdout",
     "output_type": "stream",
     "text": [
      "Epoch: [3][4000/8042] Elapsed 43m 4s (remain 43m 30s) Loss: 0.0034(0.0069) Grad Norm: 42643.5586  LR: 9.90412872110993e-06\n"
     ]
    },
    {
     "name": "stdout",
     "output_type": "stream",
     "text": [
      "Epoch: [3][4100/8042] Elapsed 44m 10s (remain 42m 26s) Loss: 0.0154(0.0069) Grad Norm: 126590.6875  LR: 9.903174789866154e-06\n"
     ]
    },
    {
     "name": "stdout",
     "output_type": "stream",
     "text": [
      "Epoch: [3][4200/8042] Elapsed 45m 14s (remain 41m 21s) Loss: 0.0159(0.0068) Grad Norm: 88930.0859  LR: 9.902216182617405e-06\n"
     ]
    },
    {
     "name": "stdout",
     "output_type": "stream",
     "text": [
      "Epoch: [3][4300/8042] Elapsed 46m 18s (remain 40m 17s) Loss: 0.0016(0.0068) Grad Norm: 50942.7500  LR: 9.901252900277875e-06\n"
     ]
    },
    {
     "name": "stdout",
     "output_type": "stream",
     "text": [
      "Epoch: [3][4400/8042] Elapsed 47m 22s (remain 39m 12s) Loss: 0.0010(0.0068) Grad Norm: 19166.3848  LR: 9.90028494376622e-06\n"
     ]
    },
    {
     "name": "stdout",
     "output_type": "stream",
     "text": [
      "Epoch: [3][4500/8042] Elapsed 48m 28s (remain 38m 7s) Loss: 0.0231(0.0068) Grad Norm: 1152769.0000  LR: 9.899312314005545e-06\n"
     ]
    },
    {
     "name": "stdout",
     "output_type": "stream",
     "text": [
      "Epoch: [3][4600/8042] Elapsed 49m 31s (remain 37m 2s) Loss: 0.0013(0.0067) Grad Norm: 18845.1504  LR: 9.898335011923419e-06\n"
     ]
    },
    {
     "name": "stdout",
     "output_type": "stream",
     "text": [
      "Epoch: [3][4700/8042] Elapsed 50m 37s (remain 35m 58s) Loss: 0.0056(0.0067) Grad Norm: 113532.0000  LR: 9.897353038451865e-06\n"
     ]
    },
    {
     "name": "stdout",
     "output_type": "stream",
     "text": [
      "Epoch: [3][4800/8042] Elapsed 51m 41s (remain 34m 53s) Loss: 0.0056(0.0067) Grad Norm: 62280.3594  LR: 9.89636639452736e-06\n"
     ]
    },
    {
     "name": "stdout",
     "output_type": "stream",
     "text": [
      "Epoch: [3][4900/8042] Elapsed 52m 44s (remain 33m 47s) Loss: 0.0086(0.0067) Grad Norm: 90409.8828  LR: 9.895375081090835e-06\n"
     ]
    },
    {
     "name": "stdout",
     "output_type": "stream",
     "text": [
      "Epoch: [3][5000/8042] Elapsed 53m 48s (remain 32m 43s) Loss: 0.0028(0.0066) Grad Norm: 65756.3125  LR: 9.894379099087675e-06\n"
     ]
    },
    {
     "name": "stdout",
     "output_type": "stream",
     "text": [
      "Epoch: [3][5100/8042] Elapsed 54m 52s (remain 31m 38s) Loss: 0.0005(0.0066) Grad Norm: 23567.4375  LR: 9.893378449467719e-06\n"
     ]
    },
    {
     "name": "stdout",
     "output_type": "stream",
     "text": [
      "Epoch: [3][5200/8042] Elapsed 55m 55s (remain 30m 32s) Loss: 0.0008(0.0066) Grad Norm: 40768.6172  LR: 9.892373133185251e-06\n"
     ]
    },
    {
     "name": "stdout",
     "output_type": "stream",
     "text": [
      "Epoch: [3][5300/8042] Elapsed 56m 59s (remain 29m 28s) Loss: 0.0027(0.0066) Grad Norm: 32616.1367  LR: 9.891363151199013e-06\n"
     ]
    },
    {
     "name": "stdout",
     "output_type": "stream",
     "text": [
      "Epoch: [3][5400/8042] Elapsed 58m 1s (remain 28m 22s) Loss: 0.0008(0.0066) Grad Norm: 13210.4102  LR: 9.890348504472194e-06\n"
     ]
    },
    {
     "name": "stdout",
     "output_type": "stream",
     "text": [
      "Epoch: [3][5500/8042] Elapsed 59m 3s (remain 27m 16s) Loss: 0.0044(0.0066) Grad Norm: 30835.6133  LR: 9.88932919397243e-06\n"
     ]
    },
    {
     "name": "stdout",
     "output_type": "stream",
     "text": [
      "Epoch: [3][5600/8042] Elapsed 60m 4s (remain 26m 11s) Loss: 0.0084(0.0066) Grad Norm: 123623.5859  LR: 9.888305220671804e-06\n"
     ]
    },
    {
     "name": "stdout",
     "output_type": "stream",
     "text": [
      "Epoch: [3][5700/8042] Elapsed 61m 7s (remain 25m 5s) Loss: 0.0041(0.0065) Grad Norm: 90534.2188  LR: 9.887276585546848e-06\n"
     ]
    },
    {
     "name": "stdout",
     "output_type": "stream",
     "text": [
      "Epoch: [3][5800/8042] Elapsed 62m 9s (remain 24m 0s) Loss: 0.0050(0.0065) Grad Norm: 92837.1328  LR: 9.886243289578541e-06\n"
     ]
    },
    {
     "name": "stdout",
     "output_type": "stream",
     "text": [
      "Epoch: [3][5900/8042] Elapsed 63m 13s (remain 22m 56s) Loss: 0.0004(0.0065) Grad Norm: 17495.0859  LR: 9.885205333752306e-06\n"
     ]
    },
    {
     "name": "stdout",
     "output_type": "stream",
     "text": [
      "Epoch: [3][6000/8042] Elapsed 64m 19s (remain 21m 52s) Loss: 0.0012(0.0065) Grad Norm: 33636.0508  LR: 9.884162719058006e-06\n"
     ]
    },
    {
     "name": "stdout",
     "output_type": "stream",
     "text": [
      "Epoch: [3][6100/8042] Elapsed 65m 25s (remain 20m 48s) Loss: 0.0077(0.0065) Grad Norm: 177857.7500  LR: 9.88311544648995e-06\n"
     ]
    },
    {
     "name": "stdout",
     "output_type": "stream",
     "text": [
      "Epoch: [3][6200/8042] Elapsed 66m 29s (remain 19m 44s) Loss: 0.0024(0.0065) Grad Norm: 110384.6953  LR: 9.882063517046892e-06\n"
     ]
    },
    {
     "name": "stdout",
     "output_type": "stream",
     "text": [
      "Epoch: [3][6300/8042] Elapsed 67m 32s (remain 18m 39s) Loss: 0.0027(0.0065) Grad Norm: 104055.7266  LR: 9.881006931732023e-06\n"
     ]
    },
    {
     "name": "stdout",
     "output_type": "stream",
     "text": [
      "Epoch: [3][6400/8042] Elapsed 68m 37s (remain 17m 35s) Loss: 0.0014(0.0065) Grad Norm: 125604.3750  LR: 9.879945691552975e-06\n"
     ]
    },
    {
     "name": "stdout",
     "output_type": "stream",
     "text": [
      "Epoch: [3][6500/8042] Elapsed 69m 40s (remain 16m 30s) Loss: 0.0167(0.0065) Grad Norm: 440756.2188  LR: 9.87887979752182e-06\n"
     ]
    },
    {
     "name": "stdout",
     "output_type": "stream",
     "text": [
      "Epoch: [3][6600/8042] Elapsed 70m 42s (remain 15m 26s) Loss: 0.0031(0.0065) Grad Norm: 120457.3203  LR: 9.877809250655069e-06\n"
     ]
    },
    {
     "name": "stdout",
     "output_type": "stream",
     "text": [
      "Epoch: [3][6700/8042] Elapsed 71m 48s (remain 14m 22s) Loss: 0.0071(0.0064) Grad Norm: 100922.0156  LR: 9.876734051973668e-06\n"
     ]
    },
    {
     "name": "stdout",
     "output_type": "stream",
     "text": [
      "Epoch: [3][6800/8042] Elapsed 72m 51s (remain 13m 17s) Loss: 0.0113(0.0064) Grad Norm: 462769.6875  LR: 9.875654202503e-06\n"
     ]
    },
    {
     "name": "stdout",
     "output_type": "stream",
     "text": [
      "Epoch: [3][6900/8042] Elapsed 73m 54s (remain 12m 13s) Loss: 0.0001(0.0064) Grad Norm: 5119.4995  LR: 9.874569703272885e-06\n"
     ]
    },
    {
     "name": "stdout",
     "output_type": "stream",
     "text": [
      "Epoch: [3][7000/8042] Elapsed 74m 57s (remain 11m 8s) Loss: 0.0007(0.0064) Grad Norm: 99111.4219  LR: 9.873480555317575e-06\n"
     ]
    },
    {
     "name": "stdout",
     "output_type": "stream",
     "text": [
      "Epoch: [3][7100/8042] Elapsed 75m 59s (remain 10m 4s) Loss: 0.0007(0.0064) Grad Norm: 41384.3672  LR: 9.872386759675757e-06\n"
     ]
    },
    {
     "name": "stdout",
     "output_type": "stream",
     "text": [
      "Epoch: [3][7200/8042] Elapsed 77m 3s (remain 8m 59s) Loss: 0.0128(0.0064) Grad Norm: 211750.4062  LR: 9.87128831739055e-06\n"
     ]
    },
    {
     "name": "stdout",
     "output_type": "stream",
     "text": [
      "Epoch: [3][7300/8042] Elapsed 78m 7s (remain 7m 55s) Loss: 0.0436(0.0064) Grad Norm: 381441.5625  LR: 9.870185229509506e-06\n"
     ]
    },
    {
     "name": "stdout",
     "output_type": "stream",
     "text": [
      "Epoch: [3][7400/8042] Elapsed 79m 12s (remain 6m 51s) Loss: 0.0011(0.0064) Grad Norm: 60191.6133  LR: 9.869077497084601e-06\n"
     ]
    },
    {
     "name": "stdout",
     "output_type": "stream",
     "text": [
      "Epoch: [3][7500/8042] Elapsed 80m 15s (remain 5m 47s) Loss: 0.0002(0.0064) Grad Norm: 9022.7812  LR: 9.867965121172248e-06\n"
     ]
    },
    {
     "name": "stdout",
     "output_type": "stream",
     "text": [
      "Epoch: [3][7600/8042] Elapsed 81m 18s (remain 4m 43s) Loss: 0.0058(0.0064) Grad Norm: 316575.0000  LR: 9.866848102833286e-06\n"
     ]
    },
    {
     "name": "stdout",
     "output_type": "stream",
     "text": [
      "Epoch: [3][7700/8042] Elapsed 82m 21s (remain 3m 38s) Loss: 0.0003(0.0063) Grad Norm: 11289.1709  LR: 9.865726443132978e-06\n"
     ]
    },
    {
     "name": "stdout",
     "output_type": "stream",
     "text": [
      "Epoch: [3][7800/8042] Elapsed 83m 25s (remain 2m 34s) Loss: 0.0019(0.0063) Grad Norm: 192919.7031  LR: 9.864600143141018e-06\n"
     ]
    },
    {
     "name": "stdout",
     "output_type": "stream",
     "text": [
      "Epoch: [3][7900/8042] Elapsed 84m 30s (remain 1m 30s) Loss: 0.0024(0.0063) Grad Norm: 48462.4805  LR: 9.863469203931522e-06\n"
     ]
    },
    {
     "name": "stdout",
     "output_type": "stream",
     "text": [
      "Epoch: [3][8000/8042] Elapsed 85m 34s (remain 0m 26s) Loss: 0.0075(0.0063) Grad Norm: 575394.5000  LR: 9.862333626583032e-06\n"
     ]
    },
    {
     "name": "stdout",
     "output_type": "stream",
     "text": [
      "Epoch: [3][8041/8042] Elapsed 86m 1s (remain 0m 0s) Loss: 0.0111(0.0063) Grad Norm: 394063.3438  LR: 9.86186669946739e-06\n",
      "Epoch 3 completed. Average loss: 0.0063\n",
      "Starting evaluation\n",
      "Starting validation...\n"
     ]
    },
    {
     "name": "stdout",
     "output_type": "stream",
     "text": [
      "EVAL: [0/2011] Elapsed 0m 0s (remain 27m 22s) Loss: 0.0073(0.0073) \n"
     ]
    },
    {
     "name": "stdout",
     "output_type": "stream",
     "text": [
      "EVAL: [100/2011] Elapsed 0m 45s (remain 14m 12s) Loss: -0.0003(0.0121) \n"
     ]
    },
    {
     "name": "stdout",
     "output_type": "stream",
     "text": [
      "EVAL: [200/2011] Elapsed 1m 29s (remain 13m 23s) Loss: 0.0029(0.0142) \n"
     ]
    },
    {
     "name": "stdout",
     "output_type": "stream",
     "text": [
      "EVAL: [300/2011] Elapsed 2m 13s (remain 12m 41s) Loss: 0.0123(0.0133) \n"
     ]
    },
    {
     "name": "stdout",
     "output_type": "stream",
     "text": [
      "EVAL: [400/2011] Elapsed 2m 58s (remain 11m 56s) Loss: 0.0038(0.0113) \n"
     ]
    },
    {
     "name": "stdout",
     "output_type": "stream",
     "text": [
      "EVAL: [500/2011] Elapsed 3m 43s (remain 11m 12s) Loss: -0.0000(0.0104) \n"
     ]
    },
    {
     "name": "stdout",
     "output_type": "stream",
     "text": [
      "EVAL: [600/2011] Elapsed 4m 27s (remain 10m 27s) Loss: 0.0049(0.0092) \n"
     ]
    },
    {
     "name": "stdout",
     "output_type": "stream",
     "text": [
      "EVAL: [700/2011] Elapsed 5m 12s (remain 9m 43s) Loss: 0.0001(0.0084) \n"
     ]
    },
    {
     "name": "stdout",
     "output_type": "stream",
     "text": [
      "EVAL: [800/2011] Elapsed 5m 56s (remain 8m 58s) Loss: 0.0014(0.0078) \n"
     ]
    },
    {
     "name": "stdout",
     "output_type": "stream",
     "text": [
      "EVAL: [900/2011] Elapsed 6m 40s (remain 8m 13s) Loss: 0.0066(0.0072) \n"
     ]
    },
    {
     "name": "stdout",
     "output_type": "stream",
     "text": [
      "EVAL: [1000/2011] Elapsed 7m 25s (remain 7m 29s) Loss: 0.0018(0.0070) \n"
     ]
    },
    {
     "name": "stdout",
     "output_type": "stream",
     "text": [
      "EVAL: [1100/2011] Elapsed 8m 9s (remain 6m 44s) Loss: 0.0090(0.0070) \n"
     ]
    },
    {
     "name": "stdout",
     "output_type": "stream",
     "text": [
      "EVAL: [1200/2011] Elapsed 8m 53s (remain 6m 0s) Loss: 0.0001(0.0070) \n"
     ]
    },
    {
     "name": "stdout",
     "output_type": "stream",
     "text": [
      "EVAL: [1300/2011] Elapsed 9m 38s (remain 5m 15s) Loss: 0.0067(0.0070) \n"
     ]
    },
    {
     "name": "stdout",
     "output_type": "stream",
     "text": [
      "EVAL: [1400/2011] Elapsed 10m 23s (remain 4m 31s) Loss: 0.0032(0.0070) \n"
     ]
    },
    {
     "name": "stdout",
     "output_type": "stream",
     "text": [
      "EVAL: [1500/2011] Elapsed 11m 7s (remain 3m 46s) Loss: 0.0042(0.0068) \n"
     ]
    },
    {
     "name": "stdout",
     "output_type": "stream",
     "text": [
      "EVAL: [1600/2011] Elapsed 11m 52s (remain 3m 2s) Loss: 0.0007(0.0068) \n"
     ]
    },
    {
     "name": "stdout",
     "output_type": "stream",
     "text": [
      "EVAL: [1700/2011] Elapsed 12m 36s (remain 2m 17s) Loss: 0.0017(0.0068) \n"
     ]
    },
    {
     "name": "stdout",
     "output_type": "stream",
     "text": [
      "EVAL: [1800/2011] Elapsed 13m 21s (remain 1m 33s) Loss: -0.0000(0.0067) \n"
     ]
    },
    {
     "name": "stdout",
     "output_type": "stream",
     "text": [
      "EVAL: [1900/2011] Elapsed 14m 7s (remain 0m 49s) Loss: 0.0019(0.0065) \n"
     ]
    },
    {
     "name": "stdout",
     "output_type": "stream",
     "text": [
      "EVAL: [2000/2011] Elapsed 14m 51s (remain 0m 4s) Loss: 0.0024(0.0063) \n"
     ]
    },
    {
     "name": "stdout",
     "output_type": "stream",
     "text": [
      "EVAL: [2010/2011] Elapsed 14m 55s (remain 0m 0s) Loss: 0.0046(0.0063) \n"
     ]
    },
    {
     "name": "stderr",
     "output_type": "stream",
     "text": [
      "Epoch 3 - avg_train_loss: 0.0063  avg_val_loss: 0.0063  time: 6070s\n"
     ]
    },
    {
     "name": "stderr",
     "output_type": "stream",
     "text": [
      "Epoch 3 - Score: 0.9483\n"
     ]
    },
    {
     "name": "stderr",
     "output_type": "stream",
     "text": [
      "Epoch 3 - Save Best Score: 0.9483 Model\n"
     ]
    },
    {
     "name": "stdout",
     "output_type": "stream",
     "text": [
      "Starting training\n",
      "\n",
      "Starting training epoch 4 for fold 0\n"
     ]
    },
    {
     "name": "stdout",
     "output_type": "stream",
     "text": [
      "Epoch: [4][0/8042] Elapsed 0m 1s (remain 165m 27s) Loss: 0.0024(0.0024) Grad Norm: 11719.9014  LR: 9.861855301263968e-06\n"
     ]
    },
    {
     "name": "stdout",
     "output_type": "stream",
     "text": [
      "Epoch: [4][100/8042] Elapsed 1m 6s (remain 86m 59s) Loss: 0.0005(0.0065) Grad Norm: 3971.9387  LR: 9.86071313961992e-06\n"
     ]
    },
    {
     "name": "stdout",
     "output_type": "stream",
     "text": [
      "Epoch: [4][200/8042] Elapsed 2m 12s (remain 85m 56s) Loss: 0.0281(0.0063) Grad Norm: 35084.8281  LR: 9.85956634246525e-06\n"
     ]
    },
    {
     "name": "stdout",
     "output_type": "stream",
     "text": [
      "Epoch: [4][300/8042] Elapsed 3m 18s (remain 84m 59s) Loss: 0.0021(0.0059) Grad Norm: 8668.1064  LR: 9.858414910893623e-06\n"
     ]
    },
    {
     "name": "stdout",
     "output_type": "stream",
     "text": [
      "Epoch: [4][400/8042] Elapsed 4m 23s (remain 83m 32s) Loss: 0.0064(0.0061) Grad Norm: 25814.1074  LR: 9.857258846003124e-06\n"
     ]
    },
    {
     "name": "stdout",
     "output_type": "stream",
     "text": [
      "Epoch: [4][500/8042] Elapsed 5m 26s (remain 81m 52s) Loss: 0.0019(0.0059) Grad Norm: 19153.7559  LR: 9.856098148896256e-06\n"
     ]
    },
    {
     "name": "stdout",
     "output_type": "stream",
     "text": [
      "Epoch: [4][600/8042] Elapsed 6m 30s (remain 80m 37s) Loss: 0.0018(0.0060) Grad Norm: 8213.3789  LR: 9.854932820679938e-06\n"
     ]
    },
    {
     "name": "stdout",
     "output_type": "stream",
     "text": [
      "Epoch: [4][700/8042] Elapsed 7m 34s (remain 79m 15s) Loss: 0.0078(0.0060) Grad Norm: 26792.7383  LR: 9.85376286246551e-06\n"
     ]
    },
    {
     "name": "stdout",
     "output_type": "stream",
     "text": [
      "Epoch: [4][800/8042] Elapsed 8m 36s (remain 77m 51s) Loss: 0.0030(0.0061) Grad Norm: 13909.8145  LR: 9.852588275368722e-06\n"
     ]
    },
    {
     "name": "stdout",
     "output_type": "stream",
     "text": [
      "Epoch: [4][900/8042] Elapsed 9m 40s (remain 76m 43s) Loss: 0.0005(0.0062) Grad Norm: 2011.5255  LR: 9.851409060509743e-06\n"
     ]
    },
    {
     "name": "stdout",
     "output_type": "stream",
     "text": [
      "Epoch: [4][1000/8042] Elapsed 10m 44s (remain 75m 34s) Loss: 0.0125(0.0062) Grad Norm: 54382.1836  LR: 9.850225219013153e-06\n"
     ]
    },
    {
     "name": "stdout",
     "output_type": "stream",
     "text": [
      "Epoch: [4][1100/8042] Elapsed 11m 47s (remain 74m 18s) Loss: 0.0015(0.0060) Grad Norm: 9490.8535  LR: 9.849036752007943e-06\n"
     ]
    },
    {
     "name": "stdout",
     "output_type": "stream",
     "text": [
      "Epoch: [4][1200/8042] Elapsed 12m 49s (remain 73m 2s) Loss: 0.0014(0.0060) Grad Norm: 5355.8530  LR: 9.847843660627521e-06\n"
     ]
    },
    {
     "name": "stdout",
     "output_type": "stream",
     "text": [
      "Epoch: [4][1300/8042] Elapsed 13m 52s (remain 71m 52s) Loss: 0.0011(0.0060) Grad Norm: 12461.3994  LR: 9.846645946009697e-06\n"
     ]
    },
    {
     "name": "stdout",
     "output_type": "stream",
     "text": [
      "Epoch: [4][1400/8042] Elapsed 14m 55s (remain 70m 43s) Loss: 0.0122(0.0059) Grad Norm: 16301.5869  LR: 9.845443609296694e-06\n"
     ]
    },
    {
     "name": "stdout",
     "output_type": "stream",
     "text": [
      "Epoch: [4][1500/8042] Elapsed 15m 58s (remain 69m 36s) Loss: 0.0001(0.0058) Grad Norm: 707.2938  LR: 9.844236651635147e-06\n"
     ]
    },
    {
     "name": "stdout",
     "output_type": "stream",
     "text": [
      "Epoch: [4][1600/8042] Elapsed 17m 1s (remain 68m 29s) Loss: 0.0075(0.0059) Grad Norm: 35617.9258  LR: 9.84302507417609e-06\n"
     ]
    },
    {
     "name": "stdout",
     "output_type": "stream",
     "text": [
      "Epoch: [4][1700/8042] Elapsed 18m 7s (remain 67m 32s) Loss: 0.0012(0.0058) Grad Norm: 7496.8027  LR: 9.841808878074968e-06\n"
     ]
    },
    {
     "name": "stdout",
     "output_type": "stream",
     "text": [
      "Epoch: [4][1800/8042] Elapsed 19m 9s (remain 66m 23s) Loss: 0.0007(0.0058) Grad Norm: 4063.8093  LR: 9.840588064491633e-06\n"
     ]
    },
    {
     "name": "stdout",
     "output_type": "stream",
     "text": [
      "Epoch: [4][1900/8042] Elapsed 20m 14s (remain 65m 21s) Loss: 0.0147(0.0058) Grad Norm: 56259.9141  LR: 9.839362634590329e-06\n"
     ]
    },
    {
     "name": "stdout",
     "output_type": "stream",
     "text": [
      "Epoch: [4][2000/8042] Elapsed 21m 18s (remain 64m 18s) Loss: 0.0013(0.0058) Grad Norm: 22060.4863  LR: 9.838132589539716e-06\n"
     ]
    },
    {
     "name": "stdout",
     "output_type": "stream",
     "text": [
      "Epoch: [4][2100/8042] Elapsed 22m 20s (remain 63m 10s) Loss: 0.0005(0.0058) Grad Norm: 8596.3398  LR: 9.83689793051285e-06\n"
     ]
    },
    {
     "name": "stdout",
     "output_type": "stream",
     "text": [
      "Epoch: [4][2200/8042] Elapsed 23m 23s (remain 62m 5s) Loss: 0.0048(0.0058) Grad Norm: 13070.9277  LR: 9.835658658687182e-06\n"
     ]
    },
    {
     "name": "stdout",
     "output_type": "stream",
     "text": [
      "Epoch: [4][2300/8042] Elapsed 24m 26s (remain 60m 58s) Loss: 0.0091(0.0058) Grad Norm: 193321.8125  LR: 9.834414775244572e-06\n"
     ]
    },
    {
     "name": "stdout",
     "output_type": "stream",
     "text": [
      "Epoch: [4][2400/8042] Elapsed 25m 27s (remain 59m 49s) Loss: 0.0010(0.0058) Grad Norm: 17368.1875  LR: 9.833166281371272e-06\n"
     ]
    },
    {
     "name": "stdout",
     "output_type": "stream",
     "text": [
      "Epoch: [4][2500/8042] Elapsed 26m 30s (remain 58m 44s) Loss: 0.0099(0.0057) Grad Norm: 27954.0625  LR: 9.831913178257928e-06\n"
     ]
    },
    {
     "name": "stdout",
     "output_type": "stream",
     "text": [
      "Epoch: [4][2600/8042] Elapsed 27m 35s (remain 57m 42s) Loss: 0.0041(0.0057) Grad Norm: 15004.2959  LR: 9.830655467099589e-06\n"
     ]
    },
    {
     "name": "stdout",
     "output_type": "stream",
     "text": [
      "Epoch: [4][2700/8042] Elapsed 28m 39s (remain 56m 40s) Loss: 0.0000(0.0057) Grad Norm: 149.6065  LR: 9.829393149095693e-06\n"
     ]
    },
    {
     "name": "stdout",
     "output_type": "stream",
     "text": [
      "Epoch: [4][2800/8042] Elapsed 29m 43s (remain 55m 38s) Loss: 0.0027(0.0057) Grad Norm: 31896.0430  LR: 9.828126225450077e-06\n"
     ]
    },
    {
     "name": "stdout",
     "output_type": "stream",
     "text": [
      "Epoch: [4][2900/8042] Elapsed 30m 49s (remain 54m 38s) Loss: 0.0206(0.0056) Grad Norm: 53417.9805  LR: 9.826854697370962e-06\n"
     ]
    },
    {
     "name": "stdout",
     "output_type": "stream",
     "text": [
      "Epoch: [4][3000/8042] Elapsed 31m 57s (remain 53m 41s) Loss: 0.0069(0.0055) Grad Norm: 60017.1289  LR: 9.825578566070966e-06\n"
     ]
    },
    {
     "name": "stdout",
     "output_type": "stream",
     "text": [
      "Epoch: [4][3100/8042] Elapsed 33m 3s (remain 52m 41s) Loss: 0.0088(0.0055) Grad Norm: 34616.3555  LR: 9.824297832767097e-06\n"
     ]
    },
    {
     "name": "stdout",
     "output_type": "stream",
     "text": [
      "Epoch: [4][3200/8042] Elapsed 34m 9s (remain 51m 40s) Loss: 0.0008(0.0055) Grad Norm: 20633.9375  LR: 9.82301249868075e-06\n"
     ]
    },
    {
     "name": "stdout",
     "output_type": "stream",
     "text": [
      "Epoch: [4][3300/8042] Elapsed 35m 15s (remain 50m 38s) Loss: 0.0017(0.0055) Grad Norm: 44090.9531  LR: 9.821722565037706e-06\n"
     ]
    },
    {
     "name": "stdout",
     "output_type": "stream",
     "text": [
      "Epoch: [4][3400/8042] Elapsed 36m 22s (remain 49m 38s) Loss: 0.0095(0.0055) Grad Norm: 28004.1172  LR: 9.820428033068137e-06\n"
     ]
    },
    {
     "name": "stdout",
     "output_type": "stream",
     "text": [
      "Epoch: [4][3500/8042] Elapsed 37m 27s (remain 48m 35s) Loss: 0.0008(0.0055) Grad Norm: 11318.6104  LR: 9.819128904006598e-06\n"
     ]
    },
    {
     "name": "stdout",
     "output_type": "stream",
     "text": [
      "Epoch: [4][3600/8042] Elapsed 38m 33s (remain 47m 32s) Loss: 0.0116(0.0055) Grad Norm: 93784.9062  LR: 9.817825179092026e-06\n"
     ]
    },
    {
     "name": "stdout",
     "output_type": "stream",
     "text": [
      "Epoch: [4][3700/8042] Elapsed 39m 40s (remain 46m 32s) Loss: 0.0064(0.0055) Grad Norm: 35961.1406  LR: 9.816516859567744e-06\n"
     ]
    },
    {
     "name": "stdout",
     "output_type": "stream",
     "text": [
      "Epoch: [4][3800/8042] Elapsed 40m 48s (remain 45m 32s) Loss: 0.0010(0.0054) Grad Norm: 90364.7031  LR: 9.815203946681456e-06\n"
     ]
    },
    {
     "name": "stdout",
     "output_type": "stream",
     "text": [
      "Epoch: [4][3900/8042] Elapsed 41m 56s (remain 44m 31s) Loss: 0.0035(0.0054) Grad Norm: 53250.1016  LR: 9.813886441685243e-06\n"
     ]
    },
    {
     "name": "stdout",
     "output_type": "stream",
     "text": [
      "Epoch: [4][4000/8042] Elapsed 43m 5s (remain 43m 30s) Loss: 0.0051(0.0054) Grad Norm: 70769.1328  LR: 9.812564345835573e-06\n"
     ]
    },
    {
     "name": "stdout",
     "output_type": "stream",
     "text": [
      "Epoch: [4][4100/8042] Elapsed 44m 13s (remain 42m 30s) Loss: 0.0107(0.0054) Grad Norm: 358027.9062  LR: 9.811237660393284e-06\n"
     ]
    },
    {
     "name": "stdout",
     "output_type": "stream",
     "text": [
      "Epoch: [4][4200/8042] Elapsed 45m 22s (remain 41m 28s) Loss: 0.0005(0.0054) Grad Norm: 7883.3647  LR: 9.809906386623598e-06\n"
     ]
    },
    {
     "name": "stdout",
     "output_type": "stream",
     "text": [
      "Epoch: [4][4300/8042] Elapsed 46m 31s (remain 40m 28s) Loss: 0.0001(0.0054) Grad Norm: 2111.5515  LR: 9.808570525796104e-06\n"
     ]
    },
    {
     "name": "stdout",
     "output_type": "stream",
     "text": [
      "Epoch: [4][4400/8042] Elapsed 47m 39s (remain 39m 25s) Loss: 0.0041(0.0054) Grad Norm: 65530.7070  LR: 9.807230079184777e-06\n"
     ]
    },
    {
     "name": "stdout",
     "output_type": "stream",
     "text": [
      "Epoch: [4][4500/8042] Elapsed 48m 45s (remain 38m 21s) Loss: 0.0002(0.0054) Grad Norm: 10191.3672  LR: 9.805885048067955e-06\n"
     ]
    },
    {
     "name": "stdout",
     "output_type": "stream",
     "text": [
      "Epoch: [4][4600/8042] Elapsed 49m 53s (remain 37m 18s) Loss: 0.0022(0.0053) Grad Norm: 39428.3281  LR: 9.804535433728353e-06\n"
     ]
    },
    {
     "name": "stdout",
     "output_type": "stream",
     "text": [
      "Epoch: [4][4700/8042] Elapsed 50m 59s (remain 36m 14s) Loss: 0.0269(0.0053) Grad Norm: 138111.7969  LR: 9.803181237453058e-06\n"
     ]
    },
    {
     "name": "stdout",
     "output_type": "stream",
     "text": [
      "Epoch: [4][4800/8042] Elapsed 52m 7s (remain 35m 11s) Loss: 0.0028(0.0053) Grad Norm: 16614.5215  LR: 9.801822460533523e-06\n"
     ]
    },
    {
     "name": "stdout",
     "output_type": "stream",
     "text": [
      "Epoch: [4][4900/8042] Elapsed 53m 15s (remain 34m 8s) Loss: 0.0019(0.0053) Grad Norm: 110382.6797  LR: 9.800459104265571e-06\n"
     ]
    },
    {
     "name": "stdout",
     "output_type": "stream",
     "text": [
      "Epoch: [4][5000/8042] Elapsed 54m 23s (remain 33m 4s) Loss: 0.0086(0.0053) Grad Norm: 652237.1250  LR: 9.799091169949393e-06\n"
     ]
    },
    {
     "name": "stdout",
     "output_type": "stream",
     "text": [
      "Epoch: [4][5100/8042] Elapsed 55m 31s (remain 32m 1s) Loss: 0.0098(0.0053) Grad Norm: 269340.5312  LR: 9.797718658889545e-06\n"
     ]
    },
    {
     "name": "stdout",
     "output_type": "stream",
     "text": [
      "Epoch: [4][5200/8042] Elapsed 56m 39s (remain 30m 56s) Loss: 0.0081(0.0054) Grad Norm: 129488.2031  LR: 9.796341572394949e-06\n"
     ]
    },
    {
     "name": "stdout",
     "output_type": "stream",
     "text": [
      "Epoch: [4][5300/8042] Elapsed 57m 46s (remain 29m 52s) Loss: 0.0000(0.0054) Grad Norm: 739.3557  LR: 9.794959911778888e-06\n"
     ]
    },
    {
     "name": "stdout",
     "output_type": "stream",
     "text": [
      "Epoch: [4][5400/8042] Elapsed 58m 53s (remain 28m 47s) Loss: 0.0018(0.0054) Grad Norm: 33012.0430  LR: 9.793573678359009e-06\n"
     ]
    },
    {
     "name": "stdout",
     "output_type": "stream",
     "text": [
      "Epoch: [4][5500/8042] Elapsed 60m 2s (remain 27m 43s) Loss: 0.0024(0.0054) Grad Norm: 25034.1035  LR: 9.792182873457322e-06\n"
     ]
    },
    {
     "name": "stdout",
     "output_type": "stream",
     "text": [
      "Epoch: [4][5600/8042] Elapsed 61m 10s (remain 26m 39s) Loss: 0.0143(0.0054) Grad Norm: 254348.1406  LR: 9.790787498400192e-06\n"
     ]
    },
    {
     "name": "stdout",
     "output_type": "stream",
     "text": [
      "Epoch: [4][5700/8042] Elapsed 62m 20s (remain 25m 35s) Loss: 0.0015(0.0054) Grad Norm: 40443.0469  LR: 9.789387554518343e-06\n"
     ]
    },
    {
     "name": "stdout",
     "output_type": "stream",
     "text": [
      "Epoch: [4][5800/8042] Elapsed 63m 29s (remain 24m 31s) Loss: 0.0026(0.0054) Grad Norm: 47627.0781  LR: 9.787983043146863e-06\n"
     ]
    },
    {
     "name": "stdout",
     "output_type": "stream",
     "text": [
      "Epoch: [4][5900/8042] Elapsed 64m 35s (remain 23m 26s) Loss: 0.0063(0.0053) Grad Norm: 105478.2266  LR: 9.786573965625186e-06\n"
     ]
    },
    {
     "name": "stdout",
     "output_type": "stream",
     "text": [
      "Epoch: [4][6000/8042] Elapsed 65m 41s (remain 22m 20s) Loss: 0.0035(0.0053) Grad Norm: 82880.1797  LR: 9.785160323297107e-06\n"
     ]
    },
    {
     "name": "stdout",
     "output_type": "stream",
     "text": [
      "Epoch: [4][6100/8042] Elapsed 66m 45s (remain 21m 14s) Loss: 0.0000(0.0053) Grad Norm: 1082.4861  LR: 9.783742117510772e-06\n"
     ]
    },
    {
     "name": "stdout",
     "output_type": "stream",
     "text": [
      "Epoch: [4][6200/8042] Elapsed 67m 48s (remain 20m 7s) Loss: 0.0013(0.0053) Grad Norm: 84880.3438  LR: 9.782319349618681e-06\n"
     ]
    },
    {
     "name": "stdout",
     "output_type": "stream",
     "text": [
      "Epoch: [4][6300/8042] Elapsed 68m 53s (remain 19m 2s) Loss: 0.0018(0.0053) Grad Norm: 236416.1250  LR: 9.780892020977682e-06\n"
     ]
    },
    {
     "name": "stdout",
     "output_type": "stream",
     "text": [
      "Epoch: [4][6400/8042] Elapsed 69m 57s (remain 17m 56s) Loss: 0.0010(0.0053) Grad Norm: 51404.7500  LR: 9.779460132948974e-06\n"
     ]
    },
    {
     "name": "stdout",
     "output_type": "stream",
     "text": [
      "Epoch: [4][6500/8042] Elapsed 71m 0s (remain 16m 49s) Loss: 0.0028(0.0053) Grad Norm: 64815.2812  LR: 9.778023686898106e-06\n"
     ]
    },
    {
     "name": "stdout",
     "output_type": "stream",
     "text": [
      "Epoch: [4][6600/8042] Elapsed 72m 4s (remain 15m 44s) Loss: 0.0064(0.0053) Grad Norm: 184972.4062  LR: 9.77658268419497e-06\n"
     ]
    },
    {
     "name": "stdout",
     "output_type": "stream",
     "text": [
      "Epoch: [4][6700/8042] Elapsed 73m 9s (remain 14m 38s) Loss: 0.0011(0.0053) Grad Norm: 62624.5820  LR: 9.775137126213805e-06\n"
     ]
    },
    {
     "name": "stdout",
     "output_type": "stream",
     "text": [
      "Epoch: [4][6800/8042] Elapsed 74m 14s (remain 13m 32s) Loss: 0.0025(0.0053) Grad Norm: 39332.1055  LR: 9.773687014333194e-06\n"
     ]
    },
    {
     "name": "stdout",
     "output_type": "stream",
     "text": [
      "Epoch: [4][6900/8042] Elapsed 75m 19s (remain 12m 27s) Loss: 0.0146(0.0053) Grad Norm: 163456.7188  LR: 9.772232349936067e-06\n"
     ]
    },
    {
     "name": "stdout",
     "output_type": "stream",
     "text": [
      "Epoch: [4][7000/8042] Elapsed 76m 22s (remain 11m 21s) Loss: 0.0020(0.0053) Grad Norm: 146190.1719  LR: 9.770773134409688e-06\n"
     ]
    },
    {
     "name": "stdout",
     "output_type": "stream",
     "text": [
      "Epoch: [4][7100/8042] Elapsed 77m 28s (remain 10m 15s) Loss: 0.0007(0.0053) Grad Norm: 35188.7812  LR: 9.769309369145667e-06\n"
     ]
    },
    {
     "name": "stdout",
     "output_type": "stream",
     "text": [
      "Epoch: [4][7200/8042] Elapsed 78m 34s (remain 9m 10s) Loss: 0.0384(0.0053) Grad Norm: 1012404.6250  LR: 9.767841055539952e-06\n"
     ]
    },
    {
     "name": "stdout",
     "output_type": "stream",
     "text": [
      "Epoch: [4][7300/8042] Elapsed 79m 39s (remain 8m 5s) Loss: 0.0001(0.0053) Grad Norm: 5900.2134  LR: 9.766368194992828e-06\n"
     ]
    },
    {
     "name": "stdout",
     "output_type": "stream",
     "text": [
      "Epoch: [4][7400/8042] Elapsed 80m 44s (remain 6m 59s) Loss: 0.0006(0.0053) Grad Norm: 51682.2656  LR: 9.764890788908916e-06\n"
     ]
    },
    {
     "name": "stdout",
     "output_type": "stream",
     "text": [
      "Epoch: [4][7500/8042] Elapsed 81m 52s (remain 5m 54s) Loss: 0.0074(0.0052) Grad Norm: 596826.8750  LR: 9.76340883869717e-06\n"
     ]
    },
    {
     "name": "stdout",
     "output_type": "stream",
     "text": [
      "Epoch: [4][7600/8042] Elapsed 82m 57s (remain 4m 48s) Loss: 0.0001(0.0052) Grad Norm: 21822.2891  LR: 9.761922345770883e-06\n"
     ]
    },
    {
     "name": "stdout",
     "output_type": "stream",
     "text": [
      "Epoch: [4][7700/8042] Elapsed 84m 2s (remain 3m 43s) Loss: 0.0012(0.0052) Grad Norm: 86300.1641  LR: 9.760431311547675e-06\n"
     ]
    },
    {
     "name": "stdout",
     "output_type": "stream",
     "text": [
      "Epoch: [4][7800/8042] Elapsed 85m 7s (remain 2m 37s) Loss: 0.0004(0.0052) Grad Norm: 34925.7617  LR: 9.7589357374495e-06\n"
     ]
    },
    {
     "name": "stdout",
     "output_type": "stream",
     "text": [
      "Epoch: [4][7900/8042] Elapsed 86m 11s (remain 1m 32s) Loss: 0.0040(0.0052) Grad Norm: 126483.8281  LR: 9.757435624902638e-06\n"
     ]
    },
    {
     "name": "stdout",
     "output_type": "stream",
     "text": [
      "Epoch: [4][8000/8042] Elapsed 87m 13s (remain 0m 26s) Loss: 0.0007(0.0052) Grad Norm: 111470.1953  LR: 9.755930975337703e-06\n"
     ]
    },
    {
     "name": "stdout",
     "output_type": "stream",
     "text": [
      "Epoch: [4][8041/8042] Elapsed 87m 39s (remain 0m 0s) Loss: 0.0016(0.0052) Grad Norm: 113459.7969  LR: 9.755312757924054e-06\n",
      "Epoch 4 completed. Average loss: 0.0052\n",
      "Starting evaluation\n",
      "Starting validation...\n"
     ]
    },
    {
     "name": "stdout",
     "output_type": "stream",
     "text": [
      "EVAL: [0/2011] Elapsed 0m 0s (remain 28m 7s) Loss: 0.0068(0.0068) \n"
     ]
    },
    {
     "name": "stdout",
     "output_type": "stream",
     "text": [
      "EVAL: [100/2011] Elapsed 0m 45s (remain 14m 16s) Loss: -0.0002(0.0126) \n"
     ]
    },
    {
     "name": "stdout",
     "output_type": "stream",
     "text": [
      "EVAL: [200/2011] Elapsed 1m 28s (remain 13m 19s) Loss: 0.0028(0.0155) \n"
     ]
    },
    {
     "name": "stdout",
     "output_type": "stream",
     "text": [
      "EVAL: [300/2011] Elapsed 2m 12s (remain 12m 31s) Loss: 0.0050(0.0145) \n"
     ]
    },
    {
     "name": "stdout",
     "output_type": "stream",
     "text": [
      "EVAL: [400/2011] Elapsed 2m 56s (remain 11m 47s) Loss: 0.0030(0.0123) \n"
     ]
    },
    {
     "name": "stdout",
     "output_type": "stream",
     "text": [
      "EVAL: [500/2011] Elapsed 3m 41s (remain 11m 6s) Loss: 0.0002(0.0113) \n"
     ]
    },
    {
     "name": "stdout",
     "output_type": "stream",
     "text": [
      "EVAL: [600/2011] Elapsed 4m 25s (remain 10m 23s) Loss: 0.0039(0.0100) \n"
     ]
    },
    {
     "name": "stdout",
     "output_type": "stream",
     "text": [
      "EVAL: [700/2011] Elapsed 5m 10s (remain 9m 39s) Loss: 0.0004(0.0092) \n"
     ]
    },
    {
     "name": "stdout",
     "output_type": "stream",
     "text": [
      "EVAL: [800/2011] Elapsed 5m 55s (remain 8m 57s) Loss: 0.0013(0.0085) \n"
     ]
    },
    {
     "name": "stdout",
     "output_type": "stream",
     "text": [
      "EVAL: [900/2011] Elapsed 6m 40s (remain 8m 13s) Loss: 0.0058(0.0079) \n"
     ]
    },
    {
     "name": "stdout",
     "output_type": "stream",
     "text": [
      "EVAL: [1000/2011] Elapsed 7m 24s (remain 7m 28s) Loss: -0.0003(0.0076) \n"
     ]
    },
    {
     "name": "stdout",
     "output_type": "stream",
     "text": [
      "EVAL: [1100/2011] Elapsed 8m 8s (remain 6m 43s) Loss: 0.0154(0.0077) \n"
     ]
    },
    {
     "name": "stdout",
     "output_type": "stream",
     "text": [
      "EVAL: [1200/2011] Elapsed 8m 52s (remain 5m 59s) Loss: 0.0003(0.0076) \n"
     ]
    },
    {
     "name": "stdout",
     "output_type": "stream",
     "text": [
      "EVAL: [1300/2011] Elapsed 9m 36s (remain 5m 14s) Loss: 0.0106(0.0076) \n"
     ]
    },
    {
     "name": "stdout",
     "output_type": "stream",
     "text": [
      "EVAL: [1400/2011] Elapsed 10m 21s (remain 4m 30s) Loss: 0.0004(0.0076) \n"
     ]
    },
    {
     "name": "stdout",
     "output_type": "stream",
     "text": [
      "EVAL: [1500/2011] Elapsed 11m 5s (remain 3m 46s) Loss: 0.0032(0.0074) \n"
     ]
    },
    {
     "name": "stdout",
     "output_type": "stream",
     "text": [
      "EVAL: [1600/2011] Elapsed 11m 49s (remain 3m 1s) Loss: 0.0006(0.0075) \n"
     ]
    },
    {
     "name": "stdout",
     "output_type": "stream",
     "text": [
      "EVAL: [1700/2011] Elapsed 12m 33s (remain 2m 17s) Loss: 0.0038(0.0074) \n"
     ]
    },
    {
     "name": "stdout",
     "output_type": "stream",
     "text": [
      "EVAL: [1800/2011] Elapsed 13m 17s (remain 1m 32s) Loss: 0.0004(0.0073) \n"
     ]
    },
    {
     "name": "stdout",
     "output_type": "stream",
     "text": [
      "EVAL: [1900/2011] Elapsed 14m 1s (remain 0m 48s) Loss: 0.0011(0.0071) \n"
     ]
    },
    {
     "name": "stdout",
     "output_type": "stream",
     "text": [
      "EVAL: [2000/2011] Elapsed 14m 45s (remain 0m 4s) Loss: 0.0015(0.0069) \n"
     ]
    },
    {
     "name": "stdout",
     "output_type": "stream",
     "text": [
      "EVAL: [2010/2011] Elapsed 14m 50s (remain 0m 0s) Loss: 0.0024(0.0069) \n"
     ]
    },
    {
     "name": "stderr",
     "output_type": "stream",
     "text": [
      "Epoch 4 - avg_train_loss: 0.0052  avg_val_loss: 0.0069  time: 6164s\n"
     ]
    },
    {
     "name": "stderr",
     "output_type": "stream",
     "text": [
      "Epoch 4 - Score: 0.9504\n"
     ]
    },
    {
     "name": "stderr",
     "output_type": "stream",
     "text": [
      "Epoch 4 - Save Best Score: 0.9504 Model\n"
     ]
    },
    {
     "name": "stderr",
     "output_type": "stream",
     "text": [
      "========== fold: 0 result ==========\n"
     ]
    },
    {
     "name": "stderr",
     "output_type": "stream",
     "text": [
      "Score: 0.9504\n"
     ]
    },
    {
     "name": "stderr",
     "output_type": "stream",
     "text": [
      "========== CV ==========\n"
     ]
    },
    {
     "name": "stderr",
     "output_type": "stream",
     "text": [
      "Score: 0.9504\n"
     ]
    },
    {
     "name": "stderr",
     "output_type": "stream",
     "text": [
      "\u001b[34m\u001b[1mwandb\u001b[0m:                                                                                \n"
     ]
    },
    {
     "name": "stderr",
     "output_type": "stream",
     "text": [
      "\u001b[34m\u001b[1mwandb\u001b[0m: \n",
      "\u001b[34m\u001b[1mwandb\u001b[0m: Run history:\n",
      "\u001b[34m\u001b[1mwandb\u001b[0m: [fold0] avg_train_loss █▃▂▁\n",
      "\u001b[34m\u001b[1mwandb\u001b[0m:   [fold0] avg_val_loss █▂▁▂\n",
      "\u001b[34m\u001b[1mwandb\u001b[0m:          [fold0] epoch ▁▃▆█\n",
      "\u001b[34m\u001b[1mwandb\u001b[0m:          [fold0] score ▁▆██\n",
      "\u001b[34m\u001b[1mwandb\u001b[0m: \n",
      "\u001b[34m\u001b[1mwandb\u001b[0m: Run summary:\n",
      "\u001b[34m\u001b[1mwandb\u001b[0m: [fold0] avg_train_loss 0.00521\n",
      "\u001b[34m\u001b[1mwandb\u001b[0m:   [fold0] avg_val_loss 0.0069\n",
      "\u001b[34m\u001b[1mwandb\u001b[0m:          [fold0] epoch 4\n",
      "\u001b[34m\u001b[1mwandb\u001b[0m:          [fold0] score 0.95044\n",
      "\u001b[34m\u001b[1mwandb\u001b[0m: \n"
     ]
    },
    {
     "name": "stderr",
     "output_type": "stream",
     "text": [
      "\u001b[34m\u001b[1mwandb\u001b[0m: 🚀 View run \u001b[33manswerdotai/ModernBERT-base\u001b[0m at: \u001b[34m\u001b[4mhttps://wandb.ai/project-zero/NBME-Public/runs/4ym6uuzz?apiKey=93189478594090aa7c369a5a7c30ee204eb7d192\u001b[0m\n",
      "\u001b[34m\u001b[1mwandb\u001b[0m: ⭐️ View project at: \u001b[34m\u001b[4mhttps://wandb.ai/project-zero/NBME-Public?apiKey=93189478594090aa7c369a5a7c30ee204eb7d192\u001b[0m\n",
      "\u001b[34m\u001b[1mwandb\u001b[0m: Synced 5 W&B file(s), 0 media file(s), 0 artifact file(s) and 0 other file(s)\n"
     ]
    },
    {
     "name": "stderr",
     "output_type": "stream",
     "text": [
      "\u001b[34m\u001b[1mwandb\u001b[0m: Find logs at: \u001b[35m\u001b[1m./wandb/run-20250211_224808-4ym6uuzz/logs\u001b[0m\n"
     ]
    }
   ],
   "source": [
    "if __name__ == '__main__':\n",
    "    CFG.debug = True\n",
    "\n",
    "    if CFG.train:\n",
    "        oof_df = pd.DataFrame()\n",
    "\n",
    "        # Run training for a single fold in debug mode or multiple folds otherwise\n",
    "        if CFG.debug:\n",
    "            fold = 0  # In debug mode, we only use fold 0\n",
    "            if fold in CFG.trn_fold:\n",
    "                oof_df = run_fold_training(oof_df, fold)\n",
    "        else:\n",
    "            for fold in range(CFG.n_fold):  # For all folds in non-debug mode\n",
    "                if fold in CFG.trn_fold:\n",
    "                    oof_df = run_fold_training(oof_df, fold)\n",
    "\n",
    "        # Final evaluation and saving results\n",
    "        oof_df = oof_df.reset_index(drop=True)\n",
    "        LOGGER.info(f\"========== CV ==========\")\n",
    "        evaluate_results(oof_df)  # Final evaluation of all results\n",
    "        oof_df.to_pickle(OUTPUT_DIR + 'oof_df.pkl')\n",
    "\n",
    "    if CFG.wandb:\n",
    "        wandb.finish()"
   ]
  },
  {
   "cell_type": "code",
   "execution_count": null,
   "id": "268968c2",
   "metadata": {
    "papermill": {
     "duration": 0.032788,
     "end_time": "2025-02-12T05:37:18.123147",
     "exception": false,
     "start_time": "2025-02-12T05:37:18.090359",
     "status": "completed"
    },
    "tags": []
   },
   "outputs": [],
   "source": []
  }
 ],
 "metadata": {
  "kaggle": {
   "accelerator": "none",
   "dataSources": [
    {
     "databundleVersionId": 3075283,
     "sourceId": 33607,
     "sourceType": "competition"
    },
    {
     "isSourceIdPinned": true,
     "modelId": 49736,
     "modelInstanceId": 35444,
     "sourceId": 42188,
     "sourceType": "modelInstanceVersion"
    }
   ],
   "isGpuEnabled": false,
   "isInternetEnabled": true,
   "language": "python",
   "sourceType": "notebook"
  },
  "kernelspec": {
   "display_name": "modern_bert",
   "language": "python",
   "name": "python3"
  },
  "language_info": {
   "codemirror_mode": {
    "name": "ipython",
    "version": 3
   },
   "file_extension": ".py",
   "mimetype": "text/x-python",
   "name": "python",
   "nbconvert_exporter": "python",
   "pygments_lexer": "ipython3",
   "version": "3.11.11"
  },
  "papermill": {
   "default_parameters": {},
   "duration": 24567.544368,
   "end_time": "2025-02-12T05:37:21.204290",
   "environment_variables": {},
   "exception": null,
   "input_path": "notebooks/modern-bert-train-pseudo.ipynb",
   "output_path": "modern-bert-train-pseudo.ipynb",
   "parameters": {},
   "start_time": "2025-02-11T22:47:53.659922",
   "version": "2.6.0"
  }
 },
 "nbformat": 4,
 "nbformat_minor": 5
}