{
 "cells": [
  {
   "cell_type": "markdown",
   "id": "bb9f135d",
   "metadata": {
    "papermill": {
     "duration": 0.01322,
     "end_time": "2025-02-11T21:11:03.397693",
     "exception": false,
     "start_time": "2025-02-11T21:11:03.384473",
     "status": "completed"
    },
    "tags": []
   },
   "source": [
    "# Trainining on all dataset ModernBERT"
   ]
  },
  {
   "cell_type": "markdown",
   "id": "466e4758",
   "metadata": {
    "papermill": {
     "duration": 0.01315,
     "end_time": "2025-02-11T21:11:03.423014",
     "exception": false,
     "start_time": "2025-02-11T21:11:03.409864",
     "status": "completed"
    },
    "tags": []
   },
   "source": [
    "\n",
    "\n",
    "![Comparison of BERT variants in 2025](https://huggingface.co/datasets/huggingface/documentation-images/resolve/main/blog/modernbert/modernbert_pareto_curve.png)"
   ]
  },
  {
   "cell_type": "markdown",
   "id": "f04ba0fe",
   "metadata": {
    "papermill": {
     "duration": 0.009609,
     "end_time": "2025-02-11T21:11:03.442183",
     "exception": false,
     "start_time": "2025-02-11T21:11:03.432574",
     "status": "completed"
    },
    "tags": []
   },
   "source": [
    "# Directory settings"
   ]
  },
  {
   "cell_type": "code",
   "execution_count": 1,
   "id": "6e9f76c4",
   "metadata": {
    "execution": {
     "iopub.execute_input": "2025-02-11T21:11:03.462839Z",
     "iopub.status.busy": "2025-02-11T21:11:03.462427Z",
     "iopub.status.idle": "2025-02-11T21:11:03.473300Z",
     "shell.execute_reply": "2025-02-11T21:11:03.472464Z"
    },
    "papermill": {
     "duration": 0.022234,
     "end_time": "2025-02-11T21:11:03.474357",
     "exception": false,
     "start_time": "2025-02-11T21:11:03.452123",
     "status": "completed"
    },
    "tags": []
   },
   "outputs": [],
   "source": [
    "# ====================================================\n",
    "# Directory settings\n",
    "# ====================================================\n",
    "import os, shutil\n",
    "\n",
    "OUTPUT_DIR = os.path.join(os.path.dirname(os.getcwd()), 'modern-bert/')\n",
    "if not os.path.exists(OUTPUT_DIR):\n",
    "    os.makedirs(OUTPUT_DIR)\n",
    "\n",
    "for item in os.listdir(OUTPUT_DIR):\n",
    "    item_path = os.path.join(OUTPUT_DIR, item)\n",
    "    if os.path.isfile(item_path):  # If it's a file, remove it\n",
    "        os.remove(item_path)\n",
    "        print(f\"Removed file: {item}\")\n",
    "    elif os.path.isdir(item_path):  # If it's a directory, remove it\n",
    "        shutil.rmtree(item_path)\n",
    "        print(f\"Removed folder: {item}\")"
   ]
  },
  {
   "cell_type": "markdown",
   "id": "eeda2ce7",
   "metadata": {
    "papermill": {
     "duration": 0.00852,
     "end_time": "2025-02-11T21:11:03.492935",
     "exception": false,
     "start_time": "2025-02-11T21:11:03.484415",
     "status": "completed"
    },
    "tags": []
   },
   "source": [
    "# Library"
   ]
  },
  {
   "cell_type": "code",
   "execution_count": 2,
   "id": "3b07be31",
   "metadata": {
    "execution": {
     "iopub.execute_input": "2025-02-11T21:11:03.519129Z",
     "iopub.status.busy": "2025-02-11T21:11:03.518811Z",
     "iopub.status.idle": "2025-02-11T21:11:16.041042Z",
     "shell.execute_reply": "2025-02-11T21:11:16.040241Z"
    },
    "papermill": {
     "duration": 12.535025,
     "end_time": "2025-02-11T21:11:16.042093",
     "exception": false,
     "start_time": "2025-02-11T21:11:03.507068",
     "status": "completed"
    },
    "tags": []
   },
   "outputs": [
    {
     "name": "stdout",
     "output_type": "stream",
     "text": [
      "Found existing installation: transformers 4.48.3\n"
     ]
    },
    {
     "name": "stdout",
     "output_type": "stream",
     "text": [
      "Uninstalling transformers-4.48.3:\n",
      "  Successfully uninstalled transformers-4.48.3\n"
     ]
    },
    {
     "name": "stderr",
     "output_type": "stream",
     "text": [
      "\u001b[33mWARNING: Running pip as the 'root' user can result in broken permissions and conflicting behaviour with the system package manager, possibly rendering your system unusable. It is recommended to use a virtual environment instead: https://pip.pypa.io/warnings/venv. Use the --root-user-action option if you know what you are doing and want to suppress this warning.\u001b[0m\u001b[33m\n",
      "\u001b[0m"
     ]
    },
    {
     "name": "stderr",
     "output_type": "stream",
     "text": [
      "\u001b[33mWARNING: Running pip as the 'root' user can result in broken permissions and conflicting behaviour with the system package manager, possibly rendering your system unusable. It is recommended to use a virtual environment instead: https://pip.pypa.io/warnings/venv. Use the --root-user-action option if you know what you are doing and want to suppress this warning.\u001b[0m\u001b[33m\n",
      "\u001b[0m"
     ]
    },
    {
     "name": "stderr",
     "output_type": "stream",
     "text": [
      "\u001b[33mWARNING: Skipping tokenizer as it is not installed.\u001b[0m\u001b[33m\n",
      "\u001b[0m\u001b[33mWARNING: Running pip as the 'root' user can result in broken permissions and conflicting behaviour with the system package manager, possibly rendering your system unusable. It is recommended to use a virtual environment instead: https://pip.pypa.io/warnings/venv. Use the --root-user-action option if you know what you are doing and want to suppress this warning.\u001b[0m\u001b[33m\n",
      "\u001b[0m"
     ]
    },
    {
     "name": "stdout",
     "output_type": "stream",
     "text": [
      "Requirement already satisfied: tokenizers in /root/miniconda3/envs/modern_bert/lib/python3.11/site-packages (0.21.0)\n",
      "Requirement already satisfied: huggingface-hub<1.0,>=0.16.4 in /root/miniconda3/envs/modern_bert/lib/python3.11/site-packages (from tokenizers) (0.28.1)\n",
      "Requirement already satisfied: filelock in /root/miniconda3/envs/modern_bert/lib/python3.11/site-packages (from huggingface-hub<1.0,>=0.16.4->tokenizers) (3.17.0)\n",
      "Requirement already satisfied: fsspec>=2023.5.0 in /root/miniconda3/envs/modern_bert/lib/python3.11/site-packages (from huggingface-hub<1.0,>=0.16.4->tokenizers) (2025.2.0)\n",
      "Requirement already satisfied: packaging>=20.9 in /root/miniconda3/envs/modern_bert/lib/python3.11/site-packages (from huggingface-hub<1.0,>=0.16.4->tokenizers) (24.2)\n",
      "Requirement already satisfied: pyyaml>=5.1 in /root/miniconda3/envs/modern_bert/lib/python3.11/site-packages (from huggingface-hub<1.0,>=0.16.4->tokenizers) (6.0.2)\n",
      "Requirement already satisfied: requests in /root/miniconda3/envs/modern_bert/lib/python3.11/site-packages (from huggingface-hub<1.0,>=0.16.4->tokenizers) (2.32.3)\n",
      "Requirement already satisfied: tqdm>=4.42.1 in /root/miniconda3/envs/modern_bert/lib/python3.11/site-packages (from huggingface-hub<1.0,>=0.16.4->tokenizers) (4.67.1)\n",
      "Requirement already satisfied: typing-extensions>=3.7.4.3 in /root/miniconda3/envs/modern_bert/lib/python3.11/site-packages (from huggingface-hub<1.0,>=0.16.4->tokenizers) (4.12.2)\n",
      "Requirement already satisfied: charset-normalizer<4,>=2 in /root/miniconda3/envs/modern_bert/lib/python3.11/site-packages (from requests->huggingface-hub<1.0,>=0.16.4->tokenizers) (3.4.1)\n",
      "Requirement already satisfied: idna<4,>=2.5 in /root/miniconda3/envs/modern_bert/lib/python3.11/site-packages (from requests->huggingface-hub<1.0,>=0.16.4->tokenizers) (3.10)\n",
      "Requirement already satisfied: urllib3<3,>=1.21.1 in /root/miniconda3/envs/modern_bert/lib/python3.11/site-packages (from requests->huggingface-hub<1.0,>=0.16.4->tokenizers) (2.3.0)\n",
      "Requirement already satisfied: certifi>=2017.4.17 in /root/miniconda3/envs/modern_bert/lib/python3.11/site-packages (from requests->huggingface-hub<1.0,>=0.16.4->tokenizers) (2025.1.31)\n"
     ]
    },
    {
     "name": "stderr",
     "output_type": "stream",
     "text": [
      "\u001b[33mWARNING: Running pip as the 'root' user can result in broken permissions and conflicting behaviour with the system package manager, possibly rendering your system unusable. It is recommended to use a virtual environment instead: https://pip.pypa.io/warnings/venv. Use the --root-user-action option if you know what you are doing and want to suppress this warning.\u001b[0m\u001b[33m\n",
      "\u001b[0m"
     ]
    },
    {
     "name": "stdout",
     "output_type": "stream",
     "text": [
      "tokenizers.__version__: 0.21.0\n",
      "transformers.__version__: 4.48.3\n"
     ]
    },
    {
     "name": "stdout",
     "output_type": "stream",
     "text": [
      "env: TOKENIZERS_PARALLELISM=true\n"
     ]
    }
   ],
   "source": [
    "# ====================================================\n",
    "# Library\n",
    "# ====================================================\n",
    "import os\n",
    "import gc\n",
    "import re\n",
    "import ast\n",
    "import sys\n",
    "import copy\n",
    "import json\n",
    "import time\n",
    "import math\n",
    "import string\n",
    "import pickle\n",
    "import random\n",
    "import joblib\n",
    "import itertools\n",
    "import warnings\n",
    "warnings.filterwarnings(\"ignore\")\n",
    "\n",
    "import scipy as sp\n",
    "import numpy as np\n",
    "import pandas as pd\n",
    "pd.set_option('display.max_rows', 500)\n",
    "pd.set_option('display.max_columns', 500)\n",
    "pd.set_option('display.width', 1000)\n",
    "from tqdm.auto import tqdm\n",
    "from sklearn.metrics import f1_score\n",
    "from sklearn.model_selection import StratifiedKFold, GroupKFold, KFold\n",
    "\n",
    "import torch\n",
    "import torch.nn as nn\n",
    "from torch.nn import Parameter\n",
    "import torch.nn.functional as F\n",
    "from torch.optim import Adam, SGD, AdamW\n",
    "from torch.utils.data import DataLoader, Dataset\n",
    "\n",
    "os.system('pip uninstall -y transformers')\n",
    "os.system('python -m pip install transformers>=4.48.0')\n",
    "os.system('pip uninstall -y tokenizer')\n",
    "os.system('python -m pip install tokenizers')\n",
    "import tokenizers\n",
    "import transformers\n",
    "print(f\"tokenizers.__version__: {tokenizers.__version__}\")\n",
    "print(f\"transformers.__version__: {transformers.__version__}\")\n",
    "from transformers import AutoTokenizer, AutoModel, AutoConfig\n",
    "from transformers import get_linear_schedule_with_warmup, get_cosine_schedule_with_warmup\n",
    "%env TOKENIZERS_PARALLELISM=true\n",
    "\n",
    "device = torch.device('cuda' if torch.cuda.is_available() else 'cpu')"
   ]
  },
  {
   "cell_type": "code",
   "execution_count": 3,
   "id": "46d58787",
   "metadata": {
    "execution": {
     "iopub.execute_input": "2025-02-11T21:11:16.066842Z",
     "iopub.status.busy": "2025-02-11T21:11:16.066242Z",
     "iopub.status.idle": "2025-02-11T21:11:16.270435Z",
     "shell.execute_reply": "2025-02-11T21:11:16.269730Z"
    },
    "papermill": {
     "duration": 0.216454,
     "end_time": "2025-02-11T21:11:16.271643",
     "exception": false,
     "start_time": "2025-02-11T21:11:16.055189",
     "status": "completed"
    },
    "tags": []
   },
   "outputs": [],
   "source": [
    "# ====================================================\n",
    "# CFG\n",
    "# ====================================================\n",
    "class CFG:\n",
    "    wandb=True\n",
    "    competition='NBME'\n",
    "    _wandb_kernel='zehra'\n",
    "    debug=False\n",
    "    apex=True\n",
    "    print_freq=100\n",
    "    num_workers=4\n",
    "    # model=\"/kaggle/input/deberta-v3-large/pytorch/0501/1\" # if running on Kaggle, use this path \n",
    "    model = \"answerdotai/ModernBERT-base\" # if running on local machine, use this path  \n",
    "    scheduler='cosine' # ['linear', 'cosine']\n",
    "    batch_scheduler=True\n",
    "    num_cycles=1 #0.05\n",
    "    num_warmup_steps=0\n",
    "    epochs=5\n",
    "    encoder_lr = 1e-5 #encoder_lr=2e-5\n",
    "    decoder_lr=2e-5\n",
    "    min_lr=1e-6\n",
    "    eps=1e-6\n",
    "    betas=(0.9, 0.999)\n",
    "    batch_size = 12 #batch_size=16\n",
    "    fc_dropout=0.2\n",
    "    max_len=512\n",
    "    weight_decay=0.1 #0.01\n",
    "    gradient_accumulation_steps=2 #1\n",
    "    max_grad_norm=1000\n",
    "    seed=42\n",
    "    n_fold=5\n",
    "    trn_fold=[0, 1, 2, 3, 4]\n",
    "    train=True\n",
    "    \n",
    "if CFG.debug:\n",
    "    CFG.epochs = 3\n",
    "    CFG.trn_fold = [0]\n",
    "\n",
    "# ====================================================\n",
    "# tokenizer\n",
    "# ====================================================\n",
    "tokenizer = AutoTokenizer.from_pretrained(CFG.model)\n",
    "tokenizer.save_pretrained(OUTPUT_DIR+'tokenizer/')\n",
    "CFG.tokenizer = tokenizer"
   ]
  },
  {
   "cell_type": "code",
   "execution_count": 4,
   "id": "a015d6a1",
   "metadata": {
    "execution": {
     "iopub.execute_input": "2025-02-11T21:11:16.295750Z",
     "iopub.status.busy": "2025-02-11T21:11:16.295398Z",
     "iopub.status.idle": "2025-02-11T21:11:18.453375Z",
     "shell.execute_reply": "2025-02-11T21:11:18.452435Z"
    },
    "papermill": {
     "duration": 2.169934,
     "end_time": "2025-02-11T21:11:18.454547",
     "exception": false,
     "start_time": "2025-02-11T21:11:16.284613",
     "status": "completed"
    },
    "tags": []
   },
   "outputs": [
    {
     "name": "stdout",
     "output_type": "stream",
     "text": [
      "If you want to use your W&B account, create a .env file in the parent folder and provide your W&B access token as WANDB_API_KEY. \n",
      "Get your W&B access token from here: https://wandb.ai/authorize\n"
     ]
    },
    {
     "name": "stderr",
     "output_type": "stream",
     "text": [
      "\u001b[34m\u001b[1mwandb\u001b[0m: Currently logged in as: \u001b[33mzehrakorkusuz\u001b[0m (\u001b[33mproject-zero\u001b[0m) to \u001b[32mhttps://api.wandb.ai\u001b[0m. Use \u001b[1m`wandb login --relogin`\u001b[0m to force relogin\n"
     ]
    },
    {
     "name": "stderr",
     "output_type": "stream",
     "text": [
      "\u001b[34m\u001b[1mwandb\u001b[0m: Using wandb-core as the SDK backend.  Please refer to https://wandb.me/wandb-core for more information.\n"
     ]
    },
    {
     "name": "stderr",
     "output_type": "stream",
     "text": [
      "\u001b[34m\u001b[1mwandb\u001b[0m: Tracking run with wandb version 0.19.6\n"
     ]
    },
    {
     "name": "stderr",
     "output_type": "stream",
     "text": [
      "\u001b[34m\u001b[1mwandb\u001b[0m: Run data is saved locally in \u001b[35m\u001b[1m/workspace/wandb/run-20250211_211117-bnksm6wu\u001b[0m\n",
      "\u001b[34m\u001b[1mwandb\u001b[0m: Run \u001b[1m`wandb offline`\u001b[0m to turn off syncing.\n"
     ]
    },
    {
     "name": "stderr",
     "output_type": "stream",
     "text": [
      "\u001b[34m\u001b[1mwandb\u001b[0m: Syncing run \u001b[33manswerdotai/ModernBERT-base\u001b[0m\n"
     ]
    },
    {
     "name": "stderr",
     "output_type": "stream",
     "text": [
      "\u001b[34m\u001b[1mwandb\u001b[0m: ⭐️ View project at \u001b[34m\u001b[4mhttps://wandb.ai/project-zero/NBME-Public?apiKey=93189478594090aa7c369a5a7c30ee204eb7d192\u001b[0m\n"
     ]
    },
    {
     "name": "stderr",
     "output_type": "stream",
     "text": [
      "\u001b[34m\u001b[1mwandb\u001b[0m: 🚀 View run at \u001b[34m\u001b[4mhttps://wandb.ai/project-zero/NBME-Public/runs/bnksm6wu?apiKey=93189478594090aa7c369a5a7c30ee204eb7d192\u001b[0m\n"
     ]
    },
    {
     "name": "stderr",
     "output_type": "stream",
     "text": [
      "\u001b[34m\u001b[1mwandb\u001b[0m: \u001b[33mWARNING\u001b[0m Do NOT share these links with anyone. They can be used to claim your runs.\n"
     ]
    }
   ],
   "source": [
    "# ====================================================\n",
    "# wandb: local notebook login\n",
    "# ====================================================\n",
    "if CFG.wandb:\n",
    "    \n",
    "    import wandb\n",
    "    from dotenv import load_dotenv\n",
    "    import os\n",
    "\n",
    "    # Load environment variables from .env file in the parent folder\n",
    "    load_dotenv(os.path.join(os.path.dirname(os.getcwd()), '.env'))\n",
    "\n",
    "    secret_value_0 = os.getenv(\"WANDB_API_KEY\")\n",
    "    if secret_value_0:\n",
    "        wandb.login(key=secret_value_0)\n",
    "        anony = None\n",
    "    else:\n",
    "        anony = \"must\"\n",
    "        print('If you want to use your W&B account, create a .env file in the parent folder and provide your W&B access token as WANDB_API_KEY. \\nGet your W&B access token from here: https://wandb.ai/authorize')\n",
    "\n",
    "    def class2dict(f):\n",
    "        return dict((name, getattr(f, name)) for name in dir(f) if not name.startswith('__'))\n",
    "\n",
    "    run = wandb.init(project='NBME-Public', \n",
    "                     name=CFG.model,\n",
    "                     config=class2dict(CFG),\n",
    "                     group=CFG.model,\n",
    "                     job_type=\"train\",\n",
    "                     anonymous=anony)"
   ]
  },
  {
   "cell_type": "markdown",
   "id": "aeb7e109",
   "metadata": {
    "papermill": {
     "duration": 0.009524,
     "end_time": "2025-02-11T21:11:18.475891",
     "exception": false,
     "start_time": "2025-02-11T21:11:18.466367",
     "status": "completed"
    },
    "tags": []
   },
   "source": [
    "# Helper functions for scoring"
   ]
  },
  {
   "cell_type": "code",
   "execution_count": 5,
   "id": "cc5e6532",
   "metadata": {
    "execution": {
     "iopub.execute_input": "2025-02-11T21:11:18.499635Z",
     "iopub.status.busy": "2025-02-11T21:11:18.499300Z",
     "iopub.status.idle": "2025-02-11T21:11:18.506420Z",
     "shell.execute_reply": "2025-02-11T21:11:18.505566Z"
    },
    "papermill": {
     "duration": 0.020483,
     "end_time": "2025-02-11T21:11:18.507510",
     "exception": false,
     "start_time": "2025-02-11T21:11:18.487027",
     "status": "completed"
    },
    "tags": []
   },
   "outputs": [],
   "source": [
    "# From https://www.kaggle.com/theoviel/evaluation-metric-folds-baseline\n",
    "\n",
    "def micro_f1(preds, truths):\n",
    "    \"\"\"\n",
    "    Micro f1 on binary arrays.\n",
    "\n",
    "    Args:\n",
    "        preds (list of lists of ints): Predictions.\n",
    "        truths (list of lists of ints): Ground truths.\n",
    "\n",
    "    Returns:\n",
    "        float: f1 score.\n",
    "    \"\"\"\n",
    "    # Micro : aggregating over all instances\n",
    "    preds = np.concatenate(preds)\n",
    "    truths = np.concatenate(truths)\n",
    "    return f1_score(truths, preds)\n",
    "\n",
    "\n",
    "def spans_to_binary(spans, length=None):\n",
    "    \"\"\"\n",
    "    Converts spans to a binary array indicating whether each character is in the span.\n",
    "\n",
    "    Args:\n",
    "        spans (list of lists of two ints): Spans.\n",
    "\n",
    "    Returns:\n",
    "        np array [length]: Binarized spans.\n",
    "    \"\"\"\n",
    "    length = np.max(spans) if length is None else length\n",
    "    binary = np.zeros(length)\n",
    "    for start, end in spans:\n",
    "        binary[start:end] = 1\n",
    "    return binary\n",
    "\n",
    "\n",
    "def span_micro_f1(preds, truths):\n",
    "    \"\"\"\n",
    "    Micro f1 on spans.\n",
    "\n",
    "    Args:\n",
    "        preds (list of lists of two ints): Prediction spans.\n",
    "        truths (list of lists of two ints): Ground truth spans.\n",
    "\n",
    "    Returns:\n",
    "        float: f1 score.\n",
    "    \"\"\"\n",
    "    bin_preds = []\n",
    "    bin_truths = []\n",
    "    for pred, truth in zip(preds, truths):\n",
    "        if not len(pred) and not len(truth):\n",
    "            continue\n",
    "        length = max(np.max(pred) if len(pred) else 0, np.max(truth) if len(truth) else 0)\n",
    "        bin_preds.append(spans_to_binary(pred, length))\n",
    "        bin_truths.append(spans_to_binary(truth, length))\n",
    "    return micro_f1(bin_preds, bin_truths)"
   ]
  },
  {
   "cell_type": "code",
   "execution_count": 6,
   "id": "067a5f04",
   "metadata": {
    "execution": {
     "iopub.execute_input": "2025-02-11T21:11:18.530910Z",
     "iopub.status.busy": "2025-02-11T21:11:18.530604Z",
     "iopub.status.idle": "2025-02-11T21:11:18.541132Z",
     "shell.execute_reply": "2025-02-11T21:11:18.540367Z"
    },
    "papermill": {
     "duration": 0.022086,
     "end_time": "2025-02-11T21:11:18.542146",
     "exception": false,
     "start_time": "2025-02-11T21:11:18.520060",
     "status": "completed"
    },
    "tags": []
   },
   "outputs": [],
   "source": [
    "## UPDATED FOR HANDLING NONEs in THE PSEUDOLABELS / only including confident inferences\n",
    "import ast\n",
    "\n",
    "# Update the create_labels_for_scoring function\n",
    "def create_labels_for_scoring(df):\n",
    "    # Initialize the 'location_for_create_labels' column with empty lists\n",
    "    df['location_for_create_labels'] = [ast.literal_eval(f'[]')] * len(df)\n",
    "    \n",
    "    for i in range(len(df)):\n",
    "        lst = df.loc[i, 'location']\n",
    "        if lst and lst != '':  # Check if lst is not None or empty\n",
    "            # Ensure lst is a list of strings\n",
    "            if isinstance(lst, str):\n",
    "                lst = [lst]\n",
    "            elif isinstance(lst, list):\n",
    "                lst = [str(item) for item in lst]\n",
    "            new_lst = ';'.join(lst)\n",
    "            df.loc[i, 'location_for_create_labels'] = ast.literal_eval(f'[[\"{new_lst}\"]]')\n",
    "\n",
    "    # Create labels\n",
    "    truths = []\n",
    "    for location_list in df['location_for_create_labels'].values:\n",
    "        truth = []\n",
    "        if len(location_list) > 0:\n",
    "            location = location_list[0]\n",
    "            for loc in [s.split() for s in location.split(';')]:\n",
    "                start, end = int(loc[0]), int(loc[1])\n",
    "                truth.append([start, end])\n",
    "        truths.append(truth)\n",
    "    \n",
    "    return truths\n",
    "\n",
    "\n",
    "def get_char_probs(texts, predictions, tokenizer):\n",
    "    results = [np.zeros(len(t)) for t in texts]\n",
    "    for i, (text, prediction) in enumerate(zip(texts, predictions)):\n",
    "        encoded = tokenizer(text, \n",
    "                            add_special_tokens=True,\n",
    "                            return_offsets_mapping=True)\n",
    "        for idx, (offset_mapping, pred) in enumerate(zip(encoded['offset_mapping'], prediction)):\n",
    "            start = offset_mapping[0]\n",
    "            end = offset_mapping[1]\n",
    "            results[i][start:end] = pred\n",
    "    return results\n",
    "\n",
    "\n",
    "def get_results(char_probs, th=0.5):\n",
    "    results = []\n",
    "    for char_prob in char_probs:\n",
    "        result = np.where(char_prob >= th)[0] + 1\n",
    "        result = [list(g) for _, g in itertools.groupby(result, key=lambda n, c=itertools.count(): n - next(c))]\n",
    "        result = [f\"{min(r)} {max(r)}\" for r in result]\n",
    "        result = \";\".join(result)\n",
    "        results.append(result)\n",
    "    return results\n",
    "\n",
    "\n",
    "def get_predictions(results):\n",
    "    predictions = []\n",
    "    for result in results:\n",
    "        prediction = []\n",
    "        if result != \"\":\n",
    "            for loc in [s.split() for s in result.split(';')]:\n",
    "                start, end = int(loc[0]), int(loc[1])\n",
    "                prediction.append([start, end])\n",
    "        predictions.append(prediction)\n",
    "    return predictions"
   ]
  },
  {
   "cell_type": "markdown",
   "id": "3ff2e42d",
   "metadata": {
    "papermill": {
     "duration": 0.010274,
     "end_time": "2025-02-11T21:11:18.563274",
     "exception": false,
     "start_time": "2025-02-11T21:11:18.553000",
     "status": "completed"
    },
    "tags": []
   },
   "source": [
    "# Utils"
   ]
  },
  {
   "cell_type": "code",
   "execution_count": 7,
   "id": "3ce7bb99",
   "metadata": {
    "execution": {
     "iopub.execute_input": "2025-02-11T21:11:18.586457Z",
     "iopub.status.busy": "2025-02-11T21:11:18.586176Z",
     "iopub.status.idle": "2025-02-11T21:11:18.595596Z",
     "shell.execute_reply": "2025-02-11T21:11:18.594687Z"
    },
    "papermill": {
     "duration": 0.022492,
     "end_time": "2025-02-11T21:11:18.596943",
     "exception": false,
     "start_time": "2025-02-11T21:11:18.574451",
     "status": "completed"
    },
    "tags": []
   },
   "outputs": [],
   "source": [
    "# ====================================================\n",
    "# Utils\n",
    "# ====================================================\n",
    "def get_score(y_true, y_pred):\n",
    "    score = span_micro_f1(y_true, y_pred)\n",
    "    return score\n",
    "\n",
    "\n",
    "def get_logger(filename=OUTPUT_DIR+'train'):\n",
    "    from logging import getLogger, INFO, StreamHandler, FileHandler, Formatter\n",
    "    logger = getLogger(__name__)\n",
    "    logger.setLevel(INFO)\n",
    "    handler1 = StreamHandler()\n",
    "    handler1.setFormatter(Formatter(\"%(message)s\"))\n",
    "    handler2 = FileHandler(filename=f\"{filename}.log\")\n",
    "    handler2.setFormatter(Formatter(\"%(message)s\"))\n",
    "    logger.addHandler(handler1)\n",
    "    logger.addHandler(handler2)\n",
    "    return logger\n",
    "\n",
    "LOGGER = get_logger()\n",
    "\n",
    "def seed_everything(seed=42):\n",
    "    random.seed(seed)\n",
    "    os.environ['PYTHONHASHSEED'] = str(seed)\n",
    "    np.random.seed(seed)\n",
    "    torch.manual_seed(seed)\n",
    "    torch.cuda.manual_seed(seed)\n",
    "    torch.backends.cudnn.deterministic = True\n",
    "    \n",
    "seed_everything(seed=42)"
   ]
  },
  {
   "cell_type": "markdown",
   "id": "ba83a70f",
   "metadata": {
    "papermill": {
     "duration": 0.010188,
     "end_time": "2025-02-11T21:11:18.619869",
     "exception": false,
     "start_time": "2025-02-11T21:11:18.609681",
     "status": "completed"
    },
    "tags": []
   },
   "source": [
    "# Data Loading"
   ]
  },
  {
   "cell_type": "code",
   "execution_count": 8,
   "id": "a59cac7e",
   "metadata": {
    "execution": {
     "iopub.execute_input": "2025-02-11T21:11:18.642354Z",
     "iopub.status.busy": "2025-02-11T21:11:18.642094Z",
     "iopub.status.idle": "2025-02-11T21:11:19.183585Z",
     "shell.execute_reply": "2025-02-11T21:11:19.182864Z"
    },
    "papermill": {
     "duration": 0.553273,
     "end_time": "2025-02-11T21:11:19.184607",
     "exception": false,
     "start_time": "2025-02-11T21:11:18.631334",
     "status": "completed"
    },
    "tags": []
   },
   "outputs": [
    {
     "name": "stdout",
     "output_type": "stream",
     "text": [
      "train.shape: (14300, 6)\n"
     ]
    },
    {
     "data": {
      "text/html": [
       "<div>\n",
       "<style scoped>\n",
       "    .dataframe tbody tr th:only-of-type {\n",
       "        vertical-align: middle;\n",
       "    }\n",
       "\n",
       "    .dataframe tbody tr th {\n",
       "        vertical-align: top;\n",
       "    }\n",
       "\n",
       "    .dataframe thead th {\n",
       "        text-align: right;\n",
       "    }\n",
       "</style>\n",
       "<table border=\"1\" class=\"dataframe\">\n",
       "  <thead>\n",
       "    <tr style=\"text-align: right;\">\n",
       "      <th></th>\n",
       "      <th>id</th>\n",
       "      <th>case_num</th>\n",
       "      <th>pn_num</th>\n",
       "      <th>feature_num</th>\n",
       "      <th>annotation</th>\n",
       "      <th>location</th>\n",
       "    </tr>\n",
       "  </thead>\n",
       "  <tbody>\n",
       "    <tr>\n",
       "      <th>0</th>\n",
       "      <td>00016_000</td>\n",
       "      <td>0</td>\n",
       "      <td>16</td>\n",
       "      <td>0</td>\n",
       "      <td>[dad with recent heart attcak]</td>\n",
       "      <td>[696 724]</td>\n",
       "    </tr>\n",
       "    <tr>\n",
       "      <th>1</th>\n",
       "      <td>00016_001</td>\n",
       "      <td>0</td>\n",
       "      <td>16</td>\n",
       "      <td>1</td>\n",
       "      <td>[mom with \"thyroid disease]</td>\n",
       "      <td>[668 693]</td>\n",
       "    </tr>\n",
       "    <tr>\n",
       "      <th>2</th>\n",
       "      <td>00016_002</td>\n",
       "      <td>0</td>\n",
       "      <td>16</td>\n",
       "      <td>2</td>\n",
       "      <td>[chest pressure]</td>\n",
       "      <td>[203 217]</td>\n",
       "    </tr>\n",
       "    <tr>\n",
       "      <th>3</th>\n",
       "      <td>00016_003</td>\n",
       "      <td>0</td>\n",
       "      <td>16</td>\n",
       "      <td>3</td>\n",
       "      <td>[intermittent episodes, episode]</td>\n",
       "      <td>[70 91, 176 183]</td>\n",
       "    </tr>\n",
       "    <tr>\n",
       "      <th>4</th>\n",
       "      <td>00016_004</td>\n",
       "      <td>0</td>\n",
       "      <td>16</td>\n",
       "      <td>4</td>\n",
       "      <td>[felt as if he were going to pass out]</td>\n",
       "      <td>[222 258]</td>\n",
       "    </tr>\n",
       "  </tbody>\n",
       "</table>\n",
       "</div>"
      ],
      "text/plain": [
       "          id  case_num  pn_num  feature_num                              annotation          location\n",
       "0  00016_000         0      16            0          [dad with recent heart attcak]         [696 724]\n",
       "1  00016_001         0      16            1             [mom with \"thyroid disease]         [668 693]\n",
       "2  00016_002         0      16            2                        [chest pressure]         [203 217]\n",
       "3  00016_003         0      16            3        [intermittent episodes, episode]  [70 91, 176 183]\n",
       "4  00016_004         0      16            4  [felt as if he were going to pass out]         [222 258]"
      ]
     },
     "metadata": {},
     "output_type": "display_data"
    },
    {
     "name": "stdout",
     "output_type": "stream",
     "text": [
      "features.shape: (143, 3)\n"
     ]
    },
    {
     "data": {
      "text/html": [
       "<div>\n",
       "<style scoped>\n",
       "    .dataframe tbody tr th:only-of-type {\n",
       "        vertical-align: middle;\n",
       "    }\n",
       "\n",
       "    .dataframe tbody tr th {\n",
       "        vertical-align: top;\n",
       "    }\n",
       "\n",
       "    .dataframe thead th {\n",
       "        text-align: right;\n",
       "    }\n",
       "</style>\n",
       "<table border=\"1\" class=\"dataframe\">\n",
       "  <thead>\n",
       "    <tr style=\"text-align: right;\">\n",
       "      <th></th>\n",
       "      <th>feature_num</th>\n",
       "      <th>case_num</th>\n",
       "      <th>feature_text</th>\n",
       "    </tr>\n",
       "  </thead>\n",
       "  <tbody>\n",
       "    <tr>\n",
       "      <th>0</th>\n",
       "      <td>0</td>\n",
       "      <td>0</td>\n",
       "      <td>Family-history-of-MI-OR-Family-history-of-myoc...</td>\n",
       "    </tr>\n",
       "    <tr>\n",
       "      <th>1</th>\n",
       "      <td>1</td>\n",
       "      <td>0</td>\n",
       "      <td>Family-history-of-thyroid-disorder</td>\n",
       "    </tr>\n",
       "    <tr>\n",
       "      <th>2</th>\n",
       "      <td>2</td>\n",
       "      <td>0</td>\n",
       "      <td>Chest-pressure</td>\n",
       "    </tr>\n",
       "    <tr>\n",
       "      <th>3</th>\n",
       "      <td>3</td>\n",
       "      <td>0</td>\n",
       "      <td>Intermittent-symptoms</td>\n",
       "    </tr>\n",
       "    <tr>\n",
       "      <th>4</th>\n",
       "      <td>4</td>\n",
       "      <td>0</td>\n",
       "      <td>Lightheaded</td>\n",
       "    </tr>\n",
       "  </tbody>\n",
       "</table>\n",
       "</div>"
      ],
      "text/plain": [
       "   feature_num  case_num                                       feature_text\n",
       "0            0         0  Family-history-of-MI-OR-Family-history-of-myoc...\n",
       "1            1         0                 Family-history-of-thyroid-disorder\n",
       "2            2         0                                     Chest-pressure\n",
       "3            3         0                              Intermittent-symptoms\n",
       "4            4         0                                        Lightheaded"
      ]
     },
     "metadata": {},
     "output_type": "display_data"
    },
    {
     "name": "stdout",
     "output_type": "stream",
     "text": [
      "patient_notes.shape: (42146, 3)\n"
     ]
    },
    {
     "data": {
      "text/html": [
       "<div>\n",
       "<style scoped>\n",
       "    .dataframe tbody tr th:only-of-type {\n",
       "        vertical-align: middle;\n",
       "    }\n",
       "\n",
       "    .dataframe tbody tr th {\n",
       "        vertical-align: top;\n",
       "    }\n",
       "\n",
       "    .dataframe thead th {\n",
       "        text-align: right;\n",
       "    }\n",
       "</style>\n",
       "<table border=\"1\" class=\"dataframe\">\n",
       "  <thead>\n",
       "    <tr style=\"text-align: right;\">\n",
       "      <th></th>\n",
       "      <th>pn_num</th>\n",
       "      <th>case_num</th>\n",
       "      <th>pn_history</th>\n",
       "    </tr>\n",
       "  </thead>\n",
       "  <tbody>\n",
       "    <tr>\n",
       "      <th>0</th>\n",
       "      <td>0</td>\n",
       "      <td>0</td>\n",
       "      <td>17-year-old male, has come to the student heal...</td>\n",
       "    </tr>\n",
       "    <tr>\n",
       "      <th>1</th>\n",
       "      <td>1</td>\n",
       "      <td>0</td>\n",
       "      <td>17 yo male with recurrent palpitations for the...</td>\n",
       "    </tr>\n",
       "    <tr>\n",
       "      <th>2</th>\n",
       "      <td>2</td>\n",
       "      <td>0</td>\n",
       "      <td>Dillon Cleveland is a 17 y.o. male patient wit...</td>\n",
       "    </tr>\n",
       "    <tr>\n",
       "      <th>3</th>\n",
       "      <td>3</td>\n",
       "      <td>0</td>\n",
       "      <td>a 17 yo m c/o palpitation started 3 mos ago; \\...</td>\n",
       "    </tr>\n",
       "    <tr>\n",
       "      <th>4</th>\n",
       "      <td>4</td>\n",
       "      <td>0</td>\n",
       "      <td>17yo male with no pmh here for evaluation of p...</td>\n",
       "    </tr>\n",
       "  </tbody>\n",
       "</table>\n",
       "</div>"
      ],
      "text/plain": [
       "   pn_num  case_num                                         pn_history\n",
       "0       0         0  17-year-old male, has come to the student heal...\n",
       "1       1         0  17 yo male with recurrent palpitations for the...\n",
       "2       2         0  Dillon Cleveland is a 17 y.o. male patient wit...\n",
       "3       3         0  a 17 yo m c/o palpitation started 3 mos ago; \\...\n",
       "4       4         0  17yo male with no pmh here for evaluation of p..."
      ]
     },
     "metadata": {},
     "output_type": "display_data"
    }
   ],
   "source": [
    "# ====================================================\n",
    "# Data Loading\n",
    "# ====================================================\n",
    "train = pd.read_csv('/workspace/data/train.csv')\n",
    "train['annotation'] = train['annotation'].apply(ast.literal_eval)\n",
    "train['location'] = train['location'].apply(ast.literal_eval)\n",
    "features = pd.read_csv('/workspace/data/features.csv')\n",
    "def preprocess_features(features):\n",
    "    features.loc[27, 'feature_text'] = \"Last-Pap-smear-1-year-ago\"\n",
    "    return features\n",
    "features = preprocess_features(features)\n",
    "patient_notes = pd.read_csv('/workspace/data/patient_notes.csv')\n",
    "\n",
    "print(f\"train.shape: {train.shape}\")\n",
    "display(train.head())\n",
    "print(f\"features.shape: {features.shape}\")\n",
    "display(features.head())\n",
    "print(f\"patient_notes.shape: {patient_notes.shape}\")\n",
    "display(patient_notes.head())\n"
   ]
  },
  {
   "cell_type": "code",
   "execution_count": 9,
   "id": "612d8f0a",
   "metadata": {
    "execution": {
     "iopub.execute_input": "2025-02-11T21:11:19.212651Z",
     "iopub.status.busy": "2025-02-11T21:11:19.212380Z",
     "iopub.status.idle": "2025-02-11T21:11:19.229216Z",
     "shell.execute_reply": "2025-02-11T21:11:19.228337Z"
    },
    "papermill": {
     "duration": 0.032764,
     "end_time": "2025-02-11T21:11:19.230341",
     "exception": false,
     "start_time": "2025-02-11T21:11:19.197577",
     "status": "completed"
    },
    "tags": []
   },
   "outputs": [
    {
     "data": {
      "text/html": [
       "<div>\n",
       "<style scoped>\n",
       "    .dataframe tbody tr th:only-of-type {\n",
       "        vertical-align: middle;\n",
       "    }\n",
       "\n",
       "    .dataframe tbody tr th {\n",
       "        vertical-align: top;\n",
       "    }\n",
       "\n",
       "    .dataframe thead th {\n",
       "        text-align: right;\n",
       "    }\n",
       "</style>\n",
       "<table border=\"1\" class=\"dataframe\">\n",
       "  <thead>\n",
       "    <tr style=\"text-align: right;\">\n",
       "      <th></th>\n",
       "      <th>id</th>\n",
       "      <th>case_num</th>\n",
       "      <th>pn_num</th>\n",
       "      <th>feature_num</th>\n",
       "      <th>annotation</th>\n",
       "      <th>location</th>\n",
       "      <th>annotation_length</th>\n",
       "    </tr>\n",
       "  </thead>\n",
       "  <tbody>\n",
       "    <tr>\n",
       "      <th>0</th>\n",
       "      <td>00016_000</td>\n",
       "      <td>0</td>\n",
       "      <td>16</td>\n",
       "      <td>0</td>\n",
       "      <td>[dad with recent heart attcak]</td>\n",
       "      <td>[696 724]</td>\n",
       "      <td>1</td>\n",
       "    </tr>\n",
       "    <tr>\n",
       "      <th>1</th>\n",
       "      <td>00016_001</td>\n",
       "      <td>0</td>\n",
       "      <td>16</td>\n",
       "      <td>1</td>\n",
       "      <td>[mom with \"thyroid disease]</td>\n",
       "      <td>[668 693]</td>\n",
       "      <td>1</td>\n",
       "    </tr>\n",
       "    <tr>\n",
       "      <th>2</th>\n",
       "      <td>00016_002</td>\n",
       "      <td>0</td>\n",
       "      <td>16</td>\n",
       "      <td>2</td>\n",
       "      <td>[chest pressure]</td>\n",
       "      <td>[203 217]</td>\n",
       "      <td>1</td>\n",
       "    </tr>\n",
       "    <tr>\n",
       "      <th>3</th>\n",
       "      <td>00016_003</td>\n",
       "      <td>0</td>\n",
       "      <td>16</td>\n",
       "      <td>3</td>\n",
       "      <td>[intermittent episodes, episode]</td>\n",
       "      <td>[70 91, 176 183]</td>\n",
       "      <td>2</td>\n",
       "    </tr>\n",
       "    <tr>\n",
       "      <th>4</th>\n",
       "      <td>00016_004</td>\n",
       "      <td>0</td>\n",
       "      <td>16</td>\n",
       "      <td>4</td>\n",
       "      <td>[felt as if he were going to pass out]</td>\n",
       "      <td>[222 258]</td>\n",
       "      <td>1</td>\n",
       "    </tr>\n",
       "    <tr>\n",
       "      <th>...</th>\n",
       "      <td>...</td>\n",
       "      <td>...</td>\n",
       "      <td>...</td>\n",
       "      <td>...</td>\n",
       "      <td>...</td>\n",
       "      <td>...</td>\n",
       "      <td>...</td>\n",
       "    </tr>\n",
       "    <tr>\n",
       "      <th>14295</th>\n",
       "      <td>95333_912</td>\n",
       "      <td>9</td>\n",
       "      <td>95333</td>\n",
       "      <td>912</td>\n",
       "      <td>[]</td>\n",
       "      <td>[]</td>\n",
       "      <td>0</td>\n",
       "    </tr>\n",
       "    <tr>\n",
       "      <th>14296</th>\n",
       "      <td>95333_913</td>\n",
       "      <td>9</td>\n",
       "      <td>95333</td>\n",
       "      <td>913</td>\n",
       "      <td>[]</td>\n",
       "      <td>[]</td>\n",
       "      <td>0</td>\n",
       "    </tr>\n",
       "    <tr>\n",
       "      <th>14297</th>\n",
       "      <td>95333_914</td>\n",
       "      <td>9</td>\n",
       "      <td>95333</td>\n",
       "      <td>914</td>\n",
       "      <td>[photobia]</td>\n",
       "      <td>[274 282]</td>\n",
       "      <td>1</td>\n",
       "    </tr>\n",
       "    <tr>\n",
       "      <th>14298</th>\n",
       "      <td>95333_915</td>\n",
       "      <td>9</td>\n",
       "      <td>95333</td>\n",
       "      <td>915</td>\n",
       "      <td>[no sick contacts]</td>\n",
       "      <td>[421 437]</td>\n",
       "      <td>1</td>\n",
       "    </tr>\n",
       "    <tr>\n",
       "      <th>14299</th>\n",
       "      <td>95333_916</td>\n",
       "      <td>9</td>\n",
       "      <td>95333</td>\n",
       "      <td>916</td>\n",
       "      <td>[Subjective fever]</td>\n",
       "      <td>[314 330]</td>\n",
       "      <td>1</td>\n",
       "    </tr>\n",
       "  </tbody>\n",
       "</table>\n",
       "<p>14300 rows × 7 columns</p>\n",
       "</div>"
      ],
      "text/plain": [
       "              id  case_num  pn_num  feature_num                              annotation          location  annotation_length\n",
       "0      00016_000         0      16            0          [dad with recent heart attcak]         [696 724]                  1\n",
       "1      00016_001         0      16            1             [mom with \"thyroid disease]         [668 693]                  1\n",
       "2      00016_002         0      16            2                        [chest pressure]         [203 217]                  1\n",
       "3      00016_003         0      16            3        [intermittent episodes, episode]  [70 91, 176 183]                  2\n",
       "4      00016_004         0      16            4  [felt as if he were going to pass out]         [222 258]                  1\n",
       "...          ...       ...     ...          ...                                     ...               ...                ...\n",
       "14295  95333_912         9   95333          912                                      []                []                  0\n",
       "14296  95333_913         9   95333          913                                      []                []                  0\n",
       "14297  95333_914         9   95333          914                              [photobia]         [274 282]                  1\n",
       "14298  95333_915         9   95333          915                      [no sick contacts]         [421 437]                  1\n",
       "14299  95333_916         9   95333          916                      [Subjective fever]         [314 330]                  1\n",
       "\n",
       "[14300 rows x 7 columns]"
      ]
     },
     "execution_count": 9,
     "metadata": {},
     "output_type": "execute_result"
    }
   ],
   "source": [
    "train['annotation_length'] = train['annotation'].apply(len) # refers to number of annotation\n",
    "train"
   ]
  },
  {
   "cell_type": "code",
   "execution_count": 10,
   "id": "2295d924",
   "metadata": {
    "execution": {
     "iopub.execute_input": "2025-02-11T21:11:19.254049Z",
     "iopub.status.busy": "2025-02-11T21:11:19.253831Z",
     "iopub.status.idle": "2025-02-11T21:11:19.280085Z",
     "shell.execute_reply": "2025-02-11T21:11:19.279010Z"
    },
    "papermill": {
     "duration": 0.038597,
     "end_time": "2025-02-11T21:11:19.281200",
     "exception": false,
     "start_time": "2025-02-11T21:11:19.242603",
     "status": "completed"
    },
    "tags": []
   },
   "outputs": [
    {
     "data": {
      "text/html": [
       "<div>\n",
       "<style scoped>\n",
       "    .dataframe tbody tr th:only-of-type {\n",
       "        vertical-align: middle;\n",
       "    }\n",
       "\n",
       "    .dataframe tbody tr th {\n",
       "        vertical-align: top;\n",
       "    }\n",
       "\n",
       "    .dataframe thead th {\n",
       "        text-align: right;\n",
       "    }\n",
       "</style>\n",
       "<table border=\"1\" class=\"dataframe\">\n",
       "  <thead>\n",
       "    <tr style=\"text-align: right;\">\n",
       "      <th></th>\n",
       "      <th>id</th>\n",
       "      <th>case_num</th>\n",
       "      <th>pn_num</th>\n",
       "      <th>feature_num</th>\n",
       "      <th>annotation</th>\n",
       "      <th>location</th>\n",
       "      <th>annotation_length</th>\n",
       "      <th>feature_text</th>\n",
       "      <th>pn_history</th>\n",
       "    </tr>\n",
       "  </thead>\n",
       "  <tbody>\n",
       "    <tr>\n",
       "      <th>0</th>\n",
       "      <td>00016_000</td>\n",
       "      <td>0</td>\n",
       "      <td>16</td>\n",
       "      <td>0</td>\n",
       "      <td>[dad with recent heart attcak]</td>\n",
       "      <td>[696 724]</td>\n",
       "      <td>1</td>\n",
       "      <td>Family-history-of-MI-OR-Family-history-of-myoc...</td>\n",
       "      <td>HPI: 17yo M presents with palpitations. Patien...</td>\n",
       "    </tr>\n",
       "    <tr>\n",
       "      <th>1</th>\n",
       "      <td>00016_001</td>\n",
       "      <td>0</td>\n",
       "      <td>16</td>\n",
       "      <td>1</td>\n",
       "      <td>[mom with \"thyroid disease]</td>\n",
       "      <td>[668 693]</td>\n",
       "      <td>1</td>\n",
       "      <td>Family-history-of-thyroid-disorder</td>\n",
       "      <td>HPI: 17yo M presents with palpitations. Patien...</td>\n",
       "    </tr>\n",
       "    <tr>\n",
       "      <th>2</th>\n",
       "      <td>00016_002</td>\n",
       "      <td>0</td>\n",
       "      <td>16</td>\n",
       "      <td>2</td>\n",
       "      <td>[chest pressure]</td>\n",
       "      <td>[203 217]</td>\n",
       "      <td>1</td>\n",
       "      <td>Chest-pressure</td>\n",
       "      <td>HPI: 17yo M presents with palpitations. Patien...</td>\n",
       "    </tr>\n",
       "    <tr>\n",
       "      <th>3</th>\n",
       "      <td>00016_003</td>\n",
       "      <td>0</td>\n",
       "      <td>16</td>\n",
       "      <td>3</td>\n",
       "      <td>[intermittent episodes, episode]</td>\n",
       "      <td>[70 91, 176 183]</td>\n",
       "      <td>2</td>\n",
       "      <td>Intermittent-symptoms</td>\n",
       "      <td>HPI: 17yo M presents with palpitations. Patien...</td>\n",
       "    </tr>\n",
       "    <tr>\n",
       "      <th>4</th>\n",
       "      <td>00016_004</td>\n",
       "      <td>0</td>\n",
       "      <td>16</td>\n",
       "      <td>4</td>\n",
       "      <td>[felt as if he were going to pass out]</td>\n",
       "      <td>[222 258]</td>\n",
       "      <td>1</td>\n",
       "      <td>Lightheaded</td>\n",
       "      <td>HPI: 17yo M presents with palpitations. Patien...</td>\n",
       "    </tr>\n",
       "  </tbody>\n",
       "</table>\n",
       "</div>"
      ],
      "text/plain": [
       "          id  case_num  pn_num  feature_num                              annotation          location  annotation_length                                       feature_text                                         pn_history\n",
       "0  00016_000         0      16            0          [dad with recent heart attcak]         [696 724]                  1  Family-history-of-MI-OR-Family-history-of-myoc...  HPI: 17yo M presents with palpitations. Patien...\n",
       "1  00016_001         0      16            1             [mom with \"thyroid disease]         [668 693]                  1                 Family-history-of-thyroid-disorder  HPI: 17yo M presents with palpitations. Patien...\n",
       "2  00016_002         0      16            2                        [chest pressure]         [203 217]                  1                                     Chest-pressure  HPI: 17yo M presents with palpitations. Patien...\n",
       "3  00016_003         0      16            3        [intermittent episodes, episode]  [70 91, 176 183]                  2                              Intermittent-symptoms  HPI: 17yo M presents with palpitations. Patien...\n",
       "4  00016_004         0      16            4  [felt as if he were going to pass out]         [222 258]                  1                                        Lightheaded  HPI: 17yo M presents with palpitations. Patien..."
      ]
     },
     "metadata": {},
     "output_type": "display_data"
    }
   ],
   "source": [
    "train = train.merge(features, on=['feature_num', 'case_num'], how='left')\n",
    "train = train.merge(patient_notes, on=['pn_num', 'case_num'], how='left')\n",
    "display(train.head())"
   ]
  },
  {
   "cell_type": "code",
   "execution_count": 11,
   "id": "b89e8ef7",
   "metadata": {
    "execution": {
     "iopub.execute_input": "2025-02-11T21:11:19.309295Z",
     "iopub.status.busy": "2025-02-11T21:11:19.309039Z",
     "iopub.status.idle": "2025-02-11T21:11:19.357636Z",
     "shell.execute_reply": "2025-02-11T21:11:19.356686Z"
    },
    "papermill": {
     "duration": 0.063897,
     "end_time": "2025-02-11T21:11:19.359181",
     "exception": false,
     "start_time": "2025-02-11T21:11:19.295284",
     "status": "completed"
    },
    "tags": []
   },
   "outputs": [],
   "source": [
    "# incorrect annotation\n",
    "train.loc[338, 'annotation'] = ast.literal_eval('[[\"father heart attack\"]]')\n",
    "train.loc[338, 'location'] = ast.literal_eval('[[\"764 783\"]]')\n",
    "\n",
    "train.loc[621, 'annotation'] = ast.literal_eval('[[\"for the last 2-3 months\"]]')\n",
    "train.loc[621, 'location'] = ast.literal_eval('[[\"77 100\"]]')\n",
    "\n",
    "train.loc[655, 'annotation'] = ast.literal_eval('[[\"no heat intolerance\"], [\"no cold intolerance\"]]')\n",
    "train.loc[655, 'location'] = ast.literal_eval('[[\"285 292;301 312\"], [\"285 287;296 312\"]]')\n",
    "\n",
    "train.loc[1262, 'annotation'] = ast.literal_eval('[[\"mother thyroid problem\"]]')\n",
    "train.loc[1262, 'location'] = ast.literal_eval('[[\"551 557;565 580\"]]')\n",
    "\n",
    "train.loc[1265, 'annotation'] = ast.literal_eval('[[\\'felt like he was going to \"pass out\"\\']]')\n",
    "train.loc[1265, 'location'] = ast.literal_eval('[[\"131 135;181 212\"]]')\n",
    "\n",
    "train.loc[1396, 'annotation'] = ast.literal_eval('[[\"stool , with no blood\"]]')\n",
    "train.loc[1396, 'location'] = ast.literal_eval('[[\"259 280\"]]')\n",
    "\n",
    "train.loc[1591, 'annotation'] = ast.literal_eval('[[\"diarrhoe non blooody\"]]')\n",
    "train.loc[1591, 'location'] = ast.literal_eval('[[\"176 184;201 212\"]]')\n",
    "\n",
    "train.loc[1615, 'annotation'] = ast.literal_eval('[[\"diarrhea for last 2-3 days\"]]')\n",
    "train.loc[1615, 'location'] = ast.literal_eval('[[\"249 257;271 288\"]]')\n",
    "\n",
    "train.loc[1664, 'annotation'] = ast.literal_eval('[[\"no vaginal discharge\"]]')\n",
    "train.loc[1664, 'location'] = ast.literal_eval('[[\"822 824;907 924\"]]')\n",
    "\n",
    "train.loc[1714, 'annotation'] = ast.literal_eval('[[\"started about 8-10 hours ago\"]]')\n",
    "train.loc[1714, 'location'] = ast.literal_eval('[[\"101 129\"]]')\n",
    "\n",
    "train.loc[1929, 'annotation'] = ast.literal_eval('[[\"no blood in the stool\"]]')\n",
    "train.loc[1929, 'location'] = ast.literal_eval('[[\"531 539;549 561\"]]')\n",
    "\n",
    "train.loc[2134, 'annotation'] = ast.literal_eval('[[\"last sexually active 9 months ago\"]]')\n",
    "train.loc[2134, 'location'] = ast.literal_eval('[[\"540 560;581 593\"]]')\n",
    "\n",
    "train.loc[2191, 'annotation'] = ast.literal_eval('[[\"right lower quadrant pain\"]]')\n",
    "train.loc[2191, 'location'] = ast.literal_eval('[[\"32 57\"]]')\n",
    "\n",
    "train.loc[2553, 'annotation'] = ast.literal_eval('[[\"diarrhoea no blood\"]]')\n",
    "train.loc[2553, 'location'] = ast.literal_eval('[[\"308 317;376 384\"]]')\n",
    "\n",
    "train.loc[3124, 'annotation'] = ast.literal_eval('[[\"sweating\"]]')\n",
    "train.loc[3124, 'location'] = ast.literal_eval('[[\"549 557\"]]')\n",
    "\n",
    "train.loc[3858, 'annotation'] = ast.literal_eval('[[\"previously as regular\"], [\"previously eveyr 28-29 days\"], [\"previously lasting 5 days\"], [\"previously regular flow\"]]')\n",
    "train.loc[3858, 'location'] = ast.literal_eval('[[\"102 123\"], [\"102 112;125 141\"], [\"102 112;143 157\"], [\"102 112;159 171\"]]')\n",
    "\n",
    "train.loc[4373, 'annotation'] = ast.literal_eval('[[\"for 2 months\"]]')\n",
    "train.loc[4373, 'location'] = ast.literal_eval('[[\"33 45\"]]')\n",
    "\n",
    "train.loc[4763, 'annotation'] = ast.literal_eval('[[\"35 year old\"]]')\n",
    "train.loc[4763, 'location'] = ast.literal_eval('[[\"5 16\"]]')\n",
    "\n",
    "train.loc[4782, 'annotation'] = ast.literal_eval('[[\"darker brown stools\"]]')\n",
    "train.loc[4782, 'location'] = ast.literal_eval('[[\"175 194\"]]')\n",
    "\n",
    "train.loc[4908, 'annotation'] = ast.literal_eval('[[\"uncle with peptic ulcer\"]]')\n",
    "train.loc[4908, 'location'] = ast.literal_eval('[[\"700 723\"]]')\n",
    "\n",
    "train.loc[6016, 'annotation'] = ast.literal_eval('[[\"difficulty falling asleep\"]]')\n",
    "train.loc[6016, 'location'] = ast.literal_eval('[[\"225 250\"]]')\n",
    "\n",
    "train.loc[6192, 'annotation'] = ast.literal_eval('[[\"helps to take care of aging mother and in-laws\"]]')\n",
    "train.loc[6192, 'location'] = ast.literal_eval('[[\"197 218;236 260\"]]')\n",
    "\n",
    "train.loc[6380, 'annotation'] = ast.literal_eval('[[\"No hair changes\"], [\"No skin changes\"], [\"No GI changes\"], [\"No palpitations\"], [\"No excessive sweating\"]]')\n",
    "train.loc[6380, 'location'] = ast.literal_eval('[[\"480 482;507 519\"], [\"480 482;499 503;512 519\"], [\"480 482;521 531\"], [\"480 482;533 545\"], [\"480 482;564 582\"]]')\n",
    "\n",
    "train.loc[6562, 'annotation'] = ast.literal_eval('[[\"stressed due to taking care of her mother\"], [\"stressed due to taking care of husbands parents\"]]')\n",
    "train.loc[6562, 'location'] = ast.literal_eval('[[\"290 320;327 337\"], [\"290 320;342 358\"]]')\n",
    "\n",
    "train.loc[6862, 'annotation'] = ast.literal_eval('[[\"stressor taking care of many sick family members\"]]')\n",
    "train.loc[6862, 'location'] = ast.literal_eval('[[\"288 296;324 363\"]]')\n",
    "\n",
    "train.loc[7022, 'annotation'] = ast.literal_eval('[[\"heart started racing and felt numbness for the 1st time in her finger tips\"]]')\n",
    "train.loc[7022, 'location'] = ast.literal_eval('[[\"108 182\"]]')\n",
    "\n",
    "train.loc[7422, 'annotation'] = ast.literal_eval('[[\"first started 5 yrs\"]]')\n",
    "train.loc[7422, 'location'] = ast.literal_eval('[[\"102 121\"]]')\n",
    "\n",
    "train.loc[8876, 'annotation'] = ast.literal_eval('[[\"No shortness of breath\"]]')\n",
    "train.loc[8876, 'location'] = ast.literal_eval('[[\"481 483;533 552\"]]')\n",
    "\n",
    "train.loc[9027, 'annotation'] = ast.literal_eval('[[\"recent URI\"], [\"nasal stuffines, rhinorrhea, for 3-4 days\"]]')\n",
    "train.loc[9027, 'location'] = ast.literal_eval('[[\"92 102\"], [\"123 164\"]]')\n",
    "\n",
    "train.loc[9938, 'annotation'] = ast.literal_eval('[[\"irregularity with her cycles\"], [\"heavier bleeding\"], [\"changes her pad every couple hours\"]]')\n",
    "train.loc[9938, 'location'] = ast.literal_eval('[[\"89 117\"], [\"122 138\"], [\"368 402\"]]')\n",
    "\n",
    "train.loc[9973, 'annotation'] = ast.literal_eval('[[\"gaining 10-15 lbs\"]]')\n",
    "train.loc[9973, 'location'] = ast.literal_eval('[[\"344 361\"]]')\n",
    "\n",
    "train.loc[10513, 'annotation'] = ast.literal_eval('[[\"weight gain\"], [\"gain of 10-16lbs\"]]')\n",
    "train.loc[10513, 'location'] = ast.literal_eval('[[\"600 611\"], [\"607 623\"]]')\n",
    "\n",
    "train.loc[11551, 'annotation'] = ast.literal_eval('[[\"seeing her son knows are not real\"]]')\n",
    "train.loc[11551, 'location'] = ast.literal_eval('[[\"386 400;443 461\"]]')\n",
    "\n",
    "train.loc[11677, 'annotation'] = ast.literal_eval('[[\"saw him once in the kitchen after he died\"]]')\n",
    "train.loc[11677, 'location'] = ast.literal_eval('[[\"160 201\"]]')\n",
    "\n",
    "train.loc[12124, 'annotation'] = ast.literal_eval('[[\"tried Ambien but it didnt work\"]]')\n",
    "train.loc[12124, 'location'] = ast.literal_eval('[[\"325 337;349 366\"]]')\n",
    "\n",
    "train.loc[12279, 'annotation'] = ast.literal_eval('[[\"heard what she described as a party later than evening these things did not actually happen\"]]')\n",
    "train.loc[12279, 'location'] = ast.literal_eval('[[\"405 459;488 524\"]]')\n",
    "\n",
    "train.loc[12289, 'annotation'] = ast.literal_eval('[[\"experienced seeing her son at the kitchen table these things did not actually happen\"]]')\n",
    "train.loc[12289, 'location'] = ast.literal_eval('[[\"353 400;488 524\"]]')\n",
    "\n",
    "train.loc[13238, 'annotation'] = ast.literal_eval('[[\"SCRACHY THROAT\"], [\"RUNNY NOSE\"]]')\n",
    "train.loc[13238, 'location'] = ast.literal_eval('[[\"293 307\"], [\"321 331\"]]')\n",
    "\n",
    "train.loc[13297, 'annotation'] = ast.literal_eval('[[\"without improvement when taking tylenol\"], [\"without improvement when taking ibuprofen\"]]')\n",
    "train.loc[13297, 'location'] = ast.literal_eval('[[\"182 221\"], [\"182 213;225 234\"]]')\n",
    "\n",
    "train.loc[13299, 'annotation'] = ast.literal_eval('[[\"yesterday\"], [\"yesterday\"]]')\n",
    "train.loc[13299, 'location'] = ast.literal_eval('[[\"79 88\"], [\"409 418\"]]')\n",
    "\n",
    "train.loc[13845, 'annotation'] = ast.literal_eval('[[\"headache global\"], [\"headache throughout her head\"]]')\n",
    "train.loc[13845, 'location'] = ast.literal_eval('[[\"86 94;230 236\"], [\"86 94;237 256\"]]')\n",
    "\n",
    "train.loc[14083, 'annotation'] = ast.literal_eval('[[\"headache generalized in her head\"]]')\n",
    "train.loc[14083, 'location'] = ast.literal_eval('[[\"56 64;156 179\"]]')"
   ]
  },
  {
   "cell_type": "code",
   "execution_count": 12,
   "id": "743b5525",
   "metadata": {
    "execution": {
     "iopub.execute_input": "2025-02-11T21:11:19.402370Z",
     "iopub.status.busy": "2025-02-11T21:11:19.402145Z",
     "iopub.status.idle": "2025-02-11T21:11:19.869458Z",
     "shell.execute_reply": "2025-02-11T21:11:19.868369Z"
    },
    "papermill": {
     "duration": 0.484309,
     "end_time": "2025-02-11T21:11:19.870478",
     "exception": false,
     "start_time": "2025-02-11T21:11:19.386169",
     "status": "completed"
    },
    "tags": []
   },
   "outputs": [
    {
     "data": {
      "text/html": [
       "<div>\n",
       "<style scoped>\n",
       "    .dataframe tbody tr th:only-of-type {\n",
       "        vertical-align: middle;\n",
       "    }\n",
       "\n",
       "    .dataframe tbody tr th {\n",
       "        vertical-align: top;\n",
       "    }\n",
       "\n",
       "    .dataframe thead th {\n",
       "        text-align: right;\n",
       "    }\n",
       "</style>\n",
       "<table border=\"1\" class=\"dataframe\">\n",
       "  <thead>\n",
       "    <tr style=\"text-align: right;\">\n",
       "      <th></th>\n",
       "      <th>id</th>\n",
       "      <th>case_num</th>\n",
       "      <th>pn_num</th>\n",
       "      <th>feature_num</th>\n",
       "      <th>fold</th>\n",
       "      <th>location</th>\n",
       "      <th>feature_text</th>\n",
       "      <th>pn_history</th>\n",
       "    </tr>\n",
       "  </thead>\n",
       "  <tbody>\n",
       "    <tr>\n",
       "      <th>0</th>\n",
       "      <td>00000_006</td>\n",
       "      <td>0</td>\n",
       "      <td>0</td>\n",
       "      <td>6</td>\n",
       "      <td>1</td>\n",
       "      <td>[521 526]</td>\n",
       "      <td>Adderall-use</td>\n",
       "      <td>17-year-old male, has come to the student heal...</td>\n",
       "    </tr>\n",
       "    <tr>\n",
       "      <th>1</th>\n",
       "      <td>00001_004</td>\n",
       "      <td>0</td>\n",
       "      <td>1</td>\n",
       "      <td>4</td>\n",
       "      <td>1</td>\n",
       "      <td>[179 195]</td>\n",
       "      <td>Lightheaded</td>\n",
       "      <td>17 yo male with recurrent palpitations for the...</td>\n",
       "    </tr>\n",
       "    <tr>\n",
       "      <th>2</th>\n",
       "      <td>00001_006</td>\n",
       "      <td>0</td>\n",
       "      <td>1</td>\n",
       "      <td>6</td>\n",
       "      <td>1</td>\n",
       "      <td>[347 353]</td>\n",
       "      <td>Adderall-use</td>\n",
       "      <td>17 yo male with recurrent palpitations for the...</td>\n",
       "    </tr>\n",
       "    <tr>\n",
       "      <th>3</th>\n",
       "      <td>00001_007</td>\n",
       "      <td>0</td>\n",
       "      <td>1</td>\n",
       "      <td>7</td>\n",
       "      <td>1</td>\n",
       "      <td>[220 235]</td>\n",
       "      <td>Shortness-of-breath</td>\n",
       "      <td>17 yo male with recurrent palpitations for the...</td>\n",
       "    </tr>\n",
       "    <tr>\n",
       "      <th>4</th>\n",
       "      <td>00001_011</td>\n",
       "      <td>0</td>\n",
       "      <td>1</td>\n",
       "      <td>11</td>\n",
       "      <td>1</td>\n",
       "      <td>[1 5]</td>\n",
       "      <td>17-year</td>\n",
       "      <td>17 yo male with recurrent palpitations for the...</td>\n",
       "    </tr>\n",
       "    <tr>\n",
       "      <th>...</th>\n",
       "      <td>...</td>\n",
       "      <td>...</td>\n",
       "      <td>...</td>\n",
       "      <td>...</td>\n",
       "      <td>...</td>\n",
       "      <td>...</td>\n",
       "      <td>...</td>\n",
       "      <td>...</td>\n",
       "    </tr>\n",
       "    <tr>\n",
       "      <th>122512</th>\n",
       "      <td>95331_912</td>\n",
       "      <td>9</td>\n",
       "      <td>95331</td>\n",
       "      <td>912</td>\n",
       "      <td>1</td>\n",
       "      <td>[283 302, 401 421]</td>\n",
       "      <td>Family-history-of-migraines</td>\n",
       "      <td>A 20 YO F CAME COMPLAIN A DULL 8/10 HEADACHE T...</td>\n",
       "    </tr>\n",
       "    <tr>\n",
       "      <th>122513</th>\n",
       "      <td>95331_913</td>\n",
       "      <td>9</td>\n",
       "      <td>95331</td>\n",
       "      <td>913</td>\n",
       "      <td>1</td>\n",
       "      <td>[8 9]</td>\n",
       "      <td>Female</td>\n",
       "      <td>A 20 YO F CAME COMPLAIN A DULL 8/10 HEADACHE T...</td>\n",
       "    </tr>\n",
       "    <tr>\n",
       "      <th>122516</th>\n",
       "      <td>95332_906</td>\n",
       "      <td>9</td>\n",
       "      <td>95332</td>\n",
       "      <td>906</td>\n",
       "      <td>1</td>\n",
       "      <td>[319 327]</td>\n",
       "      <td>Vomiting</td>\n",
       "      <td>Ms. Madden is a 20yo female who presents with ...</td>\n",
       "    </tr>\n",
       "    <tr>\n",
       "      <th>122518</th>\n",
       "      <td>95334_901</td>\n",
       "      <td>9</td>\n",
       "      <td>95334</td>\n",
       "      <td>901</td>\n",
       "      <td>1</td>\n",
       "      <td>[13 18]</td>\n",
       "      <td>20-year</td>\n",
       "      <td>patient is a 20 yo F who presents with a heada...</td>\n",
       "    </tr>\n",
       "    <tr>\n",
       "      <th>122519</th>\n",
       "      <td>95334_904</td>\n",
       "      <td>9</td>\n",
       "      <td>95334</td>\n",
       "      <td>904</td>\n",
       "      <td>1</td>\n",
       "      <td>[41 49, 136 143]</td>\n",
       "      <td>Global-headache-OR-diffuse-headache</td>\n",
       "      <td>patient is a 20 yo F who presents with a heada...</td>\n",
       "    </tr>\n",
       "  </tbody>\n",
       "</table>\n",
       "<p>86232 rows × 8 columns</p>\n",
       "</div>"
      ],
      "text/plain": [
       "               id  case_num  pn_num  feature_num  fold            location                         feature_text                                         pn_history\n",
       "0       00000_006         0       0            6     1           [521 526]                         Adderall-use  17-year-old male, has come to the student heal...\n",
       "1       00001_004         0       1            4     1           [179 195]                          Lightheaded  17 yo male with recurrent palpitations for the...\n",
       "2       00001_006         0       1            6     1           [347 353]                         Adderall-use  17 yo male with recurrent palpitations for the...\n",
       "3       00001_007         0       1            7     1           [220 235]                  Shortness-of-breath  17 yo male with recurrent palpitations for the...\n",
       "4       00001_011         0       1           11     1               [1 5]                              17-year  17 yo male with recurrent palpitations for the...\n",
       "...           ...       ...     ...          ...   ...                 ...                                  ...                                                ...\n",
       "122512  95331_912         9   95331          912     1  [283 302, 401 421]          Family-history-of-migraines  A 20 YO F CAME COMPLAIN A DULL 8/10 HEADACHE T...\n",
       "122513  95331_913         9   95331          913     1               [8 9]                               Female  A 20 YO F CAME COMPLAIN A DULL 8/10 HEADACHE T...\n",
       "122516  95332_906         9   95332          906     1           [319 327]                             Vomiting  Ms. Madden is a 20yo female who presents with ...\n",
       "122518  95334_901         9   95334          901     1             [13 18]                              20-year  patient is a 20 yo F who presents with a heada...\n",
       "122519  95334_904         9   95334          904     1    [41 49, 136 143]  Global-headache-OR-diffuse-headache  patient is a 20 yo F who presents with a heada...\n",
       "\n",
       "[86232 rows x 8 columns]"
      ]
     },
     "execution_count": 12,
     "metadata": {},
     "output_type": "execute_result"
    }
   ],
   "source": [
    "pseudolabels = pd.read_csv('/workspace/data/pseudolabels.csv')\n",
    "pseudolabels =  pseudolabels.merge(features, on=['feature_num', 'case_num'], how='left')\n",
    "pseudolabels = pseudolabels.merge(patient_notes, on=['pn_num', 'case_num'], how='left')\n",
    "\n",
    "pseudolabels = pseudolabels.dropna(subset=['location'])\n",
    "pseudolabels = pseudolabels[pseudolabels['location'].apply(lambda x: len(x) > 0)]\n",
    "\n",
    "def convert_location_format(location):\n",
    "    if pd.isna(location) or not location:\n",
    "        return []\n",
    "    if isinstance(location, str):\n",
    "        return [loc.strip() for loc in location.split(';')]\n",
    "    return location\n",
    "\n",
    "pseudolabels['location'] = pseudolabels['location'].apply(convert_location_format)\n",
    "\n",
    "pseudolabels"
   ]
  },
  {
   "cell_type": "code",
   "execution_count": 13,
   "id": "d8563830",
   "metadata": {
    "execution": {
     "iopub.execute_input": "2025-02-11T21:11:19.899598Z",
     "iopub.status.busy": "2025-02-11T21:11:19.899390Z",
     "iopub.status.idle": "2025-02-11T21:11:19.921407Z",
     "shell.execute_reply": "2025-02-11T21:11:19.920716Z"
    },
    "papermill": {
     "duration": 0.039706,
     "end_time": "2025-02-11T21:11:19.922439",
     "exception": false,
     "start_time": "2025-02-11T21:11:19.882733",
     "status": "completed"
    },
    "tags": []
   },
   "outputs": [],
   "source": [
    "pseudolabels['annotation_length'] = pseudolabels['location'].apply(len)"
   ]
  },
  {
   "cell_type": "code",
   "execution_count": 14,
   "id": "8875868c",
   "metadata": {
    "execution": {
     "iopub.execute_input": "2025-02-11T21:11:19.981876Z",
     "iopub.status.busy": "2025-02-11T21:11:19.981520Z",
     "iopub.status.idle": "2025-02-11T21:11:19.993015Z",
     "shell.execute_reply": "2025-02-11T21:11:19.992367Z"
    },
    "papermill": {
     "duration": 0.033445,
     "end_time": "2025-02-11T21:11:19.994177",
     "exception": false,
     "start_time": "2025-02-11T21:11:19.960732",
     "status": "completed"
    },
    "tags": []
   },
   "outputs": [
    {
     "data": {
      "text/html": [
       "<div>\n",
       "<style scoped>\n",
       "    .dataframe tbody tr th:only-of-type {\n",
       "        vertical-align: middle;\n",
       "    }\n",
       "\n",
       "    .dataframe tbody tr th {\n",
       "        vertical-align: top;\n",
       "    }\n",
       "\n",
       "    .dataframe thead th {\n",
       "        text-align: right;\n",
       "    }\n",
       "</style>\n",
       "<table border=\"1\" class=\"dataframe\">\n",
       "  <thead>\n",
       "    <tr style=\"text-align: right;\">\n",
       "      <th></th>\n",
       "      <th>id</th>\n",
       "      <th>case_num</th>\n",
       "      <th>pn_num</th>\n",
       "      <th>feature_num</th>\n",
       "      <th>fold</th>\n",
       "      <th>location</th>\n",
       "      <th>feature_text</th>\n",
       "      <th>pn_history</th>\n",
       "      <th>annotation_length</th>\n",
       "    </tr>\n",
       "  </thead>\n",
       "  <tbody>\n",
       "    <tr>\n",
       "      <th>0</th>\n",
       "      <td>00000_006</td>\n",
       "      <td>0</td>\n",
       "      <td>0</td>\n",
       "      <td>6</td>\n",
       "      <td>1</td>\n",
       "      <td>[521 526]</td>\n",
       "      <td>Adderall-use</td>\n",
       "      <td>17-year-old male, has come to the student heal...</td>\n",
       "      <td>1</td>\n",
       "    </tr>\n",
       "    <tr>\n",
       "      <th>1</th>\n",
       "      <td>00001_004</td>\n",
       "      <td>0</td>\n",
       "      <td>1</td>\n",
       "      <td>4</td>\n",
       "      <td>1</td>\n",
       "      <td>[179 195]</td>\n",
       "      <td>Lightheaded</td>\n",
       "      <td>17 yo male with recurrent palpitations for the...</td>\n",
       "      <td>1</td>\n",
       "    </tr>\n",
       "    <tr>\n",
       "      <th>2</th>\n",
       "      <td>00001_006</td>\n",
       "      <td>0</td>\n",
       "      <td>1</td>\n",
       "      <td>6</td>\n",
       "      <td>1</td>\n",
       "      <td>[347 353]</td>\n",
       "      <td>Adderall-use</td>\n",
       "      <td>17 yo male with recurrent palpitations for the...</td>\n",
       "      <td>1</td>\n",
       "    </tr>\n",
       "    <tr>\n",
       "      <th>3</th>\n",
       "      <td>00001_007</td>\n",
       "      <td>0</td>\n",
       "      <td>1</td>\n",
       "      <td>7</td>\n",
       "      <td>1</td>\n",
       "      <td>[220 235]</td>\n",
       "      <td>Shortness-of-breath</td>\n",
       "      <td>17 yo male with recurrent palpitations for the...</td>\n",
       "      <td>1</td>\n",
       "    </tr>\n",
       "    <tr>\n",
       "      <th>4</th>\n",
       "      <td>00001_011</td>\n",
       "      <td>0</td>\n",
       "      <td>1</td>\n",
       "      <td>11</td>\n",
       "      <td>1</td>\n",
       "      <td>[1 5]</td>\n",
       "      <td>17-year</td>\n",
       "      <td>17 yo male with recurrent palpitations for the...</td>\n",
       "      <td>1</td>\n",
       "    </tr>\n",
       "    <tr>\n",
       "      <th>...</th>\n",
       "      <td>...</td>\n",
       "      <td>...</td>\n",
       "      <td>...</td>\n",
       "      <td>...</td>\n",
       "      <td>...</td>\n",
       "      <td>...</td>\n",
       "      <td>...</td>\n",
       "      <td>...</td>\n",
       "      <td>...</td>\n",
       "    </tr>\n",
       "    <tr>\n",
       "      <th>122512</th>\n",
       "      <td>95331_912</td>\n",
       "      <td>9</td>\n",
       "      <td>95331</td>\n",
       "      <td>912</td>\n",
       "      <td>1</td>\n",
       "      <td>[283 302, 401 421]</td>\n",
       "      <td>Family-history-of-migraines</td>\n",
       "      <td>A 20 YO F CAME COMPLAIN A DULL 8/10 HEADACHE T...</td>\n",
       "      <td>2</td>\n",
       "    </tr>\n",
       "    <tr>\n",
       "      <th>122513</th>\n",
       "      <td>95331_913</td>\n",
       "      <td>9</td>\n",
       "      <td>95331</td>\n",
       "      <td>913</td>\n",
       "      <td>1</td>\n",
       "      <td>[8 9]</td>\n",
       "      <td>Female</td>\n",
       "      <td>A 20 YO F CAME COMPLAIN A DULL 8/10 HEADACHE T...</td>\n",
       "      <td>1</td>\n",
       "    </tr>\n",
       "    <tr>\n",
       "      <th>122516</th>\n",
       "      <td>95332_906</td>\n",
       "      <td>9</td>\n",
       "      <td>95332</td>\n",
       "      <td>906</td>\n",
       "      <td>1</td>\n",
       "      <td>[319 327]</td>\n",
       "      <td>Vomiting</td>\n",
       "      <td>Ms. Madden is a 20yo female who presents with ...</td>\n",
       "      <td>1</td>\n",
       "    </tr>\n",
       "    <tr>\n",
       "      <th>122518</th>\n",
       "      <td>95334_901</td>\n",
       "      <td>9</td>\n",
       "      <td>95334</td>\n",
       "      <td>901</td>\n",
       "      <td>1</td>\n",
       "      <td>[13 18]</td>\n",
       "      <td>20-year</td>\n",
       "      <td>patient is a 20 yo F who presents with a heada...</td>\n",
       "      <td>1</td>\n",
       "    </tr>\n",
       "    <tr>\n",
       "      <th>122519</th>\n",
       "      <td>95334_904</td>\n",
       "      <td>9</td>\n",
       "      <td>95334</td>\n",
       "      <td>904</td>\n",
       "      <td>1</td>\n",
       "      <td>[41 49, 136 143]</td>\n",
       "      <td>Global-headache-OR-diffuse-headache</td>\n",
       "      <td>patient is a 20 yo F who presents with a heada...</td>\n",
       "      <td>2</td>\n",
       "    </tr>\n",
       "  </tbody>\n",
       "</table>\n",
       "<p>86232 rows × 9 columns</p>\n",
       "</div>"
      ],
      "text/plain": [
       "               id  case_num  pn_num  feature_num  fold            location                         feature_text                                         pn_history  annotation_length\n",
       "0       00000_006         0       0            6     1           [521 526]                         Adderall-use  17-year-old male, has come to the student heal...                  1\n",
       "1       00001_004         0       1            4     1           [179 195]                          Lightheaded  17 yo male with recurrent palpitations for the...                  1\n",
       "2       00001_006         0       1            6     1           [347 353]                         Adderall-use  17 yo male with recurrent palpitations for the...                  1\n",
       "3       00001_007         0       1            7     1           [220 235]                  Shortness-of-breath  17 yo male with recurrent palpitations for the...                  1\n",
       "4       00001_011         0       1           11     1               [1 5]                              17-year  17 yo male with recurrent palpitations for the...                  1\n",
       "...           ...       ...     ...          ...   ...                 ...                                  ...                                                ...                ...\n",
       "122512  95331_912         9   95331          912     1  [283 302, 401 421]          Family-history-of-migraines  A 20 YO F CAME COMPLAIN A DULL 8/10 HEADACHE T...                  2\n",
       "122513  95331_913         9   95331          913     1               [8 9]                               Female  A 20 YO F CAME COMPLAIN A DULL 8/10 HEADACHE T...                  1\n",
       "122516  95332_906         9   95332          906     1           [319 327]                             Vomiting  Ms. Madden is a 20yo female who presents with ...                  1\n",
       "122518  95334_901         9   95334          901     1             [13 18]                              20-year  patient is a 20 yo F who presents with a heada...                  1\n",
       "122519  95334_904         9   95334          904     1    [41 49, 136 143]  Global-headache-OR-diffuse-headache  patient is a 20 yo F who presents with a heada...                  2\n",
       "\n",
       "[86232 rows x 9 columns]"
      ]
     },
     "execution_count": 14,
     "metadata": {},
     "output_type": "execute_result"
    }
   ],
   "source": [
    "pseudolabels"
   ]
  },
  {
   "cell_type": "code",
   "execution_count": 15,
   "id": "3e709d7d",
   "metadata": {
    "execution": {
     "iopub.execute_input": "2025-02-11T21:11:20.027781Z",
     "iopub.status.busy": "2025-02-11T21:11:20.027540Z",
     "iopub.status.idle": "2025-02-11T21:11:20.037262Z",
     "shell.execute_reply": "2025-02-11T21:11:20.036472Z"
    },
    "papermill": {
     "duration": 0.026201,
     "end_time": "2025-02-11T21:11:20.038640",
     "exception": false,
     "start_time": "2025-02-11T21:11:20.012439",
     "status": "completed"
    },
    "tags": []
   },
   "outputs": [],
   "source": [
    "pseudolabels = pseudolabels.drop(columns=['fold'])"
   ]
  },
  {
   "cell_type": "code",
   "execution_count": 16,
   "id": "4d248e94",
   "metadata": {
    "execution": {
     "iopub.execute_input": "2025-02-11T21:11:20.072158Z",
     "iopub.status.busy": "2025-02-11T21:11:20.071940Z",
     "iopub.status.idle": "2025-02-11T21:11:20.075192Z",
     "shell.execute_reply": "2025-02-11T21:11:20.074386Z"
    },
    "papermill": {
     "duration": 0.0204,
     "end_time": "2025-02-11T21:11:20.076310",
     "exception": false,
     "start_time": "2025-02-11T21:11:20.055910",
     "status": "completed"
    },
    "tags": []
   },
   "outputs": [],
   "source": [
    "# add pseudolabels to train\n",
    "## IF YOU WANT TO INCLUDE PSEUDOLABELS\n",
    "### train = pd.concat([train, pseudolabels], axis=0, ignore_index=True)"
   ]
  },
  {
   "cell_type": "markdown",
   "id": "d093f065",
   "metadata": {
    "papermill": {
     "duration": 0.016021,
     "end_time": "2025-02-11T21:11:20.109866",
     "exception": false,
     "start_time": "2025-02-11T21:11:20.093845",
     "status": "completed"
    },
    "tags": []
   },
   "source": [
    "# CV split"
   ]
  },
  {
   "cell_type": "code",
   "execution_count": 17,
   "id": "1ed4bcbb",
   "metadata": {
    "execution": {
     "iopub.execute_input": "2025-02-11T21:11:20.214765Z",
     "iopub.status.busy": "2025-02-11T21:11:20.214386Z",
     "iopub.status.idle": "2025-02-11T21:11:20.233347Z",
     "shell.execute_reply": "2025-02-11T21:11:20.232589Z"
    },
    "papermill": {
     "duration": 0.03929,
     "end_time": "2025-02-11T21:11:20.234903",
     "exception": false,
     "start_time": "2025-02-11T21:11:20.195613",
     "status": "completed"
    },
    "tags": []
   },
   "outputs": [
    {
     "data": {
      "text/plain": [
       "fold\n",
       "0    2860\n",
       "1    2860\n",
       "2    2860\n",
       "3    2860\n",
       "4    2860\n",
       "dtype: int64"
      ]
     },
     "metadata": {},
     "output_type": "display_data"
    }
   ],
   "source": [
    "# ====================================================\n",
    "# CV split\n",
    "# ====================================================\n",
    "train = train.reset_index(drop=True)\n",
    "\n",
    "Fold = GroupKFold(n_splits=CFG.n_fold)\n",
    "groups = train['pn_num'].values\n",
    "for n, (train_index, val_index) in enumerate(Fold.split(train, train['location'], groups)):\n",
    "    train.loc[val_index, 'fold'] = int(n)\n",
    "train['fold'] = train['fold'].astype(int)\n",
    "display(train.groupby('fold').size())"
   ]
  },
  {
   "cell_type": "code",
   "execution_count": 18,
   "id": "331e2883",
   "metadata": {
    "execution": {
     "iopub.execute_input": "2025-02-11T21:11:20.265215Z",
     "iopub.status.busy": "2025-02-11T21:11:20.264918Z",
     "iopub.status.idle": "2025-02-11T21:11:20.269228Z",
     "shell.execute_reply": "2025-02-11T21:11:20.268381Z"
    },
    "papermill": {
     "duration": 0.019675,
     "end_time": "2025-02-11T21:11:20.270324",
     "exception": false,
     "start_time": "2025-02-11T21:11:20.250649",
     "status": "completed"
    },
    "tags": []
   },
   "outputs": [],
   "source": [
    "if CFG.debug:\n",
    "    display(train.groupby('fold').size())\n",
    "    train = train.sample(n=1000, random_state=0).reset_index(drop=True)\n",
    "    display(train.groupby('fold').size())"
   ]
  },
  {
   "cell_type": "markdown",
   "id": "8801d2bc",
   "metadata": {
    "papermill": {
     "duration": 0.014169,
     "end_time": "2025-02-11T21:11:20.319061",
     "exception": false,
     "start_time": "2025-02-11T21:11:20.304892",
     "status": "completed"
    },
    "tags": []
   },
   "source": [
    "# Dataset"
   ]
  },
  {
   "cell_type": "code",
   "execution_count": 19,
   "id": "e0214565",
   "metadata": {
    "execution": {
     "iopub.execute_input": "2025-02-11T21:11:20.343234Z",
     "iopub.status.busy": "2025-02-11T21:11:20.343005Z",
     "iopub.status.idle": "2025-02-11T21:11:37.514387Z",
     "shell.execute_reply": "2025-02-11T21:11:37.513648Z"
    },
    "papermill": {
     "duration": 17.185593,
     "end_time": "2025-02-11T21:11:37.515821",
     "exception": false,
     "start_time": "2025-02-11T21:11:20.330228",
     "status": "completed"
    },
    "tags": []
   },
   "outputs": [
    {
     "name": "stderr",
     "output_type": "stream",
     "text": [
      "\r",
      "  0%|          | 0/42146 [00:00<?, ?it/s]"
     ]
    },
    {
     "name": "stderr",
     "output_type": "stream",
     "text": [
      "\r",
      "  1%|          | 234/42146 [00:00<00:17, 2335.79it/s]"
     ]
    },
    {
     "name": "stderr",
     "output_type": "stream",
     "text": [
      "\r",
      "  1%|          | 491/42146 [00:00<00:16, 2472.18it/s]"
     ]
    },
    {
     "name": "stderr",
     "output_type": "stream",
     "text": [
      "\r",
      "  2%|▏         | 750/42146 [00:00<00:16, 2524.73it/s]"
     ]
    },
    {
     "name": "stderr",
     "output_type": "stream",
     "text": [
      "\r",
      "  2%|▏         | 1004/42146 [00:00<00:16, 2529.92it/s]"
     ]
    },
    {
     "name": "stderr",
     "output_type": "stream",
     "text": [
      "\r",
      "  3%|▎         | 1259/42146 [00:00<00:16, 2536.08it/s]"
     ]
    },
    {
     "name": "stderr",
     "output_type": "stream",
     "text": [
      "\r",
      "  4%|▎         | 1514/42146 [00:00<00:15, 2539.52it/s]"
     ]
    },
    {
     "name": "stderr",
     "output_type": "stream",
     "text": [
      "\r",
      "  4%|▍         | 1770/42146 [00:00<00:15, 2544.90it/s]"
     ]
    },
    {
     "name": "stderr",
     "output_type": "stream",
     "text": [
      "\r",
      "  5%|▍         | 2025/42146 [00:00<00:15, 2543.03it/s]"
     ]
    },
    {
     "name": "stderr",
     "output_type": "stream",
     "text": [
      "\r",
      "  5%|▌         | 2284/42146 [00:00<00:15, 2556.72it/s]"
     ]
    },
    {
     "name": "stderr",
     "output_type": "stream",
     "text": [
      "\r",
      "  6%|▌         | 2540/42146 [00:01<00:15, 2541.34it/s]"
     ]
    },
    {
     "name": "stderr",
     "output_type": "stream",
     "text": [
      "\r",
      "  7%|▋         | 2795/42146 [00:01<00:15, 2514.67it/s]"
     ]
    },
    {
     "name": "stderr",
     "output_type": "stream",
     "text": [
      "\r",
      "  7%|▋         | 3047/42146 [00:01<00:15, 2506.93it/s]"
     ]
    },
    {
     "name": "stderr",
     "output_type": "stream",
     "text": [
      "\r",
      "  8%|▊         | 3298/42146 [00:01<00:15, 2464.84it/s]"
     ]
    },
    {
     "name": "stderr",
     "output_type": "stream",
     "text": [
      "\r",
      "  8%|▊         | 3545/42146 [00:01<00:15, 2432.46it/s]"
     ]
    },
    {
     "name": "stderr",
     "output_type": "stream",
     "text": [
      "\r",
      "  9%|▉         | 3789/42146 [00:01<00:15, 2411.18it/s]"
     ]
    },
    {
     "name": "stderr",
     "output_type": "stream",
     "text": [
      "\r",
      " 10%|▉         | 4031/42146 [00:01<00:15, 2402.51it/s]"
     ]
    },
    {
     "name": "stderr",
     "output_type": "stream",
     "text": [
      "\r",
      " 10%|█         | 4272/42146 [00:01<00:15, 2380.41it/s]"
     ]
    },
    {
     "name": "stderr",
     "output_type": "stream",
     "text": [
      "\r",
      " 11%|█         | 4511/42146 [00:01<00:15, 2374.54it/s]"
     ]
    },
    {
     "name": "stderr",
     "output_type": "stream",
     "text": [
      "\r",
      " 11%|█▏        | 4749/42146 [00:01<00:15, 2374.15it/s]"
     ]
    },
    {
     "name": "stderr",
     "output_type": "stream",
     "text": [
      "\r",
      " 12%|█▏        | 4987/42146 [00:02<00:15, 2350.07it/s]"
     ]
    },
    {
     "name": "stderr",
     "output_type": "stream",
     "text": [
      "\r",
      " 12%|█▏        | 5223/42146 [00:02<00:15, 2341.25it/s]"
     ]
    },
    {
     "name": "stderr",
     "output_type": "stream",
     "text": [
      "\r",
      " 13%|█▎        | 5470/42146 [00:02<00:15, 2378.61it/s]"
     ]
    },
    {
     "name": "stderr",
     "output_type": "stream",
     "text": [
      "\r",
      " 14%|█▎        | 5720/42146 [00:02<00:15, 2412.56it/s]"
     ]
    },
    {
     "name": "stderr",
     "output_type": "stream",
     "text": [
      "\r",
      " 14%|█▍        | 5969/42146 [00:02<00:14, 2432.56it/s]"
     ]
    },
    {
     "name": "stderr",
     "output_type": "stream",
     "text": [
      "\r",
      " 15%|█▍        | 6219/42146 [00:02<00:14, 2452.19it/s]"
     ]
    },
    {
     "name": "stderr",
     "output_type": "stream",
     "text": [
      "\r",
      " 15%|█▌        | 6471/42146 [00:02<00:14, 2470.17it/s]"
     ]
    },
    {
     "name": "stderr",
     "output_type": "stream",
     "text": [
      "\r",
      " 16%|█▌        | 6721/42146 [00:02<00:14, 2478.14it/s]"
     ]
    },
    {
     "name": "stderr",
     "output_type": "stream",
     "text": [
      "\r",
      " 17%|█▋        | 6975/42146 [00:02<00:14, 2495.50it/s]"
     ]
    },
    {
     "name": "stderr",
     "output_type": "stream",
     "text": [
      "\r",
      " 17%|█▋        | 7227/42146 [00:02<00:13, 2501.88it/s]"
     ]
    },
    {
     "name": "stderr",
     "output_type": "stream",
     "text": [
      "\r",
      " 18%|█▊        | 7478/42146 [00:03<00:13, 2502.69it/s]"
     ]
    },
    {
     "name": "stderr",
     "output_type": "stream",
     "text": [
      "\r",
      " 18%|█▊        | 7731/42146 [00:03<00:13, 2507.51it/s]"
     ]
    },
    {
     "name": "stderr",
     "output_type": "stream",
     "text": [
      "\r",
      " 19%|█▉        | 7984/42146 [00:03<00:13, 2512.52it/s]"
     ]
    },
    {
     "name": "stderr",
     "output_type": "stream",
     "text": [
      "\r",
      " 20%|█▉        | 8236/42146 [00:03<00:13, 2506.98it/s]"
     ]
    },
    {
     "name": "stderr",
     "output_type": "stream",
     "text": [
      "\r",
      " 20%|██        | 8487/42146 [00:03<00:13, 2501.25it/s]"
     ]
    },
    {
     "name": "stderr",
     "output_type": "stream",
     "text": [
      "\r",
      " 21%|██        | 8738/42146 [00:03<00:13, 2487.12it/s]"
     ]
    },
    {
     "name": "stderr",
     "output_type": "stream",
     "text": [
      "\r",
      " 21%|██▏       | 8988/42146 [00:03<00:13, 2490.54it/s]"
     ]
    },
    {
     "name": "stderr",
     "output_type": "stream",
     "text": [
      "\r",
      " 22%|██▏       | 9238/42146 [00:03<00:13, 2470.69it/s]"
     ]
    },
    {
     "name": "stderr",
     "output_type": "stream",
     "text": [
      "\r",
      " 23%|██▎       | 9486/42146 [00:03<00:13, 2473.11it/s]"
     ]
    },
    {
     "name": "stderr",
     "output_type": "stream",
     "text": [
      "\r",
      " 23%|██▎       | 9734/42146 [00:03<00:13, 2473.72it/s]"
     ]
    },
    {
     "name": "stderr",
     "output_type": "stream",
     "text": [
      "\r",
      " 24%|██▎       | 9982/42146 [00:04<00:13, 2468.22it/s]"
     ]
    },
    {
     "name": "stderr",
     "output_type": "stream",
     "text": [
      "\r",
      " 24%|██▍       | 10235/42146 [00:04<00:12, 2484.56it/s]"
     ]
    },
    {
     "name": "stderr",
     "output_type": "stream",
     "text": [
      "\r",
      " 25%|██▍       | 10484/42146 [00:04<00:12, 2478.32it/s]"
     ]
    },
    {
     "name": "stderr",
     "output_type": "stream",
     "text": [
      "\r",
      " 25%|██▌       | 10734/42146 [00:04<00:12, 2483.43it/s]"
     ]
    },
    {
     "name": "stderr",
     "output_type": "stream",
     "text": [
      "\r",
      " 26%|██▌       | 10983/42146 [00:04<00:12, 2476.50it/s]"
     ]
    },
    {
     "name": "stderr",
     "output_type": "stream",
     "text": [
      "\r",
      " 27%|██▋       | 11231/42146 [00:04<00:12, 2473.80it/s]"
     ]
    },
    {
     "name": "stderr",
     "output_type": "stream",
     "text": [
      "\r",
      " 27%|██▋       | 11481/42146 [00:04<00:12, 2480.39it/s]"
     ]
    },
    {
     "name": "stderr",
     "output_type": "stream",
     "text": [
      "\r",
      " 28%|██▊       | 11730/42146 [00:04<00:12, 2479.56it/s]"
     ]
    },
    {
     "name": "stderr",
     "output_type": "stream",
     "text": [
      "\r",
      " 28%|██▊       | 11983/42146 [00:04<00:12, 2491.78it/s]"
     ]
    },
    {
     "name": "stderr",
     "output_type": "stream",
     "text": [
      "\r",
      " 29%|██▉       | 12236/42146 [00:04<00:11, 2502.26it/s]"
     ]
    },
    {
     "name": "stderr",
     "output_type": "stream",
     "text": [
      "\r",
      " 30%|██▉       | 12489/42146 [00:05<00:11, 2508.16it/s]"
     ]
    },
    {
     "name": "stderr",
     "output_type": "stream",
     "text": [
      "\r",
      " 30%|███       | 12740/42146 [00:05<00:11, 2504.57it/s]"
     ]
    },
    {
     "name": "stderr",
     "output_type": "stream",
     "text": [
      "\r",
      " 31%|███       | 12992/42146 [00:05<00:11, 2507.94it/s]"
     ]
    },
    {
     "name": "stderr",
     "output_type": "stream",
     "text": [
      "\r",
      " 31%|███▏      | 13243/42146 [00:05<00:11, 2495.99it/s]"
     ]
    },
    {
     "name": "stderr",
     "output_type": "stream",
     "text": [
      "\r",
      " 32%|███▏      | 13493/42146 [00:05<00:11, 2479.98it/s]"
     ]
    },
    {
     "name": "stderr",
     "output_type": "stream",
     "text": [
      "\r",
      " 33%|███▎      | 13742/42146 [00:05<00:11, 2423.86it/s]"
     ]
    },
    {
     "name": "stderr",
     "output_type": "stream",
     "text": [
      "\r",
      " 33%|███▎      | 13991/42146 [00:05<00:11, 2443.05it/s]"
     ]
    },
    {
     "name": "stderr",
     "output_type": "stream",
     "text": [
      "\r",
      " 34%|███▍      | 14240/42146 [00:05<00:11, 2455.16it/s]"
     ]
    },
    {
     "name": "stderr",
     "output_type": "stream",
     "text": [
      "\r",
      " 34%|███▍      | 14486/42146 [00:05<00:11, 2447.81it/s]"
     ]
    },
    {
     "name": "stderr",
     "output_type": "stream",
     "text": [
      "\r",
      " 35%|███▍      | 14734/42146 [00:05<00:11, 2456.61it/s]"
     ]
    },
    {
     "name": "stderr",
     "output_type": "stream",
     "text": [
      "\r",
      " 36%|███▌      | 14980/42146 [00:06<00:11, 2456.49it/s]"
     ]
    },
    {
     "name": "stderr",
     "output_type": "stream",
     "text": [
      "\r",
      " 36%|███▌      | 15226/42146 [00:06<00:11, 2410.75it/s]"
     ]
    },
    {
     "name": "stderr",
     "output_type": "stream",
     "text": [
      "\r",
      " 37%|███▋      | 15469/42146 [00:06<00:11, 2415.59it/s]"
     ]
    },
    {
     "name": "stderr",
     "output_type": "stream",
     "text": [
      "\r",
      " 37%|███▋      | 15711/42146 [00:06<00:10, 2403.51it/s]"
     ]
    },
    {
     "name": "stderr",
     "output_type": "stream",
     "text": [
      "\r",
      " 38%|███▊      | 15952/42146 [00:06<00:10, 2395.80it/s]"
     ]
    },
    {
     "name": "stderr",
     "output_type": "stream",
     "text": [
      "\r",
      " 38%|███▊      | 16192/42146 [00:06<00:10, 2377.15it/s]"
     ]
    },
    {
     "name": "stderr",
     "output_type": "stream",
     "text": [
      "\r",
      " 39%|███▉      | 16432/42146 [00:06<00:10, 2381.51it/s]"
     ]
    },
    {
     "name": "stderr",
     "output_type": "stream",
     "text": [
      "\r",
      " 40%|███▉      | 16675/42146 [00:06<00:10, 2395.05it/s]"
     ]
    },
    {
     "name": "stderr",
     "output_type": "stream",
     "text": [
      "\r",
      " 40%|████      | 16917/42146 [00:06<00:10, 2400.68it/s]"
     ]
    },
    {
     "name": "stderr",
     "output_type": "stream",
     "text": [
      "\r",
      " 41%|████      | 17163/42146 [00:06<00:10, 2417.83it/s]"
     ]
    },
    {
     "name": "stderr",
     "output_type": "stream",
     "text": [
      "\r",
      " 41%|████▏     | 17409/42146 [00:07<00:10, 2428.10it/s]"
     ]
    },
    {
     "name": "stderr",
     "output_type": "stream",
     "text": [
      "\r",
      " 42%|████▏     | 17657/42146 [00:07<00:10, 2441.72it/s]"
     ]
    },
    {
     "name": "stderr",
     "output_type": "stream",
     "text": [
      "\r",
      " 42%|████▏     | 17905/42146 [00:07<00:09, 2450.42it/s]"
     ]
    },
    {
     "name": "stderr",
     "output_type": "stream",
     "text": [
      "\r",
      " 43%|████▎     | 18154/42146 [00:07<00:09, 2462.06it/s]"
     ]
    },
    {
     "name": "stderr",
     "output_type": "stream",
     "text": [
      "\r",
      " 44%|████▎     | 18401/42146 [00:07<00:09, 2450.85it/s]"
     ]
    },
    {
     "name": "stderr",
     "output_type": "stream",
     "text": [
      "\r",
      " 44%|████▍     | 18647/42146 [00:07<00:09, 2440.04it/s]"
     ]
    },
    {
     "name": "stderr",
     "output_type": "stream",
     "text": [
      "\r",
      " 45%|████▍     | 18894/42146 [00:07<00:09, 2448.46it/s]"
     ]
    },
    {
     "name": "stderr",
     "output_type": "stream",
     "text": [
      "\r",
      " 45%|████▌     | 19139/42146 [00:07<00:09, 2445.56it/s]"
     ]
    },
    {
     "name": "stderr",
     "output_type": "stream",
     "text": [
      "\r",
      " 46%|████▌     | 19385/42146 [00:07<00:09, 2448.15it/s]"
     ]
    },
    {
     "name": "stderr",
     "output_type": "stream",
     "text": [
      "\r",
      " 47%|████▋     | 19634/42146 [00:07<00:09, 2459.44it/s]"
     ]
    },
    {
     "name": "stderr",
     "output_type": "stream",
     "text": [
      "\r",
      " 47%|████▋     | 19882/42146 [00:08<00:09, 2463.91it/s]"
     ]
    },
    {
     "name": "stderr",
     "output_type": "stream",
     "text": [
      "\r",
      " 48%|████▊     | 20129/42146 [00:08<00:08, 2456.68it/s]"
     ]
    },
    {
     "name": "stderr",
     "output_type": "stream",
     "text": [
      "\r",
      " 48%|████▊     | 20381/42146 [00:08<00:08, 2475.03it/s]"
     ]
    },
    {
     "name": "stderr",
     "output_type": "stream",
     "text": [
      "\r",
      " 49%|████▉     | 20637/42146 [00:08<00:08, 2497.81it/s]"
     ]
    },
    {
     "name": "stderr",
     "output_type": "stream",
     "text": [
      "\r",
      " 50%|████▉     | 20888/42146 [00:08<00:08, 2499.55it/s]"
     ]
    },
    {
     "name": "stderr",
     "output_type": "stream",
     "text": [
      "\r",
      " 50%|█████     | 21142/42146 [00:08<00:08, 2509.12it/s]"
     ]
    },
    {
     "name": "stderr",
     "output_type": "stream",
     "text": [
      "\r",
      " 51%|█████     | 21394/42146 [00:08<00:08, 2508.57it/s]"
     ]
    },
    {
     "name": "stderr",
     "output_type": "stream",
     "text": [
      "\r",
      " 51%|█████▏    | 21646/42146 [00:08<00:08, 2510.15it/s]"
     ]
    },
    {
     "name": "stderr",
     "output_type": "stream",
     "text": [
      "\r",
      " 52%|█████▏    | 21901/42146 [00:08<00:08, 2519.71it/s]"
     ]
    },
    {
     "name": "stderr",
     "output_type": "stream",
     "text": [
      "\r",
      " 53%|█████▎    | 22153/42146 [00:08<00:07, 2517.54it/s]"
     ]
    },
    {
     "name": "stderr",
     "output_type": "stream",
     "text": [
      "\r",
      " 53%|█████▎    | 22407/42146 [00:09<00:07, 2523.63it/s]"
     ]
    },
    {
     "name": "stderr",
     "output_type": "stream",
     "text": [
      "\r",
      " 54%|█████▍    | 22662/42146 [00:09<00:07, 2529.76it/s]"
     ]
    },
    {
     "name": "stderr",
     "output_type": "stream",
     "text": [
      "\r",
      " 54%|█████▍    | 22915/42146 [00:09<00:07, 2516.47it/s]"
     ]
    },
    {
     "name": "stderr",
     "output_type": "stream",
     "text": [
      "\r",
      " 55%|█████▍    | 23168/42146 [00:09<00:07, 2518.43it/s]"
     ]
    },
    {
     "name": "stderr",
     "output_type": "stream",
     "text": [
      "\r",
      " 56%|█████▌    | 23420/42146 [00:09<00:07, 2516.94it/s]"
     ]
    },
    {
     "name": "stderr",
     "output_type": "stream",
     "text": [
      "\r",
      " 56%|█████▌    | 23676/42146 [00:09<00:07, 2527.14it/s]"
     ]
    },
    {
     "name": "stderr",
     "output_type": "stream",
     "text": [
      "\r",
      " 57%|█████▋    | 23929/42146 [00:09<00:07, 2520.03it/s]"
     ]
    },
    {
     "name": "stderr",
     "output_type": "stream",
     "text": [
      "\r",
      " 57%|█████▋    | 24183/42146 [00:09<00:07, 2525.01it/s]"
     ]
    },
    {
     "name": "stderr",
     "output_type": "stream",
     "text": [
      "\r",
      " 58%|█████▊    | 24438/42146 [00:09<00:06, 2529.83it/s]"
     ]
    },
    {
     "name": "stderr",
     "output_type": "stream",
     "text": [
      "\r",
      " 59%|█████▊    | 24695/42146 [00:09<00:06, 2540.64it/s]"
     ]
    },
    {
     "name": "stderr",
     "output_type": "stream",
     "text": [
      "\r",
      " 59%|█████▉    | 24952/42146 [00:10<00:06, 2548.81it/s]"
     ]
    },
    {
     "name": "stderr",
     "output_type": "stream",
     "text": [
      "\r",
      " 60%|█████▉    | 25207/42146 [00:10<00:06, 2537.33it/s]"
     ]
    },
    {
     "name": "stderr",
     "output_type": "stream",
     "text": [
      "\r",
      " 60%|██████    | 25461/42146 [00:10<00:06, 2525.12it/s]"
     ]
    },
    {
     "name": "stderr",
     "output_type": "stream",
     "text": [
      "\r",
      " 61%|██████    | 25716/42146 [00:10<00:06, 2530.15it/s]"
     ]
    },
    {
     "name": "stderr",
     "output_type": "stream",
     "text": [
      "\r",
      " 62%|██████▏   | 25972/42146 [00:10<00:06, 2538.28it/s]"
     ]
    },
    {
     "name": "stderr",
     "output_type": "stream",
     "text": [
      "\r",
      " 62%|██████▏   | 26229/42146 [00:10<00:06, 2546.45it/s]"
     ]
    },
    {
     "name": "stderr",
     "output_type": "stream",
     "text": [
      "\r",
      " 63%|██████▎   | 26488/42146 [00:10<00:06, 2557.20it/s]"
     ]
    },
    {
     "name": "stderr",
     "output_type": "stream",
     "text": [
      "\r",
      " 63%|██████▎   | 26744/42146 [00:10<00:06, 2549.46it/s]"
     ]
    },
    {
     "name": "stderr",
     "output_type": "stream",
     "text": [
      "\r",
      " 64%|██████▍   | 26999/42146 [00:10<00:05, 2531.53it/s]"
     ]
    },
    {
     "name": "stderr",
     "output_type": "stream",
     "text": [
      "\r",
      " 65%|██████▍   | 27253/42146 [00:11<00:05, 2495.74it/s]"
     ]
    },
    {
     "name": "stderr",
     "output_type": "stream",
     "text": [
      "\r",
      " 65%|██████▌   | 27503/42146 [00:11<00:05, 2480.57it/s]"
     ]
    },
    {
     "name": "stderr",
     "output_type": "stream",
     "text": [
      "\r",
      " 66%|██████▌   | 27761/42146 [00:11<00:05, 2508.53it/s]"
     ]
    },
    {
     "name": "stderr",
     "output_type": "stream",
     "text": [
      "\r",
      " 66%|██████▋   | 28020/42146 [00:11<00:05, 2531.98it/s]"
     ]
    },
    {
     "name": "stderr",
     "output_type": "stream",
     "text": [
      "\r",
      " 67%|██████▋   | 28278/42146 [00:11<00:05, 2544.80it/s]"
     ]
    },
    {
     "name": "stderr",
     "output_type": "stream",
     "text": [
      "\r",
      " 68%|██████▊   | 28533/42146 [00:11<00:05, 2543.45it/s]"
     ]
    },
    {
     "name": "stderr",
     "output_type": "stream",
     "text": [
      "\r",
      " 68%|██████▊   | 28788/42146 [00:11<00:05, 2518.87it/s]"
     ]
    },
    {
     "name": "stderr",
     "output_type": "stream",
     "text": [
      "\r",
      " 69%|██████▉   | 29040/42146 [00:11<00:05, 2468.18it/s]"
     ]
    },
    {
     "name": "stderr",
     "output_type": "stream",
     "text": [
      "\r",
      " 69%|██████▉   | 29288/42146 [00:11<00:05, 2446.30it/s]"
     ]
    },
    {
     "name": "stderr",
     "output_type": "stream",
     "text": [
      "\r",
      " 70%|███████   | 29533/42146 [00:11<00:05, 2417.10it/s]"
     ]
    },
    {
     "name": "stderr",
     "output_type": "stream",
     "text": [
      "\r",
      " 71%|███████   | 29775/42146 [00:12<00:05, 2417.59it/s]"
     ]
    },
    {
     "name": "stderr",
     "output_type": "stream",
     "text": [
      "\r",
      " 71%|███████   | 30017/42146 [00:12<00:05, 2413.53it/s]"
     ]
    },
    {
     "name": "stderr",
     "output_type": "stream",
     "text": [
      "\r",
      " 72%|███████▏  | 30259/42146 [00:12<00:04, 2385.60it/s]"
     ]
    },
    {
     "name": "stderr",
     "output_type": "stream",
     "text": [
      "\r",
      " 72%|███████▏  | 30498/42146 [00:12<00:04, 2379.24it/s]"
     ]
    },
    {
     "name": "stderr",
     "output_type": "stream",
     "text": [
      "\r",
      " 73%|███████▎  | 30736/42146 [00:12<00:04, 2372.09it/s]"
     ]
    },
    {
     "name": "stderr",
     "output_type": "stream",
     "text": [
      "\r",
      " 73%|███████▎  | 30974/42146 [00:12<00:04, 2355.02it/s]"
     ]
    },
    {
     "name": "stderr",
     "output_type": "stream",
     "text": [
      "\r",
      " 74%|███████▍  | 31213/42146 [00:12<00:04, 2362.63it/s]"
     ]
    },
    {
     "name": "stderr",
     "output_type": "stream",
     "text": [
      "\r",
      " 75%|███████▍  | 31450/42146 [00:12<00:04, 2353.49it/s]"
     ]
    },
    {
     "name": "stderr",
     "output_type": "stream",
     "text": [
      "\r",
      " 75%|███████▌  | 31686/42146 [00:12<00:04, 2308.55it/s]"
     ]
    },
    {
     "name": "stderr",
     "output_type": "stream",
     "text": [
      "\r",
      " 76%|███████▌  | 31923/42146 [00:12<00:04, 2325.67it/s]"
     ]
    },
    {
     "name": "stderr",
     "output_type": "stream",
     "text": [
      "\r",
      " 76%|███████▋  | 32156/42146 [00:13<00:04, 2325.94it/s]"
     ]
    },
    {
     "name": "stderr",
     "output_type": "stream",
     "text": [
      "\r",
      " 77%|███████▋  | 32389/42146 [00:13<00:04, 2298.75it/s]"
     ]
    },
    {
     "name": "stderr",
     "output_type": "stream",
     "text": [
      "\r",
      " 77%|███████▋  | 32623/42146 [00:13<00:04, 2309.29it/s]"
     ]
    },
    {
     "name": "stderr",
     "output_type": "stream",
     "text": [
      "\r",
      " 78%|███████▊  | 32857/42146 [00:13<00:04, 2316.89it/s]"
     ]
    },
    {
     "name": "stderr",
     "output_type": "stream",
     "text": [
      "\r",
      " 79%|███████▊  | 33093/42146 [00:13<00:03, 2327.65it/s]"
     ]
    },
    {
     "name": "stderr",
     "output_type": "stream",
     "text": [
      "\r",
      " 79%|███████▉  | 33326/42146 [00:13<00:03, 2323.45it/s]"
     ]
    },
    {
     "name": "stderr",
     "output_type": "stream",
     "text": [
      "\r",
      " 80%|███████▉  | 33559/42146 [00:13<00:03, 2321.73it/s]"
     ]
    },
    {
     "name": "stderr",
     "output_type": "stream",
     "text": [
      "\r",
      " 80%|████████  | 33792/42146 [00:13<00:03, 2306.79it/s]"
     ]
    },
    {
     "name": "stderr",
     "output_type": "stream",
     "text": [
      "\r",
      " 81%|████████  | 34026/42146 [00:13<00:03, 2316.25it/s]"
     ]
    },
    {
     "name": "stderr",
     "output_type": "stream",
     "text": [
      "\r",
      " 81%|████████▏ | 34258/42146 [00:13<00:03, 2317.00it/s]"
     ]
    },
    {
     "name": "stderr",
     "output_type": "stream",
     "text": [
      "\r",
      " 82%|████████▏ | 34490/42146 [00:14<00:03, 2315.72it/s]"
     ]
    },
    {
     "name": "stderr",
     "output_type": "stream",
     "text": [
      "\r",
      " 82%|████████▏ | 34722/42146 [00:14<00:03, 2315.98it/s]"
     ]
    },
    {
     "name": "stderr",
     "output_type": "stream",
     "text": [
      "\r",
      " 83%|████████▎ | 34955/42146 [00:14<00:03, 2318.92it/s]"
     ]
    },
    {
     "name": "stderr",
     "output_type": "stream",
     "text": [
      "\r",
      " 83%|████████▎ | 35187/42146 [00:14<00:03, 2265.69it/s]"
     ]
    },
    {
     "name": "stderr",
     "output_type": "stream",
     "text": [
      "\r",
      " 84%|████████▍ | 35418/42146 [00:14<00:02, 2276.64it/s]"
     ]
    },
    {
     "name": "stderr",
     "output_type": "stream",
     "text": [
      "\r",
      " 85%|████████▍ | 35649/42146 [00:14<00:02, 2285.28it/s]"
     ]
    },
    {
     "name": "stderr",
     "output_type": "stream",
     "text": [
      "\r",
      " 85%|████████▌ | 35879/42146 [00:14<00:02, 2289.20it/s]"
     ]
    },
    {
     "name": "stderr",
     "output_type": "stream",
     "text": [
      "\r",
      " 86%|████████▌ | 36109/42146 [00:14<00:02, 2288.65it/s]"
     ]
    },
    {
     "name": "stderr",
     "output_type": "stream",
     "text": [
      "\r",
      " 86%|████████▌ | 36338/42146 [00:14<00:02, 2280.31it/s]"
     ]
    },
    {
     "name": "stderr",
     "output_type": "stream",
     "text": [
      "\r",
      " 87%|████████▋ | 36567/42146 [00:14<00:02, 2280.21it/s]"
     ]
    },
    {
     "name": "stderr",
     "output_type": "stream",
     "text": [
      "\r",
      " 87%|████████▋ | 36796/42146 [00:15<00:02, 2279.83it/s]"
     ]
    },
    {
     "name": "stderr",
     "output_type": "stream",
     "text": [
      "\r",
      " 88%|████████▊ | 37029/42146 [00:15<00:02, 2291.72it/s]"
     ]
    },
    {
     "name": "stderr",
     "output_type": "stream",
     "text": [
      "\r",
      " 88%|████████▊ | 37287/42146 [00:15<00:02, 2376.42it/s]"
     ]
    },
    {
     "name": "stderr",
     "output_type": "stream",
     "text": [
      "\r",
      " 89%|████████▉ | 37550/42146 [00:15<00:01, 2450.99it/s]"
     ]
    },
    {
     "name": "stderr",
     "output_type": "stream",
     "text": [
      "\r",
      " 90%|████████▉ | 37813/42146 [00:15<00:01, 2504.36it/s]"
     ]
    },
    {
     "name": "stderr",
     "output_type": "stream",
     "text": [
      "\r",
      " 90%|█████████ | 38072/42146 [00:15<00:01, 2529.28it/s]"
     ]
    },
    {
     "name": "stderr",
     "output_type": "stream",
     "text": [
      "\r",
      " 91%|█████████ | 38325/42146 [00:15<00:01, 2509.86it/s]"
     ]
    },
    {
     "name": "stderr",
     "output_type": "stream",
     "text": [
      "\r",
      " 92%|█████████▏| 38577/42146 [00:15<00:01, 2511.68it/s]"
     ]
    },
    {
     "name": "stderr",
     "output_type": "stream",
     "text": [
      "\r",
      " 92%|█████████▏| 38833/42146 [00:15<00:01, 2524.24it/s]"
     ]
    },
    {
     "name": "stderr",
     "output_type": "stream",
     "text": [
      "\r",
      " 93%|█████████▎| 39094/42146 [00:15<00:01, 2549.41it/s]"
     ]
    },
    {
     "name": "stderr",
     "output_type": "stream",
     "text": [
      "\r",
      " 93%|█████████▎| 39356/42146 [00:16<00:01, 2567.48it/s]"
     ]
    },
    {
     "name": "stderr",
     "output_type": "stream",
     "text": [
      "\r",
      " 94%|█████████▍| 39616/42146 [00:16<00:00, 2574.38it/s]"
     ]
    },
    {
     "name": "stderr",
     "output_type": "stream",
     "text": [
      "\r",
      " 95%|█████████▍| 39879/42146 [00:16<00:00, 2590.01it/s]"
     ]
    },
    {
     "name": "stderr",
     "output_type": "stream",
     "text": [
      "\r",
      " 95%|█████████▌| 40146/42146 [00:16<00:00, 2610.95it/s]"
     ]
    },
    {
     "name": "stderr",
     "output_type": "stream",
     "text": [
      "\r",
      " 96%|█████████▌| 40408/42146 [00:16<00:00, 2611.12it/s]"
     ]
    },
    {
     "name": "stderr",
     "output_type": "stream",
     "text": [
      "\r",
      " 96%|█████████▋| 40670/42146 [00:16<00:00, 2595.68it/s]"
     ]
    },
    {
     "name": "stderr",
     "output_type": "stream",
     "text": [
      "\r",
      " 97%|█████████▋| 40934/42146 [00:16<00:00, 2608.45it/s]"
     ]
    },
    {
     "name": "stderr",
     "output_type": "stream",
     "text": [
      "\r",
      " 98%|█████████▊| 41195/42146 [00:16<00:00, 2606.63it/s]"
     ]
    },
    {
     "name": "stderr",
     "output_type": "stream",
     "text": [
      "\r",
      " 98%|█████████▊| 41462/42146 [00:16<00:00, 2625.42it/s]"
     ]
    },
    {
     "name": "stderr",
     "output_type": "stream",
     "text": [
      "\r",
      " 99%|█████████▉| 41725/42146 [00:16<00:00, 2600.81it/s]"
     ]
    },
    {
     "name": "stderr",
     "output_type": "stream",
     "text": [
      "\r",
      "100%|█████████▉| 41986/42146 [00:17<00:00, 2597.12it/s]"
     ]
    },
    {
     "name": "stderr",
     "output_type": "stream",
     "text": [
      "\r",
      "100%|██████████| 42146/42146 [00:17<00:00, 2458.86it/s]"
     ]
    },
    {
     "name": "stderr",
     "output_type": "stream",
     "text": [
      "\n",
      "pn_history max(lengths): 412\n"
     ]
    },
    {
     "name": "stderr",
     "output_type": "stream",
     "text": [
      "\r",
      "  0%|          | 0/143 [00:00<?, ?it/s]"
     ]
    },
    {
     "name": "stderr",
     "output_type": "stream",
     "text": [
      "\r",
      "100%|██████████| 143/143 [00:00<00:00, 20218.62it/s]"
     ]
    },
    {
     "name": "stderr",
     "output_type": "stream",
     "text": [
      "\n",
      "feature_text max(lengths): 28\n"
     ]
    },
    {
     "name": "stderr",
     "output_type": "stream",
     "text": [
      "max_len: 443\n"
     ]
    }
   ],
   "source": [
    "# Define max_len\n",
    "for text_col in ['pn_history']:\n",
    "    pn_history_lengths = []\n",
    "    tk0 = tqdm(patient_notes[text_col].fillna(\"\").values, total=len(patient_notes))\n",
    "    for text in tk0:\n",
    "        length = len(tokenizer(text, add_special_tokens=False)['input_ids'])\n",
    "        pn_history_lengths.append(length)\n",
    "    LOGGER.info(f'{text_col} max(lengths): {max(pn_history_lengths)}')\n",
    "\n",
    "for text_col in ['feature_text']:\n",
    "    features_lengths = []\n",
    "    tk0 = tqdm(features[text_col].fillna(\"\").values, total=len(features))\n",
    "    for text in tk0:\n",
    "        length = len(tokenizer(text, add_special_tokens=False)['input_ids'])\n",
    "        features_lengths.append(length)\n",
    "    LOGGER.info(f'{text_col} max(lengths): {max(features_lengths)}')\n",
    "\n",
    "CFG.max_len = max(pn_history_lengths) + max(features_lengths) + 3  # cls & sep & sep\n",
    "LOGGER.info(f\"max_len: {CFG.max_len}\")"
   ]
  },
  {
   "cell_type": "code",
   "execution_count": 20,
   "id": "de977631",
   "metadata": {
    "execution": {
     "iopub.execute_input": "2025-02-11T21:11:37.606802Z",
     "iopub.status.busy": "2025-02-11T21:11:37.606392Z",
     "iopub.status.idle": "2025-02-11T21:11:37.620370Z",
     "shell.execute_reply": "2025-02-11T21:11:37.619652Z"
    },
    "papermill": {
     "duration": 0.043356,
     "end_time": "2025-02-11T21:11:37.622149",
     "exception": false,
     "start_time": "2025-02-11T21:11:37.578793",
     "status": "completed"
    },
    "tags": []
   },
   "outputs": [],
   "source": [
    "# ====================================================\n",
    "# Dataset\n",
    "# ====================================================\n",
    "def prepare_input(cfg, text, feature_text):\n",
    "\n",
    "    # Omit token_type_ids for ModernBERT\n",
    "    is_token_type_ids = CFG.model != 'answerdotai/ModernBERT-base'\n",
    "\n",
    "    inputs = cfg.tokenizer(text, feature_text, \n",
    "                           add_special_tokens=True,\n",
    "                           max_length=CFG.max_len,\n",
    "                           padding=\"max_length\",\n",
    "                           truncation=True,\n",
    "                           return_offsets_mapping=False,\n",
    "                           return_token_type_ids=is_token_type_ids)\n",
    "    for k, v in inputs.items():\n",
    "        inputs[k] = torch.tensor(v, dtype=torch.long)\n",
    "    return inputs\n",
    "\n",
    "\n",
    "def create_label(cfg, text, annotation_length, location_list):\n",
    "    encoded = cfg.tokenizer(text,\n",
    "                            add_special_tokens=True,\n",
    "                            max_length=CFG.max_len,\n",
    "                            padding=\"max_length\",\n",
    "                            return_offsets_mapping=True)\n",
    "    offset_mapping = encoded['offset_mapping']\n",
    "    ignore_idxes = np.where(np.array(encoded.sequence_ids()) != 0)[0]\n",
    "    label = np.zeros(len(offset_mapping))\n",
    "    label[ignore_idxes] = -1\n",
    "    if annotation_length != 0:\n",
    "        for location in location_list:\n",
    "            for loc in [s.split() for s in location.split(';')]:\n",
    "                start_idx = -1\n",
    "                end_idx = -1\n",
    "                start, end = int(loc[0]), int(loc[1])\n",
    "                for idx in range(len(offset_mapping)):\n",
    "                    if (start_idx == -1) & (start < offset_mapping[idx][0]):\n",
    "                        start_idx = idx - 1\n",
    "                    if (end_idx == -1) & (end <= offset_mapping[idx][1]):\n",
    "                        end_idx = idx + 1\n",
    "                if start_idx == -1:\n",
    "                    start_idx = end_idx\n",
    "                if (start_idx != -1) & (end_idx != -1):\n",
    "                    label[start_idx:end_idx] = 1\n",
    "    return torch.tensor(label, dtype=torch.bfloat16)\n",
    "\n",
    "\n",
    "class TrainDataset(Dataset):\n",
    "    def __init__(self, cfg, df):\n",
    "        self.cfg = cfg\n",
    "        self.feature_texts = df['feature_text'].values\n",
    "        self.pn_historys = df['pn_history'].values\n",
    "        self.annotation_lengths = df['annotation_length'].values\n",
    "        self.locations = df['location'].values\n",
    "\n",
    "    def __len__(self):\n",
    "        return len(self.feature_texts)\n",
    "\n",
    "    def __getitem__(self, item):\n",
    "        inputs = prepare_input(self.cfg, \n",
    "                               self.pn_historys[item], \n",
    "                               self.feature_texts[item])\n",
    "        label = create_label(self.cfg, \n",
    "                             self.pn_historys[item], \n",
    "                             self.annotation_lengths[item], \n",
    "                             self.locations[item])\n",
    "        return inputs, label"
   ]
  },
  {
   "cell_type": "markdown",
   "id": "a6158343",
   "metadata": {
    "papermill": {
     "duration": 0.028707,
     "end_time": "2025-02-11T21:11:37.674832",
     "exception": false,
     "start_time": "2025-02-11T21:11:37.646125",
     "status": "completed"
    },
    "tags": []
   },
   "source": [
    "# Model"
   ]
  },
  {
   "cell_type": "code",
   "execution_count": 21,
   "id": "5a93e799",
   "metadata": {
    "execution": {
     "iopub.execute_input": "2025-02-11T21:11:37.851408Z",
     "iopub.status.busy": "2025-02-11T21:11:37.851069Z",
     "iopub.status.idle": "2025-02-11T21:11:37.863763Z",
     "shell.execute_reply": "2025-02-11T21:11:37.862962Z"
    },
    "papermill": {
     "duration": 0.042146,
     "end_time": "2025-02-11T21:11:37.864988",
     "exception": false,
     "start_time": "2025-02-11T21:11:37.822842",
     "status": "completed"
    },
    "tags": []
   },
   "outputs": [],
   "source": [
    "import torch\n",
    "import torch.nn as nn\n",
    "from transformers import AutoConfig, AutoModel\n",
    "from torch.utils.checkpoint import checkpoint\n",
    "\n",
    "class CustomModel(nn.Module):\n",
    "    def __init__(self, cfg, config_path=None, pretrained=False):\n",
    "        super().__init__()\n",
    "        self.cfg = cfg\n",
    "        if config_path is None:\n",
    "            self.config = AutoConfig.from_pretrained(cfg.model, output_hidden_states=True)\n",
    "        else:\n",
    "            self.config = torch.load(config_path)\n",
    "        if pretrained:\n",
    "            self.model = AutoModel.from_pretrained(cfg.model, config=self.config)\n",
    "        else:\n",
    "            self.model = AutoModel(self.config)\n",
    "\n",
    "        self.model.gradient_checkpointing_enable()\n",
    "        self.fc_dropout = nn.Dropout(cfg.fc_dropout)\n",
    "        self.fc = nn.Linear(self.config.hidden_size, 1)\n",
    "        self._init_weights(self.fc)\n",
    "\n",
    "    def _init_weights(self, module):\n",
    "        if isinstance(module, nn.Linear):\n",
    "            module.weight.data.normal_(mean=0.0, std=self.config.initializer_range)\n",
    "            if module.bias is not None:\n",
    "                module.bias.data.zero_()\n",
    "        elif isinstance(module, nn.Embedding):\n",
    "            module.weight.data.normal_(mean=0.0, std=self.config.initializer_range)\n",
    "            if module.padding_idx is not None:\n",
    "                module.weight.data[module.padding_idx].zero_()\n",
    "        elif isinstance(module, nn.LayerNorm):\n",
    "            module.bias.data.zero_()\n",
    "            module.weight.data.fill_(1.0)\n",
    "\n",
    "    def feature(self, inputs):\n",
    "        # Debugging input shapes and types\n",
    "        #print(\"Feature extraction inputs:\")\n",
    "        #for k, v in inputs.items():\n",
    "            #print(f\"{k}: shape={v.shape}, dtype={v.dtype}, device={v.device}\")\n",
    "        \n",
    "        # Process the inputs through the model\n",
    "        outputs = self.model(**inputs)\n",
    "        last_hidden_states = outputs.last_hidden_state\n",
    "        \n",
    "        # Debugging the output of the model\n",
    "        #print(f\"Last hidden states: shape={last_hidden_states.shape}, dtype={last_hidden_states.dtype}\")\n",
    "        return last_hidden_states\n",
    "\n",
    "    def forward(self, inputs):\n",
    "        # Debugging the forward pass\n",
    "        #print(\"Starting forward pass...\")\n",
    "        #print(\"Input keys and shapes:\")\n",
    "        #for k, v in inputs.items():\n",
    "            #print(f\"{k}: shape={v.shape}, dtype={v.dtype}, device={v.device}\")\n",
    "        \n",
    "        with torch.cuda.amp.autocast(enabled=True, dtype=torch.bfloat16):  # Enable AMP\n",
    "            #print(\"Running model under AMP...\")\n",
    "            outputs = self.model(**inputs)\n",
    "        \n",
    "        # Debugging model output\n",
    "        #print(\"Model outputs:\")\n",
    "        #if isinstance(outputs, tuple):\n",
    "           # for idx, output in enumerate(outputs):\n",
    "                #print(f\"Output {idx}: shape={output.shape if hasattr(output, 'shape') else 'N/A'}\")\n",
    "        #else:\n",
    "            #print(f\"Outputs: {outputs}\")\n",
    "            #pass\n",
    "        \n",
    "        # Final linear layer\n",
    "        feature = outputs.last_hidden_state\n",
    "        output = self.fc(self.fc_dropout(feature))\n",
    "        \n",
    "        # Debugging final output\n",
    "        #print(f\"Final output shape: {output.shape}, dtype={output.dtype}\")\n",
    "        return output\n"
   ]
  },
  {
   "cell_type": "markdown",
   "id": "88d7716f",
   "metadata": {
    "papermill": {
     "duration": 0.020046,
     "end_time": "2025-02-11T21:11:37.907580",
     "exception": false,
     "start_time": "2025-02-11T21:11:37.887534",
     "status": "completed"
    },
    "tags": []
   },
   "source": [
    "# Helper functions"
   ]
  },
  {
   "cell_type": "code",
   "execution_count": 22,
   "id": "be86ea16",
   "metadata": {
    "execution": {
     "iopub.execute_input": "2025-02-11T21:11:37.944598Z",
     "iopub.status.busy": "2025-02-11T21:11:37.944316Z",
     "iopub.status.idle": "2025-02-11T21:11:37.951695Z",
     "shell.execute_reply": "2025-02-11T21:11:37.950930Z"
    },
    "papermill": {
     "duration": 0.027062,
     "end_time": "2025-02-11T21:11:37.953073",
     "exception": false,
     "start_time": "2025-02-11T21:11:37.926011",
     "status": "completed"
    },
    "tags": []
   },
   "outputs": [
    {
     "data": {
      "text/plain": [
       "<torch.autograd.anomaly_mode.set_detect_anomaly at 0x76df1d590fd0>"
      ]
     },
     "execution_count": 22,
     "metadata": {},
     "output_type": "execute_result"
    }
   ],
   "source": [
    "# ====================================================\n",
    "# Helper functions\n",
    "# ====================================================\n",
    "class AverageMeter(object):\n",
    "    \"\"\"Computes and stores the average and current value\"\"\"\n",
    "    def __init__(self):\n",
    "        self.reset()\n",
    "\n",
    "    def reset(self):\n",
    "        self.val = 0\n",
    "        self.avg = 0\n",
    "        self.sum = 0\n",
    "        self.count = 0\n",
    "\n",
    "    def update(self, val, n=1):\n",
    "        self.val = val\n",
    "        self.sum += val * n\n",
    "        self.count += n\n",
    "        self.avg = self.sum / self.count\n",
    "\n",
    "\n",
    "def asMinutes(s):\n",
    "    m = math.floor(s / 60)\n",
    "    s -= m * 60\n",
    "    return '%dm %ds' % (m, s)\n",
    "\n",
    "\n",
    "def timeSince(since, percent):\n",
    "    now = time.time()\n",
    "    s = now - since\n",
    "    es = s / (percent)\n",
    "    rs = es - s\n",
    "    return '%s (remain %s)' % (asMinutes(s), asMinutes(rs))\n",
    "\n",
    "torch.autograd.set_detect_anomaly(True)"
   ]
  },
  {
   "cell_type": "code",
   "execution_count": 23,
   "id": "f4136e9b",
   "metadata": {
    "execution": {
     "iopub.execute_input": "2025-02-11T21:11:37.993831Z",
     "iopub.status.busy": "2025-02-11T21:11:37.993553Z",
     "iopub.status.idle": "2025-02-11T21:11:38.008246Z",
     "shell.execute_reply": "2025-02-11T21:11:38.007709Z"
    },
    "papermill": {
     "duration": 0.033142,
     "end_time": "2025-02-11T21:11:38.009119",
     "exception": false,
     "start_time": "2025-02-11T21:11:37.975977",
     "status": "completed"
    },
    "tags": []
   },
   "outputs": [],
   "source": [
    "def valid_fn(valid_loader, model, criterion, device):\n",
    "    \"\"\"\n",
    "    Validation function with detailed debugging for intermediate outputs.\n",
    "    \"\"\"\n",
    "    losses = AverageMeter()\n",
    "    model.eval()\n",
    "    preds = []\n",
    "    start = time.time()\n",
    "\n",
    "    print(\"Starting validation...\")\n",
    "    for step, (inputs, labels) in enumerate(valid_loader):\n",
    "        # Move inputs and labels to the correct device\n",
    "        for k, v in inputs.items():\n",
    "            inputs[k] = v.to(device)\n",
    "        labels = labels.to(device)\n",
    "        batch_size = labels.size(0)\n",
    "        \n",
    "        with torch.no_grad():\n",
    "            y_preds = model(inputs)  # Model predictions\n",
    "        \n",
    "        # Compute loss\n",
    "        loss = criterion(y_preds.view(-1, 1), labels.view(-1, 1))\n",
    "        loss = torch.masked_select(loss, labels.view(-1, 1) != -1).mean()\n",
    "        if CFG.gradient_accumulation_steps > 1:\n",
    "            loss = loss / CFG.gradient_accumulation_steps\n",
    "        losses.update(loss.item(), batch_size)\n",
    "\n",
    "        # Store predictions\n",
    "        preds.append(y_preds.sigmoid().to('cpu').numpy())\n",
    "\n",
    "        end = time.time()\n",
    "\n",
    "        # Debugging: Log step-wise progress and intermediate outputs\n",
    "        if step % CFG.print_freq == 0 or step == (len(valid_loader)-1):\n",
    "            print('EVAL: [{0}/{1}] '\n",
    "                  'Elapsed {remain:s} '\n",
    "                  'Loss: {loss.val:.4f}({loss.avg:.4f}) '\n",
    "                  .format(step, len(valid_loader),\n",
    "                          loss=losses,\n",
    "                          remain=timeSince(start, float(step+1)/len(valid_loader))))\n",
    "            #print(f\"Sample Predictions: {y_preds.sigmoid()[:5].view(-1).tolist()}\")  # Example predictions\n",
    "            #print(f\"Sample Labels: {labels[:5].view(-1).tolist()}\")  # Example labels\n",
    "\n",
    "    predictions = np.concatenate(preds)\n",
    "\n",
    "    # Debugging: Check shape and content of predictions\n",
    "    #print(f\"Validation Predictions Shape: {predictions.shape}\")\n",
    "    # print(f\"First 5 Predictions: {predictions[:5]}\")\n",
    "\n",
    "    return losses.avg, predictions\n",
    "\n",
    "\n",
    "def train_fn(fold, train_loader, model, criterion, optimizer, epoch, scheduler, device):\n",
    "    \"\"\"\n",
    "    Training function with detailed debugging for loss and gradients.\n",
    "    \"\"\"\n",
    "    print(f\"\\nStarting training epoch {epoch + 1} for fold {fold}\")\n",
    "    model.train()\n",
    "    scaler = torch.cuda.amp.GradScaler(enabled=CFG.apex)\n",
    "\n",
    "    losses = AverageMeter()\n",
    "    start = time.time()\n",
    "    global_step = 0\n",
    "\n",
    "    for step, (inputs, labels) in enumerate(train_loader):\n",
    "        # Move inputs and labels to the correct device\n",
    "        for k, v in inputs.items():\n",
    "            inputs[k] = v.to(device)\n",
    "        labels = labels.to(device)\n",
    "        batch_size = labels.size(0)\n",
    "\n",
    "        # Mixed precision training\n",
    "        with torch.cuda.amp.autocast(enabled=CFG.apex, dtype=torch.bfloat16):\n",
    "            y_preds = model(inputs)\n",
    "            loss = criterion(y_preds.view(-1, 1), labels.view(-1, 1))\n",
    "            loss = torch.masked_select(loss, labels.view(-1, 1) != -1).mean()\n",
    "\n",
    "        # Gradient accumulation\n",
    "        if CFG.gradient_accumulation_steps > 1:\n",
    "            loss = loss / CFG.gradient_accumulation_steps\n",
    "\n",
    "        losses.update(loss.item(), batch_size)\n",
    "\n",
    "        # Backpropagation\n",
    "        scaler.scale(loss).backward()\n",
    "        grad_norm = torch.nn.utils.clip_grad_norm_(model.parameters(), CFG.max_grad_norm)\n",
    "\n",
    "        if (step + 1) % CFG.gradient_accumulation_steps == 0:\n",
    "            scaler.step(optimizer)\n",
    "            scaler.update()\n",
    "            optimizer.zero_grad()\n",
    "            global_step += 1\n",
    "            if CFG.batch_scheduler:\n",
    "                scheduler.step()\n",
    "\n",
    "        end = time.time()\n",
    "        \n",
    "        if step % CFG.print_freq == 0 or step == (len(train_loader)-1):\n",
    "            print(f'Epoch: [{epoch+1}][{step}/{len(train_loader)}] '\n",
    "                  f'Elapsed {timeSince(start, float(step+1)/len(train_loader))} '\n",
    "                  f'Loss: {losses.val:.4f}({losses.avg:.4f}) '\n",
    "                  f'Grad Norm: {grad_norm:.4f}  '\n",
    "                  f'LR: {scheduler.get_lr()[0]}')\n",
    "\n",
    "    print(f\"Epoch {epoch + 1} completed. Average loss: {losses.avg:.4f}\")\n",
    "    return losses.avg\n",
    "\n",
    "\n",
    "def inference_fn(test_loader, model, device):\n",
    "    preds = []\n",
    "    model.eval()\n",
    "    model.to(device)\n",
    "    tk0 = tqdm(test_loader, total=len(test_loader))\n",
    "    for inputs in tk0:\n",
    "        for k, v in inputs.items():\n",
    "            inputs[k] = v.to(device)\n",
    "        with torch.no_grad():\n",
    "            y_preds = model(inputs)\n",
    "        preds.append(y_preds.sigmoid().to('cpu').numpy())\n",
    "    predictions = np.concatenate(preds)\n",
    "    return predictions"
   ]
  },
  {
   "cell_type": "code",
   "execution_count": 24,
   "id": "95e7dfc9",
   "metadata": {
    "execution": {
     "iopub.execute_input": "2025-02-11T21:11:38.049306Z",
     "iopub.status.busy": "2025-02-11T21:11:38.049103Z",
     "iopub.status.idle": "2025-02-11T21:11:38.061954Z",
     "shell.execute_reply": "2025-02-11T21:11:38.061368Z"
    },
    "papermill": {
     "duration": 0.035622,
     "end_time": "2025-02-11T21:11:38.063028",
     "exception": false,
     "start_time": "2025-02-11T21:11:38.027406",
     "status": "completed"
    },
    "tags": []
   },
   "outputs": [],
   "source": [
    "# ====================================================\n",
    "# train loop\n",
    "# ====================================================\n",
    "def train_loop(folds, fold):\n",
    "    \n",
    "    LOGGER.info(f\"========== fold: {fold} training ==========\")\n",
    "\n",
    "    # ====================================================\n",
    "    # loader\n",
    "    # ====================================================\n",
    "    train_folds = folds[folds['fold'] != fold].reset_index(drop=True)\n",
    "    valid_folds = folds[folds['fold'] == fold].reset_index(drop=True)\n",
    "    valid_texts = valid_folds['pn_history'].values\n",
    "    valid_labels = create_labels_for_scoring(valid_folds)\n",
    "    \n",
    "    train_dataset = TrainDataset(CFG, train_folds)\n",
    "    valid_dataset = TrainDataset(CFG, valid_folds)\n",
    "\n",
    "    train_loader = DataLoader(train_dataset,\n",
    "                              batch_size=CFG.batch_size,\n",
    "                              shuffle=True,\n",
    "                              num_workers=CFG.num_workers, pin_memory=True, drop_last=True)\n",
    "    valid_loader = DataLoader(valid_dataset,\n",
    "                              batch_size=CFG.batch_size,\n",
    "                              shuffle=False,\n",
    "                              num_workers=CFG.num_workers, pin_memory=True, drop_last=False)\n",
    "\n",
    "    # ====================================================\n",
    "    # model & optimizer\n",
    "    # ====================================================\n",
    "    model = CustomModel(CFG, config_path=None, pretrained=True)\n",
    "\n",
    "    # checkpoint_path = f\"/workspace/deberta-v3-large-5-folds-public/deberta-v3-large_fold{fold}_best.pth\"\n",
    "    # if os.path.exists(checkpoint_path):\n",
    "    #     LOGGER.info(f\"Loading checkpoint from {checkpoint_path}\")\n",
    "    #     checkpoint = torch.load(checkpoint_path, map_location=\"cuda\", weights_only=False) # need to use weight_only = True for latest pytorch version\n",
    "    #     model.load_state_dict(checkpoint['model'], strict=False)  # Load model weights\n",
    "    #     model.to(device)\n",
    "    model.train()  # Set model to training mode\n",
    "\n",
    "    # else:\n",
    "    #     LOGGER.info(\"No checkpoint found, starting fresh.\")\n",
    "        \n",
    "    torch.save(model.config, OUTPUT_DIR+'config.pth')\n",
    "    model.to(device)\n",
    "    \n",
    "    def get_optimizer_params(model, encoder_lr, decoder_lr, weight_decay=0.0):\n",
    "        param_optimizer = list(model.named_parameters())\n",
    "        no_decay = [\"bias\", \"LayerNorm.bias\", \"LayerNorm.weight\"]\n",
    "        optimizer_parameters = [\n",
    "            {'params': [p for n, p in model.model.named_parameters() if not any(nd in n for nd in no_decay)],\n",
    "             'lr': encoder_lr, 'weight_decay': weight_decay},\n",
    "            {'params': [p for n, p in model.model.named_parameters() if any(nd in n for nd in no_decay)],\n",
    "             'lr': encoder_lr, 'weight_decay': 0.0},\n",
    "            {'params': [p for n, p in model.named_parameters() if \"model\" not in n],\n",
    "             'lr': decoder_lr, 'weight_decay': 0.0}\n",
    "        ]\n",
    "        return optimizer_parameters\n",
    "\n",
    "    optimizer_parameters = get_optimizer_params(model,\n",
    "                                                encoder_lr=CFG.encoder_lr, \n",
    "                                                decoder_lr=CFG.decoder_lr,\n",
    "                                                weight_decay=CFG.weight_decay)\n",
    "    optimizer = AdamW(optimizer_parameters, lr=CFG.encoder_lr, eps=CFG.eps, betas=CFG.betas)\n",
    "    \n",
    "    # ====================================================\n",
    "    # scheduler\n",
    "    # ====================================================\n",
    "    def get_scheduler(cfg, optimizer, num_train_steps):\n",
    "        if cfg.scheduler=='linear':\n",
    "            scheduler = get_linear_schedule_with_warmup(\n",
    "                optimizer, num_warmup_steps=cfg.num_warmup_steps, num_training_steps=num_train_steps\n",
    "            )\n",
    "        elif cfg.scheduler=='cosine':\n",
    "            scheduler = get_cosine_schedule_with_warmup(\n",
    "                optimizer, num_warmup_steps=cfg.num_warmup_steps, num_training_steps=num_train_steps, num_cycles=cfg.num_cycles\n",
    "            )\n",
    "        return scheduler\n",
    "    \n",
    "    num_train_steps = int(len(train_folds) / CFG.batch_size * CFG.epochs)\n",
    "    scheduler = get_scheduler(CFG, optimizer, num_train_steps)\n",
    "\n",
    "    # ====================================================\n",
    "    # loop\n",
    "    # ====================================================\n",
    "    criterion = nn.BCEWithLogitsLoss(reduction=\"none\")\n",
    "    \n",
    "    best_score = 0.\n",
    "\n",
    "    for epoch in range(CFG.epochs):\n",
    "\n",
    "        start_time = time.time()\n",
    "\n",
    "        # train\n",
    "        print(\"Starting training\")\n",
    "        avg_loss = train_fn(fold, train_loader, model, criterion, optimizer, epoch, scheduler, device)\n",
    "\n",
    "        # eval\n",
    "        print(\"Starting evaluation\")\n",
    "        avg_val_loss, predictions = valid_fn(valid_loader, model, criterion, device)\n",
    "        predictions = predictions.reshape((len(valid_folds), CFG.max_len))\n",
    "        \n",
    "        # scoring\n",
    "        char_probs = get_char_probs(valid_texts, predictions, CFG.tokenizer)\n",
    "        results = get_results(char_probs, th=0.5)\n",
    "        preds = get_predictions(results)\n",
    "        score = get_score(valid_labels, preds)\n",
    "\n",
    "        elapsed = time.time() - start_time\n",
    "\n",
    "        LOGGER.info(f'Epoch {epoch+1} - avg_train_loss: {avg_loss:.4f}  avg_val_loss: {avg_val_loss:.4f}  time: {elapsed:.0f}s')\n",
    "        LOGGER.info(f'Epoch {epoch+1} - Score: {score:.4f}')\n",
    "        if CFG.wandb:\n",
    "            wandb.log({f\"[fold{fold}] epoch\": epoch+1, \n",
    "                       f\"[fold{fold}] avg_train_loss\": avg_loss, \n",
    "                       f\"[fold{fold}] avg_val_loss\": avg_val_loss,\n",
    "                       f\"[fold{fold}] score\": score})\n",
    "        \n",
    "        if best_score <= score:\n",
    "            best_score = score\n",
    "            LOGGER.info(f'Epoch {epoch+1} - Save Best Score: {best_score:.4f} Model')\n",
    "            torch.save({'model': model.state_dict(),\n",
    "                        'predictions': predictions},\n",
    "                        OUTPUT_DIR+f\"{CFG.model.replace('/', '-')}_fold{fold}_best.pth\")\n",
    "            \n",
    "\n",
    "    #predictions = torch.load(OUTPUT_DIR+f\"{CFG.model.replace('/', '-')}_fold{fold}_best.pth\", \n",
    "                             #map_location=torch.device('cpu'))['predictions']\n",
    "    predictions = torch.load(OUTPUT_DIR + f\"{CFG.model.replace('/', '-')}_fold{fold}_best.pth\", \n",
    "                             map_location=torch.device('cpu'),weights_only=False)['predictions']\n",
    "\n",
    "    \n",
    "    valid_folds[[i for i in range(CFG.max_len)]] = predictions\n",
    "\n",
    "    torch.cuda.empty_cache()\n",
    "    gc.collect()\n",
    "    \n",
    "    return valid_folds"
   ]
  },
  {
   "cell_type": "code",
   "execution_count": 25,
   "id": "f5bef90d",
   "metadata": {
    "execution": {
     "iopub.execute_input": "2025-02-11T21:11:38.102009Z",
     "iopub.status.busy": "2025-02-11T21:11:38.101846Z",
     "iopub.status.idle": "2025-02-11T21:11:38.248005Z",
     "shell.execute_reply": "2025-02-11T21:11:38.247127Z"
    },
    "papermill": {
     "duration": 0.167467,
     "end_time": "2025-02-11T21:11:38.249635",
     "exception": false,
     "start_time": "2025-02-11T21:11:38.082168",
     "status": "completed"
    },
    "tags": []
   },
   "outputs": [],
   "source": [
    "class CFG:\n",
    "    wandb=True\n",
    "    competition='NBME'\n",
    "    _wandb_kernel='zehra'\n",
    "    debug=False\n",
    "    apex=True\n",
    "    print_freq=100\n",
    "    num_workers=4\n",
    "    #model=\"microsoft/deberta-v3-large\" #\"answerdotai/ModernBERT-base\"\n",
    "    # model=\"/kaggle/input/deberta-v3-large/pytorch/0501/1\" If running on Kaggle\n",
    "    model = \"answerdotai/ModernBERT-base\" # running on runpod instance\n",
    "    scheduler='cosine' # ['linear', 'cosine']\n",
    "    batch_scheduler=True\n",
    "    num_cycles=0.05\n",
    "    num_warmup_steps=0\n",
    "    epochs=4\n",
    "    encoder_lr = 1e-5 #encoder_lr=2e-5\n",
    "    decoder_lr=2e-5\n",
    "    min_lr=1e-6\n",
    "    eps=1e-6\n",
    "    betas=(0.9, 0.999)\n",
    "    batch_size = 10 #batch_size=16\n",
    "    fc_dropout=0.2\n",
    "    max_len=443\n",
    "    weight_decay=0.1 #0.01\n",
    "    gradient_accumulation_steps=1 #1\n",
    "    max_grad_norm=1000\n",
    "    seed=42\n",
    "    n_fold=5\n",
    "    trn_fold=[0, 1, 2, 3, 4]\n",
    "    train=True\n",
    "\n",
    "tokenizer = AutoTokenizer.from_pretrained(CFG.model)\n",
    "tokenizer.save_pretrained(OUTPUT_DIR+'tokenizer/')\n",
    "CFG.tokenizer = tokenizer\n",
    "\n",
    "if CFG.debug:\n",
    "    CFG.epochs = 4\n",
    "    CFG.trn_fold = [0]"
   ]
  },
  {
   "cell_type": "code",
   "execution_count": 26,
   "id": "020252a5",
   "metadata": {
    "execution": {
     "iopub.execute_input": "2025-02-11T21:11:38.291002Z",
     "iopub.status.busy": "2025-02-11T21:11:38.290613Z",
     "iopub.status.idle": "2025-02-11T21:11:38.295168Z",
     "shell.execute_reply": "2025-02-11T21:11:38.294298Z"
    },
    "papermill": {
     "duration": 0.02312,
     "end_time": "2025-02-11T21:11:38.296141",
     "exception": false,
     "start_time": "2025-02-11T21:11:38.273021",
     "status": "completed"
    },
    "tags": []
   },
   "outputs": [],
   "source": [
    "torch.cuda.empty_cache()"
   ]
  },
  {
   "cell_type": "code",
   "execution_count": 27,
   "id": "7723bd1b",
   "metadata": {
    "execution": {
     "iopub.execute_input": "2025-02-11T21:11:38.378438Z",
     "iopub.status.busy": "2025-02-11T21:11:38.378123Z",
     "iopub.status.idle": "2025-02-11T21:11:38.385157Z",
     "shell.execute_reply": "2025-02-11T21:11:38.384453Z"
    },
    "papermill": {
     "duration": 0.066616,
     "end_time": "2025-02-11T21:11:38.386557",
     "exception": false,
     "start_time": "2025-02-11T21:11:38.319941",
     "status": "completed"
    },
    "tags": []
   },
   "outputs": [],
   "source": [
    "def run_fold_training(oof_df, fold):\n",
    "    \"\"\"\n",
    "    Helper function to run training for a specific fold.\n",
    "    Concatenates the out-of-fold predictions to oof_df.\n",
    "    \"\"\"\n",
    "    _oof_df = train_loop(train, fold)\n",
    "    oof_df = pd.concat([oof_df, _oof_df])\n",
    "    LOGGER.info(f\"========== fold: {fold} result ==========\")\n",
    "    evaluate_results(_oof_df)  # Evaluate results after each fold\n",
    "    return oof_df\n",
    "\n",
    "def evaluate_results(oof_df):\n",
    "    \"\"\"\n",
    "    Function to handle the result evaluation, including scoring and logging.\n",
    "    \"\"\"\n",
    "    labels = create_labels_for_scoring(oof_df)\n",
    "    predictions = oof_df[[i for i in range(CFG.max_len)]].values\n",
    "    char_probs = get_char_probs(oof_df['pn_history'].values, predictions, CFG.tokenizer)\n",
    "    results = get_results(char_probs, th=0.5)\n",
    "    preds = get_predictions(results)\n",
    "    score = get_score(labels, preds)\n",
    "    LOGGER.info(f'Score: {score:<.4f}')"
   ]
  },
  {
   "cell_type": "code",
   "execution_count": 28,
   "id": "e53044da",
   "metadata": {
    "execution": {
     "iopub.execute_input": "2025-02-11T21:11:38.473975Z",
     "iopub.status.busy": "2025-02-11T21:11:38.473695Z",
     "iopub.status.idle": "2025-02-11T22:11:24.779941Z",
     "shell.execute_reply": "2025-02-11T22:11:24.779068Z"
    },
    "papermill": {
     "duration": 3586.331119,
     "end_time": "2025-02-11T22:11:24.781005",
     "exception": false,
     "start_time": "2025-02-11T21:11:38.449886",
     "status": "completed"
    },
    "tags": []
   },
   "outputs": [
    {
     "name": "stderr",
     "output_type": "stream",
     "text": [
      "========== fold: 0 training ==========\n"
     ]
    },
    {
     "name": "stdout",
     "output_type": "stream",
     "text": [
      "Starting training\n",
      "\n",
      "Starting training epoch 1 for fold 0\n"
     ]
    },
    {
     "name": "stdout",
     "output_type": "stream",
     "text": [
      "Epoch: [1][0/1144] Elapsed 0m 4s (remain 92m 45s) Loss: 0.2581(0.2581) Grad Norm: 416179.5000  LR: 9.99999998821668e-06\n"
     ]
    },
    {
     "name": "stdout",
     "output_type": "stream",
     "text": [
      "Epoch: [1][100/1144] Elapsed 1m 10s (remain 12m 4s) Loss: 0.0831(0.0900) Grad Norm: 18727.7070  LR: 9.999879798820318e-06\n"
     ]
    },
    {
     "name": "stdout",
     "output_type": "stream",
     "text": [
      "Epoch: [1][200/1144] Elapsed 2m 14s (remain 10m 32s) Loss: 0.0391(0.0768) Grad Norm: 31531.2207  LR: 9.99952394958765e-06\n"
     ]
    },
    {
     "name": "stdout",
     "output_type": "stream",
     "text": [
      "Epoch: [1][300/1144] Elapsed 3m 17s (remain 9m 13s) Loss: 0.0446(0.0684) Grad Norm: 43202.3320  LR: 9.998932457290953e-06\n"
     ]
    },
    {
     "name": "stdout",
     "output_type": "stream",
     "text": [
      "Epoch: [1][400/1144] Elapsed 4m 22s (remain 8m 6s) Loss: 0.0469(0.0639) Grad Norm: 89377.3828  LR: 9.998105349809095e-06\n"
     ]
    },
    {
     "name": "stdout",
     "output_type": "stream",
     "text": [
      "Epoch: [1][500/1144] Elapsed 5m 26s (remain 6m 59s) Loss: 0.0490(0.0605) Grad Norm: 62269.3320  LR: 9.997042666126213e-06\n"
     ]
    },
    {
     "name": "stdout",
     "output_type": "stream",
     "text": [
      "Epoch: [1][600/1144] Elapsed 6m 32s (remain 5m 54s) Loss: 0.0309(0.0570) Grad Norm: 18640.8965  LR: 9.995744456329885e-06\n"
     ]
    },
    {
     "name": "stdout",
     "output_type": "stream",
     "text": [
      "Epoch: [1][700/1144] Elapsed 7m 37s (remain 4m 49s) Loss: 0.0213(0.0549) Grad Norm: 23287.6035  LR: 9.994210781608763e-06\n"
     ]
    },
    {
     "name": "stdout",
     "output_type": "stream",
     "text": [
      "Epoch: [1][800/1144] Elapsed 8m 43s (remain 3m 44s) Loss: 0.0110(0.0525) Grad Norm: 32788.4531  LR: 9.992441714249694e-06\n"
     ]
    },
    {
     "name": "stdout",
     "output_type": "stream",
     "text": [
      "Epoch: [1][900/1144] Elapsed 9m 52s (remain 2m 39s) Loss: 0.0464(0.0503) Grad Norm: 26934.8906  LR: 9.990437337634305e-06\n"
     ]
    },
    {
     "name": "stdout",
     "output_type": "stream",
     "text": [
      "Epoch: [1][1000/1144] Elapsed 10m 56s (remain 1m 33s) Loss: 0.0542(0.0488) Grad Norm: 62043.4570  LR: 9.98819774623508e-06\n"
     ]
    },
    {
     "name": "stdout",
     "output_type": "stream",
     "text": [
      "Epoch: [1][1100/1144] Elapsed 12m 2s (remain 0m 28s) Loss: 0.0131(0.0469) Grad Norm: 22764.7109  LR: 9.985723045610904e-06\n"
     ]
    },
    {
     "name": "stdout",
     "output_type": "stream",
     "text": [
      "Epoch: [1][1143/1144] Elapsed 12m 30s (remain 0m 0s) Loss: 0.0382(0.0460) Grad Norm: 88658.2344  LR: 9.984586668665641e-06\n",
      "Epoch 1 completed. Average loss: 0.0460\n",
      "Starting evaluation\n",
      "Starting validation...\n"
     ]
    },
    {
     "name": "stdout",
     "output_type": "stream",
     "text": [
      "EVAL: [0/286] Elapsed 0m 1s (remain 8m 50s) Loss: 0.0300(0.0300) \n"
     ]
    },
    {
     "name": "stdout",
     "output_type": "stream",
     "text": [
      "EVAL: [100/286] Elapsed 0m 46s (remain 1m 25s) Loss: 0.0215(0.0245) \n"
     ]
    },
    {
     "name": "stdout",
     "output_type": "stream",
     "text": [
      "EVAL: [200/286] Elapsed 1m 30s (remain 0m 38s) Loss: 0.0166(0.0301) \n"
     ]
    },
    {
     "name": "stdout",
     "output_type": "stream",
     "text": [
      "EVAL: [285/286] Elapsed 2m 9s (remain 0m 0s) Loss: 0.0237(0.0302) \n"
     ]
    },
    {
     "name": "stderr",
     "output_type": "stream",
     "text": [
      "Epoch 1 - avg_train_loss: 0.0460  avg_val_loss: 0.0302  time: 883s\n"
     ]
    },
    {
     "name": "stderr",
     "output_type": "stream",
     "text": [
      "Epoch 1 - Score: 0.6701\n"
     ]
    },
    {
     "name": "stderr",
     "output_type": "stream",
     "text": [
      "Epoch 1 - Save Best Score: 0.6701 Model\n"
     ]
    },
    {
     "name": "stdout",
     "output_type": "stream",
     "text": [
      "Starting training\n",
      "\n",
      "Starting training epoch 2 for fold 0\n"
     ]
    },
    {
     "name": "stdout",
     "output_type": "stream",
     "text": [
      "Epoch: [2][0/1144] Elapsed 0m 0s (remain 18m 42s) Loss: 0.0423(0.0423) Grad Norm: 286566.0312  LR: 9.984559724388208e-06\n"
     ]
    },
    {
     "name": "stdout",
     "output_type": "stream",
     "text": [
      "Epoch: [2][100/1144] Elapsed 1m 7s (remain 11m 34s) Loss: 0.0140(0.0272) Grad Norm: 13693.2559  LR: 9.981746674247888e-06\n"
     ]
    },
    {
     "name": "stdout",
     "output_type": "stream",
     "text": [
      "Epoch: [2][200/1144] Elapsed 2m 12s (remain 10m 19s) Loss: 0.0198(0.0264) Grad Norm: 27617.1504  LR: 9.978698818941641e-06\n"
     ]
    },
    {
     "name": "stdout",
     "output_type": "stream",
     "text": [
      "Epoch: [2][300/1144] Elapsed 3m 16s (remain 9m 10s) Loss: 0.0259(0.0267) Grad Norm: 38128.8281  LR: 9.97541630212434e-06\n"
     ]
    },
    {
     "name": "stdout",
     "output_type": "stream",
     "text": [
      "Epoch: [2][400/1144] Elapsed 4m 20s (remain 8m 2s) Loss: 0.0192(0.0258) Grad Norm: 24234.7285  LR: 9.971899278511176e-06\n"
     ]
    },
    {
     "name": "stdout",
     "output_type": "stream",
     "text": [
      "Epoch: [2][500/1144] Elapsed 5m 25s (remain 6m 57s) Loss: 0.0154(0.0255) Grad Norm: 61970.0117  LR: 9.968147913870378e-06\n"
     ]
    },
    {
     "name": "stdout",
     "output_type": "stream",
     "text": [
      "Epoch: [2][600/1144] Elapsed 6m 33s (remain 5m 55s) Loss: 0.0133(0.0252) Grad Norm: 26718.2109  LR: 9.964162385015392e-06\n"
     ]
    },
    {
     "name": "stdout",
     "output_type": "stream",
     "text": [
      "Epoch: [2][700/1144] Elapsed 7m 43s (remain 4m 52s) Loss: 0.0576(0.0249) Grad Norm: 85386.4062  LR: 9.95994287979655e-06\n"
     ]
    },
    {
     "name": "stdout",
     "output_type": "stream",
     "text": [
      "Epoch: [2][800/1144] Elapsed 8m 48s (remain 3m 46s) Loss: 0.0248(0.0246) Grad Norm: 19250.7305  LR: 9.955489597092213e-06\n"
     ]
    },
    {
     "name": "stdout",
     "output_type": "stream",
     "text": [
      "Epoch: [2][900/1144] Elapsed 9m 55s (remain 2m 40s) Loss: 0.0199(0.0241) Grad Norm: 49929.7891  LR: 9.950802746799404e-06\n"
     ]
    },
    {
     "name": "stdout",
     "output_type": "stream",
     "text": [
      "Epoch: [2][1000/1144] Elapsed 11m 2s (remain 1m 34s) Loss: 0.0143(0.0239) Grad Norm: 27087.4727  LR: 9.945882549823906e-06\n"
     ]
    },
    {
     "name": "stdout",
     "output_type": "stream",
     "text": [
      "Epoch: [2][1100/1144] Elapsed 12m 8s (remain 0m 28s) Loss: 0.0082(0.0238) Grad Norm: 16851.1777  LR: 9.940729238069857e-06\n"
     ]
    },
    {
     "name": "stdout",
     "output_type": "stream",
     "text": [
      "Epoch: [2][1143/1144] Elapsed 12m 39s (remain 0m 0s) Loss: 0.0078(0.0237) Grad Norm: 27736.3867  LR: 9.938441702975689e-06\n",
      "Epoch 2 completed. Average loss: 0.0237\n",
      "Starting evaluation\n",
      "Starting validation...\n"
     ]
    },
    {
     "name": "stdout",
     "output_type": "stream",
     "text": [
      "EVAL: [0/286] Elapsed 0m 0s (remain 4m 3s) Loss: 0.0222(0.0222) \n"
     ]
    },
    {
     "name": "stdout",
     "output_type": "stream",
     "text": [
      "EVAL: [100/286] Elapsed 0m 48s (remain 1m 27s) Loss: 0.0157(0.0189) \n"
     ]
    },
    {
     "name": "stdout",
     "output_type": "stream",
     "text": [
      "EVAL: [200/286] Elapsed 1m 34s (remain 0m 39s) Loss: 0.0129(0.0224) \n"
     ]
    },
    {
     "name": "stdout",
     "output_type": "stream",
     "text": [
      "EVAL: [285/286] Elapsed 2m 13s (remain 0m 0s) Loss: 0.0107(0.0216) \n"
     ]
    },
    {
     "name": "stderr",
     "output_type": "stream",
     "text": [
      "Epoch 2 - avg_train_loss: 0.0237  avg_val_loss: 0.0216  time: 895s\n"
     ]
    },
    {
     "name": "stderr",
     "output_type": "stream",
     "text": [
      "Epoch 2 - Score: 0.7492\n"
     ]
    },
    {
     "name": "stderr",
     "output_type": "stream",
     "text": [
      "Epoch 2 - Save Best Score: 0.7492 Model\n"
     ]
    },
    {
     "name": "stdout",
     "output_type": "stream",
     "text": [
      "Starting training\n",
      "\n",
      "Starting training epoch 3 for fold 0\n"
     ]
    },
    {
     "name": "stdout",
     "output_type": "stream",
     "text": [
      "Epoch: [3][0/1144] Elapsed 0m 1s (remain 20m 40s) Loss: 0.0294(0.0294) Grad Norm: 47518.5742  LR: 9.938387992324574e-06\n"
     ]
    },
    {
     "name": "stdout",
     "output_type": "stream",
     "text": [
      "Epoch: [3][100/1144] Elapsed 1m 11s (remain 12m 16s) Loss: 0.0014(0.0198) Grad Norm: 4877.2617  LR: 9.932899424829846e-06\n"
     ]
    },
    {
     "name": "stdout",
     "output_type": "stream",
     "text": [
      "Epoch: [3][200/1144] Elapsed 2m 19s (remain 10m 55s) Loss: 0.0149(0.0183) Grad Norm: 53736.7539  LR: 9.927178354491498e-06\n"
     ]
    },
    {
     "name": "stdout",
     "output_type": "stream",
     "text": [
      "Epoch: [3][300/1144] Elapsed 3m 28s (remain 9m 43s) Loss: 0.0185(0.0180) Grad Norm: 31640.7812  LR: 9.921225050961318e-06\n"
     ]
    },
    {
     "name": "stdout",
     "output_type": "stream",
     "text": [
      "Epoch: [3][400/1144] Elapsed 4m 37s (remain 8m 33s) Loss: 0.0222(0.0182) Grad Norm: 50278.8477  LR: 9.915039794836955e-06\n"
     ]
    },
    {
     "name": "stdout",
     "output_type": "stream",
     "text": [
      "Epoch: [3][500/1144] Elapsed 5m 45s (remain 7m 23s) Loss: 0.0446(0.0183) Grad Norm: 56499.6211  LR: 9.908622877648706e-06\n"
     ]
    },
    {
     "name": "stdout",
     "output_type": "stream",
     "text": [
      "Epoch: [3][600/1144] Elapsed 6m 54s (remain 6m 14s) Loss: 0.0203(0.0182) Grad Norm: 45107.9414  LR: 9.901974601845776e-06\n"
     ]
    },
    {
     "name": "stdout",
     "output_type": "stream",
     "text": [
      "Epoch: [3][700/1144] Elapsed 8m 0s (remain 5m 3s) Loss: 0.0117(0.0179) Grad Norm: 41939.3164  LR: 9.895095280782014e-06\n"
     ]
    },
    {
     "name": "stdout",
     "output_type": "stream",
     "text": [
      "Epoch: [3][800/1144] Elapsed 9m 8s (remain 3m 54s) Loss: 0.0149(0.0177) Grad Norm: 21571.5508  LR: 9.88798523870115e-06\n"
     ]
    },
    {
     "name": "stdout",
     "output_type": "stream",
     "text": [
      "Epoch: [3][900/1144] Elapsed 10m 17s (remain 2m 46s) Loss: 0.0131(0.0176) Grad Norm: 31795.3301  LR: 9.88064481072151e-06\n"
     ]
    },
    {
     "name": "stdout",
     "output_type": "stream",
     "text": [
      "Epoch: [3][1000/1144] Elapsed 11m 26s (remain 1m 38s) Loss: 0.0045(0.0174) Grad Norm: 13249.1348  LR: 9.873074342820225e-06\n"
     ]
    },
    {
     "name": "stdout",
     "output_type": "stream",
     "text": [
      "Epoch: [3][1100/1144] Elapsed 12m 35s (remain 0m 29s) Loss: 0.0085(0.0172) Grad Norm: 41038.0938  LR: 9.865274191816917e-06\n"
     ]
    },
    {
     "name": "stdout",
     "output_type": "stream",
     "text": [
      "Epoch: [3][1143/1144] Elapsed 13m 4s (remain 0m 0s) Loss: 0.0081(0.0172) Grad Norm: 10022.7051  LR: 9.861849601988384e-06\n",
      "Epoch 3 completed. Average loss: 0.0172\n",
      "Starting evaluation\n",
      "Starting validation...\n"
     ]
    },
    {
     "name": "stdout",
     "output_type": "stream",
     "text": [
      "EVAL: [0/286] Elapsed 0m 0s (remain 4m 29s) Loss: 0.0239(0.0239) \n"
     ]
    },
    {
     "name": "stdout",
     "output_type": "stream",
     "text": [
      "EVAL: [100/286] Elapsed 0m 47s (remain 1m 27s) Loss: 0.0153(0.0169) \n"
     ]
    },
    {
     "name": "stdout",
     "output_type": "stream",
     "text": [
      "EVAL: [200/286] Elapsed 1m 31s (remain 0m 38s) Loss: 0.0062(0.0201) \n"
     ]
    },
    {
     "name": "stdout",
     "output_type": "stream",
     "text": [
      "EVAL: [285/286] Elapsed 2m 8s (remain 0m 0s) Loss: 0.0063(0.0191) \n"
     ]
    },
    {
     "name": "stderr",
     "output_type": "stream",
     "text": [
      "Epoch 3 - avg_train_loss: 0.0172  avg_val_loss: 0.0191  time: 915s\n"
     ]
    },
    {
     "name": "stderr",
     "output_type": "stream",
     "text": [
      "Epoch 3 - Score: 0.7735\n"
     ]
    },
    {
     "name": "stderr",
     "output_type": "stream",
     "text": [
      "Epoch 3 - Save Best Score: 0.7735 Model\n"
     ]
    },
    {
     "name": "stdout",
     "output_type": "stream",
     "text": [
      "Starting training\n",
      "\n",
      "Starting training epoch 4 for fold 0\n"
     ]
    },
    {
     "name": "stdout",
     "output_type": "stream",
     "text": [
      "Epoch: [4][0/1144] Elapsed 0m 1s (remain 21m 28s) Loss: 0.0070(0.0070) Grad Norm: 24013.2812  LR: 9.86176945610761e-06\n"
     ]
    },
    {
     "name": "stdout",
     "output_type": "stream",
     "text": [
      "Epoch: [4][100/1144] Elapsed 1m 5s (remain 11m 17s) Loss: 0.0044(0.0131) Grad Norm: 6075.4004  LR: 9.853639210102213e-06\n"
     ]
    },
    {
     "name": "stdout",
     "output_type": "stream",
     "text": [
      "Epoch: [4][200/1144] Elapsed 2m 10s (remain 10m 13s) Loss: 0.0322(0.0141) Grad Norm: 93926.9297  LR: 9.845280197032851e-06\n"
     ]
    },
    {
     "name": "stdout",
     "output_type": "stream",
     "text": [
      "Epoch: [4][300/1144] Elapsed 3m 17s (remain 9m 13s) Loss: 0.0582(0.0144) Grad Norm: 93377.8047  LR: 9.836692810885728e-06\n"
     ]
    },
    {
     "name": "stdout",
     "output_type": "stream",
     "text": [
      "Epoch: [4][400/1144] Elapsed 4m 22s (remain 8m 6s) Loss: 0.0073(0.0136) Grad Norm: 19828.7656  LR: 9.827877456410978e-06\n"
     ]
    },
    {
     "name": "stdout",
     "output_type": "stream",
     "text": [
      "Epoch: [4][500/1144] Elapsed 5m 27s (remain 7m 0s) Loss: 0.0290(0.0136) Grad Norm: 56001.6562  LR: 9.818834549103587e-06\n"
     ]
    },
    {
     "name": "stdout",
     "output_type": "stream",
     "text": [
      "Epoch: [4][600/1144] Elapsed 6m 33s (remain 5m 55s) Loss: 0.0124(0.0138) Grad Norm: 27602.7148  LR: 9.809564515183814e-06\n"
     ]
    },
    {
     "name": "stdout",
     "output_type": "stream",
     "text": [
      "Epoch: [4][700/1144] Elapsed 7m 37s (remain 4m 49s) Loss: 0.0108(0.0134) Grad Norm: 23608.0938  LR: 9.800067791577096e-06\n"
     ]
    },
    {
     "name": "stdout",
     "output_type": "stream",
     "text": [
      "Epoch: [4][800/1144] Elapsed 8m 43s (remain 3m 44s) Loss: 0.0140(0.0132) Grad Norm: 32052.4980  LR: 9.790344825893463e-06\n"
     ]
    },
    {
     "name": "stdout",
     "output_type": "stream",
     "text": [
      "Epoch: [4][900/1144] Elapsed 9m 53s (remain 2m 39s) Loss: 0.0054(0.0133) Grad Norm: 24686.0625  LR: 9.780396076406429e-06\n"
     ]
    },
    {
     "name": "stdout",
     "output_type": "stream",
     "text": [
      "Epoch: [4][1000/1144] Elapsed 10m 57s (remain 1m 33s) Loss: 0.0032(0.0135) Grad Norm: 5844.7861  LR: 9.770222012031404e-06\n"
     ]
    },
    {
     "name": "stdout",
     "output_type": "stream",
     "text": [
      "Epoch: [4][1100/1144] Elapsed 12m 2s (remain 0m 28s) Loss: 0.0037(0.0134) Grad Norm: 12571.4834  LR: 9.759823112303583e-06\n"
     ]
    },
    {
     "name": "stdout",
     "output_type": "stream",
     "text": [
      "Epoch: [4][1143/1144] Elapsed 12m 29s (remain 0m 0s) Loss: 0.0317(0.0134) Grad Norm: 67056.9609  LR: 9.755282581475769e-06\n",
      "Epoch 4 completed. Average loss: 0.0134\n",
      "Starting evaluation\n",
      "Starting validation...\n"
     ]
    },
    {
     "name": "stdout",
     "output_type": "stream",
     "text": [
      "EVAL: [0/286] Elapsed 0m 0s (remain 3m 52s) Loss: 0.0144(0.0144) \n"
     ]
    },
    {
     "name": "stdout",
     "output_type": "stream",
     "text": [
      "EVAL: [100/286] Elapsed 0m 44s (remain 1m 21s) Loss: 0.0132(0.0158) \n"
     ]
    },
    {
     "name": "stdout",
     "output_type": "stream",
     "text": [
      "EVAL: [200/286] Elapsed 1m 28s (remain 0m 37s) Loss: 0.0050(0.0189) \n"
     ]
    },
    {
     "name": "stdout",
     "output_type": "stream",
     "text": [
      "EVAL: [285/286] Elapsed 2m 7s (remain 0m 0s) Loss: 0.0051(0.0177) \n"
     ]
    },
    {
     "name": "stderr",
     "output_type": "stream",
     "text": [
      "Epoch 4 - avg_train_loss: 0.0134  avg_val_loss: 0.0177  time: 879s\n"
     ]
    },
    {
     "name": "stderr",
     "output_type": "stream",
     "text": [
      "Epoch 4 - Score: 0.8024\n"
     ]
    },
    {
     "name": "stderr",
     "output_type": "stream",
     "text": [
      "Epoch 4 - Save Best Score: 0.8024 Model\n"
     ]
    },
    {
     "name": "stderr",
     "output_type": "stream",
     "text": [
      "========== fold: 0 result ==========\n"
     ]
    },
    {
     "name": "stderr",
     "output_type": "stream",
     "text": [
      "Score: 0.8024\n"
     ]
    },
    {
     "name": "stderr",
     "output_type": "stream",
     "text": [
      "========== CV ==========\n"
     ]
    },
    {
     "name": "stderr",
     "output_type": "stream",
     "text": [
      "Score: 0.8024\n"
     ]
    },
    {
     "name": "stderr",
     "output_type": "stream",
     "text": [
      "\u001b[34m\u001b[1mwandb\u001b[0m:                                                                                \n"
     ]
    },
    {
     "name": "stderr",
     "output_type": "stream",
     "text": [
      "\u001b[34m\u001b[1mwandb\u001b[0m: \n",
      "\u001b[34m\u001b[1mwandb\u001b[0m: Run history:\n",
      "\u001b[34m\u001b[1mwandb\u001b[0m: [fold0] avg_train_loss █▃▂▁\n",
      "\u001b[34m\u001b[1mwandb\u001b[0m:   [fold0] avg_val_loss █▃▂▁\n",
      "\u001b[34m\u001b[1mwandb\u001b[0m:          [fold0] epoch ▁▃▆█\n",
      "\u001b[34m\u001b[1mwandb\u001b[0m:          [fold0] score ▁▅▆█\n",
      "\u001b[34m\u001b[1mwandb\u001b[0m: \n",
      "\u001b[34m\u001b[1mwandb\u001b[0m: Run summary:\n",
      "\u001b[34m\u001b[1mwandb\u001b[0m: [fold0] avg_train_loss 0.0134\n",
      "\u001b[34m\u001b[1mwandb\u001b[0m:   [fold0] avg_val_loss 0.01768\n",
      "\u001b[34m\u001b[1mwandb\u001b[0m:          [fold0] epoch 4\n",
      "\u001b[34m\u001b[1mwandb\u001b[0m:          [fold0] score 0.80237\n",
      "\u001b[34m\u001b[1mwandb\u001b[0m: \n"
     ]
    },
    {
     "name": "stderr",
     "output_type": "stream",
     "text": [
      "\u001b[34m\u001b[1mwandb\u001b[0m: 🚀 View run \u001b[33manswerdotai/ModernBERT-base\u001b[0m at: \u001b[34m\u001b[4mhttps://wandb.ai/project-zero/NBME-Public/runs/bnksm6wu?apiKey=93189478594090aa7c369a5a7c30ee204eb7d192\u001b[0m\n",
      "\u001b[34m\u001b[1mwandb\u001b[0m: ⭐️ View project at: \u001b[34m\u001b[4mhttps://wandb.ai/project-zero/NBME-Public?apiKey=93189478594090aa7c369a5a7c30ee204eb7d192\u001b[0m\n",
      "\u001b[34m\u001b[1mwandb\u001b[0m: Synced 5 W&B file(s), 0 media file(s), 0 artifact file(s) and 0 other file(s)\n"
     ]
    },
    {
     "name": "stderr",
     "output_type": "stream",
     "text": [
      "\u001b[34m\u001b[1mwandb\u001b[0m: Find logs at: \u001b[35m\u001b[1m./wandb/run-20250211_211117-bnksm6wu/logs\u001b[0m\n"
     ]
    }
   ],
   "source": [
    "if __name__ == '__main__':\n",
    "    CFG.debug = True\n",
    "\n",
    "    if CFG.train:\n",
    "        oof_df = pd.DataFrame()\n",
    "\n",
    "        # Run training for a single fold in debug mode or multiple folds otherwise\n",
    "        if CFG.debug:\n",
    "            fold = 0  # In debug mode, we only use fold 0\n",
    "            if fold in CFG.trn_fold:\n",
    "                oof_df = run_fold_training(oof_df, fold)\n",
    "        else:\n",
    "            for fold in range(CFG.n_fold):  # For all folds in non-debug mode\n",
    "                if fold in CFG.trn_fold:\n",
    "                    oof_df = run_fold_training(oof_df, fold)\n",
    "\n",
    "        # Final evaluation and saving results\n",
    "        oof_df = oof_df.reset_index(drop=True)\n",
    "        LOGGER.info(f\"========== CV ==========\")\n",
    "        evaluate_results(oof_df)  # Final evaluation of all results\n",
    "        oof_df.to_pickle(OUTPUT_DIR + 'oof_df.pkl')\n",
    "\n",
    "    if CFG.wandb:\n",
    "        wandb.finish()"
   ]
  }
 ],
 "metadata": {
  "kaggle": {
   "accelerator": "none",
   "dataSources": [
    {
     "databundleVersionId": 3075283,
     "sourceId": 33607,
     "sourceType": "competition"
    },
    {
     "isSourceIdPinned": true,
     "modelId": 49736,
     "modelInstanceId": 35444,
     "sourceId": 42188,
     "sourceType": "modelInstanceVersion"
    }
   ],
   "isGpuEnabled": false,
   "isInternetEnabled": true,
   "language": "python",
   "sourceType": "notebook"
  },
  "kernelspec": {
   "display_name": "modern_bert",
   "language": "python",
   "name": "python3"
  },
  "language_info": {
   "codemirror_mode": {
    "name": "ipython",
    "version": 3
   },
   "file_extension": ".py",
   "mimetype": "text/x-python",
   "name": "python",
   "nbconvert_exporter": "python",
   "pygments_lexer": "ipython3",
   "version": "3.11.11"
  },
  "papermill": {
   "default_parameters": {},
   "duration": 3625.270881,
   "end_time": "2025-02-11T22:11:27.737248",
   "environment_variables": {},
   "exception": null,
   "input_path": "notebooks/modern-bert-train.ipynb",
   "output_path": "modern-bert-train.ipynb",
   "parameters": {},
   "start_time": "2025-02-11T21:11:02.466367",
   "version": "2.6.0"
  }
 },
 "nbformat": 4,
 "nbformat_minor": 5
}